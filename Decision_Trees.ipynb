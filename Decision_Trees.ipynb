{
  "nbformat": 4,
  "nbformat_minor": 0,
  "metadata": {
    "colab": {
      "name": "Decision Trees.ipynb",
      "provenance": [],
      "mount_file_id": "1RFH1rtEpdvEBZa0GJl02HP2dK-pgn5Jr",
      "authorship_tag": "ABX9TyM8FIYTPdiiBpFBBgiTP2wo",
      "include_colab_link": true
    },
    "kernelspec": {
      "name": "python3",
      "display_name": "Python 3"
    },
    "language_info": {
      "name": "python"
    }
  },
  "cells": [
    {
      "cell_type": "markdown",
      "metadata": {
        "id": "view-in-github",
        "colab_type": "text"
      },
      "source": [
        "<a href=\"https://colab.research.google.com/github/OmotolaAI/Decision-Trees./blob/main/Decision_Trees.ipynb\" target=\"_parent\"><img src=\"https://colab.research.google.com/assets/colab-badge.svg\" alt=\"Open In Colab\"/></a>"
      ]
    },
    {
      "cell_type": "markdown",
      "source": [
        "**Preprocessing Phase**\n"
      ],
      "metadata": {
        "id": "tpB1b7sotWrO"
      }
    },
    {
      "cell_type": "markdown",
      "source": [
        "Set up initial libraries."
      ],
      "metadata": {
        "id": "HTqy448Rthor"
      }
    },
    {
      "cell_type": "code",
      "execution_count": 202,
      "metadata": {
        "id": "IFponFa0tGLR"
      },
      "outputs": [],
      "source": [
        "import pandas as pd\n"
      ]
    },
    {
      "cell_type": "markdown",
      "source": [
        "**Imput Dataset.**"
      ],
      "metadata": {
        "id": "HetxLHbttU_y"
      }
    },
    {
      "cell_type": "code",
      "source": [
        "df= pd.read_csv(\"/content/drive/MyDrive/titanic-passengers.csv\", delimiter= \";\") "
      ],
      "metadata": {
        "id": "jzKRxKYdt_Dm"
      },
      "execution_count": 203,
      "outputs": []
    },
    {
      "cell_type": "markdown",
      "source": [
        "**Show the head of the Dataset.**"
      ],
      "metadata": {
        "id": "e2E23cc9uuC1"
      }
    },
    {
      "cell_type": "code",
      "source": [
        "df.head()"
      ],
      "metadata": {
        "colab": {
          "base_uri": "https://localhost:8080/",
          "height": 206
        },
        "id": "bGqdwJHBu4qD",
        "outputId": "5d7462fe-934e-4a3f-ec9c-7c7b14f5637e"
      },
      "execution_count": 204,
      "outputs": [
        {
          "output_type": "execute_result",
          "data": {
            "text/plain": [
              "   PassengerId Survived  Pclass                                         Name  \\\n",
              "0          343       No       2                   Collander, Mr. Erik Gustaf   \n",
              "1           76       No       3                      Moen, Mr. Sigurd Hansen   \n",
              "2          641       No       3                       Jensen, Mr. Hans Peder   \n",
              "3          568       No       3  Palsson, Mrs. Nils (Alma Cornelia Berglund)   \n",
              "4          672       No       1                       Davidson, Mr. Thornton   \n",
              "\n",
              "      Sex   Age  SibSp  Parch      Ticket     Fare  Cabin Embarked  \n",
              "0    male  28.0      0      0      248740  13.0000    NaN        S  \n",
              "1    male  25.0      0      0      348123   7.6500  F G73        S  \n",
              "2    male  20.0      0      0      350050   7.8542    NaN        S  \n",
              "3  female  29.0      0      4      349909  21.0750    NaN        S  \n",
              "4    male  31.0      1      0  F.C. 12750  52.0000    B71        S  "
            ],
            "text/html": [
              "\n",
              "  <div id=\"df-13971cd3-1b98-4337-a00b-d7a519e1fea7\">\n",
              "    <div class=\"colab-df-container\">\n",
              "      <div>\n",
              "<style scoped>\n",
              "    .dataframe tbody tr th:only-of-type {\n",
              "        vertical-align: middle;\n",
              "    }\n",
              "\n",
              "    .dataframe tbody tr th {\n",
              "        vertical-align: top;\n",
              "    }\n",
              "\n",
              "    .dataframe thead th {\n",
              "        text-align: right;\n",
              "    }\n",
              "</style>\n",
              "<table border=\"1\" class=\"dataframe\">\n",
              "  <thead>\n",
              "    <tr style=\"text-align: right;\">\n",
              "      <th></th>\n",
              "      <th>PassengerId</th>\n",
              "      <th>Survived</th>\n",
              "      <th>Pclass</th>\n",
              "      <th>Name</th>\n",
              "      <th>Sex</th>\n",
              "      <th>Age</th>\n",
              "      <th>SibSp</th>\n",
              "      <th>Parch</th>\n",
              "      <th>Ticket</th>\n",
              "      <th>Fare</th>\n",
              "      <th>Cabin</th>\n",
              "      <th>Embarked</th>\n",
              "    </tr>\n",
              "  </thead>\n",
              "  <tbody>\n",
              "    <tr>\n",
              "      <th>0</th>\n",
              "      <td>343</td>\n",
              "      <td>No</td>\n",
              "      <td>2</td>\n",
              "      <td>Collander, Mr. Erik Gustaf</td>\n",
              "      <td>male</td>\n",
              "      <td>28.0</td>\n",
              "      <td>0</td>\n",
              "      <td>0</td>\n",
              "      <td>248740</td>\n",
              "      <td>13.0000</td>\n",
              "      <td>NaN</td>\n",
              "      <td>S</td>\n",
              "    </tr>\n",
              "    <tr>\n",
              "      <th>1</th>\n",
              "      <td>76</td>\n",
              "      <td>No</td>\n",
              "      <td>3</td>\n",
              "      <td>Moen, Mr. Sigurd Hansen</td>\n",
              "      <td>male</td>\n",
              "      <td>25.0</td>\n",
              "      <td>0</td>\n",
              "      <td>0</td>\n",
              "      <td>348123</td>\n",
              "      <td>7.6500</td>\n",
              "      <td>F G73</td>\n",
              "      <td>S</td>\n",
              "    </tr>\n",
              "    <tr>\n",
              "      <th>2</th>\n",
              "      <td>641</td>\n",
              "      <td>No</td>\n",
              "      <td>3</td>\n",
              "      <td>Jensen, Mr. Hans Peder</td>\n",
              "      <td>male</td>\n",
              "      <td>20.0</td>\n",
              "      <td>0</td>\n",
              "      <td>0</td>\n",
              "      <td>350050</td>\n",
              "      <td>7.8542</td>\n",
              "      <td>NaN</td>\n",
              "      <td>S</td>\n",
              "    </tr>\n",
              "    <tr>\n",
              "      <th>3</th>\n",
              "      <td>568</td>\n",
              "      <td>No</td>\n",
              "      <td>3</td>\n",
              "      <td>Palsson, Mrs. Nils (Alma Cornelia Berglund)</td>\n",
              "      <td>female</td>\n",
              "      <td>29.0</td>\n",
              "      <td>0</td>\n",
              "      <td>4</td>\n",
              "      <td>349909</td>\n",
              "      <td>21.0750</td>\n",
              "      <td>NaN</td>\n",
              "      <td>S</td>\n",
              "    </tr>\n",
              "    <tr>\n",
              "      <th>4</th>\n",
              "      <td>672</td>\n",
              "      <td>No</td>\n",
              "      <td>1</td>\n",
              "      <td>Davidson, Mr. Thornton</td>\n",
              "      <td>male</td>\n",
              "      <td>31.0</td>\n",
              "      <td>1</td>\n",
              "      <td>0</td>\n",
              "      <td>F.C. 12750</td>\n",
              "      <td>52.0000</td>\n",
              "      <td>B71</td>\n",
              "      <td>S</td>\n",
              "    </tr>\n",
              "  </tbody>\n",
              "</table>\n",
              "</div>\n",
              "      <button class=\"colab-df-convert\" onclick=\"convertToInteractive('df-13971cd3-1b98-4337-a00b-d7a519e1fea7')\"\n",
              "              title=\"Convert this dataframe to an interactive table.\"\n",
              "              style=\"display:none;\">\n",
              "        \n",
              "  <svg xmlns=\"http://www.w3.org/2000/svg\" height=\"24px\"viewBox=\"0 0 24 24\"\n",
              "       width=\"24px\">\n",
              "    <path d=\"M0 0h24v24H0V0z\" fill=\"none\"/>\n",
              "    <path d=\"M18.56 5.44l.94 2.06.94-2.06 2.06-.94-2.06-.94-.94-2.06-.94 2.06-2.06.94zm-11 1L8.5 8.5l.94-2.06 2.06-.94-2.06-.94L8.5 2.5l-.94 2.06-2.06.94zm10 10l.94 2.06.94-2.06 2.06-.94-2.06-.94-.94-2.06-.94 2.06-2.06.94z\"/><path d=\"M17.41 7.96l-1.37-1.37c-.4-.4-.92-.59-1.43-.59-.52 0-1.04.2-1.43.59L10.3 9.45l-7.72 7.72c-.78.78-.78 2.05 0 2.83L4 21.41c.39.39.9.59 1.41.59.51 0 1.02-.2 1.41-.59l7.78-7.78 2.81-2.81c.8-.78.8-2.07 0-2.86zM5.41 20L4 18.59l7.72-7.72 1.47 1.35L5.41 20z\"/>\n",
              "  </svg>\n",
              "      </button>\n",
              "      \n",
              "  <style>\n",
              "    .colab-df-container {\n",
              "      display:flex;\n",
              "      flex-wrap:wrap;\n",
              "      gap: 12px;\n",
              "    }\n",
              "\n",
              "    .colab-df-convert {\n",
              "      background-color: #E8F0FE;\n",
              "      border: none;\n",
              "      border-radius: 50%;\n",
              "      cursor: pointer;\n",
              "      display: none;\n",
              "      fill: #1967D2;\n",
              "      height: 32px;\n",
              "      padding: 0 0 0 0;\n",
              "      width: 32px;\n",
              "    }\n",
              "\n",
              "    .colab-df-convert:hover {\n",
              "      background-color: #E2EBFA;\n",
              "      box-shadow: 0px 1px 2px rgba(60, 64, 67, 0.3), 0px 1px 3px 1px rgba(60, 64, 67, 0.15);\n",
              "      fill: #174EA6;\n",
              "    }\n",
              "\n",
              "    [theme=dark] .colab-df-convert {\n",
              "      background-color: #3B4455;\n",
              "      fill: #D2E3FC;\n",
              "    }\n",
              "\n",
              "    [theme=dark] .colab-df-convert:hover {\n",
              "      background-color: #434B5C;\n",
              "      box-shadow: 0px 1px 3px 1px rgba(0, 0, 0, 0.15);\n",
              "      filter: drop-shadow(0px 1px 2px rgba(0, 0, 0, 0.3));\n",
              "      fill: #FFFFFF;\n",
              "    }\n",
              "  </style>\n",
              "\n",
              "      <script>\n",
              "        const buttonEl =\n",
              "          document.querySelector('#df-13971cd3-1b98-4337-a00b-d7a519e1fea7 button.colab-df-convert');\n",
              "        buttonEl.style.display =\n",
              "          google.colab.kernel.accessAllowed ? 'block' : 'none';\n",
              "\n",
              "        async function convertToInteractive(key) {\n",
              "          const element = document.querySelector('#df-13971cd3-1b98-4337-a00b-d7a519e1fea7');\n",
              "          const dataTable =\n",
              "            await google.colab.kernel.invokeFunction('convertToInteractive',\n",
              "                                                     [key], {});\n",
              "          if (!dataTable) return;\n",
              "\n",
              "          const docLinkHtml = 'Like what you see? Visit the ' +\n",
              "            '<a target=\"_blank\" href=https://colab.research.google.com/notebooks/data_table.ipynb>data table notebook</a>'\n",
              "            + ' to learn more about interactive tables.';\n",
              "          element.innerHTML = '';\n",
              "          dataTable['output_type'] = 'display_data';\n",
              "          await google.colab.output.renderOutput(dataTable, element);\n",
              "          const docLink = document.createElement('div');\n",
              "          docLink.innerHTML = docLinkHtml;\n",
              "          element.appendChild(docLink);\n",
              "        }\n",
              "      </script>\n",
              "    </div>\n",
              "  </div>\n",
              "  "
            ]
          },
          "metadata": {},
          "execution_count": 204
        }
      ]
    },
    {
      "cell_type": "markdown",
      "source": [
        "**Show some general information about the Dataset.**"
      ],
      "metadata": {
        "id": "UVFuz0ekveDP"
      }
    },
    {
      "cell_type": "code",
      "source": [
        "df.shape"
      ],
      "metadata": {
        "colab": {
          "base_uri": "https://localhost:8080/"
        },
        "id": "FBn7ABK5vqYW",
        "outputId": "b4f6f85a-8c3f-4241-bde6-00a1f2665440"
      },
      "execution_count": 205,
      "outputs": [
        {
          "output_type": "execute_result",
          "data": {
            "text/plain": [
              "(891, 12)"
            ]
          },
          "metadata": {},
          "execution_count": 205
        }
      ]
    },
    {
      "cell_type": "code",
      "source": [
        "df.info()"
      ],
      "metadata": {
        "colab": {
          "base_uri": "https://localhost:8080/"
        },
        "id": "9htAVhTCv7a_",
        "outputId": "cb97f10b-002b-4441-f433-656133cb7f8d"
      },
      "execution_count": 206,
      "outputs": [
        {
          "output_type": "stream",
          "name": "stdout",
          "text": [
            "<class 'pandas.core.frame.DataFrame'>\n",
            "RangeIndex: 891 entries, 0 to 890\n",
            "Data columns (total 12 columns):\n",
            " #   Column       Non-Null Count  Dtype  \n",
            "---  ------       --------------  -----  \n",
            " 0   PassengerId  891 non-null    int64  \n",
            " 1   Survived     891 non-null    object \n",
            " 2   Pclass       891 non-null    int64  \n",
            " 3   Name         891 non-null    object \n",
            " 4   Sex          891 non-null    object \n",
            " 5   Age          714 non-null    float64\n",
            " 6   SibSp        891 non-null    int64  \n",
            " 7   Parch        891 non-null    int64  \n",
            " 8   Ticket       891 non-null    object \n",
            " 9   Fare         891 non-null    float64\n",
            " 10  Cabin        204 non-null    object \n",
            " 11  Embarked     889 non-null    object \n",
            "dtypes: float64(2), int64(4), object(6)\n",
            "memory usage: 83.7+ KB\n"
          ]
        }
      ]
    },
    {
      "cell_type": "markdown",
      "source": [
        "**Finding Missing Values.**"
      ],
      "metadata": {
        "id": "eVU1UOWkwtH0"
      }
    },
    {
      "cell_type": "markdown",
      "source": [
        "Findng Missing Values' Position."
      ],
      "metadata": {
        "id": "Nk0a3-Kzw1w2"
      }
    },
    {
      "cell_type": "code",
      "source": [
        "df.isnull()"
      ],
      "metadata": {
        "colab": {
          "base_uri": "https://localhost:8080/",
          "height": 424
        },
        "id": "tUyYmSU5zSb5",
        "outputId": "9a9a794e-745c-41bf-c863-5def0268825f"
      },
      "execution_count": 207,
      "outputs": [
        {
          "output_type": "execute_result",
          "data": {
            "text/plain": [
              "     PassengerId  Survived  Pclass   Name    Sex    Age  SibSp  Parch  Ticket  \\\n",
              "0          False     False   False  False  False  False  False  False   False   \n",
              "1          False     False   False  False  False  False  False  False   False   \n",
              "2          False     False   False  False  False  False  False  False   False   \n",
              "3          False     False   False  False  False  False  False  False   False   \n",
              "4          False     False   False  False  False  False  False  False   False   \n",
              "..           ...       ...     ...    ...    ...    ...    ...    ...     ...   \n",
              "886        False     False   False  False  False  False  False  False   False   \n",
              "887        False     False   False  False  False  False  False  False   False   \n",
              "888        False     False   False  False  False  False  False  False   False   \n",
              "889        False     False   False  False  False   True  False  False   False   \n",
              "890        False     False   False  False  False  False  False  False   False   \n",
              "\n",
              "      Fare  Cabin  Embarked  \n",
              "0    False   True     False  \n",
              "1    False  False     False  \n",
              "2    False   True     False  \n",
              "3    False   True     False  \n",
              "4    False  False     False  \n",
              "..     ...    ...       ...  \n",
              "886  False   True     False  \n",
              "887  False   True     False  \n",
              "888  False   True     False  \n",
              "889  False   True     False  \n",
              "890  False   True     False  \n",
              "\n",
              "[891 rows x 12 columns]"
            ],
            "text/html": [
              "\n",
              "  <div id=\"df-548c10b9-86e5-4cbb-b470-f24da205217b\">\n",
              "    <div class=\"colab-df-container\">\n",
              "      <div>\n",
              "<style scoped>\n",
              "    .dataframe tbody tr th:only-of-type {\n",
              "        vertical-align: middle;\n",
              "    }\n",
              "\n",
              "    .dataframe tbody tr th {\n",
              "        vertical-align: top;\n",
              "    }\n",
              "\n",
              "    .dataframe thead th {\n",
              "        text-align: right;\n",
              "    }\n",
              "</style>\n",
              "<table border=\"1\" class=\"dataframe\">\n",
              "  <thead>\n",
              "    <tr style=\"text-align: right;\">\n",
              "      <th></th>\n",
              "      <th>PassengerId</th>\n",
              "      <th>Survived</th>\n",
              "      <th>Pclass</th>\n",
              "      <th>Name</th>\n",
              "      <th>Sex</th>\n",
              "      <th>Age</th>\n",
              "      <th>SibSp</th>\n",
              "      <th>Parch</th>\n",
              "      <th>Ticket</th>\n",
              "      <th>Fare</th>\n",
              "      <th>Cabin</th>\n",
              "      <th>Embarked</th>\n",
              "    </tr>\n",
              "  </thead>\n",
              "  <tbody>\n",
              "    <tr>\n",
              "      <th>0</th>\n",
              "      <td>False</td>\n",
              "      <td>False</td>\n",
              "      <td>False</td>\n",
              "      <td>False</td>\n",
              "      <td>False</td>\n",
              "      <td>False</td>\n",
              "      <td>False</td>\n",
              "      <td>False</td>\n",
              "      <td>False</td>\n",
              "      <td>False</td>\n",
              "      <td>True</td>\n",
              "      <td>False</td>\n",
              "    </tr>\n",
              "    <tr>\n",
              "      <th>1</th>\n",
              "      <td>False</td>\n",
              "      <td>False</td>\n",
              "      <td>False</td>\n",
              "      <td>False</td>\n",
              "      <td>False</td>\n",
              "      <td>False</td>\n",
              "      <td>False</td>\n",
              "      <td>False</td>\n",
              "      <td>False</td>\n",
              "      <td>False</td>\n",
              "      <td>False</td>\n",
              "      <td>False</td>\n",
              "    </tr>\n",
              "    <tr>\n",
              "      <th>2</th>\n",
              "      <td>False</td>\n",
              "      <td>False</td>\n",
              "      <td>False</td>\n",
              "      <td>False</td>\n",
              "      <td>False</td>\n",
              "      <td>False</td>\n",
              "      <td>False</td>\n",
              "      <td>False</td>\n",
              "      <td>False</td>\n",
              "      <td>False</td>\n",
              "      <td>True</td>\n",
              "      <td>False</td>\n",
              "    </tr>\n",
              "    <tr>\n",
              "      <th>3</th>\n",
              "      <td>False</td>\n",
              "      <td>False</td>\n",
              "      <td>False</td>\n",
              "      <td>False</td>\n",
              "      <td>False</td>\n",
              "      <td>False</td>\n",
              "      <td>False</td>\n",
              "      <td>False</td>\n",
              "      <td>False</td>\n",
              "      <td>False</td>\n",
              "      <td>True</td>\n",
              "      <td>False</td>\n",
              "    </tr>\n",
              "    <tr>\n",
              "      <th>4</th>\n",
              "      <td>False</td>\n",
              "      <td>False</td>\n",
              "      <td>False</td>\n",
              "      <td>False</td>\n",
              "      <td>False</td>\n",
              "      <td>False</td>\n",
              "      <td>False</td>\n",
              "      <td>False</td>\n",
              "      <td>False</td>\n",
              "      <td>False</td>\n",
              "      <td>False</td>\n",
              "      <td>False</td>\n",
              "    </tr>\n",
              "    <tr>\n",
              "      <th>...</th>\n",
              "      <td>...</td>\n",
              "      <td>...</td>\n",
              "      <td>...</td>\n",
              "      <td>...</td>\n",
              "      <td>...</td>\n",
              "      <td>...</td>\n",
              "      <td>...</td>\n",
              "      <td>...</td>\n",
              "      <td>...</td>\n",
              "      <td>...</td>\n",
              "      <td>...</td>\n",
              "      <td>...</td>\n",
              "    </tr>\n",
              "    <tr>\n",
              "      <th>886</th>\n",
              "      <td>False</td>\n",
              "      <td>False</td>\n",
              "      <td>False</td>\n",
              "      <td>False</td>\n",
              "      <td>False</td>\n",
              "      <td>False</td>\n",
              "      <td>False</td>\n",
              "      <td>False</td>\n",
              "      <td>False</td>\n",
              "      <td>False</td>\n",
              "      <td>True</td>\n",
              "      <td>False</td>\n",
              "    </tr>\n",
              "    <tr>\n",
              "      <th>887</th>\n",
              "      <td>False</td>\n",
              "      <td>False</td>\n",
              "      <td>False</td>\n",
              "      <td>False</td>\n",
              "      <td>False</td>\n",
              "      <td>False</td>\n",
              "      <td>False</td>\n",
              "      <td>False</td>\n",
              "      <td>False</td>\n",
              "      <td>False</td>\n",
              "      <td>True</td>\n",
              "      <td>False</td>\n",
              "    </tr>\n",
              "    <tr>\n",
              "      <th>888</th>\n",
              "      <td>False</td>\n",
              "      <td>False</td>\n",
              "      <td>False</td>\n",
              "      <td>False</td>\n",
              "      <td>False</td>\n",
              "      <td>False</td>\n",
              "      <td>False</td>\n",
              "      <td>False</td>\n",
              "      <td>False</td>\n",
              "      <td>False</td>\n",
              "      <td>True</td>\n",
              "      <td>False</td>\n",
              "    </tr>\n",
              "    <tr>\n",
              "      <th>889</th>\n",
              "      <td>False</td>\n",
              "      <td>False</td>\n",
              "      <td>False</td>\n",
              "      <td>False</td>\n",
              "      <td>False</td>\n",
              "      <td>True</td>\n",
              "      <td>False</td>\n",
              "      <td>False</td>\n",
              "      <td>False</td>\n",
              "      <td>False</td>\n",
              "      <td>True</td>\n",
              "      <td>False</td>\n",
              "    </tr>\n",
              "    <tr>\n",
              "      <th>890</th>\n",
              "      <td>False</td>\n",
              "      <td>False</td>\n",
              "      <td>False</td>\n",
              "      <td>False</td>\n",
              "      <td>False</td>\n",
              "      <td>False</td>\n",
              "      <td>False</td>\n",
              "      <td>False</td>\n",
              "      <td>False</td>\n",
              "      <td>False</td>\n",
              "      <td>True</td>\n",
              "      <td>False</td>\n",
              "    </tr>\n",
              "  </tbody>\n",
              "</table>\n",
              "<p>891 rows × 12 columns</p>\n",
              "</div>\n",
              "      <button class=\"colab-df-convert\" onclick=\"convertToInteractive('df-548c10b9-86e5-4cbb-b470-f24da205217b')\"\n",
              "              title=\"Convert this dataframe to an interactive table.\"\n",
              "              style=\"display:none;\">\n",
              "        \n",
              "  <svg xmlns=\"http://www.w3.org/2000/svg\" height=\"24px\"viewBox=\"0 0 24 24\"\n",
              "       width=\"24px\">\n",
              "    <path d=\"M0 0h24v24H0V0z\" fill=\"none\"/>\n",
              "    <path d=\"M18.56 5.44l.94 2.06.94-2.06 2.06-.94-2.06-.94-.94-2.06-.94 2.06-2.06.94zm-11 1L8.5 8.5l.94-2.06 2.06-.94-2.06-.94L8.5 2.5l-.94 2.06-2.06.94zm10 10l.94 2.06.94-2.06 2.06-.94-2.06-.94-.94-2.06-.94 2.06-2.06.94z\"/><path d=\"M17.41 7.96l-1.37-1.37c-.4-.4-.92-.59-1.43-.59-.52 0-1.04.2-1.43.59L10.3 9.45l-7.72 7.72c-.78.78-.78 2.05 0 2.83L4 21.41c.39.39.9.59 1.41.59.51 0 1.02-.2 1.41-.59l7.78-7.78 2.81-2.81c.8-.78.8-2.07 0-2.86zM5.41 20L4 18.59l7.72-7.72 1.47 1.35L5.41 20z\"/>\n",
              "  </svg>\n",
              "      </button>\n",
              "      \n",
              "  <style>\n",
              "    .colab-df-container {\n",
              "      display:flex;\n",
              "      flex-wrap:wrap;\n",
              "      gap: 12px;\n",
              "    }\n",
              "\n",
              "    .colab-df-convert {\n",
              "      background-color: #E8F0FE;\n",
              "      border: none;\n",
              "      border-radius: 50%;\n",
              "      cursor: pointer;\n",
              "      display: none;\n",
              "      fill: #1967D2;\n",
              "      height: 32px;\n",
              "      padding: 0 0 0 0;\n",
              "      width: 32px;\n",
              "    }\n",
              "\n",
              "    .colab-df-convert:hover {\n",
              "      background-color: #E2EBFA;\n",
              "      box-shadow: 0px 1px 2px rgba(60, 64, 67, 0.3), 0px 1px 3px 1px rgba(60, 64, 67, 0.15);\n",
              "      fill: #174EA6;\n",
              "    }\n",
              "\n",
              "    [theme=dark] .colab-df-convert {\n",
              "      background-color: #3B4455;\n",
              "      fill: #D2E3FC;\n",
              "    }\n",
              "\n",
              "    [theme=dark] .colab-df-convert:hover {\n",
              "      background-color: #434B5C;\n",
              "      box-shadow: 0px 1px 3px 1px rgba(0, 0, 0, 0.15);\n",
              "      filter: drop-shadow(0px 1px 2px rgba(0, 0, 0, 0.3));\n",
              "      fill: #FFFFFF;\n",
              "    }\n",
              "  </style>\n",
              "\n",
              "      <script>\n",
              "        const buttonEl =\n",
              "          document.querySelector('#df-548c10b9-86e5-4cbb-b470-f24da205217b button.colab-df-convert');\n",
              "        buttonEl.style.display =\n",
              "          google.colab.kernel.accessAllowed ? 'block' : 'none';\n",
              "\n",
              "        async function convertToInteractive(key) {\n",
              "          const element = document.querySelector('#df-548c10b9-86e5-4cbb-b470-f24da205217b');\n",
              "          const dataTable =\n",
              "            await google.colab.kernel.invokeFunction('convertToInteractive',\n",
              "                                                     [key], {});\n",
              "          if (!dataTable) return;\n",
              "\n",
              "          const docLinkHtml = 'Like what you see? Visit the ' +\n",
              "            '<a target=\"_blank\" href=https://colab.research.google.com/notebooks/data_table.ipynb>data table notebook</a>'\n",
              "            + ' to learn more about interactive tables.';\n",
              "          element.innerHTML = '';\n",
              "          dataTable['output_type'] = 'display_data';\n",
              "          await google.colab.output.renderOutput(dataTable, element);\n",
              "          const docLink = document.createElement('div');\n",
              "          docLink.innerHTML = docLinkHtml;\n",
              "          element.appendChild(docLink);\n",
              "        }\n",
              "      </script>\n",
              "    </div>\n",
              "  </div>\n",
              "  "
            ]
          },
          "metadata": {},
          "execution_count": 207
        }
      ]
    },
    {
      "cell_type": "markdown",
      "source": [
        "**Finding the number of missing values on each column.**"
      ],
      "metadata": {
        "id": "OlumjHJDzerb"
      }
    },
    {
      "cell_type": "code",
      "source": [
        "df.isnull().sum()"
      ],
      "metadata": {
        "colab": {
          "base_uri": "https://localhost:8080/"
        },
        "id": "Fn2e59Inzss8",
        "outputId": "a03ee29c-41f5-4673-b96c-2bc8bb84afa3"
      },
      "execution_count": 208,
      "outputs": [
        {
          "output_type": "execute_result",
          "data": {
            "text/plain": [
              "PassengerId      0\n",
              "Survived         0\n",
              "Pclass           0\n",
              "Name             0\n",
              "Sex              0\n",
              "Age            177\n",
              "SibSp            0\n",
              "Parch            0\n",
              "Ticket           0\n",
              "Fare             0\n",
              "Cabin          687\n",
              "Embarked         2\n",
              "dtype: int64"
            ]
          },
          "metadata": {},
          "execution_count": 208
        }
      ]
    },
    {
      "cell_type": "markdown",
      "source": [
        "**Replacing Missing Numerical Values with the appropriate Values.**"
      ],
      "metadata": {
        "id": "ucV5FUIkz7aX"
      }
    },
    {
      "cell_type": "markdown",
      "source": [
        "**Replacing Missing Numerical Values of the \"Age\" Feature**"
      ],
      "metadata": {
        "id": "yh2unlaf0cdg"
      }
    },
    {
      "cell_type": "code",
      "source": [
        "df[\"Age\"].fillna(df['Age'].mean(), inplace=True)"
      ],
      "metadata": {
        "id": "uKAMn7cK0p7C"
      },
      "execution_count": 209,
      "outputs": []
    },
    {
      "cell_type": "markdown",
      "source": [
        "**Replacing Missing Categorical Values with the appropriate Values.**"
      ],
      "metadata": {
        "id": "KmyQEAyg2fcw"
      }
    },
    {
      "cell_type": "markdown",
      "source": [
        "Number of Elements per Category of the \"Cabin\" Feature"
      ],
      "metadata": {
        "id": "MKK0S_615GDI"
      }
    },
    {
      "cell_type": "code",
      "source": [
        "print(df[\"Cabin\"].value_counts())"
      ],
      "metadata": {
        "colab": {
          "base_uri": "https://localhost:8080/"
        },
        "id": "I4ejNUcv5QZ8",
        "outputId": "5a45160e-1eef-475e-b25e-4e88cbb9e0fe"
      },
      "execution_count": 210,
      "outputs": [
        {
          "output_type": "stream",
          "name": "stdout",
          "text": [
            "G6             4\n",
            "B96 B98        4\n",
            "C23 C25 C27    4\n",
            "F33            3\n",
            "D              3\n",
            "              ..\n",
            "C91            1\n",
            "D45            1\n",
            "F G63          1\n",
            "A34            1\n",
            "E63            1\n",
            "Name: Cabin, Length: 147, dtype: int64\n"
          ]
        }
      ]
    },
    {
      "cell_type": "markdown",
      "source": [
        "**Replacing Missing Categorical Values of the \"Cabin\" Feature**"
      ],
      "metadata": {
        "id": "GIl2s78mv6ks"
      }
    },
    {
      "cell_type": "code",
      "source": [
        "df[\"Cabin\"].fillna(\"G6\", inplace=True)"
      ],
      "metadata": {
        "id": "hEfZCHhB8TJZ"
      },
      "execution_count": 211,
      "outputs": []
    },
    {
      "cell_type": "markdown",
      "source": [
        "**Number of Elements per Category of the \"Embarked\" Feature**"
      ],
      "metadata": {
        "id": "9RmMH-928jx9"
      }
    },
    {
      "cell_type": "code",
      "source": [
        "print(df['Embarked'].value_counts())"
      ],
      "metadata": {
        "colab": {
          "base_uri": "https://localhost:8080/"
        },
        "id": "1umAvBLo8vOb",
        "outputId": "e76919c0-3414-46f2-be2a-b9012c4f3519"
      },
      "execution_count": 212,
      "outputs": [
        {
          "output_type": "stream",
          "name": "stdout",
          "text": [
            "S    644\n",
            "C    168\n",
            "Q     77\n",
            "Name: Embarked, dtype: int64\n"
          ]
        }
      ]
    },
    {
      "cell_type": "markdown",
      "source": [
        "**Replacing Missing Categorical Values of the \"Embarked\" Feature**"
      ],
      "metadata": {
        "id": "MON34M7B_DFo"
      }
    },
    {
      "cell_type": "code",
      "source": [
        "df[\"Embarked\"].fillna(\"S\", inplace=True)"
      ],
      "metadata": {
        "id": "8d15S9JK8S6t"
      },
      "execution_count": 213,
      "outputs": []
    },
    {
      "cell_type": "markdown",
      "source": [
        "**Verify data**"
      ],
      "metadata": {
        "id": "fbfP1NjHBGz3"
      }
    },
    {
      "cell_type": "code",
      "source": [
        "df.isnull().sum()"
      ],
      "metadata": {
        "colab": {
          "base_uri": "https://localhost:8080/"
        },
        "id": "Fl9AUpGbBNMj",
        "outputId": "304052bb-0097-48e5-e79d-da4fad91733f"
      },
      "execution_count": 214,
      "outputs": [
        {
          "output_type": "execute_result",
          "data": {
            "text/plain": [
              "PassengerId    0\n",
              "Survived       0\n",
              "Pclass         0\n",
              "Name           0\n",
              "Sex            0\n",
              "Age            0\n",
              "SibSp          0\n",
              "Parch          0\n",
              "Ticket         0\n",
              "Fare           0\n",
              "Cabin          0\n",
              "Embarked       0\n",
              "dtype: int64"
            ]
          },
          "metadata": {},
          "execution_count": 214
        }
      ]
    },
    {
      "cell_type": "markdown",
      "source": [
        "**Visualization.**"
      ],
      "metadata": {
        "id": "HH-ItjIwCkDG"
      }
    },
    {
      "cell_type": "markdown",
      "source": [
        "**Distribution of the most important features.**"
      ],
      "metadata": {
        "id": "75FwSAL6CpyN"
      }
    },
    {
      "cell_type": "markdown",
      "source": [
        "**\"Age\" Feature Distribution.**"
      ],
      "metadata": {
        "id": "MLvYMC-oEjSL"
      }
    },
    {
      "cell_type": "code",
      "source": [
        "import matplotlib.pyplot as plt\n",
        "plt.title(\"Histogram of Different ages\")\n",
        "plt.xlabel(\"age\")\n",
        "df[\"Age\"].plot.hist()\n"
      ],
      "metadata": {
        "colab": {
          "base_uri": "https://localhost:8080/",
          "height": 312
        },
        "id": "lAn9b3UhFYfn",
        "outputId": "8b8b9067-c4f5-4a58-9e7f-c1ef2e892df5"
      },
      "execution_count": 215,
      "outputs": [
        {
          "output_type": "execute_result",
          "data": {
            "text/plain": [
              "<matplotlib.axes._subplots.AxesSubplot at 0x7fb381d58ed0>"
            ]
          },
          "metadata": {},
          "execution_count": 215
        },
        {
          "output_type": "display_data",
          "data": {
            "text/plain": [
              "<Figure size 432x288 with 1 Axes>"
            ],
            "image/png": "[encoded data removed]"
          },
          "metadata": {
            "needs_background": "light"
          }
        }
      ]
    },
    {
      "cell_type": "markdown",
      "source": [
        "**\"Sex\" Feature Distribution.**"
      ],
      "metadata": {
        "id": "enNkMbrQF7e6"
      }
    },
    {
      "cell_type": "code",
      "source": [
        "import seaborn as sns\n",
        "sns.countplot(x=\"Sex\", data=df)\n",
        "plt.xticks(rotation=-45)"
      ],
      "metadata": {
        "colab": {
          "base_uri": "https://localhost:8080/",
          "height": 320
        },
        "id": "IAQOYfjFGDdw",
        "outputId": "297b7ddc-5d99-4887-8884-414e4563a687"
      },
      "execution_count": 216,
      "outputs": [
        {
          "output_type": "execute_result",
          "data": {
            "text/plain": [
              "(array([0, 1]), <a list of 2 Text major ticklabel objects>)"
            ]
          },
          "metadata": {},
          "execution_count": 216
        },
        {
          "output_type": "display_data",
          "data": {
            "text/plain": [
              "<Figure size 432x288 with 1 Axes>"
            ],
            "image/png": "[encoded data removed]"
          },
          "metadata": {
            "needs_background": "light"
          }
        }
      ]
    },
    {
      "cell_type": "markdown",
      "source": [
        "**\"Pclass\" Feature Distribution**"
      ],
      "metadata": {
        "id": "dVXz10sUIJRc"
      }
    },
    {
      "cell_type": "code",
      "source": [
        "sns.countplot(x=\"Pclass\", data=df)\n",
        "plt.xticks(rotation=-45)"
      ],
      "metadata": {
        "colab": {
          "base_uri": "https://localhost:8080/",
          "height": 298
        },
        "id": "Otlh1rkeIRhA",
        "outputId": "97709939-8469-4c58-c15c-47e7a379f6a1"
      },
      "execution_count": 217,
      "outputs": [
        {
          "output_type": "execute_result",
          "data": {
            "text/plain": [
              "(array([0, 1, 2]), <a list of 3 Text major ticklabel objects>)"
            ]
          },
          "metadata": {},
          "execution_count": 217
        },
        {
          "output_type": "display_data",
          "data": {
            "text/plain": [
              "<Figure size 432x288 with 1 Axes>"
            ],
            "image/png": "[encoded data removed]"
          },
          "metadata": {
            "needs_background": "light"
          }
        }
      ]
    },
    {
      "cell_type": "markdown",
      "source": [
        "The majority of the passengers are in 3rd class."
      ],
      "metadata": {
        "id": "NFNiSWzaJFjE"
      }
    },
    {
      "cell_type": "markdown",
      "source": [
        "**\"Embarked\" Feature Distribution.**"
      ],
      "metadata": {
        "id": "gSGusICVJLwM"
      }
    },
    {
      "cell_type": "code",
      "source": [
        "sns.countplot(x=\"Embarked\" ,data=df)\n",
        "plt.xticks(rotation=-45)"
      ],
      "metadata": {
        "colab": {
          "base_uri": "https://localhost:8080/",
          "height": 299
        },
        "id": "f-YMm3frJx5D",
        "outputId": "c0e0019f-47ce-4769-b6d9-a4cf21d4766e"
      },
      "execution_count": 218,
      "outputs": [
        {
          "output_type": "execute_result",
          "data": {
            "text/plain": [
              "(array([0, 1, 2]), <a list of 3 Text major ticklabel objects>)"
            ]
          },
          "metadata": {},
          "execution_count": 218
        },
        {
          "output_type": "display_data",
          "data": {
            "text/plain": [
              "<Figure size 432x288 with 1 Axes>"
            ],
            "image/png": "[encoded data removed]"
          },
          "metadata": {
            "needs_background": "light"
          }
        }
      ]
    },
    {
      "cell_type": "markdown",
      "source": [
        ""
      ],
      "metadata": {
        "id": "sE8JY5pZOb8o"
      }
    },
    {
      "cell_type": "markdown",
      "source": [
        "The majority of passengers embarked at S (Southhampton)."
      ],
      "metadata": {
        "id": "wdlKjwTJOf52"
      }
    },
    {
      "cell_type": "markdown",
      "source": [
        "**Correlation between \"Sex\" and \"Age\".**"
      ],
      "metadata": {
        "id": "MSHcvQf6Orp4"
      }
    },
    {
      "cell_type": "code",
      "source": [
        "g=sns.FacetGrid(df, row= \"Survived\", col=\"Sex\")\n",
        "g.map(plt.hist, \"Age\", bins=20)"
      ],
      "metadata": {
        "colab": {
          "base_uri": "https://localhost:8080/",
          "height": 458
        },
        "id": "Ook_ICBcO5kw",
        "outputId": "1a2344e6-39e5-4cef-b3c5-a71dab98c951"
      },
      "execution_count": 219,
      "outputs": [
        {
          "output_type": "execute_result",
          "data": {
            "text/plain": [
              "<seaborn.axisgrid.FacetGrid at 0x7fb381bca490>"
            ]
          },
          "metadata": {},
          "execution_count": 219
        },
        {
          "output_type": "display_data",
          "data": {
            "text/plain": [
              "<Figure size 432x432 with 4 Axes>"
            ],
            "image/png": "[encoded data removed]"
          },
          "metadata": {
            "needs_background": "light"
          }
        }
      ]
    },
    {
      "cell_type": "markdown",
      "source": [
        "**Correlation between Pclass and Embarked**"
      ],
      "metadata": {
        "id": "Xobq8UInQ760"
      }
    },
    {
      "cell_type": "code",
      "source": [
        "grid=sns.FacetGrid(df,row=\"Survived\", col=\"Pclass\")\n",
        "grid.map(plt.hist, \"Embarked\", bins=20)"
      ],
      "metadata": {
        "colab": {
          "base_uri": "https://localhost:8080/",
          "height": 458
        },
        "id": "oKN2RXcsRjsh",
        "outputId": "b7296403-45f0-432d-a093-ff64cd0da763"
      },
      "execution_count": 220,
      "outputs": [
        {
          "output_type": "execute_result",
          "data": {
            "text/plain": [
              "<seaborn.axisgrid.FacetGrid at 0x7fb38190de90>"
            ]
          },
          "metadata": {},
          "execution_count": 220
        },
        {
          "output_type": "display_data",
          "data": {
            "text/plain": [
              "<Figure size 648x432 with 6 Axes>"
            ],
            "image/png": "[encoded data removed]"
          },
          "metadata": {
            "needs_background": "light"
          }
        }
      ]
    },
    {
      "cell_type": "markdown",
      "source": [
        "**Correlation Heatmap**"
      ],
      "metadata": {
        "id": "HRMsYSg3SJNx"
      }
    },
    {
      "cell_type": "code",
      "source": [
        "def plot_correlation_map(df):\n",
        "  corr = df.corr()\n",
        "  s , ax = plt.subplots(figsize=( 12 , 10 ) )\n",
        "  cmap = sns.diverging_palette( 220,10, as_cmap = True)\n",
        "  s = sns.heatmap(\n",
        "      corr,\n",
        "      cmap=cmap,\n",
        "      square=True,\n",
        "      cbar_kws={'shrink' : .9},\n",
        "      ax=ax,\n",
        "      annot= True,\n",
        "      annot_kws = {'fontsize' : 12}\n",
        "  )\n",
        "plot_correlation_map(df)"
      ],
      "metadata": {
        "colab": {
          "base_uri": "https://localhost:8080/",
          "height": 584
        },
        "id": "FZyKIDg2STto",
        "outputId": "bd9061e6-524b-4d0c-fff5-6ba0fb14c704"
      },
      "execution_count": 221,
      "outputs": [
        {
          "output_type": "display_data",
          "data": {
            "text/plain": [
              "<Figure size 864x720 with 2 Axes>"
            ],
            "image/png": "[encoded data removed]"
          },
          "metadata": {
            "needs_background": "light"
          }
        }
      ]
    },
    {
      "cell_type": "markdown",
      "source": [
        "**Analysis description.**"
      ],
      "metadata": {
        "id": "N4Isl2xT-PwQ"
      }
    },
    {
      "cell_type": "markdown",
      "source": [
        "From the visualization of the \"Sex\" feature, it clearly shows that the number of male passengers that boarded are more than that of their female counterpart. Also, the correlation between \"Age\" and \"Sex\" features shows that females are more likely to survive than males. Furthermore, according to the \"Age\" feature distribution, we can see that the passengers are all within the range of 15-35years old. But quite unfortunately,  a large number of passengers that were between the ages of 15 and 25 years, did not survive the terrible incident. We therefore went ahead to visualize the correlation between \"Pclass\" and \"Embarked\" features, and it gave us the information  that the 3rd class passengers have a higher mortality rate compared to the other classes, while the 1st class passengers have a higher survival rate compared to the other classes. We also discovered that it was those who embarked at \"C\" that survived the most. To bring this to a conclusion, the function we defined was used to build a correlation heatmap which is, in fact, a graphical representation of cerrelation matrix representing correlation between all different features of our dataset. The value of correlation can take any values between -1 and 1. Values closer to zero means there is no linear relationship between the two variables. The closer to 1 the correlation is, the more positively correlated the variables are, while the closer to -1 the correlation is, the more negatively correlated the variables are. For example, the correlation between SibSp and Parch variables is equal to 0.41;They are somehow considered to have a moderate positive relationship which means that parents and siblings like to travel together. Also, the correlation between Pclass and Fare variables is equal to -0.55;They have a strong negative correlation which means that higher economic classes(\"Pclasses\") pay more for their trip(\"Fare\")."
      ],
      "metadata": {
        "id": "cdLafw-N-eOB"
      }
    },
    {
      "cell_type": "markdown",
      "source": [
        "**Correlation groupby between \"Pclass\" and \"Survived\"**"
      ],
      "metadata": {
        "id": "vMDSqji5aHp6"
      }
    },
    {
      "cell_type": "code",
      "source": [
        ""
      ],
      "metadata": {
        "id": "ZM8P4KCVb48g"
      },
      "execution_count": 221,
      "outputs": []
    },
    {
      "cell_type": "code",
      "source": [
        "cleanup= {\"Survived\": {\"No\":0,\"Yes\":1}}\n",
        "df.replace(cleanup,inplace=True)\n",
        "df[[\"Pclass\",\"Survived\"]].groupby([\"Pclass\"], as_index=True).mean()\n"
      ],
      "metadata": {
        "colab": {
          "base_uri": "https://localhost:8080/",
          "height": 175
        },
        "id": "s4rxVbE2aZQ7",
        "outputId": "e037930c-8ab8-4cf0-ca61-10d3976fddb4"
      },
      "execution_count": 222,
      "outputs": [
        {
          "output_type": "execute_result",
          "data": {
            "text/plain": [
              "        Survived\n",
              "Pclass          \n",
              "1       0.629630\n",
              "2       0.472826\n",
              "3       0.242363"
            ],
            "text/html": [
              "\n",
              "  <div id=\"df-d1fe3e54-d562-4745-851e-d94eb4217e07\">\n",
              "    <div class=\"colab-df-container\">\n",
              "      <div>\n",
              "<style scoped>\n",
              "    .dataframe tbody tr th:only-of-type {\n",
              "        vertical-align: middle;\n",
              "    }\n",
              "\n",
              "    .dataframe tbody tr th {\n",
              "        vertical-align: top;\n",
              "    }\n",
              "\n",
              "    .dataframe thead th {\n",
              "        text-align: right;\n",
              "    }\n",
              "</style>\n",
              "<table border=\"1\" class=\"dataframe\">\n",
              "  <thead>\n",
              "    <tr style=\"text-align: right;\">\n",
              "      <th></th>\n",
              "      <th>Survived</th>\n",
              "    </tr>\n",
              "    <tr>\n",
              "      <th>Pclass</th>\n",
              "      <th></th>\n",
              "    </tr>\n",
              "  </thead>\n",
              "  <tbody>\n",
              "    <tr>\n",
              "      <th>1</th>\n",
              "      <td>0.629630</td>\n",
              "    </tr>\n",
              "    <tr>\n",
              "      <th>2</th>\n",
              "      <td>0.472826</td>\n",
              "    </tr>\n",
              "    <tr>\n",
              "      <th>3</th>\n",
              "      <td>0.242363</td>\n",
              "    </tr>\n",
              "  </tbody>\n",
              "</table>\n",
              "</div>\n",
              "      <button class=\"colab-df-convert\" onclick=\"convertToInteractive('df-d1fe3e54-d562-4745-851e-d94eb4217e07')\"\n",
              "              title=\"Convert this dataframe to an interactive table.\"\n",
              "              style=\"display:none;\">\n",
              "        \n",
              "  <svg xmlns=\"http://www.w3.org/2000/svg\" height=\"24px\"viewBox=\"0 0 24 24\"\n",
              "       width=\"24px\">\n",
              "    <path d=\"M0 0h24v24H0V0z\" fill=\"none\"/>\n",
              "    <path d=\"M18.56 5.44l.94 2.06.94-2.06 2.06-.94-2.06-.94-.94-2.06-.94 2.06-2.06.94zm-11 1L8.5 8.5l.94-2.06 2.06-.94-2.06-.94L8.5 2.5l-.94 2.06-2.06.94zm10 10l.94 2.06.94-2.06 2.06-.94-2.06-.94-.94-2.06-.94 2.06-2.06.94z\"/><path d=\"M17.41 7.96l-1.37-1.37c-.4-.4-.92-.59-1.43-.59-.52 0-1.04.2-1.43.59L10.3 9.45l-7.72 7.72c-.78.78-.78 2.05 0 2.83L4 21.41c.39.39.9.59 1.41.59.51 0 1.02-.2 1.41-.59l7.78-7.78 2.81-2.81c.8-.78.8-2.07 0-2.86zM5.41 20L4 18.59l7.72-7.72 1.47 1.35L5.41 20z\"/>\n",
              "  </svg>\n",
              "      </button>\n",
              "      \n",
              "  <style>\n",
              "    .colab-df-container {\n",
              "      display:flex;\n",
              "      flex-wrap:wrap;\n",
              "      gap: 12px;\n",
              "    }\n",
              "\n",
              "    .colab-df-convert {\n",
              "      background-color: #E8F0FE;\n",
              "      border: none;\n",
              "      border-radius: 50%;\n",
              "      cursor: pointer;\n",
              "      display: none;\n",
              "      fill: #1967D2;\n",
              "      height: 32px;\n",
              "      padding: 0 0 0 0;\n",
              "      width: 32px;\n",
              "    }\n",
              "\n",
              "    .colab-df-convert:hover {\n",
              "      background-color: #E2EBFA;\n",
              "      box-shadow: 0px 1px 2px rgba(60, 64, 67, 0.3), 0px 1px 3px 1px rgba(60, 64, 67, 0.15);\n",
              "      fill: #174EA6;\n",
              "    }\n",
              "\n",
              "    [theme=dark] .colab-df-convert {\n",
              "      background-color: #3B4455;\n",
              "      fill: #D2E3FC;\n",
              "    }\n",
              "\n",
              "    [theme=dark] .colab-df-convert:hover {\n",
              "      background-color: #434B5C;\n",
              "      box-shadow: 0px 1px 3px 1px rgba(0, 0, 0, 0.15);\n",
              "      filter: drop-shadow(0px 1px 2px rgba(0, 0, 0, 0.3));\n",
              "      fill: #FFFFFF;\n",
              "    }\n",
              "  </style>\n",
              "\n",
              "      <script>\n",
              "        const buttonEl =\n",
              "          document.querySelector('#df-d1fe3e54-d562-4745-851e-d94eb4217e07 button.colab-df-convert');\n",
              "        buttonEl.style.display =\n",
              "          google.colab.kernel.accessAllowed ? 'block' : 'none';\n",
              "\n",
              "        async function convertToInteractive(key) {\n",
              "          const element = document.querySelector('#df-d1fe3e54-d562-4745-851e-d94eb4217e07');\n",
              "          const dataTable =\n",
              "            await google.colab.kernel.invokeFunction('convertToInteractive',\n",
              "                                                     [key], {});\n",
              "          if (!dataTable) return;\n",
              "\n",
              "          const docLinkHtml = 'Like what you see? Visit the ' +\n",
              "            '<a target=\"_blank\" href=https://colab.research.google.com/notebooks/data_table.ipynb>data table notebook</a>'\n",
              "            + ' to learn more about interactive tables.';\n",
              "          element.innerHTML = '';\n",
              "          dataTable['output_type'] = 'display_data';\n",
              "          await google.colab.output.renderOutput(dataTable, element);\n",
              "          const docLink = document.createElement('div');\n",
              "          docLink.innerHTML = docLinkHtml;\n",
              "          element.appendChild(docLink);\n",
              "        }\n",
              "      </script>\n",
              "    </div>\n",
              "  </div>\n",
              "  "
            ]
          },
          "metadata": {},
          "execution_count": 222
        }
      ]
    },
    {
      "cell_type": "markdown",
      "source": [
        "**Drop useless columns**"
      ],
      "metadata": {
        "id": "2yk6QSx9c5Bf"
      }
    },
    {
      "cell_type": "code",
      "source": [
        "new_data= df.copy()\n",
        "new_data= new_data.drop([\"PassengerId\", \"Name\", \"Ticket\", \"Cabin\"], axis=1)\n",
        "new_data.head()"
      ],
      "metadata": {
        "colab": {
          "base_uri": "https://localhost:8080/",
          "height": 206
        },
        "id": "LjD6wLt9c_cw",
        "outputId": "846bc4dd-f5b3-4ce3-d11d-46ecbe2c3806"
      },
      "execution_count": 223,
      "outputs": [
        {
          "output_type": "execute_result",
          "data": {
            "text/plain": [
              "   Survived  Pclass     Sex   Age  SibSp  Parch     Fare Embarked\n",
              "0         0       2    male  28.0      0      0  13.0000        S\n",
              "1         0       3    male  25.0      0      0   7.6500        S\n",
              "2         0       3    male  20.0      0      0   7.8542        S\n",
              "3         0       3  female  29.0      0      4  21.0750        S\n",
              "4         0       1    male  31.0      1      0  52.0000        S"
            ],
            "text/html": [
              "\n",
              "  <div id=\"df-607cdb70-b3b4-4efc-8dc0-d4f2928b3742\">\n",
              "    <div class=\"colab-df-container\">\n",
              "      <div>\n",
              "<style scoped>\n",
              "    .dataframe tbody tr th:only-of-type {\n",
              "        vertical-align: middle;\n",
              "    }\n",
              "\n",
              "    .dataframe tbody tr th {\n",
              "        vertical-align: top;\n",
              "    }\n",
              "\n",
              "    .dataframe thead th {\n",
              "        text-align: right;\n",
              "    }\n",
              "</style>\n",
              "<table border=\"1\" class=\"dataframe\">\n",
              "  <thead>\n",
              "    <tr style=\"text-align: right;\">\n",
              "      <th></th>\n",
              "      <th>Survived</th>\n",
              "      <th>Pclass</th>\n",
              "      <th>Sex</th>\n",
              "      <th>Age</th>\n",
              "      <th>SibSp</th>\n",
              "      <th>Parch</th>\n",
              "      <th>Fare</th>\n",
              "      <th>Embarked</th>\n",
              "    </tr>\n",
              "  </thead>\n",
              "  <tbody>\n",
              "    <tr>\n",
              "      <th>0</th>\n",
              "      <td>0</td>\n",
              "      <td>2</td>\n",
              "      <td>male</td>\n",
              "      <td>28.0</td>\n",
              "      <td>0</td>\n",
              "      <td>0</td>\n",
              "      <td>13.0000</td>\n",
              "      <td>S</td>\n",
              "    </tr>\n",
              "    <tr>\n",
              "      <th>1</th>\n",
              "      <td>0</td>\n",
              "      <td>3</td>\n",
              "      <td>male</td>\n",
              "      <td>25.0</td>\n",
              "      <td>0</td>\n",
              "      <td>0</td>\n",
              "      <td>7.6500</td>\n",
              "      <td>S</td>\n",
              "    </tr>\n",
              "    <tr>\n",
              "      <th>2</th>\n",
              "      <td>0</td>\n",
              "      <td>3</td>\n",
              "      <td>male</td>\n",
              "      <td>20.0</td>\n",
              "      <td>0</td>\n",
              "      <td>0</td>\n",
              "      <td>7.8542</td>\n",
              "      <td>S</td>\n",
              "    </tr>\n",
              "    <tr>\n",
              "      <th>3</th>\n",
              "      <td>0</td>\n",
              "      <td>3</td>\n",
              "      <td>female</td>\n",
              "      <td>29.0</td>\n",
              "      <td>0</td>\n",
              "      <td>4</td>\n",
              "      <td>21.0750</td>\n",
              "      <td>S</td>\n",
              "    </tr>\n",
              "    <tr>\n",
              "      <th>4</th>\n",
              "      <td>0</td>\n",
              "      <td>1</td>\n",
              "      <td>male</td>\n",
              "      <td>31.0</td>\n",
              "      <td>1</td>\n",
              "      <td>0</td>\n",
              "      <td>52.0000</td>\n",
              "      <td>S</td>\n",
              "    </tr>\n",
              "  </tbody>\n",
              "</table>\n",
              "</div>\n",
              "      <button class=\"colab-df-convert\" onclick=\"convertToInteractive('df-607cdb70-b3b4-4efc-8dc0-d4f2928b3742')\"\n",
              "              title=\"Convert this dataframe to an interactive table.\"\n",
              "              style=\"display:none;\">\n",
              "        \n",
              "  <svg xmlns=\"http://www.w3.org/2000/svg\" height=\"24px\"viewBox=\"0 0 24 24\"\n",
              "       width=\"24px\">\n",
              "    <path d=\"M0 0h24v24H0V0z\" fill=\"none\"/>\n",
              "    <path d=\"M18.56 5.44l.94 2.06.94-2.06 2.06-.94-2.06-.94-.94-2.06-.94 2.06-2.06.94zm-11 1L8.5 8.5l.94-2.06 2.06-.94-2.06-.94L8.5 2.5l-.94 2.06-2.06.94zm10 10l.94 2.06.94-2.06 2.06-.94-2.06-.94-.94-2.06-.94 2.06-2.06.94z\"/><path d=\"M17.41 7.96l-1.37-1.37c-.4-.4-.92-.59-1.43-.59-.52 0-1.04.2-1.43.59L10.3 9.45l-7.72 7.72c-.78.78-.78 2.05 0 2.83L4 21.41c.39.39.9.59 1.41.59.51 0 1.02-.2 1.41-.59l7.78-7.78 2.81-2.81c.8-.78.8-2.07 0-2.86zM5.41 20L4 18.59l7.72-7.72 1.47 1.35L5.41 20z\"/>\n",
              "  </svg>\n",
              "      </button>\n",
              "      \n",
              "  <style>\n",
              "    .colab-df-container {\n",
              "      display:flex;\n",
              "      flex-wrap:wrap;\n",
              "      gap: 12px;\n",
              "    }\n",
              "\n",
              "    .colab-df-convert {\n",
              "      background-color: #E8F0FE;\n",
              "      border: none;\n",
              "      border-radius: 50%;\n",
              "      cursor: pointer;\n",
              "      display: none;\n",
              "      fill: #1967D2;\n",
              "      height: 32px;\n",
              "      padding: 0 0 0 0;\n",
              "      width: 32px;\n",
              "    }\n",
              "\n",
              "    .colab-df-convert:hover {\n",
              "      background-color: #E2EBFA;\n",
              "      box-shadow: 0px 1px 2px rgba(60, 64, 67, 0.3), 0px 1px 3px 1px rgba(60, 64, 67, 0.15);\n",
              "      fill: #174EA6;\n",
              "    }\n",
              "\n",
              "    [theme=dark] .colab-df-convert {\n",
              "      background-color: #3B4455;\n",
              "      fill: #D2E3FC;\n",
              "    }\n",
              "\n",
              "    [theme=dark] .colab-df-convert:hover {\n",
              "      background-color: #434B5C;\n",
              "      box-shadow: 0px 1px 3px 1px rgba(0, 0, 0, 0.15);\n",
              "      filter: drop-shadow(0px 1px 2px rgba(0, 0, 0, 0.3));\n",
              "      fill: #FFFFFF;\n",
              "    }\n",
              "  </style>\n",
              "\n",
              "      <script>\n",
              "        const buttonEl =\n",
              "          document.querySelector('#df-607cdb70-b3b4-4efc-8dc0-d4f2928b3742 button.colab-df-convert');\n",
              "        buttonEl.style.display =\n",
              "          google.colab.kernel.accessAllowed ? 'block' : 'none';\n",
              "\n",
              "        async function convertToInteractive(key) {\n",
              "          const element = document.querySelector('#df-607cdb70-b3b4-4efc-8dc0-d4f2928b3742');\n",
              "          const dataTable =\n",
              "            await google.colab.kernel.invokeFunction('convertToInteractive',\n",
              "                                                     [key], {});\n",
              "          if (!dataTable) return;\n",
              "\n",
              "          const docLinkHtml = 'Like what you see? Visit the ' +\n",
              "            '<a target=\"_blank\" href=https://colab.research.google.com/notebooks/data_table.ipynb>data table notebook</a>'\n",
              "            + ' to learn more about interactive tables.';\n",
              "          element.innerHTML = '';\n",
              "          dataTable['output_type'] = 'display_data';\n",
              "          await google.colab.output.renderOutput(dataTable, element);\n",
              "          const docLink = document.createElement('div');\n",
              "          docLink.innerHTML = docLinkHtml;\n",
              "          element.appendChild(docLink);\n",
              "        }\n",
              "      </script>\n",
              "    </div>\n",
              "  </div>\n",
              "  "
            ]
          },
          "metadata": {},
          "execution_count": 223
        }
      ]
    },
    {
      "cell_type": "markdown",
      "source": [
        "Create a new column \"Title\""
      ],
      "metadata": {
        "id": "kdIQ10aRdoPh"
      }
    },
    {
      "cell_type": "code",
      "source": [
        "new_data[\"Title\"] =df.Name.apply(lambda x: x.split(\",\")[1].split(\".\")[0].strip())\n",
        "new_data.head()"
      ],
      "metadata": {
        "colab": {
          "base_uri": "https://localhost:8080/",
          "height": 206
        },
        "id": "EeWK2slCdzN8",
        "outputId": "4dc70026-a0ce-4ea5-9952-38ed6e92b93a"
      },
      "execution_count": 224,
      "outputs": [
        {
          "output_type": "execute_result",
          "data": {
            "text/plain": [
              "   Survived  Pclass     Sex   Age  SibSp  Parch     Fare Embarked Title\n",
              "0         0       2    male  28.0      0      0  13.0000        S    Mr\n",
              "1         0       3    male  25.0      0      0   7.6500        S    Mr\n",
              "2         0       3    male  20.0      0      0   7.8542        S    Mr\n",
              "3         0       3  female  29.0      0      4  21.0750        S   Mrs\n",
              "4         0       1    male  31.0      1      0  52.0000        S    Mr"
            ],
            "text/html": [
              "\n",
              "  <div id=\"df-a41511f2-31f6-4091-a629-af6773da3e08\">\n",
              "    <div class=\"colab-df-container\">\n",
              "      <div>\n",
              "<style scoped>\n",
              "    .dataframe tbody tr th:only-of-type {\n",
              "        vertical-align: middle;\n",
              "    }\n",
              "\n",
              "    .dataframe tbody tr th {\n",
              "        vertical-align: top;\n",
              "    }\n",
              "\n",
              "    .dataframe thead th {\n",
              "        text-align: right;\n",
              "    }\n",
              "</style>\n",
              "<table border=\"1\" class=\"dataframe\">\n",
              "  <thead>\n",
              "    <tr style=\"text-align: right;\">\n",
              "      <th></th>\n",
              "      <th>Survived</th>\n",
              "      <th>Pclass</th>\n",
              "      <th>Sex</th>\n",
              "      <th>Age</th>\n",
              "      <th>SibSp</th>\n",
              "      <th>Parch</th>\n",
              "      <th>Fare</th>\n",
              "      <th>Embarked</th>\n",
              "      <th>Title</th>\n",
              "    </tr>\n",
              "  </thead>\n",
              "  <tbody>\n",
              "    <tr>\n",
              "      <th>0</th>\n",
              "      <td>0</td>\n",
              "      <td>2</td>\n",
              "      <td>male</td>\n",
              "      <td>28.0</td>\n",
              "      <td>0</td>\n",
              "      <td>0</td>\n",
              "      <td>13.0000</td>\n",
              "      <td>S</td>\n",
              "      <td>Mr</td>\n",
              "    </tr>\n",
              "    <tr>\n",
              "      <th>1</th>\n",
              "      <td>0</td>\n",
              "      <td>3</td>\n",
              "      <td>male</td>\n",
              "      <td>25.0</td>\n",
              "      <td>0</td>\n",
              "      <td>0</td>\n",
              "      <td>7.6500</td>\n",
              "      <td>S</td>\n",
              "      <td>Mr</td>\n",
              "    </tr>\n",
              "    <tr>\n",
              "      <th>2</th>\n",
              "      <td>0</td>\n",
              "      <td>3</td>\n",
              "      <td>male</td>\n",
              "      <td>20.0</td>\n",
              "      <td>0</td>\n",
              "      <td>0</td>\n",
              "      <td>7.8542</td>\n",
              "      <td>S</td>\n",
              "      <td>Mr</td>\n",
              "    </tr>\n",
              "    <tr>\n",
              "      <th>3</th>\n",
              "      <td>0</td>\n",
              "      <td>3</td>\n",
              "      <td>female</td>\n",
              "      <td>29.0</td>\n",
              "      <td>0</td>\n",
              "      <td>4</td>\n",
              "      <td>21.0750</td>\n",
              "      <td>S</td>\n",
              "      <td>Mrs</td>\n",
              "    </tr>\n",
              "    <tr>\n",
              "      <th>4</th>\n",
              "      <td>0</td>\n",
              "      <td>1</td>\n",
              "      <td>male</td>\n",
              "      <td>31.0</td>\n",
              "      <td>1</td>\n",
              "      <td>0</td>\n",
              "      <td>52.0000</td>\n",
              "      <td>S</td>\n",
              "      <td>Mr</td>\n",
              "    </tr>\n",
              "  </tbody>\n",
              "</table>\n",
              "</div>\n",
              "      <button class=\"colab-df-convert\" onclick=\"convertToInteractive('df-a41511f2-31f6-4091-a629-af6773da3e08')\"\n",
              "              title=\"Convert this dataframe to an interactive table.\"\n",
              "              style=\"display:none;\">\n",
              "        \n",
              "  <svg xmlns=\"http://www.w3.org/2000/svg\" height=\"24px\"viewBox=\"0 0 24 24\"\n",
              "       width=\"24px\">\n",
              "    <path d=\"M0 0h24v24H0V0z\" fill=\"none\"/>\n",
              "    <path d=\"M18.56 5.44l.94 2.06.94-2.06 2.06-.94-2.06-.94-.94-2.06-.94 2.06-2.06.94zm-11 1L8.5 8.5l.94-2.06 2.06-.94-2.06-.94L8.5 2.5l-.94 2.06-2.06.94zm10 10l.94 2.06.94-2.06 2.06-.94-2.06-.94-.94-2.06-.94 2.06-2.06.94z\"/><path d=\"M17.41 7.96l-1.37-1.37c-.4-.4-.92-.59-1.43-.59-.52 0-1.04.2-1.43.59L10.3 9.45l-7.72 7.72c-.78.78-.78 2.05 0 2.83L4 21.41c.39.39.9.59 1.41.59.51 0 1.02-.2 1.41-.59l7.78-7.78 2.81-2.81c.8-.78.8-2.07 0-2.86zM5.41 20L4 18.59l7.72-7.72 1.47 1.35L5.41 20z\"/>\n",
              "  </svg>\n",
              "      </button>\n",
              "      \n",
              "  <style>\n",
              "    .colab-df-container {\n",
              "      display:flex;\n",
              "      flex-wrap:wrap;\n",
              "      gap: 12px;\n",
              "    }\n",
              "\n",
              "    .colab-df-convert {\n",
              "      background-color: #E8F0FE;\n",
              "      border: none;\n",
              "      border-radius: 50%;\n",
              "      cursor: pointer;\n",
              "      display: none;\n",
              "      fill: #1967D2;\n",
              "      height: 32px;\n",
              "      padding: 0 0 0 0;\n",
              "      width: 32px;\n",
              "    }\n",
              "\n",
              "    .colab-df-convert:hover {\n",
              "      background-color: #E2EBFA;\n",
              "      box-shadow: 0px 1px 2px rgba(60, 64, 67, 0.3), 0px 1px 3px 1px rgba(60, 64, 67, 0.15);\n",
              "      fill: #174EA6;\n",
              "    }\n",
              "\n",
              "    [theme=dark] .colab-df-convert {\n",
              "      background-color: #3B4455;\n",
              "      fill: #D2E3FC;\n",
              "    }\n",
              "\n",
              "    [theme=dark] .colab-df-convert:hover {\n",
              "      background-color: #434B5C;\n",
              "      box-shadow: 0px 1px 3px 1px rgba(0, 0, 0, 0.15);\n",
              "      filter: drop-shadow(0px 1px 2px rgba(0, 0, 0, 0.3));\n",
              "      fill: #FFFFFF;\n",
              "    }\n",
              "  </style>\n",
              "\n",
              "      <script>\n",
              "        const buttonEl =\n",
              "          document.querySelector('#df-a41511f2-31f6-4091-a629-af6773da3e08 button.colab-df-convert');\n",
              "        buttonEl.style.display =\n",
              "          google.colab.kernel.accessAllowed ? 'block' : 'none';\n",
              "\n",
              "        async function convertToInteractive(key) {\n",
              "          const element = document.querySelector('#df-a41511f2-31f6-4091-a629-af6773da3e08');\n",
              "          const dataTable =\n",
              "            await google.colab.kernel.invokeFunction('convertToInteractive',\n",
              "                                                     [key], {});\n",
              "          if (!dataTable) return;\n",
              "\n",
              "          const docLinkHtml = 'Like what you see? Visit the ' +\n",
              "            '<a target=\"_blank\" href=https://colab.research.google.com/notebooks/data_table.ipynb>data table notebook</a>'\n",
              "            + ' to learn more about interactive tables.';\n",
              "          element.innerHTML = '';\n",
              "          dataTable['output_type'] = 'display_data';\n",
              "          await google.colab.output.renderOutput(dataTable, element);\n",
              "          const docLink = document.createElement('div');\n",
              "          docLink.innerHTML = docLinkHtml;\n",
              "          element.appendChild(docLink);\n",
              "        }\n",
              "      </script>\n",
              "    </div>\n",
              "  </div>\n",
              "  "
            ]
          },
          "metadata": {},
          "execution_count": 224
        }
      ]
    },
    {
      "cell_type": "markdown",
      "source": [
        "**Number of Elements per Category of the \"Title\" Feature**"
      ],
      "metadata": {
        "id": "Dq8tt-zaeg6z"
      }
    },
    {
      "cell_type": "code",
      "source": [
        "print(new_data[\"Title\"].value_counts())"
      ],
      "metadata": {
        "colab": {
          "base_uri": "https://localhost:8080/"
        },
        "id": "kpIxMEQCfDW-",
        "outputId": "9429d7b0-3650-4069-d554-f1e164b56f30"
      },
      "execution_count": 225,
      "outputs": [
        {
          "output_type": "stream",
          "name": "stdout",
          "text": [
            "Mr              517\n",
            "Miss            182\n",
            "Mrs             125\n",
            "Master           40\n",
            "Dr                7\n",
            "Rev               6\n",
            "Mlle              2\n",
            "Col               2\n",
            "Major             2\n",
            "Don               1\n",
            "Lady              1\n",
            "Jonkheer          1\n",
            "Mme               1\n",
            "Sir               1\n",
            "Capt              1\n",
            "the Countess      1\n",
            "Ms                1\n",
            "Name: Title, dtype: int64\n"
          ]
        }
      ]
    },
    {
      "cell_type": "markdown",
      "source": [
        "**Correlation between \"Title\" and \"Age\"**"
      ],
      "metadata": {
        "id": "gNE8bLiagGae"
      }
    },
    {
      "cell_type": "code",
      "source": [
        "new_data[[\"Age\", \"Title\"]].groupby([\"Title\"], as_index=True).mean()"
      ],
      "metadata": {
        "colab": {
          "base_uri": "https://localhost:8080/",
          "height": 614
        },
        "id": "j3meK-MogRFe",
        "outputId": "04248848-1c0c-4c4c-a7e9-8ea7adc33c0c"
      },
      "execution_count": 226,
      "outputs": [
        {
          "output_type": "execute_result",
          "data": {
            "text/plain": [
              "                    Age\n",
              "Title                  \n",
              "Capt          70.000000\n",
              "Col           58.000000\n",
              "Don           40.000000\n",
              "Dr            40.242731\n",
              "Jonkheer      38.000000\n",
              "Lady          48.000000\n",
              "Major         48.500000\n",
              "Master         7.086662\n",
              "Miss          23.341584\n",
              "Mlle          24.000000\n",
              "Mme           24.000000\n",
              "Mr            31.753762\n",
              "Mrs           35.055080\n",
              "Ms            28.000000\n",
              "Rev           43.166667\n",
              "Sir           49.000000\n",
              "the Countess  33.000000"
            ],
            "text/html": [
              "\n",
              "  <div id=\"df-3f1b5177-da4e-4a1f-8ea5-c63bf697ec9b\">\n",
              "    <div class=\"colab-df-container\">\n",
              "      <div>\n",
              "<style scoped>\n",
              "    .dataframe tbody tr th:only-of-type {\n",
              "        vertical-align: middle;\n",
              "    }\n",
              "\n",
              "    .dataframe tbody tr th {\n",
              "        vertical-align: top;\n",
              "    }\n",
              "\n",
              "    .dataframe thead th {\n",
              "        text-align: right;\n",
              "    }\n",
              "</style>\n",
              "<table border=\"1\" class=\"dataframe\">\n",
              "  <thead>\n",
              "    <tr style=\"text-align: right;\">\n",
              "      <th></th>\n",
              "      <th>Age</th>\n",
              "    </tr>\n",
              "    <tr>\n",
              "      <th>Title</th>\n",
              "      <th></th>\n",
              "    </tr>\n",
              "  </thead>\n",
              "  <tbody>\n",
              "    <tr>\n",
              "      <th>Capt</th>\n",
              "      <td>70.000000</td>\n",
              "    </tr>\n",
              "    <tr>\n",
              "      <th>Col</th>\n",
              "      <td>58.000000</td>\n",
              "    </tr>\n",
              "    <tr>\n",
              "      <th>Don</th>\n",
              "      <td>40.000000</td>\n",
              "    </tr>\n",
              "    <tr>\n",
              "      <th>Dr</th>\n",
              "      <td>40.242731</td>\n",
              "    </tr>\n",
              "    <tr>\n",
              "      <th>Jonkheer</th>\n",
              "      <td>38.000000</td>\n",
              "    </tr>\n",
              "    <tr>\n",
              "      <th>Lady</th>\n",
              "      <td>48.000000</td>\n",
              "    </tr>\n",
              "    <tr>\n",
              "      <th>Major</th>\n",
              "      <td>48.500000</td>\n",
              "    </tr>\n",
              "    <tr>\n",
              "      <th>Master</th>\n",
              "      <td>7.086662</td>\n",
              "    </tr>\n",
              "    <tr>\n",
              "      <th>Miss</th>\n",
              "      <td>23.341584</td>\n",
              "    </tr>\n",
              "    <tr>\n",
              "      <th>Mlle</th>\n",
              "      <td>24.000000</td>\n",
              "    </tr>\n",
              "    <tr>\n",
              "      <th>Mme</th>\n",
              "      <td>24.000000</td>\n",
              "    </tr>\n",
              "    <tr>\n",
              "      <th>Mr</th>\n",
              "      <td>31.753762</td>\n",
              "    </tr>\n",
              "    <tr>\n",
              "      <th>Mrs</th>\n",
              "      <td>35.055080</td>\n",
              "    </tr>\n",
              "    <tr>\n",
              "      <th>Ms</th>\n",
              "      <td>28.000000</td>\n",
              "    </tr>\n",
              "    <tr>\n",
              "      <th>Rev</th>\n",
              "      <td>43.166667</td>\n",
              "    </tr>\n",
              "    <tr>\n",
              "      <th>Sir</th>\n",
              "      <td>49.000000</td>\n",
              "    </tr>\n",
              "    <tr>\n",
              "      <th>the Countess</th>\n",
              "      <td>33.000000</td>\n",
              "    </tr>\n",
              "  </tbody>\n",
              "</table>\n",
              "</div>\n",
              "      <button class=\"colab-df-convert\" onclick=\"convertToInteractive('df-3f1b5177-da4e-4a1f-8ea5-c63bf697ec9b')\"\n",
              "              title=\"Convert this dataframe to an interactive table.\"\n",
              "              style=\"display:none;\">\n",
              "        \n",
              "  <svg xmlns=\"http://www.w3.org/2000/svg\" height=\"24px\"viewBox=\"0 0 24 24\"\n",
              "       width=\"24px\">\n",
              "    <path d=\"M0 0h24v24H0V0z\" fill=\"none\"/>\n",
              "    <path d=\"M18.56 5.44l.94 2.06.94-2.06 2.06-.94-2.06-.94-.94-2.06-.94 2.06-2.06.94zm-11 1L8.5 8.5l.94-2.06 2.06-.94-2.06-.94L8.5 2.5l-.94 2.06-2.06.94zm10 10l.94 2.06.94-2.06 2.06-.94-2.06-.94-.94-2.06-.94 2.06-2.06.94z\"/><path d=\"M17.41 7.96l-1.37-1.37c-.4-.4-.92-.59-1.43-.59-.52 0-1.04.2-1.43.59L10.3 9.45l-7.72 7.72c-.78.78-.78 2.05 0 2.83L4 21.41c.39.39.9.59 1.41.59.51 0 1.02-.2 1.41-.59l7.78-7.78 2.81-2.81c.8-.78.8-2.07 0-2.86zM5.41 20L4 18.59l7.72-7.72 1.47 1.35L5.41 20z\"/>\n",
              "  </svg>\n",
              "      </button>\n",
              "      \n",
              "  <style>\n",
              "    .colab-df-container {\n",
              "      display:flex;\n",
              "      flex-wrap:wrap;\n",
              "      gap: 12px;\n",
              "    }\n",
              "\n",
              "    .colab-df-convert {\n",
              "      background-color: #E8F0FE;\n",
              "      border: none;\n",
              "      border-radius: 50%;\n",
              "      cursor: pointer;\n",
              "      display: none;\n",
              "      fill: #1967D2;\n",
              "      height: 32px;\n",
              "      padding: 0 0 0 0;\n",
              "      width: 32px;\n",
              "    }\n",
              "\n",
              "    .colab-df-convert:hover {\n",
              "      background-color: #E2EBFA;\n",
              "      box-shadow: 0px 1px 2px rgba(60, 64, 67, 0.3), 0px 1px 3px 1px rgba(60, 64, 67, 0.15);\n",
              "      fill: #174EA6;\n",
              "    }\n",
              "\n",
              "    [theme=dark] .colab-df-convert {\n",
              "      background-color: #3B4455;\n",
              "      fill: #D2E3FC;\n",
              "    }\n",
              "\n",
              "    [theme=dark] .colab-df-convert:hover {\n",
              "      background-color: #434B5C;\n",
              "      box-shadow: 0px 1px 3px 1px rgba(0, 0, 0, 0.15);\n",
              "      filter: drop-shadow(0px 1px 2px rgba(0, 0, 0, 0.3));\n",
              "      fill: #FFFFFF;\n",
              "    }\n",
              "  </style>\n",
              "\n",
              "      <script>\n",
              "        const buttonEl =\n",
              "          document.querySelector('#df-3f1b5177-da4e-4a1f-8ea5-c63bf697ec9b button.colab-df-convert');\n",
              "        buttonEl.style.display =\n",
              "          google.colab.kernel.accessAllowed ? 'block' : 'none';\n",
              "\n",
              "        async function convertToInteractive(key) {\n",
              "          const element = document.querySelector('#df-3f1b5177-da4e-4a1f-8ea5-c63bf697ec9b');\n",
              "          const dataTable =\n",
              "            await google.colab.kernel.invokeFunction('convertToInteractive',\n",
              "                                                     [key], {});\n",
              "          if (!dataTable) return;\n",
              "\n",
              "          const docLinkHtml = 'Like what you see? Visit the ' +\n",
              "            '<a target=\"_blank\" href=https://colab.research.google.com/notebooks/data_table.ipynb>data table notebook</a>'\n",
              "            + ' to learn more about interactive tables.';\n",
              "          element.innerHTML = '';\n",
              "          dataTable['output_type'] = 'display_data';\n",
              "          await google.colab.output.renderOutput(dataTable, element);\n",
              "          const docLink = document.createElement('div');\n",
              "          docLink.innerHTML = docLinkHtml;\n",
              "          element.appendChild(docLink);\n",
              "        }\n",
              "      </script>\n",
              "    </div>\n",
              "  </div>\n",
              "  "
            ]
          },
          "metadata": {},
          "execution_count": 226
        }
      ]
    },
    {
      "cell_type": "markdown",
      "source": [
        "****Correlation between \"Title\" and \"Fare\""
      ],
      "metadata": {
        "id": "Ety0uuoWg31R"
      }
    },
    {
      "cell_type": "code",
      "source": [
        "new_data[[\"Fare\", \"Title\"]].groupby([\"Title\"], as_index=True).mean()"
      ],
      "metadata": {
        "colab": {
          "base_uri": "https://localhost:8080/",
          "height": 614
        },
        "id": "PYGMwYm8g_xG",
        "outputId": "b5b001b5-e482-436e-9048-b07baa05507d"
      },
      "execution_count": 227,
      "outputs": [
        {
          "output_type": "execute_result",
          "data": {
            "text/plain": [
              "                   Fare\n",
              "Title                  \n",
              "Capt          71.000000\n",
              "Col           31.025000\n",
              "Don           27.720800\n",
              "Dr            49.168457\n",
              "Jonkheer       0.000000\n",
              "Lady          39.600000\n",
              "Major         28.525000\n",
              "Master        34.703125\n",
              "Miss          43.797873\n",
              "Mlle          59.402100\n",
              "Mme           69.300000\n",
              "Mr            24.441560\n",
              "Mrs           45.138533\n",
              "Ms            13.000000\n",
              "Rev           18.312500\n",
              "Sir           56.929200\n",
              "the Countess  86.500000"
            ],
            "text/html": [
              "\n",
              "  <div id=\"df-0716b1c9-6c14-480a-be71-3401cef19805\">\n",
              "    <div class=\"colab-df-container\">\n",
              "      <div>\n",
              "<style scoped>\n",
              "    .dataframe tbody tr th:only-of-type {\n",
              "        vertical-align: middle;\n",
              "    }\n",
              "\n",
              "    .dataframe tbody tr th {\n",
              "        vertical-align: top;\n",
              "    }\n",
              "\n",
              "    .dataframe thead th {\n",
              "        text-align: right;\n",
              "    }\n",
              "</style>\n",
              "<table border=\"1\" class=\"dataframe\">\n",
              "  <thead>\n",
              "    <tr style=\"text-align: right;\">\n",
              "      <th></th>\n",
              "      <th>Fare</th>\n",
              "    </tr>\n",
              "    <tr>\n",
              "      <th>Title</th>\n",
              "      <th></th>\n",
              "    </tr>\n",
              "  </thead>\n",
              "  <tbody>\n",
              "    <tr>\n",
              "      <th>Capt</th>\n",
              "      <td>71.000000</td>\n",
              "    </tr>\n",
              "    <tr>\n",
              "      <th>Col</th>\n",
              "      <td>31.025000</td>\n",
              "    </tr>\n",
              "    <tr>\n",
              "      <th>Don</th>\n",
              "      <td>27.720800</td>\n",
              "    </tr>\n",
              "    <tr>\n",
              "      <th>Dr</th>\n",
              "      <td>49.168457</td>\n",
              "    </tr>\n",
              "    <tr>\n",
              "      <th>Jonkheer</th>\n",
              "      <td>0.000000</td>\n",
              "    </tr>\n",
              "    <tr>\n",
              "      <th>Lady</th>\n",
              "      <td>39.600000</td>\n",
              "    </tr>\n",
              "    <tr>\n",
              "      <th>Major</th>\n",
              "      <td>28.525000</td>\n",
              "    </tr>\n",
              "    <tr>\n",
              "      <th>Master</th>\n",
              "      <td>34.703125</td>\n",
              "    </tr>\n",
              "    <tr>\n",
              "      <th>Miss</th>\n",
              "      <td>43.797873</td>\n",
              "    </tr>\n",
              "    <tr>\n",
              "      <th>Mlle</th>\n",
              "      <td>59.402100</td>\n",
              "    </tr>\n",
              "    <tr>\n",
              "      <th>Mme</th>\n",
              "      <td>69.300000</td>\n",
              "    </tr>\n",
              "    <tr>\n",
              "      <th>Mr</th>\n",
              "      <td>24.441560</td>\n",
              "    </tr>\n",
              "    <tr>\n",
              "      <th>Mrs</th>\n",
              "      <td>45.138533</td>\n",
              "    </tr>\n",
              "    <tr>\n",
              "      <th>Ms</th>\n",
              "      <td>13.000000</td>\n",
              "    </tr>\n",
              "    <tr>\n",
              "      <th>Rev</th>\n",
              "      <td>18.312500</td>\n",
              "    </tr>\n",
              "    <tr>\n",
              "      <th>Sir</th>\n",
              "      <td>56.929200</td>\n",
              "    </tr>\n",
              "    <tr>\n",
              "      <th>the Countess</th>\n",
              "      <td>86.500000</td>\n",
              "    </tr>\n",
              "  </tbody>\n",
              "</table>\n",
              "</div>\n",
              "      <button class=\"colab-df-convert\" onclick=\"convertToInteractive('df-0716b1c9-6c14-480a-be71-3401cef19805')\"\n",
              "              title=\"Convert this dataframe to an interactive table.\"\n",
              "              style=\"display:none;\">\n",
              "        \n",
              "  <svg xmlns=\"http://www.w3.org/2000/svg\" height=\"24px\"viewBox=\"0 0 24 24\"\n",
              "       width=\"24px\">\n",
              "    <path d=\"M0 0h24v24H0V0z\" fill=\"none\"/>\n",
              "    <path d=\"M18.56 5.44l.94 2.06.94-2.06 2.06-.94-2.06-.94-.94-2.06-.94 2.06-2.06.94zm-11 1L8.5 8.5l.94-2.06 2.06-.94-2.06-.94L8.5 2.5l-.94 2.06-2.06.94zm10 10l.94 2.06.94-2.06 2.06-.94-2.06-.94-.94-2.06-.94 2.06-2.06.94z\"/><path d=\"M17.41 7.96l-1.37-1.37c-.4-.4-.92-.59-1.43-.59-.52 0-1.04.2-1.43.59L10.3 9.45l-7.72 7.72c-.78.78-.78 2.05 0 2.83L4 21.41c.39.39.9.59 1.41.59.51 0 1.02-.2 1.41-.59l7.78-7.78 2.81-2.81c.8-.78.8-2.07 0-2.86zM5.41 20L4 18.59l7.72-7.72 1.47 1.35L5.41 20z\"/>\n",
              "  </svg>\n",
              "      </button>\n",
              "      \n",
              "  <style>\n",
              "    .colab-df-container {\n",
              "      display:flex;\n",
              "      flex-wrap:wrap;\n",
              "      gap: 12px;\n",
              "    }\n",
              "\n",
              "    .colab-df-convert {\n",
              "      background-color: #E8F0FE;\n",
              "      border: none;\n",
              "      border-radius: 50%;\n",
              "      cursor: pointer;\n",
              "      display: none;\n",
              "      fill: #1967D2;\n",
              "      height: 32px;\n",
              "      padding: 0 0 0 0;\n",
              "      width: 32px;\n",
              "    }\n",
              "\n",
              "    .colab-df-convert:hover {\n",
              "      background-color: #E2EBFA;\n",
              "      box-shadow: 0px 1px 2px rgba(60, 64, 67, 0.3), 0px 1px 3px 1px rgba(60, 64, 67, 0.15);\n",
              "      fill: #174EA6;\n",
              "    }\n",
              "\n",
              "    [theme=dark] .colab-df-convert {\n",
              "      background-color: #3B4455;\n",
              "      fill: #D2E3FC;\n",
              "    }\n",
              "\n",
              "    [theme=dark] .colab-df-convert:hover {\n",
              "      background-color: #434B5C;\n",
              "      box-shadow: 0px 1px 3px 1px rgba(0, 0, 0, 0.15);\n",
              "      filter: drop-shadow(0px 1px 2px rgba(0, 0, 0, 0.3));\n",
              "      fill: #FFFFFF;\n",
              "    }\n",
              "  </style>\n",
              "\n",
              "      <script>\n",
              "        const buttonEl =\n",
              "          document.querySelector('#df-0716b1c9-6c14-480a-be71-3401cef19805 button.colab-df-convert');\n",
              "        buttonEl.style.display =\n",
              "          google.colab.kernel.accessAllowed ? 'block' : 'none';\n",
              "\n",
              "        async function convertToInteractive(key) {\n",
              "          const element = document.querySelector('#df-0716b1c9-6c14-480a-be71-3401cef19805');\n",
              "          const dataTable =\n",
              "            await google.colab.kernel.invokeFunction('convertToInteractive',\n",
              "                                                     [key], {});\n",
              "          if (!dataTable) return;\n",
              "\n",
              "          const docLinkHtml = 'Like what you see? Visit the ' +\n",
              "            '<a target=\"_blank\" href=https://colab.research.google.com/notebooks/data_table.ipynb>data table notebook</a>'\n",
              "            + ' to learn more about interactive tables.';\n",
              "          element.innerHTML = '';\n",
              "          dataTable['output_type'] = 'display_data';\n",
              "          await google.colab.output.renderOutput(dataTable, element);\n",
              "          const docLink = document.createElement('div');\n",
              "          docLink.innerHTML = docLinkHtml;\n",
              "          element.appendChild(docLink);\n",
              "        }\n",
              "      </script>\n",
              "    </div>\n",
              "  </div>\n",
              "  "
            ]
          },
          "metadata": {},
          "execution_count": 227
        }
      ]
    },
    {
      "cell_type": "markdown",
      "source": [
        "Correlation between \"Title\" and \"Pclass\""
      ],
      "metadata": {
        "id": "-JShg7b5hhpE"
      }
    },
    {
      "cell_type": "code",
      "source": [
        "new_data[[\"Pclass\", \"Title\"]].groupby([\"Title\"], as_index=True).mean()"
      ],
      "metadata": {
        "colab": {
          "base_uri": "https://localhost:8080/",
          "height": 614
        },
        "id": "030gKSC8hqKv",
        "outputId": "18fff14c-d864-4166-f13e-a58b00180558"
      },
      "execution_count": 228,
      "outputs": [
        {
          "output_type": "execute_result",
          "data": {
            "text/plain": [
              "                Pclass\n",
              "Title                 \n",
              "Capt          1.000000\n",
              "Col           1.000000\n",
              "Don           1.000000\n",
              "Dr            1.285714\n",
              "Jonkheer      1.000000\n",
              "Lady          1.000000\n",
              "Major         1.000000\n",
              "Master        2.625000\n",
              "Miss          2.307692\n",
              "Mlle          1.000000\n",
              "Mme           1.000000\n",
              "Mr            2.410058\n",
              "Mrs           2.000000\n",
              "Ms            2.000000\n",
              "Rev           2.000000\n",
              "Sir           1.000000\n",
              "the Countess  1.000000"
            ],
            "text/html": [
              "\n",
              "  <div id=\"df-d93eaf48-077f-4747-868e-59353f4cae5d\">\n",
              "    <div class=\"colab-df-container\">\n",
              "      <div>\n",
              "<style scoped>\n",
              "    .dataframe tbody tr th:only-of-type {\n",
              "        vertical-align: middle;\n",
              "    }\n",
              "\n",
              "    .dataframe tbody tr th {\n",
              "        vertical-align: top;\n",
              "    }\n",
              "\n",
              "    .dataframe thead th {\n",
              "        text-align: right;\n",
              "    }\n",
              "</style>\n",
              "<table border=\"1\" class=\"dataframe\">\n",
              "  <thead>\n",
              "    <tr style=\"text-align: right;\">\n",
              "      <th></th>\n",
              "      <th>Pclass</th>\n",
              "    </tr>\n",
              "    <tr>\n",
              "      <th>Title</th>\n",
              "      <th></th>\n",
              "    </tr>\n",
              "  </thead>\n",
              "  <tbody>\n",
              "    <tr>\n",
              "      <th>Capt</th>\n",
              "      <td>1.000000</td>\n",
              "    </tr>\n",
              "    <tr>\n",
              "      <th>Col</th>\n",
              "      <td>1.000000</td>\n",
              "    </tr>\n",
              "    <tr>\n",
              "      <th>Don</th>\n",
              "      <td>1.000000</td>\n",
              "    </tr>\n",
              "    <tr>\n",
              "      <th>Dr</th>\n",
              "      <td>1.285714</td>\n",
              "    </tr>\n",
              "    <tr>\n",
              "      <th>Jonkheer</th>\n",
              "      <td>1.000000</td>\n",
              "    </tr>\n",
              "    <tr>\n",
              "      <th>Lady</th>\n",
              "      <td>1.000000</td>\n",
              "    </tr>\n",
              "    <tr>\n",
              "      <th>Major</th>\n",
              "      <td>1.000000</td>\n",
              "    </tr>\n",
              "    <tr>\n",
              "      <th>Master</th>\n",
              "      <td>2.625000</td>\n",
              "    </tr>\n",
              "    <tr>\n",
              "      <th>Miss</th>\n",
              "      <td>2.307692</td>\n",
              "    </tr>\n",
              "    <tr>\n",
              "      <th>Mlle</th>\n",
              "      <td>1.000000</td>\n",
              "    </tr>\n",
              "    <tr>\n",
              "      <th>Mme</th>\n",
              "      <td>1.000000</td>\n",
              "    </tr>\n",
              "    <tr>\n",
              "      <th>Mr</th>\n",
              "      <td>2.410058</td>\n",
              "    </tr>\n",
              "    <tr>\n",
              "      <th>Mrs</th>\n",
              "      <td>2.000000</td>\n",
              "    </tr>\n",
              "    <tr>\n",
              "      <th>Ms</th>\n",
              "      <td>2.000000</td>\n",
              "    </tr>\n",
              "    <tr>\n",
              "      <th>Rev</th>\n",
              "      <td>2.000000</td>\n",
              "    </tr>\n",
              "    <tr>\n",
              "      <th>Sir</th>\n",
              "      <td>1.000000</td>\n",
              "    </tr>\n",
              "    <tr>\n",
              "      <th>the Countess</th>\n",
              "      <td>1.000000</td>\n",
              "    </tr>\n",
              "  </tbody>\n",
              "</table>\n",
              "</div>\n",
              "      <button class=\"colab-df-convert\" onclick=\"convertToInteractive('df-d93eaf48-077f-4747-868e-59353f4cae5d')\"\n",
              "              title=\"Convert this dataframe to an interactive table.\"\n",
              "              style=\"display:none;\">\n",
              "        \n",
              "  <svg xmlns=\"http://www.w3.org/2000/svg\" height=\"24px\"viewBox=\"0 0 24 24\"\n",
              "       width=\"24px\">\n",
              "    <path d=\"M0 0h24v24H0V0z\" fill=\"none\"/>\n",
              "    <path d=\"M18.56 5.44l.94 2.06.94-2.06 2.06-.94-2.06-.94-.94-2.06-.94 2.06-2.06.94zm-11 1L8.5 8.5l.94-2.06 2.06-.94-2.06-.94L8.5 2.5l-.94 2.06-2.06.94zm10 10l.94 2.06.94-2.06 2.06-.94-2.06-.94-.94-2.06-.94 2.06-2.06.94z\"/><path d=\"M17.41 7.96l-1.37-1.37c-.4-.4-.92-.59-1.43-.59-.52 0-1.04.2-1.43.59L10.3 9.45l-7.72 7.72c-.78.78-.78 2.05 0 2.83L4 21.41c.39.39.9.59 1.41.59.51 0 1.02-.2 1.41-.59l7.78-7.78 2.81-2.81c.8-.78.8-2.07 0-2.86zM5.41 20L4 18.59l7.72-7.72 1.47 1.35L5.41 20z\"/>\n",
              "  </svg>\n",
              "      </button>\n",
              "      \n",
              "  <style>\n",
              "    .colab-df-container {\n",
              "      display:flex;\n",
              "      flex-wrap:wrap;\n",
              "      gap: 12px;\n",
              "    }\n",
              "\n",
              "    .colab-df-convert {\n",
              "      background-color: #E8F0FE;\n",
              "      border: none;\n",
              "      border-radius: 50%;\n",
              "      cursor: pointer;\n",
              "      display: none;\n",
              "      fill: #1967D2;\n",
              "      height: 32px;\n",
              "      padding: 0 0 0 0;\n",
              "      width: 32px;\n",
              "    }\n",
              "\n",
              "    .colab-df-convert:hover {\n",
              "      background-color: #E2EBFA;\n",
              "      box-shadow: 0px 1px 2px rgba(60, 64, 67, 0.3), 0px 1px 3px 1px rgba(60, 64, 67, 0.15);\n",
              "      fill: #174EA6;\n",
              "    }\n",
              "\n",
              "    [theme=dark] .colab-df-convert {\n",
              "      background-color: #3B4455;\n",
              "      fill: #D2E3FC;\n",
              "    }\n",
              "\n",
              "    [theme=dark] .colab-df-convert:hover {\n",
              "      background-color: #434B5C;\n",
              "      box-shadow: 0px 1px 3px 1px rgba(0, 0, 0, 0.15);\n",
              "      filter: drop-shadow(0px 1px 2px rgba(0, 0, 0, 0.3));\n",
              "      fill: #FFFFFF;\n",
              "    }\n",
              "  </style>\n",
              "\n",
              "      <script>\n",
              "        const buttonEl =\n",
              "          document.querySelector('#df-d93eaf48-077f-4747-868e-59353f4cae5d button.colab-df-convert');\n",
              "        buttonEl.style.display =\n",
              "          google.colab.kernel.accessAllowed ? 'block' : 'none';\n",
              "\n",
              "        async function convertToInteractive(key) {\n",
              "          const element = document.querySelector('#df-d93eaf48-077f-4747-868e-59353f4cae5d');\n",
              "          const dataTable =\n",
              "            await google.colab.kernel.invokeFunction('convertToInteractive',\n",
              "                                                     [key], {});\n",
              "          if (!dataTable) return;\n",
              "\n",
              "          const docLinkHtml = 'Like what you see? Visit the ' +\n",
              "            '<a target=\"_blank\" href=https://colab.research.google.com/notebooks/data_table.ipynb>data table notebook</a>'\n",
              "            + ' to learn more about interactive tables.';\n",
              "          element.innerHTML = '';\n",
              "          dataTable['output_type'] = 'display_data';\n",
              "          await google.colab.output.renderOutput(dataTable, element);\n",
              "          const docLink = document.createElement('div');\n",
              "          docLink.innerHTML = docLinkHtml;\n",
              "          element.appendChild(docLink);\n",
              "        }\n",
              "      </script>\n",
              "    </div>\n",
              "  </div>\n",
              "  "
            ]
          },
          "metadata": {},
          "execution_count": 228
        }
      ]
    },
    {
      "cell_type": "markdown",
      "source": [
        "**Correlation between \"Title\" and \"Sex\"**"
      ],
      "metadata": {
        "id": "PI5-oomXiGST"
      }
    },
    {
      "cell_type": "code",
      "source": [
        "g=sns.FacetGrid(new_data, col=\"Sex\")\n",
        "g.map(plt.hist, \"Title\", bins=20)"
      ],
      "metadata": {
        "colab": {
          "base_uri": "https://localhost:8080/",
          "height": 242
        },
        "id": "AuuD9c_jiOP5",
        "outputId": "ba177325-876c-4684-abb9-a4ac1ddae02c"
      },
      "execution_count": 229,
      "outputs": [
        {
          "output_type": "execute_result",
          "data": {
            "text/plain": [
              "<seaborn.axisgrid.FacetGrid at 0x7fb381688210>"
            ]
          },
          "metadata": {},
          "execution_count": 229
        },
        {
          "output_type": "display_data",
          "data": {
            "text/plain": [
              "<Figure size 432x216 with 2 Axes>"
            ],
            "image/png": "[encoded data removed]"
          },
          "metadata": {
            "needs_background": "light"
          }
        }
      ]
    },
    {
      "cell_type": "markdown",
      "source": [
        "Creating a Dictionary"
      ],
      "metadata": {
        "id": "3woKuNeMl6H5"
      }
    },
    {
      "cell_type": "code",
      "source": [
        "Title_Dictionary={\"Capt\": \"Officer\",\n",
        "                  \n",
        "                  \"Col\": \"Officer\", \n",
        "                  \n",
        "                  \"Major\": \"Officer\",\n",
        "                  \n",
        "                  \"Dr\": \"Officer\", \n",
        "                  \n",
        "                  \"Rev\": \"Officer\",\n",
        "                  \n",
        "                  \"Jonkheer\": \"Royalty\",\n",
        "                  \n",
        "                  \"Don\": \"Royalty\", \n",
        "                  \n",
        "                  \"Sir\": \"Royalty\",\n",
        "                  \n",
        "                  \"Lady\": \"Royalty\",\n",
        "                  \n",
        "                  \"the Countess\": \"Royalty\",\n",
        "                  \n",
        "                  \"Dona\": \"Royalty\", \n",
        "                  \n",
        "                  \"Mme\": \"Miss\",\n",
        "                  \n",
        "                  \"Mlle\": \"Miss\",\n",
        "                  \n",
        "                  \"Miss\": \"Miss\",\n",
        "                  \n",
        "                  \"Ms\": \"Mrs\", \n",
        "                  \n",
        "                  \"Mr\": \"Mrs\",\n",
        "                  \n",
        "                  \"Mrs\": \"Mrs\", \n",
        "                  \n",
        "                  \"Master\": \"Master\" \n",
        "}\n"
      ],
      "metadata": {
        "id": "8wL307YcmJBj"
      },
      "execution_count": 230,
      "outputs": []
    },
    {
      "cell_type": "markdown",
      "source": [
        "Add the Dictionary as a column to the Dataframe"
      ],
      "metadata": {
        "id": "7QPpgx_xmX6M"
      }
    },
    {
      "cell_type": "code",
      "source": [
        "new_data['Title'] = new_data['Title'].map(Title_Dictionary)\n",
        "new_data.head()"
      ],
      "metadata": {
        "colab": {
          "base_uri": "https://localhost:8080/",
          "height": 206
        },
        "id": "HGS-Vbebmj2P",
        "outputId": "affcad55-813a-4322-db82-61815ad4c007"
      },
      "execution_count": 231,
      "outputs": [
        {
          "output_type": "execute_result",
          "data": {
            "text/plain": [
              "   Survived  Pclass     Sex   Age  SibSp  Parch     Fare Embarked Title\n",
              "0         0       2    male  28.0      0      0  13.0000        S   Mrs\n",
              "1         0       3    male  25.0      0      0   7.6500        S   Mrs\n",
              "2         0       3    male  20.0      0      0   7.8542        S   Mrs\n",
              "3         0       3  female  29.0      0      4  21.0750        S   Mrs\n",
              "4         0       1    male  31.0      1      0  52.0000        S   Mrs"
            ],
            "text/html": [
              "\n",
              "  <div id=\"df-b1bb0cf3-fb0c-4f43-b59f-29afca993480\">\n",
              "    <div class=\"colab-df-container\">\n",
              "      <div>\n",
              "<style scoped>\n",
              "    .dataframe tbody tr th:only-of-type {\n",
              "        vertical-align: middle;\n",
              "    }\n",
              "\n",
              "    .dataframe tbody tr th {\n",
              "        vertical-align: top;\n",
              "    }\n",
              "\n",
              "    .dataframe thead th {\n",
              "        text-align: right;\n",
              "    }\n",
              "</style>\n",
              "<table border=\"1\" class=\"dataframe\">\n",
              "  <thead>\n",
              "    <tr style=\"text-align: right;\">\n",
              "      <th></th>\n",
              "      <th>Survived</th>\n",
              "      <th>Pclass</th>\n",
              "      <th>Sex</th>\n",
              "      <th>Age</th>\n",
              "      <th>SibSp</th>\n",
              "      <th>Parch</th>\n",
              "      <th>Fare</th>\n",
              "      <th>Embarked</th>\n",
              "      <th>Title</th>\n",
              "    </tr>\n",
              "  </thead>\n",
              "  <tbody>\n",
              "    <tr>\n",
              "      <th>0</th>\n",
              "      <td>0</td>\n",
              "      <td>2</td>\n",
              "      <td>male</td>\n",
              "      <td>28.0</td>\n",
              "      <td>0</td>\n",
              "      <td>0</td>\n",
              "      <td>13.0000</td>\n",
              "      <td>S</td>\n",
              "      <td>Mrs</td>\n",
              "    </tr>\n",
              "    <tr>\n",
              "      <th>1</th>\n",
              "      <td>0</td>\n",
              "      <td>3</td>\n",
              "      <td>male</td>\n",
              "      <td>25.0</td>\n",
              "      <td>0</td>\n",
              "      <td>0</td>\n",
              "      <td>7.6500</td>\n",
              "      <td>S</td>\n",
              "      <td>Mrs</td>\n",
              "    </tr>\n",
              "    <tr>\n",
              "      <th>2</th>\n",
              "      <td>0</td>\n",
              "      <td>3</td>\n",
              "      <td>male</td>\n",
              "      <td>20.0</td>\n",
              "      <td>0</td>\n",
              "      <td>0</td>\n",
              "      <td>7.8542</td>\n",
              "      <td>S</td>\n",
              "      <td>Mrs</td>\n",
              "    </tr>\n",
              "    <tr>\n",
              "      <th>3</th>\n",
              "      <td>0</td>\n",
              "      <td>3</td>\n",
              "      <td>female</td>\n",
              "      <td>29.0</td>\n",
              "      <td>0</td>\n",
              "      <td>4</td>\n",
              "      <td>21.0750</td>\n",
              "      <td>S</td>\n",
              "      <td>Mrs</td>\n",
              "    </tr>\n",
              "    <tr>\n",
              "      <th>4</th>\n",
              "      <td>0</td>\n",
              "      <td>1</td>\n",
              "      <td>male</td>\n",
              "      <td>31.0</td>\n",
              "      <td>1</td>\n",
              "      <td>0</td>\n",
              "      <td>52.0000</td>\n",
              "      <td>S</td>\n",
              "      <td>Mrs</td>\n",
              "    </tr>\n",
              "  </tbody>\n",
              "</table>\n",
              "</div>\n",
              "      <button class=\"colab-df-convert\" onclick=\"convertToInteractive('df-b1bb0cf3-fb0c-4f43-b59f-29afca993480')\"\n",
              "              title=\"Convert this dataframe to an interactive table.\"\n",
              "              style=\"display:none;\">\n",
              "        \n",
              "  <svg xmlns=\"http://www.w3.org/2000/svg\" height=\"24px\"viewBox=\"0 0 24 24\"\n",
              "       width=\"24px\">\n",
              "    <path d=\"M0 0h24v24H0V0z\" fill=\"none\"/>\n",
              "    <path d=\"M18.56 5.44l.94 2.06.94-2.06 2.06-.94-2.06-.94-.94-2.06-.94 2.06-2.06.94zm-11 1L8.5 8.5l.94-2.06 2.06-.94-2.06-.94L8.5 2.5l-.94 2.06-2.06.94zm10 10l.94 2.06.94-2.06 2.06-.94-2.06-.94-.94-2.06-.94 2.06-2.06.94z\"/><path d=\"M17.41 7.96l-1.37-1.37c-.4-.4-.92-.59-1.43-.59-.52 0-1.04.2-1.43.59L10.3 9.45l-7.72 7.72c-.78.78-.78 2.05 0 2.83L4 21.41c.39.39.9.59 1.41.59.51 0 1.02-.2 1.41-.59l7.78-7.78 2.81-2.81c.8-.78.8-2.07 0-2.86zM5.41 20L4 18.59l7.72-7.72 1.47 1.35L5.41 20z\"/>\n",
              "  </svg>\n",
              "      </button>\n",
              "      \n",
              "  <style>\n",
              "    .colab-df-container {\n",
              "      display:flex;\n",
              "      flex-wrap:wrap;\n",
              "      gap: 12px;\n",
              "    }\n",
              "\n",
              "    .colab-df-convert {\n",
              "      background-color: #E8F0FE;\n",
              "      border: none;\n",
              "      border-radius: 50%;\n",
              "      cursor: pointer;\n",
              "      display: none;\n",
              "      fill: #1967D2;\n",
              "      height: 32px;\n",
              "      padding: 0 0 0 0;\n",
              "      width: 32px;\n",
              "    }\n",
              "\n",
              "    .colab-df-convert:hover {\n",
              "      background-color: #E2EBFA;\n",
              "      box-shadow: 0px 1px 2px rgba(60, 64, 67, 0.3), 0px 1px 3px 1px rgba(60, 64, 67, 0.15);\n",
              "      fill: #174EA6;\n",
              "    }\n",
              "\n",
              "    [theme=dark] .colab-df-convert {\n",
              "      background-color: #3B4455;\n",
              "      fill: #D2E3FC;\n",
              "    }\n",
              "\n",
              "    [theme=dark] .colab-df-convert:hover {\n",
              "      background-color: #434B5C;\n",
              "      box-shadow: 0px 1px 3px 1px rgba(0, 0, 0, 0.15);\n",
              "      filter: drop-shadow(0px 1px 2px rgba(0, 0, 0, 0.3));\n",
              "      fill: #FFFFFF;\n",
              "    }\n",
              "  </style>\n",
              "\n",
              "      <script>\n",
              "        const buttonEl =\n",
              "          document.querySelector('#df-b1bb0cf3-fb0c-4f43-b59f-29afca993480 button.colab-df-convert');\n",
              "        buttonEl.style.display =\n",
              "          google.colab.kernel.accessAllowed ? 'block' : 'none';\n",
              "\n",
              "        async function convertToInteractive(key) {\n",
              "          const element = document.querySelector('#df-b1bb0cf3-fb0c-4f43-b59f-29afca993480');\n",
              "          const dataTable =\n",
              "            await google.colab.kernel.invokeFunction('convertToInteractive',\n",
              "                                                     [key], {});\n",
              "          if (!dataTable) return;\n",
              "\n",
              "          const docLinkHtml = 'Like what you see? Visit the ' +\n",
              "            '<a target=\"_blank\" href=https://colab.research.google.com/notebooks/data_table.ipynb>data table notebook</a>'\n",
              "            + ' to learn more about interactive tables.';\n",
              "          element.innerHTML = '';\n",
              "          dataTable['output_type'] = 'display_data';\n",
              "          await google.colab.output.renderOutput(dataTable, element);\n",
              "          const docLink = document.createElement('div');\n",
              "          docLink.innerHTML = docLinkHtml;\n",
              "          element.appendChild(docLink);\n",
              "        }\n",
              "      </script>\n",
              "    </div>\n",
              "  </div>\n",
              "  "
            ]
          },
          "metadata": {},
          "execution_count": 231
        }
      ]
    },
    {
      "cell_type": "markdown",
      "source": [
        "**New Number of Elements per Category of the \"Title\" Feature**"
      ],
      "metadata": {
        "id": "jJSeEt25mtay"
      }
    },
    {
      "cell_type": "code",
      "source": [
        "print(new_data[\"Title\"].value_counts())"
      ],
      "metadata": {
        "colab": {
          "base_uri": "https://localhost:8080/"
        },
        "id": "4HwMcIV4m160",
        "outputId": "b21cac67-e8e8-4288-fc8f-6dda33bde3a9"
      },
      "execution_count": 232,
      "outputs": [
        {
          "output_type": "stream",
          "name": "stdout",
          "text": [
            "Mrs        643\n",
            "Miss       185\n",
            "Master      40\n",
            "Officer     18\n",
            "Royalty      5\n",
            "Name: Title, dtype: int64\n"
          ]
        }
      ]
    },
    {
      "cell_type": "markdown",
      "source": [
        "**Visualize the same correlations**\n"
      ],
      "metadata": {
        "id": "gbljOPeHm9UL"
      }
    },
    {
      "cell_type": "markdown",
      "source": [
        "Between \"Title\" and \"Age\""
      ],
      "metadata": {
        "id": "upZgn-BLndkD"
      }
    },
    {
      "cell_type": "code",
      "source": [
        "new_data[[\"Age\", \"Title\"]].groupby([\"Title\"], as_index=True).mean()"
      ],
      "metadata": {
        "colab": {
          "base_uri": "https://localhost:8080/",
          "height": 238
        },
        "id": "oPsWU0w5njzV",
        "outputId": "405ac940-56a2-485a-9f3e-3936e6400b3f"
      },
      "execution_count": 233,
      "outputs": [
        {
          "output_type": "execute_result",
          "data": {
            "text/plain": [
              "               Age\n",
              "Title             \n",
              "Master    7.086662\n",
              "Miss     23.352261\n",
              "Mrs      32.389705\n",
              "Officer  45.761062\n",
              "Royalty  41.600000"
            ],
            "text/html": [
              "\n",
              "  <div id=\"df-44714b43-d897-4542-bd2e-2c5b0f349c46\">\n",
              "    <div class=\"colab-df-container\">\n",
              "      <div>\n",
              "<style scoped>\n",
              "    .dataframe tbody tr th:only-of-type {\n",
              "        vertical-align: middle;\n",
              "    }\n",
              "\n",
              "    .dataframe tbody tr th {\n",
              "        vertical-align: top;\n",
              "    }\n",
              "\n",
              "    .dataframe thead th {\n",
              "        text-align: right;\n",
              "    }\n",
              "</style>\n",
              "<table border=\"1\" class=\"dataframe\">\n",
              "  <thead>\n",
              "    <tr style=\"text-align: right;\">\n",
              "      <th></th>\n",
              "      <th>Age</th>\n",
              "    </tr>\n",
              "    <tr>\n",
              "      <th>Title</th>\n",
              "      <th></th>\n",
              "    </tr>\n",
              "  </thead>\n",
              "  <tbody>\n",
              "    <tr>\n",
              "      <th>Master</th>\n",
              "      <td>7.086662</td>\n",
              "    </tr>\n",
              "    <tr>\n",
              "      <th>Miss</th>\n",
              "      <td>23.352261</td>\n",
              "    </tr>\n",
              "    <tr>\n",
              "      <th>Mrs</th>\n",
              "      <td>32.389705</td>\n",
              "    </tr>\n",
              "    <tr>\n",
              "      <th>Officer</th>\n",
              "      <td>45.761062</td>\n",
              "    </tr>\n",
              "    <tr>\n",
              "      <th>Royalty</th>\n",
              "      <td>41.600000</td>\n",
              "    </tr>\n",
              "  </tbody>\n",
              "</table>\n",
              "</div>\n",
              "      <button class=\"colab-df-convert\" onclick=\"convertToInteractive('df-44714b43-d897-4542-bd2e-2c5b0f349c46')\"\n",
              "              title=\"Convert this dataframe to an interactive table.\"\n",
              "              style=\"display:none;\">\n",
              "        \n",
              "  <svg xmlns=\"http://www.w3.org/2000/svg\" height=\"24px\"viewBox=\"0 0 24 24\"\n",
              "       width=\"24px\">\n",
              "    <path d=\"M0 0h24v24H0V0z\" fill=\"none\"/>\n",
              "    <path d=\"M18.56 5.44l.94 2.06.94-2.06 2.06-.94-2.06-.94-.94-2.06-.94 2.06-2.06.94zm-11 1L8.5 8.5l.94-2.06 2.06-.94-2.06-.94L8.5 2.5l-.94 2.06-2.06.94zm10 10l.94 2.06.94-2.06 2.06-.94-2.06-.94-.94-2.06-.94 2.06-2.06.94z\"/><path d=\"M17.41 7.96l-1.37-1.37c-.4-.4-.92-.59-1.43-.59-.52 0-1.04.2-1.43.59L10.3 9.45l-7.72 7.72c-.78.78-.78 2.05 0 2.83L4 21.41c.39.39.9.59 1.41.59.51 0 1.02-.2 1.41-.59l7.78-7.78 2.81-2.81c.8-.78.8-2.07 0-2.86zM5.41 20L4 18.59l7.72-7.72 1.47 1.35L5.41 20z\"/>\n",
              "  </svg>\n",
              "      </button>\n",
              "      \n",
              "  <style>\n",
              "    .colab-df-container {\n",
              "      display:flex;\n",
              "      flex-wrap:wrap;\n",
              "      gap: 12px;\n",
              "    }\n",
              "\n",
              "    .colab-df-convert {\n",
              "      background-color: #E8F0FE;\n",
              "      border: none;\n",
              "      border-radius: 50%;\n",
              "      cursor: pointer;\n",
              "      display: none;\n",
              "      fill: #1967D2;\n",
              "      height: 32px;\n",
              "      padding: 0 0 0 0;\n",
              "      width: 32px;\n",
              "    }\n",
              "\n",
              "    .colab-df-convert:hover {\n",
              "      background-color: #E2EBFA;\n",
              "      box-shadow: 0px 1px 2px rgba(60, 64, 67, 0.3), 0px 1px 3px 1px rgba(60, 64, 67, 0.15);\n",
              "      fill: #174EA6;\n",
              "    }\n",
              "\n",
              "    [theme=dark] .colab-df-convert {\n",
              "      background-color: #3B4455;\n",
              "      fill: #D2E3FC;\n",
              "    }\n",
              "\n",
              "    [theme=dark] .colab-df-convert:hover {\n",
              "      background-color: #434B5C;\n",
              "      box-shadow: 0px 1px 3px 1px rgba(0, 0, 0, 0.15);\n",
              "      filter: drop-shadow(0px 1px 2px rgba(0, 0, 0, 0.3));\n",
              "      fill: #FFFFFF;\n",
              "    }\n",
              "  </style>\n",
              "\n",
              "      <script>\n",
              "        const buttonEl =\n",
              "          document.querySelector('#df-44714b43-d897-4542-bd2e-2c5b0f349c46 button.colab-df-convert');\n",
              "        buttonEl.style.display =\n",
              "          google.colab.kernel.accessAllowed ? 'block' : 'none';\n",
              "\n",
              "        async function convertToInteractive(key) {\n",
              "          const element = document.querySelector('#df-44714b43-d897-4542-bd2e-2c5b0f349c46');\n",
              "          const dataTable =\n",
              "            await google.colab.kernel.invokeFunction('convertToInteractive',\n",
              "                                                     [key], {});\n",
              "          if (!dataTable) return;\n",
              "\n",
              "          const docLinkHtml = 'Like what you see? Visit the ' +\n",
              "            '<a target=\"_blank\" href=https://colab.research.google.com/notebooks/data_table.ipynb>data table notebook</a>'\n",
              "            + ' to learn more about interactive tables.';\n",
              "          element.innerHTML = '';\n",
              "          dataTable['output_type'] = 'display_data';\n",
              "          await google.colab.output.renderOutput(dataTable, element);\n",
              "          const docLink = document.createElement('div');\n",
              "          docLink.innerHTML = docLinkHtml;\n",
              "          element.appendChild(docLink);\n",
              "        }\n",
              "      </script>\n",
              "    </div>\n",
              "  </div>\n",
              "  "
            ]
          },
          "metadata": {},
          "execution_count": 233
        }
      ]
    },
    {
      "cell_type": "markdown",
      "source": [
        "Between \"Title\" and \"Fare\""
      ],
      "metadata": {
        "id": "BuJoxS0Rnp45"
      }
    },
    {
      "cell_type": "code",
      "source": [
        "new_data[[\"Fare\", \"Title\"]].groupby([\"Title\"], as_index=True).mean()"
      ],
      "metadata": {
        "colab": {
          "base_uri": "https://localhost:8080/",
          "height": 238
        },
        "id": "4alMAOR2nwjj",
        "outputId": "3ee950bc-6876-4dc2-cb4c-5d44a204a001"
      },
      "execution_count": 234,
      "outputs": [
        {
          "output_type": "execute_result",
          "data": {
            "text/plain": [
              "              Fare\n",
              "Title             \n",
              "Master   34.703125\n",
              "Miss     44.104416\n",
              "Mrs      28.447283\n",
              "Officer  35.786344\n",
              "Royalty  42.150000"
            ],
            "text/html": [
              "\n",
              "  <div id=\"df-897abd53-1173-44d9-90df-8ba866abb719\">\n",
              "    <div class=\"colab-df-container\">\n",
              "      <div>\n",
              "<style scoped>\n",
              "    .dataframe tbody tr th:only-of-type {\n",
              "        vertical-align: middle;\n",
              "    }\n",
              "\n",
              "    .dataframe tbody tr th {\n",
              "        vertical-align: top;\n",
              "    }\n",
              "\n",
              "    .dataframe thead th {\n",
              "        text-align: right;\n",
              "    }\n",
              "</style>\n",
              "<table border=\"1\" class=\"dataframe\">\n",
              "  <thead>\n",
              "    <tr style=\"text-align: right;\">\n",
              "      <th></th>\n",
              "      <th>Fare</th>\n",
              "    </tr>\n",
              "    <tr>\n",
              "      <th>Title</th>\n",
              "      <th></th>\n",
              "    </tr>\n",
              "  </thead>\n",
              "  <tbody>\n",
              "    <tr>\n",
              "      <th>Master</th>\n",
              "      <td>34.703125</td>\n",
              "    </tr>\n",
              "    <tr>\n",
              "      <th>Miss</th>\n",
              "      <td>44.104416</td>\n",
              "    </tr>\n",
              "    <tr>\n",
              "      <th>Mrs</th>\n",
              "      <td>28.447283</td>\n",
              "    </tr>\n",
              "    <tr>\n",
              "      <th>Officer</th>\n",
              "      <td>35.786344</td>\n",
              "    </tr>\n",
              "    <tr>\n",
              "      <th>Royalty</th>\n",
              "      <td>42.150000</td>\n",
              "    </tr>\n",
              "  </tbody>\n",
              "</table>\n",
              "</div>\n",
              "      <button class=\"colab-df-convert\" onclick=\"convertToInteractive('df-897abd53-1173-44d9-90df-8ba866abb719')\"\n",
              "              title=\"Convert this dataframe to an interactive table.\"\n",
              "              style=\"display:none;\">\n",
              "        \n",
              "  <svg xmlns=\"http://www.w3.org/2000/svg\" height=\"24px\"viewBox=\"0 0 24 24\"\n",
              "       width=\"24px\">\n",
              "    <path d=\"M0 0h24v24H0V0z\" fill=\"none\"/>\n",
              "    <path d=\"M18.56 5.44l.94 2.06.94-2.06 2.06-.94-2.06-.94-.94-2.06-.94 2.06-2.06.94zm-11 1L8.5 8.5l.94-2.06 2.06-.94-2.06-.94L8.5 2.5l-.94 2.06-2.06.94zm10 10l.94 2.06.94-2.06 2.06-.94-2.06-.94-.94-2.06-.94 2.06-2.06.94z\"/><path d=\"M17.41 7.96l-1.37-1.37c-.4-.4-.92-.59-1.43-.59-.52 0-1.04.2-1.43.59L10.3 9.45l-7.72 7.72c-.78.78-.78 2.05 0 2.83L4 21.41c.39.39.9.59 1.41.59.51 0 1.02-.2 1.41-.59l7.78-7.78 2.81-2.81c.8-.78.8-2.07 0-2.86zM5.41 20L4 18.59l7.72-7.72 1.47 1.35L5.41 20z\"/>\n",
              "  </svg>\n",
              "      </button>\n",
              "      \n",
              "  <style>\n",
              "    .colab-df-container {\n",
              "      display:flex;\n",
              "      flex-wrap:wrap;\n",
              "      gap: 12px;\n",
              "    }\n",
              "\n",
              "    .colab-df-convert {\n",
              "      background-color: #E8F0FE;\n",
              "      border: none;\n",
              "      border-radius: 50%;\n",
              "      cursor: pointer;\n",
              "      display: none;\n",
              "      fill: #1967D2;\n",
              "      height: 32px;\n",
              "      padding: 0 0 0 0;\n",
              "      width: 32px;\n",
              "    }\n",
              "\n",
              "    .colab-df-convert:hover {\n",
              "      background-color: #E2EBFA;\n",
              "      box-shadow: 0px 1px 2px rgba(60, 64, 67, 0.3), 0px 1px 3px 1px rgba(60, 64, 67, 0.15);\n",
              "      fill: #174EA6;\n",
              "    }\n",
              "\n",
              "    [theme=dark] .colab-df-convert {\n",
              "      background-color: #3B4455;\n",
              "      fill: #D2E3FC;\n",
              "    }\n",
              "\n",
              "    [theme=dark] .colab-df-convert:hover {\n",
              "      background-color: #434B5C;\n",
              "      box-shadow: 0px 1px 3px 1px rgba(0, 0, 0, 0.15);\n",
              "      filter: drop-shadow(0px 1px 2px rgba(0, 0, 0, 0.3));\n",
              "      fill: #FFFFFF;\n",
              "    }\n",
              "  </style>\n",
              "\n",
              "      <script>\n",
              "        const buttonEl =\n",
              "          document.querySelector('#df-897abd53-1173-44d9-90df-8ba866abb719 button.colab-df-convert');\n",
              "        buttonEl.style.display =\n",
              "          google.colab.kernel.accessAllowed ? 'block' : 'none';\n",
              "\n",
              "        async function convertToInteractive(key) {\n",
              "          const element = document.querySelector('#df-897abd53-1173-44d9-90df-8ba866abb719');\n",
              "          const dataTable =\n",
              "            await google.colab.kernel.invokeFunction('convertToInteractive',\n",
              "                                                     [key], {});\n",
              "          if (!dataTable) return;\n",
              "\n",
              "          const docLinkHtml = 'Like what you see? Visit the ' +\n",
              "            '<a target=\"_blank\" href=https://colab.research.google.com/notebooks/data_table.ipynb>data table notebook</a>'\n",
              "            + ' to learn more about interactive tables.';\n",
              "          element.innerHTML = '';\n",
              "          dataTable['output_type'] = 'display_data';\n",
              "          await google.colab.output.renderOutput(dataTable, element);\n",
              "          const docLink = document.createElement('div');\n",
              "          docLink.innerHTML = docLinkHtml;\n",
              "          element.appendChild(docLink);\n",
              "        }\n",
              "      </script>\n",
              "    </div>\n",
              "  </div>\n",
              "  "
            ]
          },
          "metadata": {},
          "execution_count": 234
        }
      ]
    },
    {
      "cell_type": "markdown",
      "source": [
        "Between \"Title\" and \"Pclass\""
      ],
      "metadata": {
        "id": "_HupLGQIn23N"
      }
    },
    {
      "cell_type": "code",
      "source": [
        "new_data[[\"Pclass\", \"Title\"]].groupby([\"Title\"], as_index=True).mean()"
      ],
      "metadata": {
        "colab": {
          "base_uri": "https://localhost:8080/",
          "height": 238
        },
        "id": "EVYTQegAn6V_",
        "outputId": "ebe25db7-c89e-41f8-a479-e4314097d495"
      },
      "execution_count": 235,
      "outputs": [
        {
          "output_type": "execute_result",
          "data": {
            "text/plain": [
              "           Pclass\n",
              "Title            \n",
              "Master   2.625000\n",
              "Miss     2.286486\n",
              "Mrs      2.329705\n",
              "Officer  1.444444\n",
              "Royalty  1.000000"
            ],
            "text/html": [
              "\n",
              "  <div id=\"df-e4308583-9b56-4406-8fbf-838f4c218eef\">\n",
              "    <div class=\"colab-df-container\">\n",
              "      <div>\n",
              "<style scoped>\n",
              "    .dataframe tbody tr th:only-of-type {\n",
              "        vertical-align: middle;\n",
              "    }\n",
              "\n",
              "    .dataframe tbody tr th {\n",
              "        vertical-align: top;\n",
              "    }\n",
              "\n",
              "    .dataframe thead th {\n",
              "        text-align: right;\n",
              "    }\n",
              "</style>\n",
              "<table border=\"1\" class=\"dataframe\">\n",
              "  <thead>\n",
              "    <tr style=\"text-align: right;\">\n",
              "      <th></th>\n",
              "      <th>Pclass</th>\n",
              "    </tr>\n",
              "    <tr>\n",
              "      <th>Title</th>\n",
              "      <th></th>\n",
              "    </tr>\n",
              "  </thead>\n",
              "  <tbody>\n",
              "    <tr>\n",
              "      <th>Master</th>\n",
              "      <td>2.625000</td>\n",
              "    </tr>\n",
              "    <tr>\n",
              "      <th>Miss</th>\n",
              "      <td>2.286486</td>\n",
              "    </tr>\n",
              "    <tr>\n",
              "      <th>Mrs</th>\n",
              "      <td>2.329705</td>\n",
              "    </tr>\n",
              "    <tr>\n",
              "      <th>Officer</th>\n",
              "      <td>1.444444</td>\n",
              "    </tr>\n",
              "    <tr>\n",
              "      <th>Royalty</th>\n",
              "      <td>1.000000</td>\n",
              "    </tr>\n",
              "  </tbody>\n",
              "</table>\n",
              "</div>\n",
              "      <button class=\"colab-df-convert\" onclick=\"convertToInteractive('df-e4308583-9b56-4406-8fbf-838f4c218eef')\"\n",
              "              title=\"Convert this dataframe to an interactive table.\"\n",
              "              style=\"display:none;\">\n",
              "        \n",
              "  <svg xmlns=\"http://www.w3.org/2000/svg\" height=\"24px\"viewBox=\"0 0 24 24\"\n",
              "       width=\"24px\">\n",
              "    <path d=\"M0 0h24v24H0V0z\" fill=\"none\"/>\n",
              "    <path d=\"M18.56 5.44l.94 2.06.94-2.06 2.06-.94-2.06-.94-.94-2.06-.94 2.06-2.06.94zm-11 1L8.5 8.5l.94-2.06 2.06-.94-2.06-.94L8.5 2.5l-.94 2.06-2.06.94zm10 10l.94 2.06.94-2.06 2.06-.94-2.06-.94-.94-2.06-.94 2.06-2.06.94z\"/><path d=\"M17.41 7.96l-1.37-1.37c-.4-.4-.92-.59-1.43-.59-.52 0-1.04.2-1.43.59L10.3 9.45l-7.72 7.72c-.78.78-.78 2.05 0 2.83L4 21.41c.39.39.9.59 1.41.59.51 0 1.02-.2 1.41-.59l7.78-7.78 2.81-2.81c.8-.78.8-2.07 0-2.86zM5.41 20L4 18.59l7.72-7.72 1.47 1.35L5.41 20z\"/>\n",
              "  </svg>\n",
              "      </button>\n",
              "      \n",
              "  <style>\n",
              "    .colab-df-container {\n",
              "      display:flex;\n",
              "      flex-wrap:wrap;\n",
              "      gap: 12px;\n",
              "    }\n",
              "\n",
              "    .colab-df-convert {\n",
              "      background-color: #E8F0FE;\n",
              "      border: none;\n",
              "      border-radius: 50%;\n",
              "      cursor: pointer;\n",
              "      display: none;\n",
              "      fill: #1967D2;\n",
              "      height: 32px;\n",
              "      padding: 0 0 0 0;\n",
              "      width: 32px;\n",
              "    }\n",
              "\n",
              "    .colab-df-convert:hover {\n",
              "      background-color: #E2EBFA;\n",
              "      box-shadow: 0px 1px 2px rgba(60, 64, 67, 0.3), 0px 1px 3px 1px rgba(60, 64, 67, 0.15);\n",
              "      fill: #174EA6;\n",
              "    }\n",
              "\n",
              "    [theme=dark] .colab-df-convert {\n",
              "      background-color: #3B4455;\n",
              "      fill: #D2E3FC;\n",
              "    }\n",
              "\n",
              "    [theme=dark] .colab-df-convert:hover {\n",
              "      background-color: #434B5C;\n",
              "      box-shadow: 0px 1px 3px 1px rgba(0, 0, 0, 0.15);\n",
              "      filter: drop-shadow(0px 1px 2px rgba(0, 0, 0, 0.3));\n",
              "      fill: #FFFFFF;\n",
              "    }\n",
              "  </style>\n",
              "\n",
              "      <script>\n",
              "        const buttonEl =\n",
              "          document.querySelector('#df-e4308583-9b56-4406-8fbf-838f4c218eef button.colab-df-convert');\n",
              "        buttonEl.style.display =\n",
              "          google.colab.kernel.accessAllowed ? 'block' : 'none';\n",
              "\n",
              "        async function convertToInteractive(key) {\n",
              "          const element = document.querySelector('#df-e4308583-9b56-4406-8fbf-838f4c218eef');\n",
              "          const dataTable =\n",
              "            await google.colab.kernel.invokeFunction('convertToInteractive',\n",
              "                                                     [key], {});\n",
              "          if (!dataTable) return;\n",
              "\n",
              "          const docLinkHtml = 'Like what you see? Visit the ' +\n",
              "            '<a target=\"_blank\" href=https://colab.research.google.com/notebooks/data_table.ipynb>data table notebook</a>'\n",
              "            + ' to learn more about interactive tables.';\n",
              "          element.innerHTML = '';\n",
              "          dataTable['output_type'] = 'display_data';\n",
              "          await google.colab.output.renderOutput(dataTable, element);\n",
              "          const docLink = document.createElement('div');\n",
              "          docLink.innerHTML = docLinkHtml;\n",
              "          element.appendChild(docLink);\n",
              "        }\n",
              "      </script>\n",
              "    </div>\n",
              "  </div>\n",
              "  "
            ]
          },
          "metadata": {},
          "execution_count": 235
        }
      ]
    },
    {
      "cell_type": "markdown",
      "source": [
        "Between \"Title\" and \"Sex\""
      ],
      "metadata": {
        "id": "8OQC6DmCoCEh"
      }
    },
    {
      "cell_type": "code",
      "source": [
        "g=sns.FacetGrid(new_data, col=\"Sex\")\n",
        "g.map(plt.hist, \"Title\", bins=20)"
      ],
      "metadata": {
        "colab": {
          "base_uri": "https://localhost:8080/",
          "height": 242
        },
        "id": "GRJC7rmroDs9",
        "outputId": "8b14c3b5-1b3c-4a99-a842-d0533859bd78"
      },
      "execution_count": 236,
      "outputs": [
        {
          "output_type": "execute_result",
          "data": {
            "text/plain": [
              "<seaborn.axisgrid.FacetGrid at 0x7fb381493b10>"
            ]
          },
          "metadata": {},
          "execution_count": 236
        },
        {
          "output_type": "display_data",
          "data": {
            "text/plain": [
              "<Figure size 432x216 with 2 Axes>"
            ],
            "image/png": "[encoded data removed]"
          },
          "metadata": {
            "needs_background": "light"
          }
        }
      ]
    },
    {
      "cell_type": "markdown",
      "source": [
        "**Create a new Feature \"FamilySize\" from \"SibSp\" and \"Parch\" Features**"
      ],
      "metadata": {
        "id": "gpBTaeYqoJg5"
      }
    },
    {
      "cell_type": "code",
      "source": [
        "new_data[\"FamilySize\"]= new_data[\"SibSp\"]+new_data[\"Parch\"]\n",
        "new_data= new_data.drop(\"SibSp\", axis= 1)\n",
        "new_data= new_data.drop(\"Parch\", axis= 1)"
      ],
      "metadata": {
        "id": "JpOAP2YCoVb1"
      },
      "execution_count": 237,
      "outputs": []
    },
    {
      "cell_type": "markdown",
      "source": [
        "**Show the Head of the New Dataset**"
      ],
      "metadata": {
        "id": "vsDYMRP6oZWB"
      }
    },
    {
      "cell_type": "code",
      "source": [
        "new_data.head()"
      ],
      "metadata": {
        "colab": {
          "base_uri": "https://localhost:8080/",
          "height": 206
        },
        "id": "X1l-iGM-ocTs",
        "outputId": "9fe2c18a-be38-40a7-87ba-2ad7677857c8"
      },
      "execution_count": 238,
      "outputs": [
        {
          "output_type": "execute_result",
          "data": {
            "text/plain": [
              "   Survived  Pclass     Sex   Age     Fare Embarked Title  FamilySize\n",
              "0         0       2    male  28.0  13.0000        S   Mrs           0\n",
              "1         0       3    male  25.0   7.6500        S   Mrs           0\n",
              "2         0       3    male  20.0   7.8542        S   Mrs           0\n",
              "3         0       3  female  29.0  21.0750        S   Mrs           4\n",
              "4         0       1    male  31.0  52.0000        S   Mrs           1"
            ],
            "text/html": [
              "\n",
              "  <div id=\"df-a0e0fda0-5b07-438a-ba82-eef574a12dd5\">\n",
              "    <div class=\"colab-df-container\">\n",
              "      <div>\n",
              "<style scoped>\n",
              "    .dataframe tbody tr th:only-of-type {\n",
              "        vertical-align: middle;\n",
              "    }\n",
              "\n",
              "    .dataframe tbody tr th {\n",
              "        vertical-align: top;\n",
              "    }\n",
              "\n",
              "    .dataframe thead th {\n",
              "        text-align: right;\n",
              "    }\n",
              "</style>\n",
              "<table border=\"1\" class=\"dataframe\">\n",
              "  <thead>\n",
              "    <tr style=\"text-align: right;\">\n",
              "      <th></th>\n",
              "      <th>Survived</th>\n",
              "      <th>Pclass</th>\n",
              "      <th>Sex</th>\n",
              "      <th>Age</th>\n",
              "      <th>Fare</th>\n",
              "      <th>Embarked</th>\n",
              "      <th>Title</th>\n",
              "      <th>FamilySize</th>\n",
              "    </tr>\n",
              "  </thead>\n",
              "  <tbody>\n",
              "    <tr>\n",
              "      <th>0</th>\n",
              "      <td>0</td>\n",
              "      <td>2</td>\n",
              "      <td>male</td>\n",
              "      <td>28.0</td>\n",
              "      <td>13.0000</td>\n",
              "      <td>S</td>\n",
              "      <td>Mrs</td>\n",
              "      <td>0</td>\n",
              "    </tr>\n",
              "    <tr>\n",
              "      <th>1</th>\n",
              "      <td>0</td>\n",
              "      <td>3</td>\n",
              "      <td>male</td>\n",
              "      <td>25.0</td>\n",
              "      <td>7.6500</td>\n",
              "      <td>S</td>\n",
              "      <td>Mrs</td>\n",
              "      <td>0</td>\n",
              "    </tr>\n",
              "    <tr>\n",
              "      <th>2</th>\n",
              "      <td>0</td>\n",
              "      <td>3</td>\n",
              "      <td>male</td>\n",
              "      <td>20.0</td>\n",
              "      <td>7.8542</td>\n",
              "      <td>S</td>\n",
              "      <td>Mrs</td>\n",
              "      <td>0</td>\n",
              "    </tr>\n",
              "    <tr>\n",
              "      <th>3</th>\n",
              "      <td>0</td>\n",
              "      <td>3</td>\n",
              "      <td>female</td>\n",
              "      <td>29.0</td>\n",
              "      <td>21.0750</td>\n",
              "      <td>S</td>\n",
              "      <td>Mrs</td>\n",
              "      <td>4</td>\n",
              "    </tr>\n",
              "    <tr>\n",
              "      <th>4</th>\n",
              "      <td>0</td>\n",
              "      <td>1</td>\n",
              "      <td>male</td>\n",
              "      <td>31.0</td>\n",
              "      <td>52.0000</td>\n",
              "      <td>S</td>\n",
              "      <td>Mrs</td>\n",
              "      <td>1</td>\n",
              "    </tr>\n",
              "  </tbody>\n",
              "</table>\n",
              "</div>\n",
              "      <button class=\"colab-df-convert\" onclick=\"convertToInteractive('df-a0e0fda0-5b07-438a-ba82-eef574a12dd5')\"\n",
              "              title=\"Convert this dataframe to an interactive table.\"\n",
              "              style=\"display:none;\">\n",
              "        \n",
              "  <svg xmlns=\"http://www.w3.org/2000/svg\" height=\"24px\"viewBox=\"0 0 24 24\"\n",
              "       width=\"24px\">\n",
              "    <path d=\"M0 0h24v24H0V0z\" fill=\"none\"/>\n",
              "    <path d=\"M18.56 5.44l.94 2.06.94-2.06 2.06-.94-2.06-.94-.94-2.06-.94 2.06-2.06.94zm-11 1L8.5 8.5l.94-2.06 2.06-.94-2.06-.94L8.5 2.5l-.94 2.06-2.06.94zm10 10l.94 2.06.94-2.06 2.06-.94-2.06-.94-.94-2.06-.94 2.06-2.06.94z\"/><path d=\"M17.41 7.96l-1.37-1.37c-.4-.4-.92-.59-1.43-.59-.52 0-1.04.2-1.43.59L10.3 9.45l-7.72 7.72c-.78.78-.78 2.05 0 2.83L4 21.41c.39.39.9.59 1.41.59.51 0 1.02-.2 1.41-.59l7.78-7.78 2.81-2.81c.8-.78.8-2.07 0-2.86zM5.41 20L4 18.59l7.72-7.72 1.47 1.35L5.41 20z\"/>\n",
              "  </svg>\n",
              "      </button>\n",
              "      \n",
              "  <style>\n",
              "    .colab-df-container {\n",
              "      display:flex;\n",
              "      flex-wrap:wrap;\n",
              "      gap: 12px;\n",
              "    }\n",
              "\n",
              "    .colab-df-convert {\n",
              "      background-color: #E8F0FE;\n",
              "      border: none;\n",
              "      border-radius: 50%;\n",
              "      cursor: pointer;\n",
              "      display: none;\n",
              "      fill: #1967D2;\n",
              "      height: 32px;\n",
              "      padding: 0 0 0 0;\n",
              "      width: 32px;\n",
              "    }\n",
              "\n",
              "    .colab-df-convert:hover {\n",
              "      background-color: #E2EBFA;\n",
              "      box-shadow: 0px 1px 2px rgba(60, 64, 67, 0.3), 0px 1px 3px 1px rgba(60, 64, 67, 0.15);\n",
              "      fill: #174EA6;\n",
              "    }\n",
              "\n",
              "    [theme=dark] .colab-df-convert {\n",
              "      background-color: #3B4455;\n",
              "      fill: #D2E3FC;\n",
              "    }\n",
              "\n",
              "    [theme=dark] .colab-df-convert:hover {\n",
              "      background-color: #434B5C;\n",
              "      box-shadow: 0px 1px 3px 1px rgba(0, 0, 0, 0.15);\n",
              "      filter: drop-shadow(0px 1px 2px rgba(0, 0, 0, 0.3));\n",
              "      fill: #FFFFFF;\n",
              "    }\n",
              "  </style>\n",
              "\n",
              "      <script>\n",
              "        const buttonEl =\n",
              "          document.querySelector('#df-a0e0fda0-5b07-438a-ba82-eef574a12dd5 button.colab-df-convert');\n",
              "        buttonEl.style.display =\n",
              "          google.colab.kernel.accessAllowed ? 'block' : 'none';\n",
              "\n",
              "        async function convertToInteractive(key) {\n",
              "          const element = document.querySelector('#df-a0e0fda0-5b07-438a-ba82-eef574a12dd5');\n",
              "          const dataTable =\n",
              "            await google.colab.kernel.invokeFunction('convertToInteractive',\n",
              "                                                     [key], {});\n",
              "          if (!dataTable) return;\n",
              "\n",
              "          const docLinkHtml = 'Like what you see? Visit the ' +\n",
              "            '<a target=\"_blank\" href=https://colab.research.google.com/notebooks/data_table.ipynb>data table notebook</a>'\n",
              "            + ' to learn more about interactive tables.';\n",
              "          element.innerHTML = '';\n",
              "          dataTable['output_type'] = 'display_data';\n",
              "          await google.colab.output.renderOutput(dataTable, element);\n",
              "          const docLink = document.createElement('div');\n",
              "          docLink.innerHTML = docLinkHtml;\n",
              "          element.appendChild(docLink);\n",
              "        }\n",
              "      </script>\n",
              "    </div>\n",
              "  </div>\n",
              "  "
            ]
          },
          "metadata": {},
          "execution_count": 238
        }
      ]
    },
    {
      "cell_type": "markdown",
      "source": [
        "**Correlation between \"Survived\" and \"FamilySize\"**"
      ],
      "metadata": {
        "id": "kOuH8vgColnr"
      }
    },
    {
      "cell_type": "code",
      "source": [
        "new_data[[\"Survived\", \"FamilySize\"]].groupby([\"FamilySize\"], as_index=True).mean()"
      ],
      "metadata": {
        "colab": {
          "base_uri": "https://localhost:8080/",
          "height": 363
        },
        "id": "r1r54RcRorC6",
        "outputId": "251df3bf-a27c-41c0-e38f-71f3408a47cd"
      },
      "execution_count": 239,
      "outputs": [
        {
          "output_type": "execute_result",
          "data": {
            "text/plain": [
              "            Survived\n",
              "FamilySize          \n",
              "0           0.303538\n",
              "1           0.552795\n",
              "2           0.578431\n",
              "3           0.724138\n",
              "4           0.200000\n",
              "5           0.136364\n",
              "6           0.333333\n",
              "7           0.000000\n",
              "10          0.000000"
            ],
            "text/html": [
              "\n",
              "  <div id=\"df-cf0ca545-57a1-468b-9a24-ca98743309b8\">\n",
              "    <div class=\"colab-df-container\">\n",
              "      <div>\n",
              "<style scoped>\n",
              "    .dataframe tbody tr th:only-of-type {\n",
              "        vertical-align: middle;\n",
              "    }\n",
              "\n",
              "    .dataframe tbody tr th {\n",
              "        vertical-align: top;\n",
              "    }\n",
              "\n",
              "    .dataframe thead th {\n",
              "        text-align: right;\n",
              "    }\n",
              "</style>\n",
              "<table border=\"1\" class=\"dataframe\">\n",
              "  <thead>\n",
              "    <tr style=\"text-align: right;\">\n",
              "      <th></th>\n",
              "      <th>Survived</th>\n",
              "    </tr>\n",
              "    <tr>\n",
              "      <th>FamilySize</th>\n",
              "      <th></th>\n",
              "    </tr>\n",
              "  </thead>\n",
              "  <tbody>\n",
              "    <tr>\n",
              "      <th>0</th>\n",
              "      <td>0.303538</td>\n",
              "    </tr>\n",
              "    <tr>\n",
              "      <th>1</th>\n",
              "      <td>0.552795</td>\n",
              "    </tr>\n",
              "    <tr>\n",
              "      <th>2</th>\n",
              "      <td>0.578431</td>\n",
              "    </tr>\n",
              "    <tr>\n",
              "      <th>3</th>\n",
              "      <td>0.724138</td>\n",
              "    </tr>\n",
              "    <tr>\n",
              "      <th>4</th>\n",
              "      <td>0.200000</td>\n",
              "    </tr>\n",
              "    <tr>\n",
              "      <th>5</th>\n",
              "      <td>0.136364</td>\n",
              "    </tr>\n",
              "    <tr>\n",
              "      <th>6</th>\n",
              "      <td>0.333333</td>\n",
              "    </tr>\n",
              "    <tr>\n",
              "      <th>7</th>\n",
              "      <td>0.000000</td>\n",
              "    </tr>\n",
              "    <tr>\n",
              "      <th>10</th>\n",
              "      <td>0.000000</td>\n",
              "    </tr>\n",
              "  </tbody>\n",
              "</table>\n",
              "</div>\n",
              "      <button class=\"colab-df-convert\" onclick=\"convertToInteractive('df-cf0ca545-57a1-468b-9a24-ca98743309b8')\"\n",
              "              title=\"Convert this dataframe to an interactive table.\"\n",
              "              style=\"display:none;\">\n",
              "        \n",
              "  <svg xmlns=\"http://www.w3.org/2000/svg\" height=\"24px\"viewBox=\"0 0 24 24\"\n",
              "       width=\"24px\">\n",
              "    <path d=\"M0 0h24v24H0V0z\" fill=\"none\"/>\n",
              "    <path d=\"M18.56 5.44l.94 2.06.94-2.06 2.06-.94-2.06-.94-.94-2.06-.94 2.06-2.06.94zm-11 1L8.5 8.5l.94-2.06 2.06-.94-2.06-.94L8.5 2.5l-.94 2.06-2.06.94zm10 10l.94 2.06.94-2.06 2.06-.94-2.06-.94-.94-2.06-.94 2.06-2.06.94z\"/><path d=\"M17.41 7.96l-1.37-1.37c-.4-.4-.92-.59-1.43-.59-.52 0-1.04.2-1.43.59L10.3 9.45l-7.72 7.72c-.78.78-.78 2.05 0 2.83L4 21.41c.39.39.9.59 1.41.59.51 0 1.02-.2 1.41-.59l7.78-7.78 2.81-2.81c.8-.78.8-2.07 0-2.86zM5.41 20L4 18.59l7.72-7.72 1.47 1.35L5.41 20z\"/>\n",
              "  </svg>\n",
              "      </button>\n",
              "      \n",
              "  <style>\n",
              "    .colab-df-container {\n",
              "      display:flex;\n",
              "      flex-wrap:wrap;\n",
              "      gap: 12px;\n",
              "    }\n",
              "\n",
              "    .colab-df-convert {\n",
              "      background-color: #E8F0FE;\n",
              "      border: none;\n",
              "      border-radius: 50%;\n",
              "      cursor: pointer;\n",
              "      display: none;\n",
              "      fill: #1967D2;\n",
              "      height: 32px;\n",
              "      padding: 0 0 0 0;\n",
              "      width: 32px;\n",
              "    }\n",
              "\n",
              "    .colab-df-convert:hover {\n",
              "      background-color: #E2EBFA;\n",
              "      box-shadow: 0px 1px 2px rgba(60, 64, 67, 0.3), 0px 1px 3px 1px rgba(60, 64, 67, 0.15);\n",
              "      fill: #174EA6;\n",
              "    }\n",
              "\n",
              "    [theme=dark] .colab-df-convert {\n",
              "      background-color: #3B4455;\n",
              "      fill: #D2E3FC;\n",
              "    }\n",
              "\n",
              "    [theme=dark] .colab-df-convert:hover {\n",
              "      background-color: #434B5C;\n",
              "      box-shadow: 0px 1px 3px 1px rgba(0, 0, 0, 0.15);\n",
              "      filter: drop-shadow(0px 1px 2px rgba(0, 0, 0, 0.3));\n",
              "      fill: #FFFFFF;\n",
              "    }\n",
              "  </style>\n",
              "\n",
              "      <script>\n",
              "        const buttonEl =\n",
              "          document.querySelector('#df-cf0ca545-57a1-468b-9a24-ca98743309b8 button.colab-df-convert');\n",
              "        buttonEl.style.display =\n",
              "          google.colab.kernel.accessAllowed ? 'block' : 'none';\n",
              "\n",
              "        async function convertToInteractive(key) {\n",
              "          const element = document.querySelector('#df-cf0ca545-57a1-468b-9a24-ca98743309b8');\n",
              "          const dataTable =\n",
              "            await google.colab.kernel.invokeFunction('convertToInteractive',\n",
              "                                                     [key], {});\n",
              "          if (!dataTable) return;\n",
              "\n",
              "          const docLinkHtml = 'Like what you see? Visit the ' +\n",
              "            '<a target=\"_blank\" href=https://colab.research.google.com/notebooks/data_table.ipynb>data table notebook</a>'\n",
              "            + ' to learn more about interactive tables.';\n",
              "          element.innerHTML = '';\n",
              "          dataTable['output_type'] = 'display_data';\n",
              "          await google.colab.output.renderOutput(dataTable, element);\n",
              "          const docLink = document.createElement('div');\n",
              "          docLink.innerHTML = docLinkHtml;\n",
              "          element.appendChild(docLink);\n",
              "        }\n",
              "      </script>\n",
              "    </div>\n",
              "  </div>\n",
              "  "
            ]
          },
          "metadata": {},
          "execution_count": 239
        }
      ]
    },
    {
      "cell_type": "code",
      "source": [
        "g=sns.FacetGrid(new_data, col=\"Survived\")\n",
        "g.map(plt.hist, \"FamilySize\", bins=20)"
      ],
      "metadata": {
        "colab": {
          "base_uri": "https://localhost:8080/",
          "height": 242
        },
        "id": "v0DHnHuZovwh",
        "outputId": "449b5078-88df-4608-b4ab-5021a73e25d2"
      },
      "execution_count": 240,
      "outputs": [
        {
          "output_type": "execute_result",
          "data": {
            "text/plain": [
              "<seaborn.axisgrid.FacetGrid at 0x7fb381357610>"
            ]
          },
          "metadata": {},
          "execution_count": 240
        },
        {
          "output_type": "display_data",
          "data": {
            "text/plain": [
              "<Figure size 432x216 with 2 Axes>"
            ],
            "image/png": "[encoded data removed]"
          },
          "metadata": {
            "needs_background": "light"
          }
        }
      ]
    },
    {
      "cell_type": "markdown",
      "source": [
        "\"FamilySize\" feature is useful because, it shows us that there are higher chances of survival when passengers do not travel alone."
      ],
      "metadata": {
        "id": "-SDCfnqyo8SY"
      }
    },
    {
      "cell_type": "markdown",
      "source": [
        "**Features Transformation**"
      ],
      "metadata": {
        "id": "zREv4m7wXMbs"
      }
    },
    {
      "cell_type": "code",
      "source": [
        "from sklearn.preprocessing import LabelEncoder"
      ],
      "metadata": {
        "id": "8gwnm-UwXT06"
      },
      "execution_count": 241,
      "outputs": []
    },
    {
      "cell_type": "code",
      "source": [
        "encoder=LabelEncoder()\n",
        "new_data[\"Title\"]=encoder.fit_transform(new_data[\"Title\"])\n",
        "new_data[\"Embarked\"]=encoder.fit_transform(new_data[\"Embarked\"])\n",
        "new_data[\"Sex\"]=encoder.fit_transform(new_data[\"Sex\"])\n",
        "new_data"
      ],
      "metadata": {
        "colab": {
          "base_uri": "https://localhost:8080/",
          "height": 424
        },
        "id": "1H9hq_CQXYo7",
        "outputId": "d485ab86-2842-425f-fc16-4aedce8359d4"
      },
      "execution_count": 242,
      "outputs": [
        {
          "output_type": "execute_result",
          "data": {
            "text/plain": [
              "     Survived  Pclass  Sex        Age     Fare  Embarked  Title  FamilySize\n",
              "0           0       2    1  28.000000  13.0000         2      2           0\n",
              "1           0       3    1  25.000000   7.6500         2      2           0\n",
              "2           0       3    1  20.000000   7.8542         2      2           0\n",
              "3           0       3    0  29.000000  21.0750         2      2           4\n",
              "4           0       1    1  31.000000  52.0000         2      2           1\n",
              "..        ...     ...  ...        ...      ...       ...    ...         ...\n",
              "886         1       2    0  14.000000  30.0708         0      2           1\n",
              "887         0       3    1  22.000000   7.2292         0      2           0\n",
              "888         0       3    0  30.000000   8.6625         2      1           0\n",
              "889         0       3    1  29.699118   7.8958         2      2           0\n",
              "890         1       2    0  19.000000  26.0000         2      1           0\n",
              "\n",
              "[891 rows x 8 columns]"
            ],
            "text/html": [
              "\n",
              "  <div id=\"df-f0cff67e-f61d-4ebd-a0da-65519db29253\">\n",
              "    <div class=\"colab-df-container\">\n",
              "      <div>\n",
              "<style scoped>\n",
              "    .dataframe tbody tr th:only-of-type {\n",
              "        vertical-align: middle;\n",
              "    }\n",
              "\n",
              "    .dataframe tbody tr th {\n",
              "        vertical-align: top;\n",
              "    }\n",
              "\n",
              "    .dataframe thead th {\n",
              "        text-align: right;\n",
              "    }\n",
              "</style>\n",
              "<table border=\"1\" class=\"dataframe\">\n",
              "  <thead>\n",
              "    <tr style=\"text-align: right;\">\n",
              "      <th></th>\n",
              "      <th>Survived</th>\n",
              "      <th>Pclass</th>\n",
              "      <th>Sex</th>\n",
              "      <th>Age</th>\n",
              "      <th>Fare</th>\n",
              "      <th>Embarked</th>\n",
              "      <th>Title</th>\n",
              "      <th>FamilySize</th>\n",
              "    </tr>\n",
              "  </thead>\n",
              "  <tbody>\n",
              "    <tr>\n",
              "      <th>0</th>\n",
              "      <td>0</td>\n",
              "      <td>2</td>\n",
              "      <td>1</td>\n",
              "      <td>28.000000</td>\n",
              "      <td>13.0000</td>\n",
              "      <td>2</td>\n",
              "      <td>2</td>\n",
              "      <td>0</td>\n",
              "    </tr>\n",
              "    <tr>\n",
              "      <th>1</th>\n",
              "      <td>0</td>\n",
              "      <td>3</td>\n",
              "      <td>1</td>\n",
              "      <td>25.000000</td>\n",
              "      <td>7.6500</td>\n",
              "      <td>2</td>\n",
              "      <td>2</td>\n",
              "      <td>0</td>\n",
              "    </tr>\n",
              "    <tr>\n",
              "      <th>2</th>\n",
              "      <td>0</td>\n",
              "      <td>3</td>\n",
              "      <td>1</td>\n",
              "      <td>20.000000</td>\n",
              "      <td>7.8542</td>\n",
              "      <td>2</td>\n",
              "      <td>2</td>\n",
              "      <td>0</td>\n",
              "    </tr>\n",
              "    <tr>\n",
              "      <th>3</th>\n",
              "      <td>0</td>\n",
              "      <td>3</td>\n",
              "      <td>0</td>\n",
              "      <td>29.000000</td>\n",
              "      <td>21.0750</td>\n",
              "      <td>2</td>\n",
              "      <td>2</td>\n",
              "      <td>4</td>\n",
              "    </tr>\n",
              "    <tr>\n",
              "      <th>4</th>\n",
              "      <td>0</td>\n",
              "      <td>1</td>\n",
              "      <td>1</td>\n",
              "      <td>31.000000</td>\n",
              "      <td>52.0000</td>\n",
              "      <td>2</td>\n",
              "      <td>2</td>\n",
              "      <td>1</td>\n",
              "    </tr>\n",
              "    <tr>\n",
              "      <th>...</th>\n",
              "      <td>...</td>\n",
              "      <td>...</td>\n",
              "      <td>...</td>\n",
              "      <td>...</td>\n",
              "      <td>...</td>\n",
              "      <td>...</td>\n",
              "      <td>...</td>\n",
              "      <td>...</td>\n",
              "    </tr>\n",
              "    <tr>\n",
              "      <th>886</th>\n",
              "      <td>1</td>\n",
              "      <td>2</td>\n",
              "      <td>0</td>\n",
              "      <td>14.000000</td>\n",
              "      <td>30.0708</td>\n",
              "      <td>0</td>\n",
              "      <td>2</td>\n",
              "      <td>1</td>\n",
              "    </tr>\n",
              "    <tr>\n",
              "      <th>887</th>\n",
              "      <td>0</td>\n",
              "      <td>3</td>\n",
              "      <td>1</td>\n",
              "      <td>22.000000</td>\n",
              "      <td>7.2292</td>\n",
              "      <td>0</td>\n",
              "      <td>2</td>\n",
              "      <td>0</td>\n",
              "    </tr>\n",
              "    <tr>\n",
              "      <th>888</th>\n",
              "      <td>0</td>\n",
              "      <td>3</td>\n",
              "      <td>0</td>\n",
              "      <td>30.000000</td>\n",
              "      <td>8.6625</td>\n",
              "      <td>2</td>\n",
              "      <td>1</td>\n",
              "      <td>0</td>\n",
              "    </tr>\n",
              "    <tr>\n",
              "      <th>889</th>\n",
              "      <td>0</td>\n",
              "      <td>3</td>\n",
              "      <td>1</td>\n",
              "      <td>29.699118</td>\n",
              "      <td>7.8958</td>\n",
              "      <td>2</td>\n",
              "      <td>2</td>\n",
              "      <td>0</td>\n",
              "    </tr>\n",
              "    <tr>\n",
              "      <th>890</th>\n",
              "      <td>1</td>\n",
              "      <td>2</td>\n",
              "      <td>0</td>\n",
              "      <td>19.000000</td>\n",
              "      <td>26.0000</td>\n",
              "      <td>2</td>\n",
              "      <td>1</td>\n",
              "      <td>0</td>\n",
              "    </tr>\n",
              "  </tbody>\n",
              "</table>\n",
              "<p>891 rows × 8 columns</p>\n",
              "</div>\n",
              "      <button class=\"colab-df-convert\" onclick=\"convertToInteractive('df-f0cff67e-f61d-4ebd-a0da-65519db29253')\"\n",
              "              title=\"Convert this dataframe to an interactive table.\"\n",
              "              style=\"display:none;\">\n",
              "        \n",
              "  <svg xmlns=\"http://www.w3.org/2000/svg\" height=\"24px\"viewBox=\"0 0 24 24\"\n",
              "       width=\"24px\">\n",
              "    <path d=\"M0 0h24v24H0V0z\" fill=\"none\"/>\n",
              "    <path d=\"M18.56 5.44l.94 2.06.94-2.06 2.06-.94-2.06-.94-.94-2.06-.94 2.06-2.06.94zm-11 1L8.5 8.5l.94-2.06 2.06-.94-2.06-.94L8.5 2.5l-.94 2.06-2.06.94zm10 10l.94 2.06.94-2.06 2.06-.94-2.06-.94-.94-2.06-.94 2.06-2.06.94z\"/><path d=\"M17.41 7.96l-1.37-1.37c-.4-.4-.92-.59-1.43-.59-.52 0-1.04.2-1.43.59L10.3 9.45l-7.72 7.72c-.78.78-.78 2.05 0 2.83L4 21.41c.39.39.9.59 1.41.59.51 0 1.02-.2 1.41-.59l7.78-7.78 2.81-2.81c.8-.78.8-2.07 0-2.86zM5.41 20L4 18.59l7.72-7.72 1.47 1.35L5.41 20z\"/>\n",
              "  </svg>\n",
              "      </button>\n",
              "      \n",
              "  <style>\n",
              "    .colab-df-container {\n",
              "      display:flex;\n",
              "      flex-wrap:wrap;\n",
              "      gap: 12px;\n",
              "    }\n",
              "\n",
              "    .colab-df-convert {\n",
              "      background-color: #E8F0FE;\n",
              "      border: none;\n",
              "      border-radius: 50%;\n",
              "      cursor: pointer;\n",
              "      display: none;\n",
              "      fill: #1967D2;\n",
              "      height: 32px;\n",
              "      padding: 0 0 0 0;\n",
              "      width: 32px;\n",
              "    }\n",
              "\n",
              "    .colab-df-convert:hover {\n",
              "      background-color: #E2EBFA;\n",
              "      box-shadow: 0px 1px 2px rgba(60, 64, 67, 0.3), 0px 1px 3px 1px rgba(60, 64, 67, 0.15);\n",
              "      fill: #174EA6;\n",
              "    }\n",
              "\n",
              "    [theme=dark] .colab-df-convert {\n",
              "      background-color: #3B4455;\n",
              "      fill: #D2E3FC;\n",
              "    }\n",
              "\n",
              "    [theme=dark] .colab-df-convert:hover {\n",
              "      background-color: #434B5C;\n",
              "      box-shadow: 0px 1px 3px 1px rgba(0, 0, 0, 0.15);\n",
              "      filter: drop-shadow(0px 1px 2px rgba(0, 0, 0, 0.3));\n",
              "      fill: #FFFFFF;\n",
              "    }\n",
              "  </style>\n",
              "\n",
              "      <script>\n",
              "        const buttonEl =\n",
              "          document.querySelector('#df-f0cff67e-f61d-4ebd-a0da-65519db29253 button.colab-df-convert');\n",
              "        buttonEl.style.display =\n",
              "          google.colab.kernel.accessAllowed ? 'block' : 'none';\n",
              "\n",
              "        async function convertToInteractive(key) {\n",
              "          const element = document.querySelector('#df-f0cff67e-f61d-4ebd-a0da-65519db29253');\n",
              "          const dataTable =\n",
              "            await google.colab.kernel.invokeFunction('convertToInteractive',\n",
              "                                                     [key], {});\n",
              "          if (!dataTable) return;\n",
              "\n",
              "          const docLinkHtml = 'Like what you see? Visit the ' +\n",
              "            '<a target=\"_blank\" href=https://colab.research.google.com/notebooks/data_table.ipynb>data table notebook</a>'\n",
              "            + ' to learn more about interactive tables.';\n",
              "          element.innerHTML = '';\n",
              "          dataTable['output_type'] = 'display_data';\n",
              "          await google.colab.output.renderOutput(dataTable, element);\n",
              "          const docLink = document.createElement('div');\n",
              "          docLink.innerHTML = docLinkHtml;\n",
              "          element.appendChild(docLink);\n",
              "        }\n",
              "      </script>\n",
              "    </div>\n",
              "  </div>\n",
              "  "
            ]
          },
          "metadata": {},
          "execution_count": 242
        }
      ]
    },
    {
      "cell_type": "markdown",
      "source": [
        "**Decision Tree.**"
      ],
      "metadata": {
        "id": "z5M97q45XgnQ"
      }
    },
    {
      "cell_type": "markdown",
      "source": [
        "Features Extraction."
      ],
      "metadata": {
        "id": "-xfsPvqdXtrW"
      }
    },
    {
      "cell_type": "code",
      "source": [
        "X = new_data[[\"Pclass\", \"Age\", \"Sex\", \"FamilySize\", \"Fare\", \"Title\"]]\n",
        "y = new_data[\"Survived\"]"
      ],
      "metadata": {
        "id": "KWLTGwiZYDKv"
      },
      "execution_count": 243,
      "outputs": []
    },
    {
      "cell_type": "markdown",
      "source": [
        "**Split the dataset into train and test sets.**"
      ],
      "metadata": {
        "id": "MBKODsAAYG-E"
      }
    },
    {
      "cell_type": "code",
      "source": [
        "from sklearn.model_selection import train_test_split"
      ],
      "metadata": {
        "id": "b0ordl9KYNSJ"
      },
      "execution_count": 244,
      "outputs": []
    },
    {
      "cell_type": "code",
      "source": [
        "X_train,X_test,y_train,y_test = train_test_split(X,y,test_size=0.2,random_state=10)"
      ],
      "metadata": {
        "id": "5jT4UEX3ZAun"
      },
      "execution_count": 245,
      "outputs": []
    },
    {
      "cell_type": "markdown",
      "source": [
        "**Apply Tree algorithm.**"
      ],
      "metadata": {
        "id": "6yZ2kpDCYQvN"
      }
    },
    {
      "cell_type": "code",
      "source": [
        "from sklearn import tree   \n",
        "from sklearn.tree import DecisionTreeClassifier"
      ],
      "metadata": {
        "id": "IqdV8_QvYXyV"
      },
      "execution_count": 246,
      "outputs": []
    },
    {
      "cell_type": "code",
      "source": [
        "dt = tree.DecisionTreeClassifier()  "
      ],
      "metadata": {
        "id": "BodnpjRSYmcc"
      },
      "execution_count": 247,
      "outputs": []
    },
    {
      "cell_type": "markdown",
      "source": [
        "**Fit training data.**"
      ],
      "metadata": {
        "id": "p8yvUESwYtHx"
      }
    },
    {
      "cell_type": "code",
      "source": [
        "model= dt.fit(X_train, y_train)"
      ],
      "metadata": {
        "id": "v-1zy6oYYzb5"
      },
      "execution_count": 248,
      "outputs": []
    },
    {
      "cell_type": "markdown",
      "source": [
        "**Test model's performance.**"
      ],
      "metadata": {
        "id": "YMCpXEN3ZLeS"
      }
    },
    {
      "cell_type": "code",
      "source": [
        "y_pred= model.predict(X_test)"
      ],
      "metadata": {
        "id": "7Y1i2e88ZS0y"
      },
      "execution_count": 249,
      "outputs": []
    },
    {
      "cell_type": "markdown",
      "source": [
        "**Performance of the Decision Tree.**"
      ],
      "metadata": {
        "id": "5RmTft4cZWkk"
      }
    },
    {
      "cell_type": "code",
      "source": [
        "from sklearn.metrics import accuracy_score"
      ],
      "metadata": {
        "id": "fCtO3wS3ZbSc"
      },
      "execution_count": 250,
      "outputs": []
    },
    {
      "cell_type": "code",
      "source": [
        "print(\"score:{}\".format(accuracy_score(y_test, y_pred)))"
      ],
      "metadata": {
        "colab": {
          "base_uri": "https://localhost:8080/"
        },
        "id": "aIj-WrLHZgG-",
        "outputId": "d6fd250c-fcf1-470b-a01a-33ca4629d4b8"
      },
      "execution_count": 251,
      "outputs": [
        {
          "output_type": "stream",
          "name": "stdout",
          "text": [
            "score:0.7821229050279329\n"
          ]
        }
      ]
    },
    {
      "cell_type": "markdown",
      "source": [
        "**Decision Tree Visualization.**"
      ],
      "metadata": {
        "id": "N35z_nqTZqxQ"
      }
    },
    {
      "cell_type": "code",
      "source": [
        "import graphviz"
      ],
      "metadata": {
        "id": "fUeAv_MWZv5c"
      },
      "execution_count": 252,
      "outputs": []
    },
    {
      "cell_type": "code",
      "source": [
        "dot_data= tree.export_graphviz(model , out_file=None)\n",
        "graph= graphviz.Source(dot_data)\n",
        "graph.render(\"new_data\")\n",
        "graph"
      ],
      "metadata": {
        "colab": {
          "base_uri": "https://localhost:8080/",
          "height": 1000
        },
        "id": "DLVoDnXoZzhW",
        "outputId": "8fcfa984-0c11-437c-a86a-9415eb649cf3"
      },
      "execution_count": 253,
      "outputs": [
        {
          "output_type": "execute_result",
          "data": {
            "text/plain": [
              "<graphviz.files.Source at 0x7fb381e29dd0>"
            ],
            "image/svg+xml": "<?xml version=\"1.0\" encoding=\"UTF-8\" standalone=\"no\"?>\n<!DOCTYPE svg PUBLIC \"-//W3C//DTD SVG 1.1//EN\"\n \"http://www.w3.org/Graphics/SVG/1.1/DTD/svg11.dtd\">\n<!-- Generated by graphviz version 2.40.1 (20161225.0304)\n -->\n<!-- Title: Tree Pages: 1 -->\n<svg width=\"5586pt\" height=\"2037pt\"\n viewBox=\"0.00 0.00 5586.00 2037.00\" xmlns=\"http://www.w3.org/2000/svg\" xmlns:xlink=\"http://www.w3.org/1999/xlink\">\n<g id=\"graph0\" class=\"graph\" transform=\"scale(1 1) rotate(0) translate(4 2033)\">\n<title>Tree</title>\n<polygon fill=\"#ffffff\" stroke=\"transparent\" points=\"-4,4 -4,-2033 5582,-2033 5582,4 -4,4\"/>\n<!-- 0 -->\n<g id=\"node1\" class=\"node\">\n<title>0</title>\n<polygon fill=\"none\" stroke=\"#000000\" points=\"2205.5,-2029 2073.5,-2029 2073.5,-1961 2205.5,-1961 2205.5,-2029\"/>\n<text text-anchor=\"middle\" x=\"2139.5\" y=\"-2013.8\" font-family=\"Helvetica,sans-Serif\" font-size=\"14.00\" fill=\"#000000\">X[2] &lt;= 0.5</text>\n<text text-anchor=\"middle\" x=\"2139.5\" y=\"-1998.8\" font-family=\"Helvetica,sans-Serif\" font-size=\"14.00\" fill=\"#000000\">gini = 0.469</text>\n<text text-anchor=\"middle\" x=\"2139.5\" y=\"-1983.8\" font-family=\"Helvetica,sans-Serif\" font-size=\"14.00\" fill=\"#000000\">samples = 712</text>\n<text text-anchor=\"middle\" x=\"2139.5\" y=\"-1968.8\" font-family=\"Helvetica,sans-Serif\" font-size=\"14.00\" fill=\"#000000\">value = [444, 268]</text>\n</g>\n<!-- 1 -->\n<g id=\"node2\" class=\"node\">\n<title>1</title>\n<polygon fill=\"none\" stroke=\"#000000\" points=\"1591.5,-1925 1467.5,-1925 1467.5,-1857 1591.5,-1857 1591.5,-1925\"/>\n<text text-anchor=\"middle\" x=\"1529.5\" y=\"-1909.8\" font-family=\"Helvetica,sans-Serif\" font-size=\"14.00\" fill=\"#000000\">X[0] &lt;= 2.5</text>\n<text text-anchor=\"middle\" x=\"1529.5\" y=\"-1894.8\" font-family=\"Helvetica,sans-Serif\" font-size=\"14.00\" fill=\"#000000\">gini = 0.39</text>\n<text text-anchor=\"middle\" x=\"1529.5\" y=\"-1879.8\" font-family=\"Helvetica,sans-Serif\" font-size=\"14.00\" fill=\"#000000\">samples = 252</text>\n<text text-anchor=\"middle\" x=\"1529.5\" y=\"-1864.8\" font-family=\"Helvetica,sans-Serif\" font-size=\"14.00\" fill=\"#000000\">value = [67, 185]</text>\n</g>\n<!-- 0&#45;&gt;1 -->\n<g id=\"edge1\" class=\"edge\">\n<title>0&#45;&gt;1</title>\n<path fill=\"none\" stroke=\"#000000\" d=\"M2073.3492,-1983.7218C1958.1165,-1964.0756 1721.4704,-1923.7294 1601.9623,-1903.3542\"/>\n<polygon fill=\"#000000\" stroke=\"#000000\" points=\"1602.2633,-1899.8551 1591.8172,-1901.6246 1601.0867,-1906.7555 1602.2633,-1899.8551\"/>\n<text text-anchor=\"middle\" x=\"1606.2724\" y=\"-1918.3218\" font-family=\"Helvetica,sans-Serif\" font-size=\"14.00\" fill=\"#000000\">True</text>\n</g>\n<!-- 108 -->\n<g id=\"node109\" class=\"node\">\n<title>108</title>\n<polygon fill=\"none\" stroke=\"#000000\" points=\"2640.5,-1925 2516.5,-1925 2516.5,-1857 2640.5,-1857 2640.5,-1925\"/>\n<text text-anchor=\"middle\" x=\"2578.5\" y=\"-1909.8\" font-family=\"Helvetica,sans-Serif\" font-size=\"14.00\" fill=\"#000000\">X[0] &lt;= 1.5</text>\n<text text-anchor=\"middle\" x=\"2578.5\" y=\"-1894.8\" font-family=\"Helvetica,sans-Serif\" font-size=\"14.00\" fill=\"#000000\">gini = 0.296</text>\n<text text-anchor=\"middle\" x=\"2578.5\" y=\"-1879.8\" font-family=\"Helvetica,sans-Serif\" font-size=\"14.00\" fill=\"#000000\">samples = 460</text>\n<text text-anchor=\"middle\" x=\"2578.5\" y=\"-1864.8\" font-family=\"Helvetica,sans-Serif\" font-size=\"14.00\" fill=\"#000000\">value = [377, 83]</text>\n</g>\n<!-- 0&#45;&gt;108 -->\n<g id=\"edge108\" class=\"edge\">\n<title>0&#45;&gt;108</title>\n<path fill=\"none\" stroke=\"#000000\" d=\"M2205.6981,-1979.3175C2286.6035,-1960.1509 2423.0093,-1927.8361 2506.4765,-1908.0625\"/>\n<polygon fill=\"#000000\" stroke=\"#000000\" points=\"2507.4619,-1911.426 2516.3857,-1905.715 2505.8482,-1904.6146 2507.4619,-1911.426\"/>\n<text text-anchor=\"middle\" x=\"2503.2592\" y=\"-1923.2916\" font-family=\"Helvetica,sans-Serif\" font-size=\"14.00\" fill=\"#000000\">False</text>\n</g>\n<!-- 2 -->\n<g id=\"node3\" class=\"node\">\n<title>2</title>\n<polygon fill=\"none\" stroke=\"#000000\" points=\"853.5,-1821 737.5,-1821 737.5,-1753 853.5,-1753 853.5,-1821\"/>\n<text text-anchor=\"middle\" x=\"795.5\" y=\"-1805.8\" font-family=\"Helvetica,sans-Serif\" font-size=\"14.00\" fill=\"#000000\">X[1] &lt;= 2.5</text>\n<text text-anchor=\"middle\" x=\"795.5\" y=\"-1790.8\" font-family=\"Helvetica,sans-Serif\" font-size=\"14.00\" fill=\"#000000\">gini = 0.1</text>\n<text text-anchor=\"middle\" x=\"795.5\" y=\"-1775.8\" font-family=\"Helvetica,sans-Serif\" font-size=\"14.00\" fill=\"#000000\">samples = 133</text>\n<text text-anchor=\"middle\" x=\"795.5\" y=\"-1760.8\" font-family=\"Helvetica,sans-Serif\" font-size=\"14.00\" fill=\"#000000\">value = [7, 126]</text>\n</g>\n<!-- 1&#45;&gt;2 -->\n<g id=\"edge2\" class=\"edge\">\n<title>1&#45;&gt;2</title>\n<path fill=\"none\" stroke=\"#000000\" d=\"M1467.2362,-1882.1779C1330.7203,-1862.835 1005.9573,-1816.8196 863.9492,-1796.6985\"/>\n<polygon fill=\"#000000\" stroke=\"#000000\" points=\"864.0292,-1793.175 853.6371,-1795.2374 863.0472,-1800.1058 864.0292,-1793.175\"/>\n</g>\n<!-- 31 -->\n<g id=\"node32\" class=\"node\">\n<title>31</title>\n<polygon fill=\"none\" stroke=\"#000000\" points=\"1587.5,-1821 1471.5,-1821 1471.5,-1753 1587.5,-1753 1587.5,-1821\"/>\n<text text-anchor=\"middle\" x=\"1529.5\" y=\"-1805.8\" font-family=\"Helvetica,sans-Serif\" font-size=\"14.00\" fill=\"#000000\">X[4] &lt;= 23.35</text>\n<text text-anchor=\"middle\" x=\"1529.5\" y=\"-1790.8\" font-family=\"Helvetica,sans-Serif\" font-size=\"14.00\" fill=\"#000000\">gini = 0.5</text>\n<text text-anchor=\"middle\" x=\"1529.5\" y=\"-1775.8\" font-family=\"Helvetica,sans-Serif\" font-size=\"14.00\" fill=\"#000000\">samples = 119</text>\n<text text-anchor=\"middle\" x=\"1529.5\" y=\"-1760.8\" font-family=\"Helvetica,sans-Serif\" font-size=\"14.00\" fill=\"#000000\">value = [60, 59]</text>\n</g>\n<!-- 1&#45;&gt;31 -->\n<g id=\"edge31\" class=\"edge\">\n<title>1&#45;&gt;31</title>\n<path fill=\"none\" stroke=\"#000000\" d=\"M1529.5,-1856.9465C1529.5,-1848.776 1529.5,-1839.9318 1529.5,-1831.3697\"/>\n<polygon fill=\"#000000\" stroke=\"#000000\" points=\"1533.0001,-1831.13 1529.5,-1821.13 1526.0001,-1831.13 1533.0001,-1831.13\"/>\n</g>\n<!-- 3 -->\n<g id=\"node4\" class=\"node\">\n<title>3</title>\n<polygon fill=\"none\" stroke=\"#000000\" points=\"719,-1709.5 620,-1709.5 620,-1656.5 719,-1656.5 719,-1709.5\"/>\n<text text-anchor=\"middle\" x=\"669.5\" y=\"-1694.3\" font-family=\"Helvetica,sans-Serif\" font-size=\"14.00\" fill=\"#000000\">gini = 0.0</text>\n<text text-anchor=\"middle\" x=\"669.5\" y=\"-1679.3\" font-family=\"Helvetica,sans-Serif\" font-size=\"14.00\" fill=\"#000000\">samples = 1</text>\n<text text-anchor=\"middle\" x=\"669.5\" y=\"-1664.3\" font-family=\"Helvetica,sans-Serif\" font-size=\"14.00\" fill=\"#000000\">value = [1, 0]</text>\n</g>\n<!-- 2&#45;&gt;3 -->\n<g id=\"edge3\" class=\"edge\">\n<title>2&#45;&gt;3</title>\n<path fill=\"none\" stroke=\"#000000\" d=\"M754.2429,-1752.9465C739.8303,-1741.0504 723.6873,-1727.726 709.3883,-1715.9237\"/>\n<polygon fill=\"#000000\" stroke=\"#000000\" points=\"711.5971,-1713.2086 701.6569,-1709.5422 707.1411,-1718.6071 711.5971,-1713.2086\"/>\n</g>\n<!-- 4 -->\n<g id=\"node5\" class=\"node\">\n<title>4</title>\n<polygon fill=\"none\" stroke=\"#000000\" points=\"853.5,-1717 737.5,-1717 737.5,-1649 853.5,-1649 853.5,-1717\"/>\n<text text-anchor=\"middle\" x=\"795.5\" y=\"-1701.8\" font-family=\"Helvetica,sans-Serif\" font-size=\"14.00\" fill=\"#000000\">X[4] &lt;= 26.125</text>\n<text text-anchor=\"middle\" x=\"795.5\" y=\"-1686.8\" font-family=\"Helvetica,sans-Serif\" font-size=\"14.00\" fill=\"#000000\">gini = 0.087</text>\n<text text-anchor=\"middle\" x=\"795.5\" y=\"-1671.8\" font-family=\"Helvetica,sans-Serif\" font-size=\"14.00\" fill=\"#000000\">samples = 132</text>\n<text text-anchor=\"middle\" x=\"795.5\" y=\"-1656.8\" font-family=\"Helvetica,sans-Serif\" font-size=\"14.00\" fill=\"#000000\">value = [6, 126]</text>\n</g>\n<!-- 2&#45;&gt;4 -->\n<g id=\"edge4\" class=\"edge\">\n<title>2&#45;&gt;4</title>\n<path fill=\"none\" stroke=\"#000000\" d=\"M795.5,-1752.9465C795.5,-1744.776 795.5,-1735.9318 795.5,-1727.3697\"/>\n<polygon fill=\"#000000\" stroke=\"#000000\" points=\"799.0001,-1727.13 795.5,-1717.13 792.0001,-1727.13 799.0001,-1727.13\"/>\n</g>\n<!-- 5 -->\n<g id=\"node6\" class=\"node\">\n<title>5</title>\n<polygon fill=\"none\" stroke=\"#000000\" points=\"620,-1613 513,-1613 513,-1545 620,-1545 620,-1613\"/>\n<text text-anchor=\"middle\" x=\"566.5\" y=\"-1597.8\" font-family=\"Helvetica,sans-Serif\" font-size=\"14.00\" fill=\"#000000\">X[1] &lt;= 55.5</text>\n<text text-anchor=\"middle\" x=\"566.5\" y=\"-1582.8\" font-family=\"Helvetica,sans-Serif\" font-size=\"14.00\" fill=\"#000000\">gini = 0.198</text>\n<text text-anchor=\"middle\" x=\"566.5\" y=\"-1567.8\" font-family=\"Helvetica,sans-Serif\" font-size=\"14.00\" fill=\"#000000\">samples = 45</text>\n<text text-anchor=\"middle\" x=\"566.5\" y=\"-1552.8\" font-family=\"Helvetica,sans-Serif\" font-size=\"14.00\" fill=\"#000000\">value = [5, 40]</text>\n</g>\n<!-- 4&#45;&gt;5 -->\n<g id=\"edge5\" class=\"edge\">\n<title>4&#45;&gt;5</title>\n<path fill=\"none\" stroke=\"#000000\" d=\"M737.3611,-1653.6746C734.0333,-1652.0759 730.729,-1650.5079 727.5,-1649 695.4787,-1634.0466 659.4354,-1618.2785 629.5827,-1605.5015\"/>\n<polygon fill=\"#000000\" stroke=\"#000000\" points=\"630.692,-1602.1695 620.1207,-1601.463 627.9441,-1608.6076 630.692,-1602.1695\"/>\n</g>\n<!-- 24 -->\n<g id=\"node25\" class=\"node\">\n<title>24</title>\n<polygon fill=\"none\" stroke=\"#000000\" points=\"849,-1613 742,-1613 742,-1545 849,-1545 849,-1613\"/>\n<text text-anchor=\"middle\" x=\"795.5\" y=\"-1597.8\" font-family=\"Helvetica,sans-Serif\" font-size=\"14.00\" fill=\"#000000\">X[3] &lt;= 2.5</text>\n<text text-anchor=\"middle\" x=\"795.5\" y=\"-1582.8\" font-family=\"Helvetica,sans-Serif\" font-size=\"14.00\" fill=\"#000000\">gini = 0.023</text>\n<text text-anchor=\"middle\" x=\"795.5\" y=\"-1567.8\" font-family=\"Helvetica,sans-Serif\" font-size=\"14.00\" fill=\"#000000\">samples = 87</text>\n<text text-anchor=\"middle\" x=\"795.5\" y=\"-1552.8\" font-family=\"Helvetica,sans-Serif\" font-size=\"14.00\" fill=\"#000000\">value = [1, 86]</text>\n</g>\n<!-- 4&#45;&gt;24 -->\n<g id=\"edge24\" class=\"edge\">\n<title>4&#45;&gt;24</title>\n<path fill=\"none\" stroke=\"#000000\" d=\"M795.5,-1648.9465C795.5,-1640.776 795.5,-1631.9318 795.5,-1623.3697\"/>\n<polygon fill=\"#000000\" stroke=\"#000000\" points=\"799.0001,-1623.13 795.5,-1613.13 792.0001,-1623.13 799.0001,-1623.13\"/>\n</g>\n<!-- 6 -->\n<g id=\"node7\" class=\"node\">\n<title>6</title>\n<polygon fill=\"none\" stroke=\"#000000\" points=\"476,-1509 369,-1509 369,-1441 476,-1441 476,-1509\"/>\n<text text-anchor=\"middle\" x=\"422.5\" y=\"-1493.8\" font-family=\"Helvetica,sans-Serif\" font-size=\"14.00\" fill=\"#000000\">X[1] &lt;= 27.5</text>\n<text text-anchor=\"middle\" x=\"422.5\" y=\"-1478.8\" font-family=\"Helvetica,sans-Serif\" font-size=\"14.00\" fill=\"#000000\">gini = 0.165</text>\n<text text-anchor=\"middle\" x=\"422.5\" y=\"-1463.8\" font-family=\"Helvetica,sans-Serif\" font-size=\"14.00\" fill=\"#000000\">samples = 44</text>\n<text text-anchor=\"middle\" x=\"422.5\" y=\"-1448.8\" font-family=\"Helvetica,sans-Serif\" font-size=\"14.00\" fill=\"#000000\">value = [4, 40]</text>\n</g>\n<!-- 5&#45;&gt;6 -->\n<g id=\"edge6\" class=\"edge\">\n<title>5&#45;&gt;6</title>\n<path fill=\"none\" stroke=\"#000000\" d=\"M519.349,-1544.9465C506.1713,-1535.4293 491.7278,-1524.9978 478.1103,-1515.163\"/>\n<polygon fill=\"#000000\" stroke=\"#000000\" points=\"479.913,-1512.1476 469.7569,-1509.13 475.8145,-1517.8223 479.913,-1512.1476\"/>\n</g>\n<!-- 23 -->\n<g id=\"node24\" class=\"node\">\n<title>23</title>\n<polygon fill=\"none\" stroke=\"#000000\" points=\"616,-1501.5 517,-1501.5 517,-1448.5 616,-1448.5 616,-1501.5\"/>\n<text text-anchor=\"middle\" x=\"566.5\" y=\"-1486.3\" font-family=\"Helvetica,sans-Serif\" font-size=\"14.00\" fill=\"#000000\">gini = 0.0</text>\n<text text-anchor=\"middle\" x=\"566.5\" y=\"-1471.3\" font-family=\"Helvetica,sans-Serif\" font-size=\"14.00\" fill=\"#000000\">samples = 1</text>\n<text text-anchor=\"middle\" x=\"566.5\" y=\"-1456.3\" font-family=\"Helvetica,sans-Serif\" font-size=\"14.00\" fill=\"#000000\">value = [1, 0]</text>\n</g>\n<!-- 5&#45;&gt;23 -->\n<g id=\"edge23\" class=\"edge\">\n<title>5&#45;&gt;23</title>\n<path fill=\"none\" stroke=\"#000000\" d=\"M566.5,-1544.9465C566.5,-1534.2621 566.5,-1522.4254 566.5,-1511.5742\"/>\n<polygon fill=\"#000000\" stroke=\"#000000\" points=\"570.0001,-1511.5421 566.5,-1501.5422 563.0001,-1511.5422 570.0001,-1511.5421\"/>\n</g>\n<!-- 7 -->\n<g id=\"node8\" class=\"node\">\n<title>7</title>\n<polygon fill=\"none\" stroke=\"#000000\" points=\"347,-1405 240,-1405 240,-1337 347,-1337 347,-1405\"/>\n<text text-anchor=\"middle\" x=\"293.5\" y=\"-1389.8\" font-family=\"Helvetica,sans-Serif\" font-size=\"14.00\" fill=\"#000000\">X[1] &lt;= 25.5</text>\n<text text-anchor=\"middle\" x=\"293.5\" y=\"-1374.8\" font-family=\"Helvetica,sans-Serif\" font-size=\"14.00\" fill=\"#000000\">gini = 0.32</text>\n<text text-anchor=\"middle\" x=\"293.5\" y=\"-1359.8\" font-family=\"Helvetica,sans-Serif\" font-size=\"14.00\" fill=\"#000000\">samples = 15</text>\n<text text-anchor=\"middle\" x=\"293.5\" y=\"-1344.8\" font-family=\"Helvetica,sans-Serif\" font-size=\"14.00\" fill=\"#000000\">value = [3, 12]</text>\n</g>\n<!-- 6&#45;&gt;7 -->\n<g id=\"edge7\" class=\"edge\">\n<title>6&#45;&gt;7</title>\n<path fill=\"none\" stroke=\"#000000\" d=\"M380.2606,-1440.9465C368.5669,-1431.519 355.7606,-1421.1946 343.663,-1411.4415\"/>\n<polygon fill=\"#000000\" stroke=\"#000000\" points=\"345.8162,-1408.6816 335.8343,-1405.13 341.4227,-1414.1312 345.8162,-1408.6816\"/>\n</g>\n<!-- 16 -->\n<g id=\"node17\" class=\"node\">\n<title>16</title>\n<polygon fill=\"none\" stroke=\"#000000\" points=\"478,-1405 367,-1405 367,-1337 478,-1337 478,-1405\"/>\n<text text-anchor=\"middle\" x=\"422.5\" y=\"-1389.8\" font-family=\"Helvetica,sans-Serif\" font-size=\"14.00\" fill=\"#000000\">X[4] &lt;= 25.965</text>\n<text text-anchor=\"middle\" x=\"422.5\" y=\"-1374.8\" font-family=\"Helvetica,sans-Serif\" font-size=\"14.00\" fill=\"#000000\">gini = 0.067</text>\n<text text-anchor=\"middle\" x=\"422.5\" y=\"-1359.8\" font-family=\"Helvetica,sans-Serif\" font-size=\"14.00\" fill=\"#000000\">samples = 29</text>\n<text text-anchor=\"middle\" x=\"422.5\" y=\"-1344.8\" font-family=\"Helvetica,sans-Serif\" font-size=\"14.00\" fill=\"#000000\">value = [1, 28]</text>\n</g>\n<!-- 6&#45;&gt;16 -->\n<g id=\"edge16\" class=\"edge\">\n<title>6&#45;&gt;16</title>\n<path fill=\"none\" stroke=\"#000000\" d=\"M422.5,-1440.9465C422.5,-1432.776 422.5,-1423.9318 422.5,-1415.3697\"/>\n<polygon fill=\"#000000\" stroke=\"#000000\" points=\"426.0001,-1415.13 422.5,-1405.13 419.0001,-1415.13 426.0001,-1415.13\"/>\n</g>\n<!-- 8 -->\n<g id=\"node9\" class=\"node\">\n<title>8</title>\n<polygon fill=\"none\" stroke=\"#000000\" points=\"220,-1301 113,-1301 113,-1233 220,-1233 220,-1301\"/>\n<text text-anchor=\"middle\" x=\"166.5\" y=\"-1285.8\" font-family=\"Helvetica,sans-Serif\" font-size=\"14.00\" fill=\"#000000\">X[1] &lt;= 23.5</text>\n<text text-anchor=\"middle\" x=\"166.5\" y=\"-1270.8\" font-family=\"Helvetica,sans-Serif\" font-size=\"14.00\" fill=\"#000000\">gini = 0.153</text>\n<text text-anchor=\"middle\" x=\"166.5\" y=\"-1255.8\" font-family=\"Helvetica,sans-Serif\" font-size=\"14.00\" fill=\"#000000\">samples = 12</text>\n<text text-anchor=\"middle\" x=\"166.5\" y=\"-1240.8\" font-family=\"Helvetica,sans-Serif\" font-size=\"14.00\" fill=\"#000000\">value = [1, 11]</text>\n</g>\n<!-- 7&#45;&gt;8 -->\n<g id=\"edge8\" class=\"edge\">\n<title>7&#45;&gt;8</title>\n<path fill=\"none\" stroke=\"#000000\" d=\"M251.9155,-1336.9465C240.5127,-1327.6088 228.0353,-1317.3911 216.2257,-1307.7203\"/>\n<polygon fill=\"#000000\" stroke=\"#000000\" points=\"218.1324,-1304.7578 208.178,-1301.13 213.6974,-1310.1736 218.1324,-1304.7578\"/>\n</g>\n<!-- 13 -->\n<g id=\"node14\" class=\"node\">\n<title>13</title>\n<polygon fill=\"none\" stroke=\"#000000\" points=\"343,-1301 244,-1301 244,-1233 343,-1233 343,-1301\"/>\n<text text-anchor=\"middle\" x=\"293.5\" y=\"-1285.8\" font-family=\"Helvetica,sans-Serif\" font-size=\"14.00\" fill=\"#000000\">X[5] &lt;= 1.5</text>\n<text text-anchor=\"middle\" x=\"293.5\" y=\"-1270.8\" font-family=\"Helvetica,sans-Serif\" font-size=\"14.00\" fill=\"#000000\">gini = 0.444</text>\n<text text-anchor=\"middle\" x=\"293.5\" y=\"-1255.8\" font-family=\"Helvetica,sans-Serif\" font-size=\"14.00\" fill=\"#000000\">samples = 3</text>\n<text text-anchor=\"middle\" x=\"293.5\" y=\"-1240.8\" font-family=\"Helvetica,sans-Serif\" font-size=\"14.00\" fill=\"#000000\">value = [2, 1]</text>\n</g>\n<!-- 7&#45;&gt;13 -->\n<g id=\"edge13\" class=\"edge\">\n<title>7&#45;&gt;13</title>\n<path fill=\"none\" stroke=\"#000000\" d=\"M293.5,-1336.9465C293.5,-1328.776 293.5,-1319.9318 293.5,-1311.3697\"/>\n<polygon fill=\"#000000\" stroke=\"#000000\" points=\"297.0001,-1311.13 293.5,-1301.13 290.0001,-1311.13 297.0001,-1311.13\"/>\n</g>\n<!-- 9 -->\n<g id=\"node10\" class=\"node\">\n<title>9</title>\n<polygon fill=\"none\" stroke=\"#000000\" points=\"99,-1189.5 0,-1189.5 0,-1136.5 99,-1136.5 99,-1189.5\"/>\n<text text-anchor=\"middle\" x=\"49.5\" y=\"-1174.3\" font-family=\"Helvetica,sans-Serif\" font-size=\"14.00\" fill=\"#000000\">gini = 0.0</text>\n<text text-anchor=\"middle\" x=\"49.5\" y=\"-1159.3\" font-family=\"Helvetica,sans-Serif\" font-size=\"14.00\" fill=\"#000000\">samples = 8</text>\n<text text-anchor=\"middle\" x=\"49.5\" y=\"-1144.3\" font-family=\"Helvetica,sans-Serif\" font-size=\"14.00\" fill=\"#000000\">value = [0, 8]</text>\n</g>\n<!-- 8&#45;&gt;9 -->\n<g id=\"edge9\" class=\"edge\">\n<title>8&#45;&gt;9</title>\n<path fill=\"none\" stroke=\"#000000\" d=\"M128.1898,-1232.9465C114.9306,-1221.1606 100.0942,-1207.9726 86.9084,-1196.2519\"/>\n<polygon fill=\"#000000\" stroke=\"#000000\" points=\"89.1593,-1193.5699 79.3599,-1189.5422 84.5088,-1198.8018 89.1593,-1193.5699\"/>\n</g>\n<!-- 10 -->\n<g id=\"node11\" class=\"node\">\n<title>10</title>\n<polygon fill=\"none\" stroke=\"#000000\" points=\"216,-1197 117,-1197 117,-1129 216,-1129 216,-1197\"/>\n<text text-anchor=\"middle\" x=\"166.5\" y=\"-1181.8\" font-family=\"Helvetica,sans-Serif\" font-size=\"14.00\" fill=\"#000000\">X[4] &lt;= 19.5</text>\n<text text-anchor=\"middle\" x=\"166.5\" y=\"-1166.8\" font-family=\"Helvetica,sans-Serif\" font-size=\"14.00\" fill=\"#000000\">gini = 0.375</text>\n<text text-anchor=\"middle\" x=\"166.5\" y=\"-1151.8\" font-family=\"Helvetica,sans-Serif\" font-size=\"14.00\" fill=\"#000000\">samples = 4</text>\n<text text-anchor=\"middle\" x=\"166.5\" y=\"-1136.8\" font-family=\"Helvetica,sans-Serif\" font-size=\"14.00\" fill=\"#000000\">value = [1, 3]</text>\n</g>\n<!-- 8&#45;&gt;10 -->\n<g id=\"edge10\" class=\"edge\">\n<title>8&#45;&gt;10</title>\n<path fill=\"none\" stroke=\"#000000\" d=\"M166.5,-1232.9465C166.5,-1224.776 166.5,-1215.9318 166.5,-1207.3697\"/>\n<polygon fill=\"#000000\" stroke=\"#000000\" points=\"170.0001,-1207.13 166.5,-1197.13 163.0001,-1207.13 170.0001,-1207.13\"/>\n</g>\n<!-- 11 -->\n<g id=\"node12\" class=\"node\">\n<title>11</title>\n<polygon fill=\"none\" stroke=\"#000000\" points=\"158,-1085.5 59,-1085.5 59,-1032.5 158,-1032.5 158,-1085.5\"/>\n<text text-anchor=\"middle\" x=\"108.5\" y=\"-1070.3\" font-family=\"Helvetica,sans-Serif\" font-size=\"14.00\" fill=\"#000000\">gini = 0.5</text>\n<text text-anchor=\"middle\" x=\"108.5\" y=\"-1055.3\" font-family=\"Helvetica,sans-Serif\" font-size=\"14.00\" fill=\"#000000\">samples = 2</text>\n<text text-anchor=\"middle\" x=\"108.5\" y=\"-1040.3\" font-family=\"Helvetica,sans-Serif\" font-size=\"14.00\" fill=\"#000000\">value = [1, 1]</text>\n</g>\n<!-- 10&#45;&gt;11 -->\n<g id=\"edge11\" class=\"edge\">\n<title>10&#45;&gt;11</title>\n<path fill=\"none\" stroke=\"#000000\" d=\"M147.5086,-1128.9465C141.3657,-1117.9316 134.5399,-1105.6922 128.3373,-1094.5703\"/>\n<polygon fill=\"#000000\" stroke=\"#000000\" points=\"131.2299,-1092.5711 123.3024,-1085.5422 125.1163,-1095.9806 131.2299,-1092.5711\"/>\n</g>\n<!-- 12 -->\n<g id=\"node13\" class=\"node\">\n<title>12</title>\n<polygon fill=\"none\" stroke=\"#000000\" points=\"275,-1085.5 176,-1085.5 176,-1032.5 275,-1032.5 275,-1085.5\"/>\n<text text-anchor=\"middle\" x=\"225.5\" y=\"-1070.3\" font-family=\"Helvetica,sans-Serif\" font-size=\"14.00\" fill=\"#000000\">gini = 0.0</text>\n<text text-anchor=\"middle\" x=\"225.5\" y=\"-1055.3\" font-family=\"Helvetica,sans-Serif\" font-size=\"14.00\" fill=\"#000000\">samples = 2</text>\n<text text-anchor=\"middle\" x=\"225.5\" y=\"-1040.3\" font-family=\"Helvetica,sans-Serif\" font-size=\"14.00\" fill=\"#000000\">value = [0, 2]</text>\n</g>\n<!-- 10&#45;&gt;12 -->\n<g id=\"edge12\" class=\"edge\">\n<title>10&#45;&gt;12</title>\n<path fill=\"none\" stroke=\"#000000\" d=\"M185.8188,-1128.9465C192.0676,-1117.9316 199.0112,-1105.6922 205.3207,-1094.5703\"/>\n<polygon fill=\"#000000\" stroke=\"#000000\" points=\"208.5523,-1095.967 210.4424,-1085.5422 202.4638,-1092.513 208.5523,-1095.967\"/>\n</g>\n<!-- 14 -->\n<g id=\"node15\" class=\"node\">\n<title>14</title>\n<polygon fill=\"none\" stroke=\"#000000\" points=\"333,-1189.5 234,-1189.5 234,-1136.5 333,-1136.5 333,-1189.5\"/>\n<text text-anchor=\"middle\" x=\"283.5\" y=\"-1174.3\" font-family=\"Helvetica,sans-Serif\" font-size=\"14.00\" fill=\"#000000\">gini = 0.0</text>\n<text text-anchor=\"middle\" x=\"283.5\" y=\"-1159.3\" font-family=\"Helvetica,sans-Serif\" font-size=\"14.00\" fill=\"#000000\">samples = 1</text>\n<text text-anchor=\"middle\" x=\"283.5\" y=\"-1144.3\" font-family=\"Helvetica,sans-Serif\" font-size=\"14.00\" fill=\"#000000\">value = [0, 1]</text>\n</g>\n<!-- 13&#45;&gt;14 -->\n<g id=\"edge14\" class=\"edge\">\n<title>13&#45;&gt;14</title>\n<path fill=\"none\" stroke=\"#000000\" d=\"M290.2256,-1232.9465C289.1983,-1222.2621 288.0601,-1210.4254 287.0168,-1199.5742\"/>\n<polygon fill=\"#000000\" stroke=\"#000000\" points=\"290.4933,-1199.1612 286.0521,-1189.5422 283.5254,-1199.8313 290.4933,-1199.1612\"/>\n</g>\n<!-- 15 -->\n<g id=\"node16\" class=\"node\">\n<title>15</title>\n<polygon fill=\"none\" stroke=\"#000000\" points=\"450,-1189.5 351,-1189.5 351,-1136.5 450,-1136.5 450,-1189.5\"/>\n<text text-anchor=\"middle\" x=\"400.5\" y=\"-1174.3\" font-family=\"Helvetica,sans-Serif\" font-size=\"14.00\" fill=\"#000000\">gini = 0.0</text>\n<text text-anchor=\"middle\" x=\"400.5\" y=\"-1159.3\" font-family=\"Helvetica,sans-Serif\" font-size=\"14.00\" fill=\"#000000\">samples = 2</text>\n<text text-anchor=\"middle\" x=\"400.5\" y=\"-1144.3\" font-family=\"Helvetica,sans-Serif\" font-size=\"14.00\" fill=\"#000000\">value = [2, 0]</text>\n</g>\n<!-- 13&#45;&gt;15 -->\n<g id=\"edge15\" class=\"edge\">\n<title>13&#45;&gt;15</title>\n<path fill=\"none\" stroke=\"#000000\" d=\"M328.5358,-1232.9465C340.5484,-1221.2707 353.9766,-1208.219 365.9504,-1196.5809\"/>\n<polygon fill=\"#000000\" stroke=\"#000000\" points=\"368.4607,-1199.0218 373.1922,-1189.5422 363.5818,-1194.0022 368.4607,-1199.0218\"/>\n</g>\n<!-- 17 -->\n<g id=\"node18\" class=\"node\">\n<title>17</title>\n<polygon fill=\"none\" stroke=\"#000000\" points=\"472,-1293.5 365,-1293.5 365,-1240.5 472,-1240.5 472,-1293.5\"/>\n<text text-anchor=\"middle\" x=\"418.5\" y=\"-1278.3\" font-family=\"Helvetica,sans-Serif\" font-size=\"14.00\" fill=\"#000000\">gini = 0.0</text>\n<text text-anchor=\"middle\" x=\"418.5\" y=\"-1263.3\" font-family=\"Helvetica,sans-Serif\" font-size=\"14.00\" fill=\"#000000\">samples = 23</text>\n<text text-anchor=\"middle\" x=\"418.5\" y=\"-1248.3\" font-family=\"Helvetica,sans-Serif\" font-size=\"14.00\" fill=\"#000000\">value = [0, 23]</text>\n</g>\n<!-- 16&#45;&gt;17 -->\n<g id=\"edge17\" class=\"edge\">\n<title>16&#45;&gt;17</title>\n<path fill=\"none\" stroke=\"#000000\" d=\"M421.1903,-1336.9465C420.7793,-1326.2621 420.3241,-1314.4254 419.9067,-1303.5742\"/>\n<polygon fill=\"#000000\" stroke=\"#000000\" points=\"423.4027,-1303.4002 419.5209,-1293.5422 416.4079,-1303.6693 423.4027,-1303.4002\"/>\n</g>\n<!-- 18 -->\n<g id=\"node19\" class=\"node\">\n<title>18</title>\n<polygon fill=\"none\" stroke=\"#000000\" points=\"589,-1301 490,-1301 490,-1233 589,-1233 589,-1301\"/>\n<text text-anchor=\"middle\" x=\"539.5\" y=\"-1285.8\" font-family=\"Helvetica,sans-Serif\" font-size=\"14.00\" fill=\"#000000\">X[1] &lt;= 43.0</text>\n<text text-anchor=\"middle\" x=\"539.5\" y=\"-1270.8\" font-family=\"Helvetica,sans-Serif\" font-size=\"14.00\" fill=\"#000000\">gini = 0.278</text>\n<text text-anchor=\"middle\" x=\"539.5\" y=\"-1255.8\" font-family=\"Helvetica,sans-Serif\" font-size=\"14.00\" fill=\"#000000\">samples = 6</text>\n<text text-anchor=\"middle\" x=\"539.5\" y=\"-1240.8\" font-family=\"Helvetica,sans-Serif\" font-size=\"14.00\" fill=\"#000000\">value = [1, 5]</text>\n</g>\n<!-- 16&#45;&gt;18 -->\n<g id=\"edge18\" class=\"edge\">\n<title>16&#45;&gt;18</title>\n<path fill=\"none\" stroke=\"#000000\" d=\"M460.8102,-1336.9465C471.2141,-1327.6986 482.589,-1317.5876 493.3757,-1307.9994\"/>\n<polygon fill=\"#000000\" stroke=\"#000000\" points=\"495.9549,-1310.3896 501.1038,-1301.13 491.3044,-1305.1577 495.9549,-1310.3896\"/>\n</g>\n<!-- 19 -->\n<g id=\"node20\" class=\"node\">\n<title>19</title>\n<polygon fill=\"none\" stroke=\"#000000\" points=\"567,-1189.5 468,-1189.5 468,-1136.5 567,-1136.5 567,-1189.5\"/>\n<text text-anchor=\"middle\" x=\"517.5\" y=\"-1174.3\" font-family=\"Helvetica,sans-Serif\" font-size=\"14.00\" fill=\"#000000\">gini = 0.0</text>\n<text text-anchor=\"middle\" x=\"517.5\" y=\"-1159.3\" font-family=\"Helvetica,sans-Serif\" font-size=\"14.00\" fill=\"#000000\">samples = 4</text>\n<text text-anchor=\"middle\" x=\"517.5\" y=\"-1144.3\" font-family=\"Helvetica,sans-Serif\" font-size=\"14.00\" fill=\"#000000\">value = [0, 4]</text>\n</g>\n<!-- 18&#45;&gt;19 -->\n<g id=\"edge19\" class=\"edge\">\n<title>18&#45;&gt;19</title>\n<path fill=\"none\" stroke=\"#000000\" d=\"M532.2964,-1232.9465C530.0362,-1222.2621 527.5323,-1210.4254 525.2369,-1199.5742\"/>\n<polygon fill=\"#000000\" stroke=\"#000000\" points=\"528.6086,-1198.6013 523.1147,-1189.5422 521.7601,-1200.05 528.6086,-1198.6013\"/>\n</g>\n<!-- 20 -->\n<g id=\"node21\" class=\"node\">\n<title>20</title>\n<polygon fill=\"none\" stroke=\"#000000\" points=\"684,-1197 585,-1197 585,-1129 684,-1129 684,-1197\"/>\n<text text-anchor=\"middle\" x=\"634.5\" y=\"-1181.8\" font-family=\"Helvetica,sans-Serif\" font-size=\"14.00\" fill=\"#000000\">X[1] &lt;= 47.0</text>\n<text text-anchor=\"middle\" x=\"634.5\" y=\"-1166.8\" font-family=\"Helvetica,sans-Serif\" font-size=\"14.00\" fill=\"#000000\">gini = 0.5</text>\n<text text-anchor=\"middle\" x=\"634.5\" y=\"-1151.8\" font-family=\"Helvetica,sans-Serif\" font-size=\"14.00\" fill=\"#000000\">samples = 2</text>\n<text text-anchor=\"middle\" x=\"634.5\" y=\"-1136.8\" font-family=\"Helvetica,sans-Serif\" font-size=\"14.00\" fill=\"#000000\">value = [1, 1]</text>\n</g>\n<!-- 18&#45;&gt;20 -->\n<g id=\"edge20\" class=\"edge\">\n<title>18&#45;&gt;20</title>\n<path fill=\"none\" stroke=\"#000000\" d=\"M570.6066,-1232.9465C578.8901,-1223.8782 587.9318,-1213.9799 596.5379,-1204.5585\"/>\n<polygon fill=\"#000000\" stroke=\"#000000\" points=\"599.1633,-1206.8739 603.3236,-1197.13 593.995,-1202.1528 599.1633,-1206.8739\"/>\n</g>\n<!-- 21 -->\n<g id=\"node22\" class=\"node\">\n<title>21</title>\n<polygon fill=\"none\" stroke=\"#000000\" points=\"567,-1085.5 468,-1085.5 468,-1032.5 567,-1032.5 567,-1085.5\"/>\n<text text-anchor=\"middle\" x=\"517.5\" y=\"-1070.3\" font-family=\"Helvetica,sans-Serif\" font-size=\"14.00\" fill=\"#000000\">gini = 0.0</text>\n<text text-anchor=\"middle\" x=\"517.5\" y=\"-1055.3\" font-family=\"Helvetica,sans-Serif\" font-size=\"14.00\" fill=\"#000000\">samples = 1</text>\n<text text-anchor=\"middle\" x=\"517.5\" y=\"-1040.3\" font-family=\"Helvetica,sans-Serif\" font-size=\"14.00\" fill=\"#000000\">value = [1, 0]</text>\n</g>\n<!-- 20&#45;&gt;21 -->\n<g id=\"edge21\" class=\"edge\">\n<title>20&#45;&gt;21</title>\n<path fill=\"none\" stroke=\"#000000\" d=\"M596.1898,-1128.9465C582.9306,-1117.1606 568.0942,-1103.9726 554.9084,-1092.2519\"/>\n<polygon fill=\"#000000\" stroke=\"#000000\" points=\"557.1593,-1089.5699 547.3599,-1085.5422 552.5088,-1094.8018 557.1593,-1089.5699\"/>\n</g>\n<!-- 22 -->\n<g id=\"node23\" class=\"node\">\n<title>22</title>\n<polygon fill=\"none\" stroke=\"#000000\" points=\"684,-1085.5 585,-1085.5 585,-1032.5 684,-1032.5 684,-1085.5\"/>\n<text text-anchor=\"middle\" x=\"634.5\" y=\"-1070.3\" font-family=\"Helvetica,sans-Serif\" font-size=\"14.00\" fill=\"#000000\">gini = 0.0</text>\n<text text-anchor=\"middle\" x=\"634.5\" y=\"-1055.3\" font-family=\"Helvetica,sans-Serif\" font-size=\"14.00\" fill=\"#000000\">samples = 1</text>\n<text text-anchor=\"middle\" x=\"634.5\" y=\"-1040.3\" font-family=\"Helvetica,sans-Serif\" font-size=\"14.00\" fill=\"#000000\">value = [0, 1]</text>\n</g>\n<!-- 20&#45;&gt;22 -->\n<g id=\"edge22\" class=\"edge\">\n<title>20&#45;&gt;22</title>\n<path fill=\"none\" stroke=\"#000000\" d=\"M634.5,-1128.9465C634.5,-1118.2621 634.5,-1106.4254 634.5,-1095.5742\"/>\n<polygon fill=\"#000000\" stroke=\"#000000\" points=\"638.0001,-1095.5421 634.5,-1085.5422 631.0001,-1095.5422 638.0001,-1095.5421\"/>\n</g>\n<!-- 25 -->\n<g id=\"node26\" class=\"node\">\n<title>25</title>\n<polygon fill=\"none\" stroke=\"#000000\" points=\"786,-1501.5 679,-1501.5 679,-1448.5 786,-1448.5 786,-1501.5\"/>\n<text text-anchor=\"middle\" x=\"732.5\" y=\"-1486.3\" font-family=\"Helvetica,sans-Serif\" font-size=\"14.00\" fill=\"#000000\">gini = 0.0</text>\n<text text-anchor=\"middle\" x=\"732.5\" y=\"-1471.3\" font-family=\"Helvetica,sans-Serif\" font-size=\"14.00\" fill=\"#000000\">samples = 75</text>\n<text text-anchor=\"middle\" x=\"732.5\" y=\"-1456.3\" font-family=\"Helvetica,sans-Serif\" font-size=\"14.00\" fill=\"#000000\">value = [0, 75]</text>\n</g>\n<!-- 24&#45;&gt;25 -->\n<g id=\"edge25\" class=\"edge\">\n<title>24&#45;&gt;25</title>\n<path fill=\"none\" stroke=\"#000000\" d=\"M774.8714,-1544.9465C768.1322,-1533.8215 760.6363,-1521.4473 753.8455,-1510.237\"/>\n<polygon fill=\"#000000\" stroke=\"#000000\" points=\"756.7533,-1508.2818 748.5784,-1501.5422 750.7661,-1511.9087 756.7533,-1508.2818\"/>\n</g>\n<!-- 26 -->\n<g id=\"node27\" class=\"node\">\n<title>26</title>\n<polygon fill=\"none\" stroke=\"#000000\" points=\"911,-1509 804,-1509 804,-1441 911,-1441 911,-1509\"/>\n<text text-anchor=\"middle\" x=\"857.5\" y=\"-1493.8\" font-family=\"Helvetica,sans-Serif\" font-size=\"14.00\" fill=\"#000000\">X[1] &lt;= 24.5</text>\n<text text-anchor=\"middle\" x=\"857.5\" y=\"-1478.8\" font-family=\"Helvetica,sans-Serif\" font-size=\"14.00\" fill=\"#000000\">gini = 0.153</text>\n<text text-anchor=\"middle\" x=\"857.5\" y=\"-1463.8\" font-family=\"Helvetica,sans-Serif\" font-size=\"14.00\" fill=\"#000000\">samples = 12</text>\n<text text-anchor=\"middle\" x=\"857.5\" y=\"-1448.8\" font-family=\"Helvetica,sans-Serif\" font-size=\"14.00\" fill=\"#000000\">value = [1, 11]</text>\n</g>\n<!-- 24&#45;&gt;26 -->\n<g id=\"edge26\" class=\"edge\">\n<title>24&#45;&gt;26</title>\n<path fill=\"none\" stroke=\"#000000\" d=\"M815.8011,-1544.9465C820.9396,-1536.3271 826.5251,-1526.9579 831.8886,-1517.9611\"/>\n<polygon fill=\"#000000\" stroke=\"#000000\" points=\"835.0389,-1519.5117 837.1533,-1509.13 829.0263,-1515.9272 835.0389,-1519.5117\"/>\n</g>\n<!-- 27 -->\n<g id=\"node28\" class=\"node\">\n<title>27</title>\n<polygon fill=\"none\" stroke=\"#000000\" points=\"801,-1397.5 702,-1397.5 702,-1344.5 801,-1344.5 801,-1397.5\"/>\n<text text-anchor=\"middle\" x=\"751.5\" y=\"-1382.3\" font-family=\"Helvetica,sans-Serif\" font-size=\"14.00\" fill=\"#000000\">gini = 0.0</text>\n<text text-anchor=\"middle\" x=\"751.5\" y=\"-1367.3\" font-family=\"Helvetica,sans-Serif\" font-size=\"14.00\" fill=\"#000000\">samples = 9</text>\n<text text-anchor=\"middle\" x=\"751.5\" y=\"-1352.3\" font-family=\"Helvetica,sans-Serif\" font-size=\"14.00\" fill=\"#000000\">value = [0, 9]</text>\n</g>\n<!-- 26&#45;&gt;27 -->\n<g id=\"edge27\" class=\"edge\">\n<title>26&#45;&gt;27</title>\n<path fill=\"none\" stroke=\"#000000\" d=\"M822.7916,-1440.9465C810.8913,-1429.2707 797.5886,-1416.219 785.7267,-1404.5809\"/>\n<polygon fill=\"#000000\" stroke=\"#000000\" points=\"788.1419,-1402.0473 778.5526,-1397.5422 783.2395,-1407.0439 788.1419,-1402.0473\"/>\n</g>\n<!-- 28 -->\n<g id=\"node29\" class=\"node\">\n<title>28</title>\n<polygon fill=\"none\" stroke=\"#000000\" points=\"918,-1405 819,-1405 819,-1337 918,-1337 918,-1405\"/>\n<text text-anchor=\"middle\" x=\"868.5\" y=\"-1389.8\" font-family=\"Helvetica,sans-Serif\" font-size=\"14.00\" fill=\"#000000\">X[1] &lt;= 30.5</text>\n<text text-anchor=\"middle\" x=\"868.5\" y=\"-1374.8\" font-family=\"Helvetica,sans-Serif\" font-size=\"14.00\" fill=\"#000000\">gini = 0.444</text>\n<text text-anchor=\"middle\" x=\"868.5\" y=\"-1359.8\" font-family=\"Helvetica,sans-Serif\" font-size=\"14.00\" fill=\"#000000\">samples = 3</text>\n<text text-anchor=\"middle\" x=\"868.5\" y=\"-1344.8\" font-family=\"Helvetica,sans-Serif\" font-size=\"14.00\" fill=\"#000000\">value = [1, 2]</text>\n</g>\n<!-- 26&#45;&gt;28 -->\n<g id=\"edge28\" class=\"edge\">\n<title>26&#45;&gt;28</title>\n<path fill=\"none\" stroke=\"#000000\" d=\"M861.1018,-1440.9465C861.9755,-1432.6863 862.922,-1423.7374 863.8369,-1415.0875\"/>\n<polygon fill=\"#000000\" stroke=\"#000000\" points=\"867.3188,-1415.4427 864.8901,-1405.13 860.3576,-1414.7064 867.3188,-1415.4427\"/>\n</g>\n<!-- 29 -->\n<g id=\"node30\" class=\"node\">\n<title>29</title>\n<polygon fill=\"none\" stroke=\"#000000\" points=\"802,-1293.5 703,-1293.5 703,-1240.5 802,-1240.5 802,-1293.5\"/>\n<text text-anchor=\"middle\" x=\"752.5\" y=\"-1278.3\" font-family=\"Helvetica,sans-Serif\" font-size=\"14.00\" fill=\"#000000\">gini = 0.0</text>\n<text text-anchor=\"middle\" x=\"752.5\" y=\"-1263.3\" font-family=\"Helvetica,sans-Serif\" font-size=\"14.00\" fill=\"#000000\">samples = 1</text>\n<text text-anchor=\"middle\" x=\"752.5\" y=\"-1248.3\" font-family=\"Helvetica,sans-Serif\" font-size=\"14.00\" fill=\"#000000\">value = [1, 0]</text>\n</g>\n<!-- 28&#45;&gt;29 -->\n<g id=\"edge29\" class=\"edge\">\n<title>28&#45;&gt;29</title>\n<path fill=\"none\" stroke=\"#000000\" d=\"M830.5173,-1336.9465C817.3714,-1325.1606 802.6618,-1311.9726 789.5887,-1300.2519\"/>\n<polygon fill=\"#000000\" stroke=\"#000000\" points=\"791.8869,-1297.6116 782.1047,-1293.5422 787.214,-1302.8236 791.8869,-1297.6116\"/>\n</g>\n<!-- 30 -->\n<g id=\"node31\" class=\"node\">\n<title>30</title>\n<polygon fill=\"none\" stroke=\"#000000\" points=\"919,-1293.5 820,-1293.5 820,-1240.5 919,-1240.5 919,-1293.5\"/>\n<text text-anchor=\"middle\" x=\"869.5\" y=\"-1278.3\" font-family=\"Helvetica,sans-Serif\" font-size=\"14.00\" fill=\"#000000\">gini = 0.0</text>\n<text text-anchor=\"middle\" x=\"869.5\" y=\"-1263.3\" font-family=\"Helvetica,sans-Serif\" font-size=\"14.00\" fill=\"#000000\">samples = 2</text>\n<text text-anchor=\"middle\" x=\"869.5\" y=\"-1248.3\" font-family=\"Helvetica,sans-Serif\" font-size=\"14.00\" fill=\"#000000\">value = [0, 2]</text>\n</g>\n<!-- 28&#45;&gt;30 -->\n<g id=\"edge30\" class=\"edge\">\n<title>28&#45;&gt;30</title>\n<path fill=\"none\" stroke=\"#000000\" d=\"M868.8274,-1336.9465C868.9302,-1326.2621 869.044,-1314.4254 869.1483,-1303.5742\"/>\n<polygon fill=\"#000000\" stroke=\"#000000\" points=\"872.6484,-1303.5754 869.2448,-1293.5422 865.6487,-1303.508 872.6484,-1303.5754\"/>\n</g>\n<!-- 32 -->\n<g id=\"node33\" class=\"node\">\n<title>32</title>\n<polygon fill=\"none\" stroke=\"#000000\" points=\"1522.5,-1717 1406.5,-1717 1406.5,-1649 1522.5,-1649 1522.5,-1717\"/>\n<text text-anchor=\"middle\" x=\"1464.5\" y=\"-1701.8\" font-family=\"Helvetica,sans-Serif\" font-size=\"14.00\" fill=\"#000000\">X[4] &lt;= 8.04</text>\n<text text-anchor=\"middle\" x=\"1464.5\" y=\"-1686.8\" font-family=\"Helvetica,sans-Serif\" font-size=\"14.00\" fill=\"#000000\">gini = 0.484</text>\n<text text-anchor=\"middle\" x=\"1464.5\" y=\"-1671.8\" font-family=\"Helvetica,sans-Serif\" font-size=\"14.00\" fill=\"#000000\">samples = 95</text>\n<text text-anchor=\"middle\" x=\"1464.5\" y=\"-1656.8\" font-family=\"Helvetica,sans-Serif\" font-size=\"14.00\" fill=\"#000000\">value = [39, 56]</text>\n</g>\n<!-- 31&#45;&gt;32 -->\n<g id=\"edge32\" class=\"edge\">\n<title>31&#45;&gt;32</title>\n<path fill=\"none\" stroke=\"#000000\" d=\"M1508.2166,-1752.9465C1502.7733,-1744.2373 1496.8516,-1734.7626 1491.175,-1725.6801\"/>\n<polygon fill=\"#000000\" stroke=\"#000000\" points=\"1494.0993,-1723.755 1485.8312,-1717.13 1488.1633,-1727.465 1494.0993,-1723.755\"/>\n</g>\n<!-- 97 -->\n<g id=\"node98\" class=\"node\">\n<title>97</title>\n<polygon fill=\"none\" stroke=\"#000000\" points=\"1765,-1717 1658,-1717 1658,-1649 1765,-1649 1765,-1717\"/>\n<text text-anchor=\"middle\" x=\"1711.5\" y=\"-1701.8\" font-family=\"Helvetica,sans-Serif\" font-size=\"14.00\" fill=\"#000000\">X[3] &lt;= 1.5</text>\n<text text-anchor=\"middle\" x=\"1711.5\" y=\"-1686.8\" font-family=\"Helvetica,sans-Serif\" font-size=\"14.00\" fill=\"#000000\">gini = 0.219</text>\n<text text-anchor=\"middle\" x=\"1711.5\" y=\"-1671.8\" font-family=\"Helvetica,sans-Serif\" font-size=\"14.00\" fill=\"#000000\">samples = 24</text>\n<text text-anchor=\"middle\" x=\"1711.5\" y=\"-1656.8\" font-family=\"Helvetica,sans-Serif\" font-size=\"14.00\" fill=\"#000000\">value = [21, 3]</text>\n</g>\n<!-- 31&#45;&gt;97 -->\n<g id=\"edge97\" class=\"edge\">\n<title>31&#45;&gt;97</title>\n<path fill=\"none\" stroke=\"#000000\" d=\"M1587.5863,-1753.8078C1607.2509,-1742.5709 1629.2854,-1729.9798 1649.2594,-1718.566\"/>\n<polygon fill=\"#000000\" stroke=\"#000000\" points=\"1651.0312,-1721.5848 1657.9771,-1713.5845 1647.5582,-1715.5071 1651.0312,-1721.5848\"/>\n</g>\n<!-- 33 -->\n<g id=\"node34\" class=\"node\">\n<title>33</title>\n<polygon fill=\"none\" stroke=\"#000000\" points=\"1357.5,-1613 1241.5,-1613 1241.5,-1545 1357.5,-1545 1357.5,-1613\"/>\n<text text-anchor=\"middle\" x=\"1299.5\" y=\"-1597.8\" font-family=\"Helvetica,sans-Serif\" font-size=\"14.00\" fill=\"#000000\">X[1] &lt;= 30.1</text>\n<text text-anchor=\"middle\" x=\"1299.5\" y=\"-1582.8\" font-family=\"Helvetica,sans-Serif\" font-size=\"14.00\" fill=\"#000000\">gini = 0.408</text>\n<text text-anchor=\"middle\" x=\"1299.5\" y=\"-1567.8\" font-family=\"Helvetica,sans-Serif\" font-size=\"14.00\" fill=\"#000000\">samples = 42</text>\n<text text-anchor=\"middle\" x=\"1299.5\" y=\"-1552.8\" font-family=\"Helvetica,sans-Serif\" font-size=\"14.00\" fill=\"#000000\">value = [12, 30]</text>\n</g>\n<!-- 32&#45;&gt;33 -->\n<g id=\"edge33\" class=\"edge\">\n<title>32&#45;&gt;33</title>\n<path fill=\"none\" stroke=\"#000000\" d=\"M1410.4728,-1648.9465C1395.0885,-1639.2497 1378.1984,-1628.6039 1362.3379,-1618.6069\"/>\n<polygon fill=\"#000000\" stroke=\"#000000\" points=\"1363.9746,-1615.5013 1353.6486,-1613.13 1360.242,-1621.4232 1363.9746,-1615.5013\"/>\n</g>\n<!-- 62 -->\n<g id=\"node63\" class=\"node\">\n<title>62</title>\n<polygon fill=\"none\" stroke=\"#000000\" points=\"1522.5,-1613 1406.5,-1613 1406.5,-1545 1522.5,-1545 1522.5,-1613\"/>\n<text text-anchor=\"middle\" x=\"1464.5\" y=\"-1597.8\" font-family=\"Helvetica,sans-Serif\" font-size=\"14.00\" fill=\"#000000\">X[1] &lt;= 6.5</text>\n<text text-anchor=\"middle\" x=\"1464.5\" y=\"-1582.8\" font-family=\"Helvetica,sans-Serif\" font-size=\"14.00\" fill=\"#000000\">gini = 0.5</text>\n<text text-anchor=\"middle\" x=\"1464.5\" y=\"-1567.8\" font-family=\"Helvetica,sans-Serif\" font-size=\"14.00\" fill=\"#000000\">samples = 53</text>\n<text text-anchor=\"middle\" x=\"1464.5\" y=\"-1552.8\" font-family=\"Helvetica,sans-Serif\" font-size=\"14.00\" fill=\"#000000\">value = [27, 26]</text>\n</g>\n<!-- 32&#45;&gt;62 -->\n<g id=\"edge62\" class=\"edge\">\n<title>32&#45;&gt;62</title>\n<path fill=\"none\" stroke=\"#000000\" d=\"M1464.5,-1648.9465C1464.5,-1640.776 1464.5,-1631.9318 1464.5,-1623.3697\"/>\n<polygon fill=\"#000000\" stroke=\"#000000\" points=\"1468.0001,-1623.13 1464.5,-1613.13 1461.0001,-1623.13 1468.0001,-1623.13\"/>\n</g>\n<!-- 34 -->\n<g id=\"node35\" class=\"node\">\n<title>34</title>\n<polygon fill=\"none\" stroke=\"#000000\" points=\"1189,-1509 1082,-1509 1082,-1441 1189,-1441 1189,-1509\"/>\n<text text-anchor=\"middle\" x=\"1135.5\" y=\"-1493.8\" font-family=\"Helvetica,sans-Serif\" font-size=\"14.00\" fill=\"#000000\">X[4] &lt;= 6.987</text>\n<text text-anchor=\"middle\" x=\"1135.5\" y=\"-1478.8\" font-family=\"Helvetica,sans-Serif\" font-size=\"14.00\" fill=\"#000000\">gini = 0.355</text>\n<text text-anchor=\"middle\" x=\"1135.5\" y=\"-1463.8\" font-family=\"Helvetica,sans-Serif\" font-size=\"14.00\" fill=\"#000000\">samples = 39</text>\n<text text-anchor=\"middle\" x=\"1135.5\" y=\"-1448.8\" font-family=\"Helvetica,sans-Serif\" font-size=\"14.00\" fill=\"#000000\">value = [9, 30]</text>\n</g>\n<!-- 33&#45;&gt;34 -->\n<g id=\"edge34\" class=\"edge\">\n<title>33&#45;&gt;34</title>\n<path fill=\"none\" stroke=\"#000000\" d=\"M1245.8003,-1544.9465C1230.4303,-1535.1997 1213.5484,-1524.4941 1197.7134,-1514.4524\"/>\n<polygon fill=\"#000000\" stroke=\"#000000\" points=\"1199.3597,-1511.352 1189.0402,-1508.9523 1195.6108,-1517.2635 1199.3597,-1511.352\"/>\n</g>\n<!-- 61 -->\n<g id=\"node62\" class=\"node\">\n<title>61</title>\n<polygon fill=\"none\" stroke=\"#000000\" points=\"1349,-1501.5 1250,-1501.5 1250,-1448.5 1349,-1448.5 1349,-1501.5\"/>\n<text text-anchor=\"middle\" x=\"1299.5\" y=\"-1486.3\" font-family=\"Helvetica,sans-Serif\" font-size=\"14.00\" fill=\"#000000\">gini = 0.0</text>\n<text text-anchor=\"middle\" x=\"1299.5\" y=\"-1471.3\" font-family=\"Helvetica,sans-Serif\" font-size=\"14.00\" fill=\"#000000\">samples = 3</text>\n<text text-anchor=\"middle\" x=\"1299.5\" y=\"-1456.3\" font-family=\"Helvetica,sans-Serif\" font-size=\"14.00\" fill=\"#000000\">value = [3, 0]</text>\n</g>\n<!-- 33&#45;&gt;61 -->\n<g id=\"edge61\" class=\"edge\">\n<title>33&#45;&gt;61</title>\n<path fill=\"none\" stroke=\"#000000\" d=\"M1299.5,-1544.9465C1299.5,-1534.2621 1299.5,-1522.4254 1299.5,-1511.5742\"/>\n<polygon fill=\"#000000\" stroke=\"#000000\" points=\"1303.0001,-1511.5421 1299.5,-1501.5422 1296.0001,-1511.5422 1303.0001,-1511.5421\"/>\n</g>\n<!-- 35 -->\n<g id=\"node36\" class=\"node\">\n<title>35</title>\n<polygon fill=\"none\" stroke=\"#000000\" points=\"1064,-1397.5 965,-1397.5 965,-1344.5 1064,-1344.5 1064,-1397.5\"/>\n<text text-anchor=\"middle\" x=\"1014.5\" y=\"-1382.3\" font-family=\"Helvetica,sans-Serif\" font-size=\"14.00\" fill=\"#000000\">gini = 0.0</text>\n<text text-anchor=\"middle\" x=\"1014.5\" y=\"-1367.3\" font-family=\"Helvetica,sans-Serif\" font-size=\"14.00\" fill=\"#000000\">samples = 1</text>\n<text text-anchor=\"middle\" x=\"1014.5\" y=\"-1352.3\" font-family=\"Helvetica,sans-Serif\" font-size=\"14.00\" fill=\"#000000\">value = [1, 0]</text>\n</g>\n<!-- 34&#45;&gt;35 -->\n<g id=\"edge35\" class=\"edge\">\n<title>34&#45;&gt;35</title>\n<path fill=\"none\" stroke=\"#000000\" d=\"M1095.8801,-1440.9465C1082.1676,-1429.1606 1066.8239,-1415.9726 1053.1873,-1404.2519\"/>\n<polygon fill=\"#000000\" stroke=\"#000000\" points=\"1055.2459,-1401.4061 1045.3808,-1397.5422 1050.6831,-1406.7147 1055.2459,-1401.4061\"/>\n</g>\n<!-- 36 -->\n<g id=\"node37\" class=\"node\">\n<title>36</title>\n<polygon fill=\"none\" stroke=\"#000000\" points=\"1189,-1405 1082,-1405 1082,-1337 1189,-1337 1189,-1405\"/>\n<text text-anchor=\"middle\" x=\"1135.5\" y=\"-1389.8\" font-family=\"Helvetica,sans-Serif\" font-size=\"14.00\" fill=\"#000000\">X[3] &lt;= 0.5</text>\n<text text-anchor=\"middle\" x=\"1135.5\" y=\"-1374.8\" font-family=\"Helvetica,sans-Serif\" font-size=\"14.00\" fill=\"#000000\">gini = 0.332</text>\n<text text-anchor=\"middle\" x=\"1135.5\" y=\"-1359.8\" font-family=\"Helvetica,sans-Serif\" font-size=\"14.00\" fill=\"#000000\">samples = 38</text>\n<text text-anchor=\"middle\" x=\"1135.5\" y=\"-1344.8\" font-family=\"Helvetica,sans-Serif\" font-size=\"14.00\" fill=\"#000000\">value = [8, 30]</text>\n</g>\n<!-- 34&#45;&gt;36 -->\n<g id=\"edge36\" class=\"edge\">\n<title>34&#45;&gt;36</title>\n<path fill=\"none\" stroke=\"#000000\" d=\"M1135.5,-1440.9465C1135.5,-1432.776 1135.5,-1423.9318 1135.5,-1415.3697\"/>\n<polygon fill=\"#000000\" stroke=\"#000000\" points=\"1139.0001,-1415.13 1135.5,-1405.13 1132.0001,-1415.13 1139.0001,-1415.13\"/>\n</g>\n<!-- 37 -->\n<g id=\"node38\" class=\"node\">\n<title>37</title>\n<polygon fill=\"none\" stroke=\"#000000\" points=\"1047,-1301 940,-1301 940,-1233 1047,-1233 1047,-1301\"/>\n<text text-anchor=\"middle\" x=\"993.5\" y=\"-1285.8\" font-family=\"Helvetica,sans-Serif\" font-size=\"14.00\" fill=\"#000000\">X[1] &lt;= 21.5</text>\n<text text-anchor=\"middle\" x=\"993.5\" y=\"-1270.8\" font-family=\"Helvetica,sans-Serif\" font-size=\"14.00\" fill=\"#000000\">gini = 0.291</text>\n<text text-anchor=\"middle\" x=\"993.5\" y=\"-1255.8\" font-family=\"Helvetica,sans-Serif\" font-size=\"14.00\" fill=\"#000000\">samples = 34</text>\n<text text-anchor=\"middle\" x=\"993.5\" y=\"-1240.8\" font-family=\"Helvetica,sans-Serif\" font-size=\"14.00\" fill=\"#000000\">value = [6, 28]</text>\n</g>\n<!-- 36&#45;&gt;37 -->\n<g id=\"edge37\" class=\"edge\">\n<title>36&#45;&gt;37</title>\n<path fill=\"none\" stroke=\"#000000\" d=\"M1089.0039,-1336.9465C1076.0092,-1327.4293 1061.7663,-1316.9978 1048.3379,-1307.163\"/>\n<polygon fill=\"#000000\" stroke=\"#000000\" points=\"1050.2363,-1304.2151 1040.1006,-1301.13 1046.1002,-1309.8624 1050.2363,-1304.2151\"/>\n</g>\n<!-- 58 -->\n<g id=\"node59\" class=\"node\">\n<title>58</title>\n<polygon fill=\"none\" stroke=\"#000000\" points=\"1185,-1301 1086,-1301 1086,-1233 1185,-1233 1185,-1301\"/>\n<text text-anchor=\"middle\" x=\"1135.5\" y=\"-1285.8\" font-family=\"Helvetica,sans-Serif\" font-size=\"14.00\" fill=\"#000000\">X[1] &lt;= 22.0</text>\n<text text-anchor=\"middle\" x=\"1135.5\" y=\"-1270.8\" font-family=\"Helvetica,sans-Serif\" font-size=\"14.00\" fill=\"#000000\">gini = 0.5</text>\n<text text-anchor=\"middle\" x=\"1135.5\" y=\"-1255.8\" font-family=\"Helvetica,sans-Serif\" font-size=\"14.00\" fill=\"#000000\">samples = 4</text>\n<text text-anchor=\"middle\" x=\"1135.5\" y=\"-1240.8\" font-family=\"Helvetica,sans-Serif\" font-size=\"14.00\" fill=\"#000000\">value = [2, 2]</text>\n</g>\n<!-- 36&#45;&gt;58 -->\n<g id=\"edge58\" class=\"edge\">\n<title>36&#45;&gt;58</title>\n<path fill=\"none\" stroke=\"#000000\" d=\"M1135.5,-1336.9465C1135.5,-1328.776 1135.5,-1319.9318 1135.5,-1311.3697\"/>\n<polygon fill=\"#000000\" stroke=\"#000000\" points=\"1139.0001,-1311.13 1135.5,-1301.13 1132.0001,-1311.13 1139.0001,-1311.13\"/>\n</g>\n<!-- 38 -->\n<g id=\"node39\" class=\"node\">\n<title>38</title>\n<polygon fill=\"none\" stroke=\"#000000\" points=\"922,-1197 819,-1197 819,-1129 922,-1129 922,-1197\"/>\n<text text-anchor=\"middle\" x=\"870.5\" y=\"-1181.8\" font-family=\"Helvetica,sans-Serif\" font-size=\"14.00\" fill=\"#000000\">X[4] &lt;= 7.742</text>\n<text text-anchor=\"middle\" x=\"870.5\" y=\"-1166.8\" font-family=\"Helvetica,sans-Serif\" font-size=\"14.00\" fill=\"#000000\">gini = 0.444</text>\n<text text-anchor=\"middle\" x=\"870.5\" y=\"-1151.8\" font-family=\"Helvetica,sans-Serif\" font-size=\"14.00\" fill=\"#000000\">samples = 9</text>\n<text text-anchor=\"middle\" x=\"870.5\" y=\"-1136.8\" font-family=\"Helvetica,sans-Serif\" font-size=\"14.00\" fill=\"#000000\">value = [3, 6]</text>\n</g>\n<!-- 37&#45;&gt;38 -->\n<g id=\"edge38\" class=\"edge\">\n<title>37&#45;&gt;38</title>\n<path fill=\"none\" stroke=\"#000000\" d=\"M953.2252,-1232.9465C942.1816,-1223.6088 930.0972,-1213.3911 918.6596,-1203.7203\"/>\n<polygon fill=\"#000000\" stroke=\"#000000\" points=\"920.7614,-1200.914 910.8653,-1197.13 916.2417,-1206.2594 920.7614,-1200.914\"/>\n</g>\n<!-- 43 -->\n<g id=\"node44\" class=\"node\">\n<title>43</title>\n<polygon fill=\"none\" stroke=\"#000000\" points=\"1047,-1197 940,-1197 940,-1129 1047,-1129 1047,-1197\"/>\n<text text-anchor=\"middle\" x=\"993.5\" y=\"-1181.8\" font-family=\"Helvetica,sans-Serif\" font-size=\"14.00\" fill=\"#000000\">X[4] &lt;= 7.902</text>\n<text text-anchor=\"middle\" x=\"993.5\" y=\"-1166.8\" font-family=\"Helvetica,sans-Serif\" font-size=\"14.00\" fill=\"#000000\">gini = 0.211</text>\n<text text-anchor=\"middle\" x=\"993.5\" y=\"-1151.8\" font-family=\"Helvetica,sans-Serif\" font-size=\"14.00\" fill=\"#000000\">samples = 25</text>\n<text text-anchor=\"middle\" x=\"993.5\" y=\"-1136.8\" font-family=\"Helvetica,sans-Serif\" font-size=\"14.00\" fill=\"#000000\">value = [3, 22]</text>\n</g>\n<!-- 37&#45;&gt;43 -->\n<g id=\"edge43\" class=\"edge\">\n<title>37&#45;&gt;43</title>\n<path fill=\"none\" stroke=\"#000000\" d=\"M993.5,-1232.9465C993.5,-1224.776 993.5,-1215.9318 993.5,-1207.3697\"/>\n<polygon fill=\"#000000\" stroke=\"#000000\" points=\"997.0001,-1207.13 993.5,-1197.13 990.0001,-1207.13 997.0001,-1207.13\"/>\n</g>\n<!-- 39 -->\n<g id=\"node40\" class=\"node\">\n<title>39</title>\n<polygon fill=\"none\" stroke=\"#000000\" points=\"801,-1085.5 702,-1085.5 702,-1032.5 801,-1032.5 801,-1085.5\"/>\n<text text-anchor=\"middle\" x=\"751.5\" y=\"-1070.3\" font-family=\"Helvetica,sans-Serif\" font-size=\"14.00\" fill=\"#000000\">gini = 0.0</text>\n<text text-anchor=\"middle\" x=\"751.5\" y=\"-1055.3\" font-family=\"Helvetica,sans-Serif\" font-size=\"14.00\" fill=\"#000000\">samples = 4</text>\n<text text-anchor=\"middle\" x=\"751.5\" y=\"-1040.3\" font-family=\"Helvetica,sans-Serif\" font-size=\"14.00\" fill=\"#000000\">value = [0, 4]</text>\n</g>\n<!-- 38&#45;&gt;39 -->\n<g id=\"edge39\" class=\"edge\">\n<title>38&#45;&gt;39</title>\n<path fill=\"none\" stroke=\"#000000\" d=\"M831.5349,-1128.9465C818.0491,-1117.1606 802.9591,-1103.9726 789.5479,-1092.2519\"/>\n<polygon fill=\"#000000\" stroke=\"#000000\" points=\"791.7033,-1089.4874 781.8704,-1085.5422 787.0969,-1094.7582 791.7033,-1089.4874\"/>\n</g>\n<!-- 40 -->\n<g id=\"node41\" class=\"node\">\n<title>40</title>\n<polygon fill=\"none\" stroke=\"#000000\" points=\"922,-1093 819,-1093 819,-1025 922,-1025 922,-1093\"/>\n<text text-anchor=\"middle\" x=\"870.5\" y=\"-1077.8\" font-family=\"Helvetica,sans-Serif\" font-size=\"14.00\" fill=\"#000000\">X[4] &lt;= 7.867</text>\n<text text-anchor=\"middle\" x=\"870.5\" y=\"-1062.8\" font-family=\"Helvetica,sans-Serif\" font-size=\"14.00\" fill=\"#000000\">gini = 0.48</text>\n<text text-anchor=\"middle\" x=\"870.5\" y=\"-1047.8\" font-family=\"Helvetica,sans-Serif\" font-size=\"14.00\" fill=\"#000000\">samples = 5</text>\n<text text-anchor=\"middle\" x=\"870.5\" y=\"-1032.8\" font-family=\"Helvetica,sans-Serif\" font-size=\"14.00\" fill=\"#000000\">value = [3, 2]</text>\n</g>\n<!-- 38&#45;&gt;40 -->\n<g id=\"edge40\" class=\"edge\">\n<title>38&#45;&gt;40</title>\n<path fill=\"none\" stroke=\"#000000\" d=\"M870.5,-1128.9465C870.5,-1120.776 870.5,-1111.9318 870.5,-1103.3697\"/>\n<polygon fill=\"#000000\" stroke=\"#000000\" points=\"874.0001,-1103.13 870.5,-1093.13 867.0001,-1103.13 874.0001,-1103.13\"/>\n</g>\n<!-- 41 -->\n<g id=\"node42\" class=\"node\">\n<title>41</title>\n<polygon fill=\"none\" stroke=\"#000000\" points=\"803,-981.5 704,-981.5 704,-928.5 803,-928.5 803,-981.5\"/>\n<text text-anchor=\"middle\" x=\"753.5\" y=\"-966.3\" font-family=\"Helvetica,sans-Serif\" font-size=\"14.00\" fill=\"#000000\">gini = 0.0</text>\n<text text-anchor=\"middle\" x=\"753.5\" y=\"-951.3\" font-family=\"Helvetica,sans-Serif\" font-size=\"14.00\" fill=\"#000000\">samples = 3</text>\n<text text-anchor=\"middle\" x=\"753.5\" y=\"-936.3\" font-family=\"Helvetica,sans-Serif\" font-size=\"14.00\" fill=\"#000000\">value = [3, 0]</text>\n</g>\n<!-- 40&#45;&gt;41 -->\n<g id=\"edge41\" class=\"edge\">\n<title>40&#45;&gt;41</title>\n<path fill=\"none\" stroke=\"#000000\" d=\"M832.1898,-1024.9465C818.9306,-1013.1606 804.0942,-999.9726 790.9084,-988.2519\"/>\n<polygon fill=\"#000000\" stroke=\"#000000\" points=\"793.1593,-985.5699 783.3599,-981.5422 788.5088,-990.8018 793.1593,-985.5699\"/>\n</g>\n<!-- 42 -->\n<g id=\"node43\" class=\"node\">\n<title>42</title>\n<polygon fill=\"none\" stroke=\"#000000\" points=\"920,-981.5 821,-981.5 821,-928.5 920,-928.5 920,-981.5\"/>\n<text text-anchor=\"middle\" x=\"870.5\" y=\"-966.3\" font-family=\"Helvetica,sans-Serif\" font-size=\"14.00\" fill=\"#000000\">gini = 0.0</text>\n<text text-anchor=\"middle\" x=\"870.5\" y=\"-951.3\" font-family=\"Helvetica,sans-Serif\" font-size=\"14.00\" fill=\"#000000\">samples = 2</text>\n<text text-anchor=\"middle\" x=\"870.5\" y=\"-936.3\" font-family=\"Helvetica,sans-Serif\" font-size=\"14.00\" fill=\"#000000\">value = [0, 2]</text>\n</g>\n<!-- 40&#45;&gt;42 -->\n<g id=\"edge42\" class=\"edge\">\n<title>40&#45;&gt;42</title>\n<path fill=\"none\" stroke=\"#000000\" d=\"M870.5,-1024.9465C870.5,-1014.2621 870.5,-1002.4254 870.5,-991.5742\"/>\n<polygon fill=\"#000000\" stroke=\"#000000\" points=\"874.0001,-991.5421 870.5,-981.5422 867.0001,-991.5422 874.0001,-991.5421\"/>\n</g>\n<!-- 44 -->\n<g id=\"node45\" class=\"node\">\n<title>44</title>\n<polygon fill=\"none\" stroke=\"#000000\" points=\"1047,-1093 940,-1093 940,-1025 1047,-1025 1047,-1093\"/>\n<text text-anchor=\"middle\" x=\"993.5\" y=\"-1077.8\" font-family=\"Helvetica,sans-Serif\" font-size=\"14.00\" fill=\"#000000\">X[4] &lt;= 7.681</text>\n<text text-anchor=\"middle\" x=\"993.5\" y=\"-1062.8\" font-family=\"Helvetica,sans-Serif\" font-size=\"14.00\" fill=\"#000000\">gini = 0.165</text>\n<text text-anchor=\"middle\" x=\"993.5\" y=\"-1047.8\" font-family=\"Helvetica,sans-Serif\" font-size=\"14.00\" fill=\"#000000\">samples = 22</text>\n<text text-anchor=\"middle\" x=\"993.5\" y=\"-1032.8\" font-family=\"Helvetica,sans-Serif\" font-size=\"14.00\" fill=\"#000000\">value = [2, 20]</text>\n</g>\n<!-- 43&#45;&gt;44 -->\n<g id=\"edge44\" class=\"edge\">\n<title>43&#45;&gt;44</title>\n<path fill=\"none\" stroke=\"#000000\" d=\"M993.5,-1128.9465C993.5,-1120.776 993.5,-1111.9318 993.5,-1103.3697\"/>\n<polygon fill=\"#000000\" stroke=\"#000000\" points=\"997.0001,-1103.13 993.5,-1093.13 990.0001,-1103.13 997.0001,-1103.13\"/>\n</g>\n<!-- 55 -->\n<g id=\"node56\" class=\"node\">\n<title>55</title>\n<polygon fill=\"none\" stroke=\"#000000\" points=\"1279,-1093 1180,-1093 1180,-1025 1279,-1025 1279,-1093\"/>\n<text text-anchor=\"middle\" x=\"1229.5\" y=\"-1077.8\" font-family=\"Helvetica,sans-Serif\" font-size=\"14.00\" fill=\"#000000\">X[1] &lt;= 24.5</text>\n<text text-anchor=\"middle\" x=\"1229.5\" y=\"-1062.8\" font-family=\"Helvetica,sans-Serif\" font-size=\"14.00\" fill=\"#000000\">gini = 0.444</text>\n<text text-anchor=\"middle\" x=\"1229.5\" y=\"-1047.8\" font-family=\"Helvetica,sans-Serif\" font-size=\"14.00\" fill=\"#000000\">samples = 3</text>\n<text text-anchor=\"middle\" x=\"1229.5\" y=\"-1032.8\" font-family=\"Helvetica,sans-Serif\" font-size=\"14.00\" fill=\"#000000\">value = [1, 2]</text>\n</g>\n<!-- 43&#45;&gt;55 -->\n<g id=\"edge55\" class=\"edge\">\n<title>43&#45;&gt;55</title>\n<path fill=\"none\" stroke=\"#000000\" d=\"M1047.0656,-1133.1164C1049.9024,-1131.6936 1052.726,-1130.3129 1055.5,-1129 1092.8681,-1111.3144 1135.9703,-1093.953 1169.927,-1080.9445\"/>\n<polygon fill=\"#000000\" stroke=\"#000000\" points=\"1171.6009,-1084.0524 1179.7012,-1077.2234 1169.1102,-1077.5105 1171.6009,-1084.0524\"/>\n</g>\n<!-- 45 -->\n<g id=\"node46\" class=\"node\">\n<title>45</title>\n<polygon fill=\"none\" stroke=\"#000000\" points=\"1037,-989 938,-989 938,-921 1037,-921 1037,-989\"/>\n<text text-anchor=\"middle\" x=\"987.5\" y=\"-973.8\" font-family=\"Helvetica,sans-Serif\" font-size=\"14.00\" fill=\"#000000\">X[4] &lt;= 7.59</text>\n<text text-anchor=\"middle\" x=\"987.5\" y=\"-958.8\" font-family=\"Helvetica,sans-Serif\" font-size=\"14.00\" fill=\"#000000\">gini = 0.32</text>\n<text text-anchor=\"middle\" x=\"987.5\" y=\"-943.8\" font-family=\"Helvetica,sans-Serif\" font-size=\"14.00\" fill=\"#000000\">samples = 5</text>\n<text text-anchor=\"middle\" x=\"987.5\" y=\"-928.8\" font-family=\"Helvetica,sans-Serif\" font-size=\"14.00\" fill=\"#000000\">value = [1, 4]</text>\n</g>\n<!-- 44&#45;&gt;45 -->\n<g id=\"edge45\" class=\"edge\">\n<title>44&#45;&gt;45</title>\n<path fill=\"none\" stroke=\"#000000\" d=\"M991.5354,-1024.9465C991.064,-1016.776 990.5538,-1007.9318 990.0598,-999.3697\"/>\n<polygon fill=\"#000000\" stroke=\"#000000\" points=\"993.5393,-998.9118 989.469,-989.13 986.5509,-999.315 993.5393,-998.9118\"/>\n</g>\n<!-- 48 -->\n<g id=\"node49\" class=\"node\">\n<title>48</title>\n<polygon fill=\"none\" stroke=\"#000000\" points=\"1162,-989 1055,-989 1055,-921 1162,-921 1162,-989\"/>\n<text text-anchor=\"middle\" x=\"1108.5\" y=\"-973.8\" font-family=\"Helvetica,sans-Serif\" font-size=\"14.00\" fill=\"#000000\">X[4] &lt;= 7.763</text>\n<text text-anchor=\"middle\" x=\"1108.5\" y=\"-958.8\" font-family=\"Helvetica,sans-Serif\" font-size=\"14.00\" fill=\"#000000\">gini = 0.111</text>\n<text text-anchor=\"middle\" x=\"1108.5\" y=\"-943.8\" font-family=\"Helvetica,sans-Serif\" font-size=\"14.00\" fill=\"#000000\">samples = 17</text>\n<text text-anchor=\"middle\" x=\"1108.5\" y=\"-928.8\" font-family=\"Helvetica,sans-Serif\" font-size=\"14.00\" fill=\"#000000\">value = [1, 16]</text>\n</g>\n<!-- 44&#45;&gt;48 -->\n<g id=\"edge48\" class=\"edge\">\n<title>44&#45;&gt;48</title>\n<path fill=\"none\" stroke=\"#000000\" d=\"M1031.1553,-1024.9465C1041.3813,-1015.6986 1052.5618,-1005.5876 1063.1641,-995.9994\"/>\n<polygon fill=\"#000000\" stroke=\"#000000\" points=\"1065.6908,-998.4334 1070.7601,-989.13 1060.9956,-993.2416 1065.6908,-998.4334\"/>\n</g>\n<!-- 46 -->\n<g id=\"node47\" class=\"node\">\n<title>46</title>\n<polygon fill=\"none\" stroke=\"#000000\" points=\"920,-877.5 821,-877.5 821,-824.5 920,-824.5 920,-877.5\"/>\n<text text-anchor=\"middle\" x=\"870.5\" y=\"-862.3\" font-family=\"Helvetica,sans-Serif\" font-size=\"14.00\" fill=\"#000000\">gini = 0.0</text>\n<text text-anchor=\"middle\" x=\"870.5\" y=\"-847.3\" font-family=\"Helvetica,sans-Serif\" font-size=\"14.00\" fill=\"#000000\">samples = 4</text>\n<text text-anchor=\"middle\" x=\"870.5\" y=\"-832.3\" font-family=\"Helvetica,sans-Serif\" font-size=\"14.00\" fill=\"#000000\">value = [0, 4]</text>\n</g>\n<!-- 45&#45;&gt;46 -->\n<g id=\"edge46\" class=\"edge\">\n<title>45&#45;&gt;46</title>\n<path fill=\"none\" stroke=\"#000000\" d=\"M949.1898,-920.9465C935.9306,-909.1606 921.0942,-895.9726 907.9084,-884.2519\"/>\n<polygon fill=\"#000000\" stroke=\"#000000\" points=\"910.1593,-881.5699 900.3599,-877.5422 905.5088,-886.8018 910.1593,-881.5699\"/>\n</g>\n<!-- 47 -->\n<g id=\"node48\" class=\"node\">\n<title>47</title>\n<polygon fill=\"none\" stroke=\"#000000\" points=\"1037,-877.5 938,-877.5 938,-824.5 1037,-824.5 1037,-877.5\"/>\n<text text-anchor=\"middle\" x=\"987.5\" y=\"-862.3\" font-family=\"Helvetica,sans-Serif\" font-size=\"14.00\" fill=\"#000000\">gini = 0.0</text>\n<text text-anchor=\"middle\" x=\"987.5\" y=\"-847.3\" font-family=\"Helvetica,sans-Serif\" font-size=\"14.00\" fill=\"#000000\">samples = 1</text>\n<text text-anchor=\"middle\" x=\"987.5\" y=\"-832.3\" font-family=\"Helvetica,sans-Serif\" font-size=\"14.00\" fill=\"#000000\">value = [1, 0]</text>\n</g>\n<!-- 45&#45;&gt;47 -->\n<g id=\"edge47\" class=\"edge\">\n<title>45&#45;&gt;47</title>\n<path fill=\"none\" stroke=\"#000000\" d=\"M987.5,-920.9465C987.5,-910.2621 987.5,-898.4254 987.5,-887.5742\"/>\n<polygon fill=\"#000000\" stroke=\"#000000\" points=\"991.0001,-887.5421 987.5,-877.5422 984.0001,-887.5422 991.0001,-887.5421\"/>\n</g>\n<!-- 49 -->\n<g id=\"node50\" class=\"node\">\n<title>49</title>\n<polygon fill=\"none\" stroke=\"#000000\" points=\"1162,-885 1055,-885 1055,-817 1162,-817 1162,-885\"/>\n<text text-anchor=\"middle\" x=\"1108.5\" y=\"-869.8\" font-family=\"Helvetica,sans-Serif\" font-size=\"14.00\" fill=\"#000000\">X[4] &lt;= 7.744</text>\n<text text-anchor=\"middle\" x=\"1108.5\" y=\"-854.8\" font-family=\"Helvetica,sans-Serif\" font-size=\"14.00\" fill=\"#000000\">gini = 0.165</text>\n<text text-anchor=\"middle\" x=\"1108.5\" y=\"-839.8\" font-family=\"Helvetica,sans-Serif\" font-size=\"14.00\" fill=\"#000000\">samples = 11</text>\n<text text-anchor=\"middle\" x=\"1108.5\" y=\"-824.8\" font-family=\"Helvetica,sans-Serif\" font-size=\"14.00\" fill=\"#000000\">value = [1, 10]</text>\n</g>\n<!-- 48&#45;&gt;49 -->\n<g id=\"edge49\" class=\"edge\">\n<title>48&#45;&gt;49</title>\n<path fill=\"none\" stroke=\"#000000\" d=\"M1108.5,-920.9465C1108.5,-912.776 1108.5,-903.9318 1108.5,-895.3697\"/>\n<polygon fill=\"#000000\" stroke=\"#000000\" points=\"1112.0001,-895.13 1108.5,-885.13 1105.0001,-895.13 1112.0001,-895.13\"/>\n</g>\n<!-- 54 -->\n<g id=\"node55\" class=\"node\">\n<title>54</title>\n<polygon fill=\"none\" stroke=\"#000000\" points=\"1279,-877.5 1180,-877.5 1180,-824.5 1279,-824.5 1279,-877.5\"/>\n<text text-anchor=\"middle\" x=\"1229.5\" y=\"-862.3\" font-family=\"Helvetica,sans-Serif\" font-size=\"14.00\" fill=\"#000000\">gini = 0.0</text>\n<text text-anchor=\"middle\" x=\"1229.5\" y=\"-847.3\" font-family=\"Helvetica,sans-Serif\" font-size=\"14.00\" fill=\"#000000\">samples = 6</text>\n<text text-anchor=\"middle\" x=\"1229.5\" y=\"-832.3\" font-family=\"Helvetica,sans-Serif\" font-size=\"14.00\" fill=\"#000000\">value = [0, 6]</text>\n</g>\n<!-- 48&#45;&gt;54 -->\n<g id=\"edge54\" class=\"edge\">\n<title>48&#45;&gt;54</title>\n<path fill=\"none\" stroke=\"#000000\" d=\"M1148.1199,-920.9465C1161.8324,-909.1606 1177.1761,-895.9726 1190.8127,-884.2519\"/>\n<polygon fill=\"#000000\" stroke=\"#000000\" points=\"1193.3169,-886.7147 1198.6192,-877.5422 1188.7541,-881.4061 1193.3169,-886.7147\"/>\n</g>\n<!-- 50 -->\n<g id=\"node51\" class=\"node\">\n<title>50</title>\n<polygon fill=\"none\" stroke=\"#000000\" points=\"1099,-773.5 1000,-773.5 1000,-720.5 1099,-720.5 1099,-773.5\"/>\n<text text-anchor=\"middle\" x=\"1049.5\" y=\"-758.3\" font-family=\"Helvetica,sans-Serif\" font-size=\"14.00\" fill=\"#000000\">gini = 0.0</text>\n<text text-anchor=\"middle\" x=\"1049.5\" y=\"-743.3\" font-family=\"Helvetica,sans-Serif\" font-size=\"14.00\" fill=\"#000000\">samples = 2</text>\n<text text-anchor=\"middle\" x=\"1049.5\" y=\"-728.3\" font-family=\"Helvetica,sans-Serif\" font-size=\"14.00\" fill=\"#000000\">value = [0, 2]</text>\n</g>\n<!-- 49&#45;&gt;50 -->\n<g id=\"edge50\" class=\"edge\">\n<title>49&#45;&gt;50</title>\n<path fill=\"none\" stroke=\"#000000\" d=\"M1089.1812,-816.9465C1082.9324,-805.9316 1075.9888,-793.6922 1069.6793,-782.5703\"/>\n<polygon fill=\"#000000\" stroke=\"#000000\" points=\"1072.5362,-780.513 1064.5576,-773.5422 1066.4477,-783.967 1072.5362,-780.513\"/>\n</g>\n<!-- 51 -->\n<g id=\"node52\" class=\"node\">\n<title>51</title>\n<polygon fill=\"none\" stroke=\"#000000\" points=\"1220,-781 1117,-781 1117,-713 1220,-713 1220,-781\"/>\n<text text-anchor=\"middle\" x=\"1168.5\" y=\"-765.8\" font-family=\"Helvetica,sans-Serif\" font-size=\"14.00\" fill=\"#000000\">X[1] &lt;= 25.85</text>\n<text text-anchor=\"middle\" x=\"1168.5\" y=\"-750.8\" font-family=\"Helvetica,sans-Serif\" font-size=\"14.00\" fill=\"#000000\">gini = 0.198</text>\n<text text-anchor=\"middle\" x=\"1168.5\" y=\"-735.8\" font-family=\"Helvetica,sans-Serif\" font-size=\"14.00\" fill=\"#000000\">samples = 9</text>\n<text text-anchor=\"middle\" x=\"1168.5\" y=\"-720.8\" font-family=\"Helvetica,sans-Serif\" font-size=\"14.00\" fill=\"#000000\">value = [1, 8]</text>\n</g>\n<!-- 49&#45;&gt;51 -->\n<g id=\"edge51\" class=\"edge\">\n<title>49&#45;&gt;51</title>\n<path fill=\"none\" stroke=\"#000000\" d=\"M1128.1462,-816.9465C1133.119,-808.3271 1138.5243,-798.9579 1143.7148,-789.9611\"/>\n<polygon fill=\"#000000\" stroke=\"#000000\" points=\"1146.844,-791.5409 1148.8096,-781.13 1140.7807,-788.0428 1146.844,-791.5409\"/>\n</g>\n<!-- 52 -->\n<g id=\"node53\" class=\"node\">\n<title>52</title>\n<polygon fill=\"none\" stroke=\"#000000\" points=\"1160,-669.5 1061,-669.5 1061,-616.5 1160,-616.5 1160,-669.5\"/>\n<text text-anchor=\"middle\" x=\"1110.5\" y=\"-654.3\" font-family=\"Helvetica,sans-Serif\" font-size=\"14.00\" fill=\"#000000\">gini = 0.0</text>\n<text text-anchor=\"middle\" x=\"1110.5\" y=\"-639.3\" font-family=\"Helvetica,sans-Serif\" font-size=\"14.00\" fill=\"#000000\">samples = 1</text>\n<text text-anchor=\"middle\" x=\"1110.5\" y=\"-624.3\" font-family=\"Helvetica,sans-Serif\" font-size=\"14.00\" fill=\"#000000\">value = [0, 1]</text>\n</g>\n<!-- 51&#45;&gt;52 -->\n<g id=\"edge52\" class=\"edge\">\n<title>51&#45;&gt;52</title>\n<path fill=\"none\" stroke=\"#000000\" d=\"M1149.5086,-712.9465C1143.3657,-701.9316 1136.5399,-689.6922 1130.3373,-678.5703\"/>\n<polygon fill=\"#000000\" stroke=\"#000000\" points=\"1133.2299,-676.5711 1125.3024,-669.5422 1127.1163,-679.9806 1133.2299,-676.5711\"/>\n</g>\n<!-- 53 -->\n<g id=\"node54\" class=\"node\">\n<title>53</title>\n<polygon fill=\"none\" stroke=\"#000000\" points=\"1277,-669.5 1178,-669.5 1178,-616.5 1277,-616.5 1277,-669.5\"/>\n<text text-anchor=\"middle\" x=\"1227.5\" y=\"-654.3\" font-family=\"Helvetica,sans-Serif\" font-size=\"14.00\" fill=\"#000000\">gini = 0.219</text>\n<text text-anchor=\"middle\" x=\"1227.5\" y=\"-639.3\" font-family=\"Helvetica,sans-Serif\" font-size=\"14.00\" fill=\"#000000\">samples = 8</text>\n<text text-anchor=\"middle\" x=\"1227.5\" y=\"-624.3\" font-family=\"Helvetica,sans-Serif\" font-size=\"14.00\" fill=\"#000000\">value = [1, 7]</text>\n</g>\n<!-- 51&#45;&gt;53 -->\n<g id=\"edge53\" class=\"edge\">\n<title>51&#45;&gt;53</title>\n<path fill=\"none\" stroke=\"#000000\" d=\"M1187.8188,-712.9465C1194.0676,-701.9316 1201.0112,-689.6922 1207.3207,-678.5703\"/>\n<polygon fill=\"#000000\" stroke=\"#000000\" points=\"1210.5523,-679.967 1212.4424,-669.5422 1204.4638,-676.513 1210.5523,-679.967\"/>\n</g>\n<!-- 56 -->\n<g id=\"node57\" class=\"node\">\n<title>56</title>\n<polygon fill=\"none\" stroke=\"#000000\" points=\"1279,-981.5 1180,-981.5 1180,-928.5 1279,-928.5 1279,-981.5\"/>\n<text text-anchor=\"middle\" x=\"1229.5\" y=\"-966.3\" font-family=\"Helvetica,sans-Serif\" font-size=\"14.00\" fill=\"#000000\">gini = 0.0</text>\n<text text-anchor=\"middle\" x=\"1229.5\" y=\"-951.3\" font-family=\"Helvetica,sans-Serif\" font-size=\"14.00\" fill=\"#000000\">samples = 1</text>\n<text text-anchor=\"middle\" x=\"1229.5\" y=\"-936.3\" font-family=\"Helvetica,sans-Serif\" font-size=\"14.00\" fill=\"#000000\">value = [1, 0]</text>\n</g>\n<!-- 55&#45;&gt;56 -->\n<g id=\"edge56\" class=\"edge\">\n<title>55&#45;&gt;56</title>\n<path fill=\"none\" stroke=\"#000000\" d=\"M1229.5,-1024.9465C1229.5,-1014.2621 1229.5,-1002.4254 1229.5,-991.5742\"/>\n<polygon fill=\"#000000\" stroke=\"#000000\" points=\"1233.0001,-991.5421 1229.5,-981.5422 1226.0001,-991.5422 1233.0001,-991.5421\"/>\n</g>\n<!-- 57 -->\n<g id=\"node58\" class=\"node\">\n<title>57</title>\n<polygon fill=\"none\" stroke=\"#000000\" points=\"1396,-981.5 1297,-981.5 1297,-928.5 1396,-928.5 1396,-981.5\"/>\n<text text-anchor=\"middle\" x=\"1346.5\" y=\"-966.3\" font-family=\"Helvetica,sans-Serif\" font-size=\"14.00\" fill=\"#000000\">gini = 0.0</text>\n<text text-anchor=\"middle\" x=\"1346.5\" y=\"-951.3\" font-family=\"Helvetica,sans-Serif\" font-size=\"14.00\" fill=\"#000000\">samples = 2</text>\n<text text-anchor=\"middle\" x=\"1346.5\" y=\"-936.3\" font-family=\"Helvetica,sans-Serif\" font-size=\"14.00\" fill=\"#000000\">value = [0, 2]</text>\n</g>\n<!-- 55&#45;&gt;57 -->\n<g id=\"edge57\" class=\"edge\">\n<title>55&#45;&gt;57</title>\n<path fill=\"none\" stroke=\"#000000\" d=\"M1267.8102,-1024.9465C1281.0694,-1013.1606 1295.9058,-999.9726 1309.0916,-988.2519\"/>\n<polygon fill=\"#000000\" stroke=\"#000000\" points=\"1311.4912,-990.8018 1316.6401,-981.5422 1306.8407,-985.5699 1311.4912,-990.8018\"/>\n</g>\n<!-- 59 -->\n<g id=\"node60\" class=\"node\">\n<title>59</title>\n<polygon fill=\"none\" stroke=\"#000000\" points=\"1164,-1189.5 1065,-1189.5 1065,-1136.5 1164,-1136.5 1164,-1189.5\"/>\n<text text-anchor=\"middle\" x=\"1114.5\" y=\"-1174.3\" font-family=\"Helvetica,sans-Serif\" font-size=\"14.00\" fill=\"#000000\">gini = 0.0</text>\n<text text-anchor=\"middle\" x=\"1114.5\" y=\"-1159.3\" font-family=\"Helvetica,sans-Serif\" font-size=\"14.00\" fill=\"#000000\">samples = 2</text>\n<text text-anchor=\"middle\" x=\"1114.5\" y=\"-1144.3\" font-family=\"Helvetica,sans-Serif\" font-size=\"14.00\" fill=\"#000000\">value = [0, 2]</text>\n</g>\n<!-- 58&#45;&gt;59 -->\n<g id=\"edge59\" class=\"edge\">\n<title>58&#45;&gt;59</title>\n<path fill=\"none\" stroke=\"#000000\" d=\"M1128.6238,-1232.9465C1126.4664,-1222.2621 1124.0763,-1210.4254 1121.8852,-1199.5742\"/>\n<polygon fill=\"#000000\" stroke=\"#000000\" points=\"1125.2696,-1198.6516 1119.8595,-1189.5422 1118.4081,-1200.0371 1125.2696,-1198.6516\"/>\n</g>\n<!-- 60 -->\n<g id=\"node61\" class=\"node\">\n<title>60</title>\n<polygon fill=\"none\" stroke=\"#000000\" points=\"1281,-1189.5 1182,-1189.5 1182,-1136.5 1281,-1136.5 1281,-1189.5\"/>\n<text text-anchor=\"middle\" x=\"1231.5\" y=\"-1174.3\" font-family=\"Helvetica,sans-Serif\" font-size=\"14.00\" fill=\"#000000\">gini = 0.0</text>\n<text text-anchor=\"middle\" x=\"1231.5\" y=\"-1159.3\" font-family=\"Helvetica,sans-Serif\" font-size=\"14.00\" fill=\"#000000\">samples = 2</text>\n<text text-anchor=\"middle\" x=\"1231.5\" y=\"-1144.3\" font-family=\"Helvetica,sans-Serif\" font-size=\"14.00\" fill=\"#000000\">value = [2, 0]</text>\n</g>\n<!-- 58&#45;&gt;60 -->\n<g id=\"edge60\" class=\"edge\">\n<title>58&#45;&gt;60</title>\n<path fill=\"none\" stroke=\"#000000\" d=\"M1166.934,-1232.9465C1177.61,-1221.3809 1189.5322,-1208.4652 1200.1978,-1196.9107\"/>\n<polygon fill=\"#000000\" stroke=\"#000000\" points=\"1202.7885,-1199.2642 1206.9995,-1189.5422 1197.6449,-1194.5162 1202.7885,-1199.2642\"/>\n</g>\n<!-- 63 -->\n<g id=\"node64\" class=\"node\">\n<title>63</title>\n<polygon fill=\"none\" stroke=\"#000000\" points=\"1483,-1509 1372,-1509 1372,-1441 1483,-1441 1483,-1509\"/>\n<text text-anchor=\"middle\" x=\"1427.5\" y=\"-1493.8\" font-family=\"Helvetica,sans-Serif\" font-size=\"14.00\" fill=\"#000000\">X[4] &lt;= 10.798</text>\n<text text-anchor=\"middle\" x=\"1427.5\" y=\"-1478.8\" font-family=\"Helvetica,sans-Serif\" font-size=\"14.00\" fill=\"#000000\">gini = 0.219</text>\n<text text-anchor=\"middle\" x=\"1427.5\" y=\"-1463.8\" font-family=\"Helvetica,sans-Serif\" font-size=\"14.00\" fill=\"#000000\">samples = 8</text>\n<text text-anchor=\"middle\" x=\"1427.5\" y=\"-1448.8\" font-family=\"Helvetica,sans-Serif\" font-size=\"14.00\" fill=\"#000000\">value = [1, 7]</text>\n</g>\n<!-- 62&#45;&gt;63 -->\n<g id=\"edge63\" class=\"edge\">\n<title>62&#45;&gt;63</title>\n<path fill=\"none\" stroke=\"#000000\" d=\"M1452.3848,-1544.9465C1449.4141,-1536.5965 1446.1931,-1527.5427 1443.0847,-1518.8056\"/>\n<polygon fill=\"#000000\" stroke=\"#000000\" points=\"1446.2919,-1517.3783 1439.6424,-1509.13 1439.6968,-1519.7247 1446.2919,-1517.3783\"/>\n</g>\n<!-- 66 -->\n<g id=\"node67\" class=\"node\">\n<title>66</title>\n<polygon fill=\"none\" stroke=\"#000000\" points=\"1617.5,-1509 1501.5,-1509 1501.5,-1441 1617.5,-1441 1617.5,-1509\"/>\n<text text-anchor=\"middle\" x=\"1559.5\" y=\"-1493.8\" font-family=\"Helvetica,sans-Serif\" font-size=\"14.00\" fill=\"#000000\">X[4] &lt;= 15.373</text>\n<text text-anchor=\"middle\" x=\"1559.5\" y=\"-1478.8\" font-family=\"Helvetica,sans-Serif\" font-size=\"14.00\" fill=\"#000000\">gini = 0.488</text>\n<text text-anchor=\"middle\" x=\"1559.5\" y=\"-1463.8\" font-family=\"Helvetica,sans-Serif\" font-size=\"14.00\" fill=\"#000000\">samples = 45</text>\n<text text-anchor=\"middle\" x=\"1559.5\" y=\"-1448.8\" font-family=\"Helvetica,sans-Serif\" font-size=\"14.00\" fill=\"#000000\">value = [26, 19]</text>\n</g>\n<!-- 62&#45;&gt;66 -->\n<g id=\"edge66\" class=\"edge\">\n<title>62&#45;&gt;66</title>\n<path fill=\"none\" stroke=\"#000000\" d=\"M1495.6066,-1544.9465C1503.8901,-1535.8782 1512.9318,-1525.9799 1521.5379,-1516.5585\"/>\n<polygon fill=\"#000000\" stroke=\"#000000\" points=\"1524.1633,-1518.8739 1528.3236,-1509.13 1518.995,-1514.1528 1524.1633,-1518.8739\"/>\n</g>\n<!-- 64 -->\n<g id=\"node65\" class=\"node\">\n<title>64</title>\n<polygon fill=\"none\" stroke=\"#000000\" points=\"1362,-1397.5 1263,-1397.5 1263,-1344.5 1362,-1344.5 1362,-1397.5\"/>\n<text text-anchor=\"middle\" x=\"1312.5\" y=\"-1382.3\" font-family=\"Helvetica,sans-Serif\" font-size=\"14.00\" fill=\"#000000\">gini = 0.0</text>\n<text text-anchor=\"middle\" x=\"1312.5\" y=\"-1367.3\" font-family=\"Helvetica,sans-Serif\" font-size=\"14.00\" fill=\"#000000\">samples = 1</text>\n<text text-anchor=\"middle\" x=\"1312.5\" y=\"-1352.3\" font-family=\"Helvetica,sans-Serif\" font-size=\"14.00\" fill=\"#000000\">value = [1, 0]</text>\n</g>\n<!-- 63&#45;&gt;64 -->\n<g id=\"edge64\" class=\"edge\">\n<title>63&#45;&gt;64</title>\n<path fill=\"none\" stroke=\"#000000\" d=\"M1389.8447,-1440.9465C1376.8122,-1429.1606 1362.2294,-1415.9726 1349.2689,-1404.2519\"/>\n<polygon fill=\"#000000\" stroke=\"#000000\" points=\"1351.614,-1401.6537 1341.8495,-1397.5422 1346.9188,-1406.8456 1351.614,-1401.6537\"/>\n</g>\n<!-- 65 -->\n<g id=\"node66\" class=\"node\">\n<title>65</title>\n<polygon fill=\"none\" stroke=\"#000000\" points=\"1479,-1397.5 1380,-1397.5 1380,-1344.5 1479,-1344.5 1479,-1397.5\"/>\n<text text-anchor=\"middle\" x=\"1429.5\" y=\"-1382.3\" font-family=\"Helvetica,sans-Serif\" font-size=\"14.00\" fill=\"#000000\">gini = 0.0</text>\n<text text-anchor=\"middle\" x=\"1429.5\" y=\"-1367.3\" font-family=\"Helvetica,sans-Serif\" font-size=\"14.00\" fill=\"#000000\">samples = 7</text>\n<text text-anchor=\"middle\" x=\"1429.5\" y=\"-1352.3\" font-family=\"Helvetica,sans-Serif\" font-size=\"14.00\" fill=\"#000000\">value = [0, 7]</text>\n</g>\n<!-- 63&#45;&gt;65 -->\n<g id=\"edge65\" class=\"edge\">\n<title>63&#45;&gt;65</title>\n<path fill=\"none\" stroke=\"#000000\" d=\"M1428.1549,-1440.9465C1428.3603,-1430.2621 1428.588,-1418.4254 1428.7966,-1407.5742\"/>\n<polygon fill=\"#000000\" stroke=\"#000000\" points=\"1432.2966,-1407.6076 1428.9896,-1397.5422 1425.2979,-1407.473 1432.2966,-1407.6076\"/>\n</g>\n<!-- 67 -->\n<g id=\"node68\" class=\"node\">\n<title>67</title>\n<polygon fill=\"none\" stroke=\"#000000\" points=\"1612,-1405 1501,-1405 1501,-1337 1612,-1337 1612,-1405\"/>\n<text text-anchor=\"middle\" x=\"1556.5\" y=\"-1389.8\" font-family=\"Helvetica,sans-Serif\" font-size=\"14.00\" fill=\"#000000\">X[4] &lt;= 13.438</text>\n<text text-anchor=\"middle\" x=\"1556.5\" y=\"-1374.8\" font-family=\"Helvetica,sans-Serif\" font-size=\"14.00\" fill=\"#000000\">gini = 0.426</text>\n<text text-anchor=\"middle\" x=\"1556.5\" y=\"-1359.8\" font-family=\"Helvetica,sans-Serif\" font-size=\"14.00\" fill=\"#000000\">samples = 26</text>\n<text text-anchor=\"middle\" x=\"1556.5\" y=\"-1344.8\" font-family=\"Helvetica,sans-Serif\" font-size=\"14.00\" fill=\"#000000\">value = [18, 8]</text>\n</g>\n<!-- 66&#45;&gt;67 -->\n<g id=\"edge67\" class=\"edge\">\n<title>66&#45;&gt;67</title>\n<path fill=\"none\" stroke=\"#000000\" d=\"M1558.5177,-1440.9465C1558.282,-1432.776 1558.0269,-1423.9318 1557.7799,-1415.3697\"/>\n<polygon fill=\"#000000\" stroke=\"#000000\" points=\"1561.2715,-1415.0249 1557.4845,-1405.13 1554.2744,-1415.2268 1561.2715,-1415.0249\"/>\n</g>\n<!-- 82 -->\n<g id=\"node83\" class=\"node\">\n<title>82</title>\n<polygon fill=\"none\" stroke=\"#000000\" points=\"1737,-1405 1630,-1405 1630,-1337 1737,-1337 1737,-1405\"/>\n<text text-anchor=\"middle\" x=\"1683.5\" y=\"-1389.8\" font-family=\"Helvetica,sans-Serif\" font-size=\"14.00\" fill=\"#000000\">X[1] &lt;= 21.0</text>\n<text text-anchor=\"middle\" x=\"1683.5\" y=\"-1374.8\" font-family=\"Helvetica,sans-Serif\" font-size=\"14.00\" fill=\"#000000\">gini = 0.488</text>\n<text text-anchor=\"middle\" x=\"1683.5\" y=\"-1359.8\" font-family=\"Helvetica,sans-Serif\" font-size=\"14.00\" fill=\"#000000\">samples = 19</text>\n<text text-anchor=\"middle\" x=\"1683.5\" y=\"-1344.8\" font-family=\"Helvetica,sans-Serif\" font-size=\"14.00\" fill=\"#000000\">value = [8, 11]</text>\n</g>\n<!-- 66&#45;&gt;82 -->\n<g id=\"edge82\" class=\"edge\">\n<title>66&#45;&gt;82</title>\n<path fill=\"none\" stroke=\"#000000\" d=\"M1600.1022,-1440.9465C1611.2356,-1431.6088 1623.4183,-1421.3911 1634.9489,-1411.7203\"/>\n<polygon fill=\"#000000\" stroke=\"#000000\" points=\"1637.3938,-1414.2378 1642.8065,-1405.13 1632.8954,-1408.8745 1637.3938,-1414.2378\"/>\n</g>\n<!-- 68 -->\n<g id=\"node69\" class=\"node\">\n<title>68</title>\n<polygon fill=\"none\" stroke=\"#000000\" points=\"1516,-1301 1405,-1301 1405,-1233 1516,-1233 1516,-1301\"/>\n<text text-anchor=\"middle\" x=\"1460.5\" y=\"-1285.8\" font-family=\"Helvetica,sans-Serif\" font-size=\"14.00\" fill=\"#000000\">X[4] &lt;= 10.852</text>\n<text text-anchor=\"middle\" x=\"1460.5\" y=\"-1270.8\" font-family=\"Helvetica,sans-Serif\" font-size=\"14.00\" fill=\"#000000\">gini = 0.492</text>\n<text text-anchor=\"middle\" x=\"1460.5\" y=\"-1255.8\" font-family=\"Helvetica,sans-Serif\" font-size=\"14.00\" fill=\"#000000\">samples = 16</text>\n<text text-anchor=\"middle\" x=\"1460.5\" y=\"-1240.8\" font-family=\"Helvetica,sans-Serif\" font-size=\"14.00\" fill=\"#000000\">value = [9, 7]</text>\n</g>\n<!-- 67&#45;&gt;68 -->\n<g id=\"edge68\" class=\"edge\">\n<title>67&#45;&gt;68</title>\n<path fill=\"none\" stroke=\"#000000\" d=\"M1525.066,-1336.9465C1516.6953,-1327.8782 1507.5584,-1317.9799 1498.8617,-1308.5585\"/>\n<polygon fill=\"#000000\" stroke=\"#000000\" points=\"1501.3593,-1306.1041 1492.0046,-1301.13 1496.2156,-1310.852 1501.3593,-1306.1041\"/>\n</g>\n<!-- 77 -->\n<g id=\"node78\" class=\"node\">\n<title>77</title>\n<polygon fill=\"none\" stroke=\"#000000\" points=\"1638.5,-1301 1534.5,-1301 1534.5,-1233 1638.5,-1233 1638.5,-1301\"/>\n<text text-anchor=\"middle\" x=\"1586.5\" y=\"-1285.8\" font-family=\"Helvetica,sans-Serif\" font-size=\"14.00\" fill=\"#000000\">X[1] &lt;= 16.0</text>\n<text text-anchor=\"middle\" x=\"1586.5\" y=\"-1270.8\" font-family=\"Helvetica,sans-Serif\" font-size=\"14.00\" fill=\"#000000\">gini = 0.18</text>\n<text text-anchor=\"middle\" x=\"1586.5\" y=\"-1255.8\" font-family=\"Helvetica,sans-Serif\" font-size=\"14.00\" fill=\"#000000\">samples = 10</text>\n<text text-anchor=\"middle\" x=\"1586.5\" y=\"-1240.8\" font-family=\"Helvetica,sans-Serif\" font-size=\"14.00\" fill=\"#000000\">value = [9, 1]</text>\n</g>\n<!-- 67&#45;&gt;77 -->\n<g id=\"edge77\" class=\"edge\">\n<title>67&#45;&gt;77</title>\n<path fill=\"none\" stroke=\"#000000\" d=\"M1566.3231,-1336.9465C1568.7318,-1328.5965 1571.3434,-1319.5427 1573.8638,-1310.8056\"/>\n<polygon fill=\"#000000\" stroke=\"#000000\" points=\"1577.246,-1311.7083 1576.6548,-1301.13 1570.5202,-1309.7681 1577.246,-1311.7083\"/>\n</g>\n<!-- 69 -->\n<g id=\"node70\" class=\"node\">\n<title>69</title>\n<polygon fill=\"none\" stroke=\"#000000\" points=\"1403.5,-1197 1299.5,-1197 1299.5,-1129 1403.5,-1129 1403.5,-1197\"/>\n<text text-anchor=\"middle\" x=\"1351.5\" y=\"-1181.8\" font-family=\"Helvetica,sans-Serif\" font-size=\"14.00\" fill=\"#000000\">X[1] &lt;= 19.0</text>\n<text text-anchor=\"middle\" x=\"1351.5\" y=\"-1166.8\" font-family=\"Helvetica,sans-Serif\" font-size=\"14.00\" fill=\"#000000\">gini = 0.426</text>\n<text text-anchor=\"middle\" x=\"1351.5\" y=\"-1151.8\" font-family=\"Helvetica,sans-Serif\" font-size=\"14.00\" fill=\"#000000\">samples = 13</text>\n<text text-anchor=\"middle\" x=\"1351.5\" y=\"-1136.8\" font-family=\"Helvetica,sans-Serif\" font-size=\"14.00\" fill=\"#000000\">value = [9, 4]</text>\n</g>\n<!-- 68&#45;&gt;69 -->\n<g id=\"edge69\" class=\"edge\">\n<title>68&#45;&gt;69</title>\n<path fill=\"none\" stroke=\"#000000\" d=\"M1424.8093,-1232.9465C1415.2109,-1223.7884 1404.7253,-1213.7838 1394.7634,-1204.2788\"/>\n<polygon fill=\"#000000\" stroke=\"#000000\" points=\"1396.9221,-1201.5009 1387.2709,-1197.13 1392.0898,-1206.5655 1396.9221,-1201.5009\"/>\n</g>\n<!-- 76 -->\n<g id=\"node77\" class=\"node\">\n<title>76</title>\n<polygon fill=\"none\" stroke=\"#000000\" points=\"1521,-1189.5 1422,-1189.5 1422,-1136.5 1521,-1136.5 1521,-1189.5\"/>\n<text text-anchor=\"middle\" x=\"1471.5\" y=\"-1174.3\" font-family=\"Helvetica,sans-Serif\" font-size=\"14.00\" fill=\"#000000\">gini = 0.0</text>\n<text text-anchor=\"middle\" x=\"1471.5\" y=\"-1159.3\" font-family=\"Helvetica,sans-Serif\" font-size=\"14.00\" fill=\"#000000\">samples = 3</text>\n<text text-anchor=\"middle\" x=\"1471.5\" y=\"-1144.3\" font-family=\"Helvetica,sans-Serif\" font-size=\"14.00\" fill=\"#000000\">value = [0, 3]</text>\n</g>\n<!-- 68&#45;&gt;76 -->\n<g id=\"edge76\" class=\"edge\">\n<title>68&#45;&gt;76</title>\n<path fill=\"none\" stroke=\"#000000\" d=\"M1464.1018,-1232.9465C1465.2319,-1222.2621 1466.4838,-1210.4254 1467.6316,-1199.5742\"/>\n<polygon fill=\"#000000\" stroke=\"#000000\" points=\"1471.1213,-1199.8549 1468.6927,-1189.5422 1464.1602,-1199.1185 1471.1213,-1199.8549\"/>\n</g>\n<!-- 70 -->\n<g id=\"node71\" class=\"node\">\n<title>70</title>\n<polygon fill=\"none\" stroke=\"#000000\" points=\"1397,-1085.5 1298,-1085.5 1298,-1032.5 1397,-1032.5 1397,-1085.5\"/>\n<text text-anchor=\"middle\" x=\"1347.5\" y=\"-1070.3\" font-family=\"Helvetica,sans-Serif\" font-size=\"14.00\" fill=\"#000000\">gini = 0.0</text>\n<text text-anchor=\"middle\" x=\"1347.5\" y=\"-1055.3\" font-family=\"Helvetica,sans-Serif\" font-size=\"14.00\" fill=\"#000000\">samples = 2</text>\n<text text-anchor=\"middle\" x=\"1347.5\" y=\"-1040.3\" font-family=\"Helvetica,sans-Serif\" font-size=\"14.00\" fill=\"#000000\">value = [0, 2]</text>\n</g>\n<!-- 69&#45;&gt;70 -->\n<g id=\"edge70\" class=\"edge\">\n<title>69&#45;&gt;70</title>\n<path fill=\"none\" stroke=\"#000000\" d=\"M1350.1903,-1128.9465C1349.7793,-1118.2621 1349.3241,-1106.4254 1348.9067,-1095.5742\"/>\n<polygon fill=\"#000000\" stroke=\"#000000\" points=\"1352.4027,-1095.4002 1348.5209,-1085.5422 1345.4079,-1095.6693 1352.4027,-1095.4002\"/>\n</g>\n<!-- 71 -->\n<g id=\"node72\" class=\"node\">\n<title>71</title>\n<polygon fill=\"none\" stroke=\"#000000\" points=\"1519.5,-1093 1415.5,-1093 1415.5,-1025 1519.5,-1025 1519.5,-1093\"/>\n<text text-anchor=\"middle\" x=\"1467.5\" y=\"-1077.8\" font-family=\"Helvetica,sans-Serif\" font-size=\"14.00\" fill=\"#000000\">X[1] &lt;= 30.35</text>\n<text text-anchor=\"middle\" x=\"1467.5\" y=\"-1062.8\" font-family=\"Helvetica,sans-Serif\" font-size=\"14.00\" fill=\"#000000\">gini = 0.298</text>\n<text text-anchor=\"middle\" x=\"1467.5\" y=\"-1047.8\" font-family=\"Helvetica,sans-Serif\" font-size=\"14.00\" fill=\"#000000\">samples = 11</text>\n<text text-anchor=\"middle\" x=\"1467.5\" y=\"-1032.8\" font-family=\"Helvetica,sans-Serif\" font-size=\"14.00\" fill=\"#000000\">value = [9, 2]</text>\n</g>\n<!-- 69&#45;&gt;71 -->\n<g id=\"edge71\" class=\"edge\">\n<title>69&#45;&gt;71</title>\n<path fill=\"none\" stroke=\"#000000\" d=\"M1389.4827,-1128.9465C1399.7977,-1119.6986 1411.0754,-1109.5876 1421.7699,-1099.9994\"/>\n<polygon fill=\"#000000\" stroke=\"#000000\" points=\"1424.3226,-1102.4115 1429.4319,-1093.13 1419.6498,-1097.1995 1424.3226,-1102.4115\"/>\n</g>\n<!-- 72 -->\n<g id=\"node73\" class=\"node\">\n<title>72</title>\n<polygon fill=\"none\" stroke=\"#000000\" points=\"1515,-981.5 1416,-981.5 1416,-928.5 1515,-928.5 1515,-981.5\"/>\n<text text-anchor=\"middle\" x=\"1465.5\" y=\"-966.3\" font-family=\"Helvetica,sans-Serif\" font-size=\"14.00\" fill=\"#000000\">gini = 0.0</text>\n<text text-anchor=\"middle\" x=\"1465.5\" y=\"-951.3\" font-family=\"Helvetica,sans-Serif\" font-size=\"14.00\" fill=\"#000000\">samples = 8</text>\n<text text-anchor=\"middle\" x=\"1465.5\" y=\"-936.3\" font-family=\"Helvetica,sans-Serif\" font-size=\"14.00\" fill=\"#000000\">value = [8, 0]</text>\n</g>\n<!-- 71&#45;&gt;72 -->\n<g id=\"edge72\" class=\"edge\">\n<title>71&#45;&gt;72</title>\n<path fill=\"none\" stroke=\"#000000\" d=\"M1466.8451,-1024.9465C1466.6397,-1014.2621 1466.412,-1002.4254 1466.2034,-991.5742\"/>\n<polygon fill=\"#000000\" stroke=\"#000000\" points=\"1469.7021,-991.473 1466.0104,-981.5422 1462.7034,-991.6076 1469.7021,-991.473\"/>\n</g>\n<!-- 73 -->\n<g id=\"node74\" class=\"node\">\n<title>73</title>\n<polygon fill=\"none\" stroke=\"#000000\" points=\"1632,-989 1533,-989 1533,-921 1632,-921 1632,-989\"/>\n<text text-anchor=\"middle\" x=\"1582.5\" y=\"-973.8\" font-family=\"Helvetica,sans-Serif\" font-size=\"14.00\" fill=\"#000000\">X[5] &lt;= 1.5</text>\n<text text-anchor=\"middle\" x=\"1582.5\" y=\"-958.8\" font-family=\"Helvetica,sans-Serif\" font-size=\"14.00\" fill=\"#000000\">gini = 0.444</text>\n<text text-anchor=\"middle\" x=\"1582.5\" y=\"-943.8\" font-family=\"Helvetica,sans-Serif\" font-size=\"14.00\" fill=\"#000000\">samples = 3</text>\n<text text-anchor=\"middle\" x=\"1582.5\" y=\"-928.8\" font-family=\"Helvetica,sans-Serif\" font-size=\"14.00\" fill=\"#000000\">value = [1, 2]</text>\n</g>\n<!-- 71&#45;&gt;73 -->\n<g id=\"edge73\" class=\"edge\">\n<title>71&#45;&gt;73</title>\n<path fill=\"none\" stroke=\"#000000\" d=\"M1505.1553,-1024.9465C1515.3813,-1015.6986 1526.5618,-1005.5876 1537.1641,-995.9994\"/>\n<polygon fill=\"#000000\" stroke=\"#000000\" points=\"1539.6908,-998.4334 1544.7601,-989.13 1534.9956,-993.2416 1539.6908,-998.4334\"/>\n</g>\n<!-- 74 -->\n<g id=\"node75\" class=\"node\">\n<title>74</title>\n<polygon fill=\"none\" stroke=\"#000000\" points=\"1573,-877.5 1474,-877.5 1474,-824.5 1573,-824.5 1573,-877.5\"/>\n<text text-anchor=\"middle\" x=\"1523.5\" y=\"-862.3\" font-family=\"Helvetica,sans-Serif\" font-size=\"14.00\" fill=\"#000000\">gini = 0.0</text>\n<text text-anchor=\"middle\" x=\"1523.5\" y=\"-847.3\" font-family=\"Helvetica,sans-Serif\" font-size=\"14.00\" fill=\"#000000\">samples = 1</text>\n<text text-anchor=\"middle\" x=\"1523.5\" y=\"-832.3\" font-family=\"Helvetica,sans-Serif\" font-size=\"14.00\" fill=\"#000000\">value = [1, 0]</text>\n</g>\n<!-- 73&#45;&gt;74 -->\n<g id=\"edge74\" class=\"edge\">\n<title>73&#45;&gt;74</title>\n<path fill=\"none\" stroke=\"#000000\" d=\"M1563.1812,-920.9465C1556.9324,-909.9316 1549.9888,-897.6922 1543.6793,-886.5703\"/>\n<polygon fill=\"#000000\" stroke=\"#000000\" points=\"1546.5362,-884.513 1538.5576,-877.5422 1540.4477,-887.967 1546.5362,-884.513\"/>\n</g>\n<!-- 75 -->\n<g id=\"node76\" class=\"node\">\n<title>75</title>\n<polygon fill=\"none\" stroke=\"#000000\" points=\"1690,-877.5 1591,-877.5 1591,-824.5 1690,-824.5 1690,-877.5\"/>\n<text text-anchor=\"middle\" x=\"1640.5\" y=\"-862.3\" font-family=\"Helvetica,sans-Serif\" font-size=\"14.00\" fill=\"#000000\">gini = 0.0</text>\n<text text-anchor=\"middle\" x=\"1640.5\" y=\"-847.3\" font-family=\"Helvetica,sans-Serif\" font-size=\"14.00\" fill=\"#000000\">samples = 2</text>\n<text text-anchor=\"middle\" x=\"1640.5\" y=\"-832.3\" font-family=\"Helvetica,sans-Serif\" font-size=\"14.00\" fill=\"#000000\">value = [0, 2]</text>\n</g>\n<!-- 73&#45;&gt;75 -->\n<g id=\"edge75\" class=\"edge\">\n<title>73&#45;&gt;75</title>\n<path fill=\"none\" stroke=\"#000000\" d=\"M1601.4914,-920.9465C1607.6343,-909.9316 1614.4601,-897.6922 1620.6627,-886.5703\"/>\n<polygon fill=\"#000000\" stroke=\"#000000\" points=\"1623.8837,-887.9806 1625.6976,-877.5422 1617.7701,-884.5711 1623.8837,-887.9806\"/>\n</g>\n<!-- 78 -->\n<g id=\"node79\" class=\"node\">\n<title>78</title>\n<polygon fill=\"none\" stroke=\"#000000\" points=\"1638,-1197 1539,-1197 1539,-1129 1638,-1129 1638,-1197\"/>\n<text text-anchor=\"middle\" x=\"1588.5\" y=\"-1181.8\" font-family=\"Helvetica,sans-Serif\" font-size=\"14.00\" fill=\"#000000\">X[5] &lt;= 1.5</text>\n<text text-anchor=\"middle\" x=\"1588.5\" y=\"-1166.8\" font-family=\"Helvetica,sans-Serif\" font-size=\"14.00\" fill=\"#000000\">gini = 0.444</text>\n<text text-anchor=\"middle\" x=\"1588.5\" y=\"-1151.8\" font-family=\"Helvetica,sans-Serif\" font-size=\"14.00\" fill=\"#000000\">samples = 3</text>\n<text text-anchor=\"middle\" x=\"1588.5\" y=\"-1136.8\" font-family=\"Helvetica,sans-Serif\" font-size=\"14.00\" fill=\"#000000\">value = [2, 1]</text>\n</g>\n<!-- 77&#45;&gt;78 -->\n<g id=\"edge78\" class=\"edge\">\n<title>77&#45;&gt;78</title>\n<path fill=\"none\" stroke=\"#000000\" d=\"M1587.1549,-1232.9465C1587.312,-1224.776 1587.4821,-1215.9318 1587.6467,-1207.3697\"/>\n<polygon fill=\"#000000\" stroke=\"#000000\" points=\"1591.1506,-1207.1955 1587.8437,-1197.13 1584.1519,-1207.0608 1591.1506,-1207.1955\"/>\n</g>\n<!-- 81 -->\n<g id=\"node82\" class=\"node\">\n<title>81</title>\n<polygon fill=\"none\" stroke=\"#000000\" points=\"1755,-1189.5 1656,-1189.5 1656,-1136.5 1755,-1136.5 1755,-1189.5\"/>\n<text text-anchor=\"middle\" x=\"1705.5\" y=\"-1174.3\" font-family=\"Helvetica,sans-Serif\" font-size=\"14.00\" fill=\"#000000\">gini = 0.0</text>\n<text text-anchor=\"middle\" x=\"1705.5\" y=\"-1159.3\" font-family=\"Helvetica,sans-Serif\" font-size=\"14.00\" fill=\"#000000\">samples = 7</text>\n<text text-anchor=\"middle\" x=\"1705.5\" y=\"-1144.3\" font-family=\"Helvetica,sans-Serif\" font-size=\"14.00\" fill=\"#000000\">value = [7, 0]</text>\n</g>\n<!-- 77&#45;&gt;81 -->\n<g id=\"edge81\" class=\"edge\">\n<title>77&#45;&gt;81</title>\n<path fill=\"none\" stroke=\"#000000\" d=\"M1625.4651,-1232.9465C1638.9509,-1221.1606 1654.0409,-1207.9726 1667.4521,-1196.2519\"/>\n<polygon fill=\"#000000\" stroke=\"#000000\" points=\"1669.9031,-1198.7582 1675.1296,-1189.5422 1665.2967,-1193.4874 1669.9031,-1198.7582\"/>\n</g>\n<!-- 79 -->\n<g id=\"node80\" class=\"node\">\n<title>79</title>\n<polygon fill=\"none\" stroke=\"#000000\" points=\"1637,-1085.5 1538,-1085.5 1538,-1032.5 1637,-1032.5 1637,-1085.5\"/>\n<text text-anchor=\"middle\" x=\"1587.5\" y=\"-1070.3\" font-family=\"Helvetica,sans-Serif\" font-size=\"14.00\" fill=\"#000000\">gini = 0.0</text>\n<text text-anchor=\"middle\" x=\"1587.5\" y=\"-1055.3\" font-family=\"Helvetica,sans-Serif\" font-size=\"14.00\" fill=\"#000000\">samples = 2</text>\n<text text-anchor=\"middle\" x=\"1587.5\" y=\"-1040.3\" font-family=\"Helvetica,sans-Serif\" font-size=\"14.00\" fill=\"#000000\">value = [2, 0]</text>\n</g>\n<!-- 78&#45;&gt;79 -->\n<g id=\"edge79\" class=\"edge\">\n<title>78&#45;&gt;79</title>\n<path fill=\"none\" stroke=\"#000000\" d=\"M1588.1726,-1128.9465C1588.0698,-1118.2621 1587.956,-1106.4254 1587.8517,-1095.5742\"/>\n<polygon fill=\"#000000\" stroke=\"#000000\" points=\"1591.3513,-1095.508 1587.7552,-1085.5422 1584.3516,-1095.5754 1591.3513,-1095.508\"/>\n</g>\n<!-- 80 -->\n<g id=\"node81\" class=\"node\">\n<title>80</title>\n<polygon fill=\"none\" stroke=\"#000000\" points=\"1754,-1085.5 1655,-1085.5 1655,-1032.5 1754,-1032.5 1754,-1085.5\"/>\n<text text-anchor=\"middle\" x=\"1704.5\" y=\"-1070.3\" font-family=\"Helvetica,sans-Serif\" font-size=\"14.00\" fill=\"#000000\">gini = 0.0</text>\n<text text-anchor=\"middle\" x=\"1704.5\" y=\"-1055.3\" font-family=\"Helvetica,sans-Serif\" font-size=\"14.00\" fill=\"#000000\">samples = 1</text>\n<text text-anchor=\"middle\" x=\"1704.5\" y=\"-1040.3\" font-family=\"Helvetica,sans-Serif\" font-size=\"14.00\" fill=\"#000000\">value = [0, 1]</text>\n</g>\n<!-- 78&#45;&gt;80 -->\n<g id=\"edge80\" class=\"edge\">\n<title>78&#45;&gt;80</title>\n<path fill=\"none\" stroke=\"#000000\" d=\"M1626.4827,-1128.9465C1639.6286,-1117.1606 1654.3382,-1103.9726 1667.4113,-1092.2519\"/>\n<polygon fill=\"#000000\" stroke=\"#000000\" points=\"1669.786,-1094.8236 1674.8953,-1085.5422 1665.1131,-1089.6116 1669.786,-1094.8236\"/>\n</g>\n<!-- 83 -->\n<g id=\"node84\" class=\"node\">\n<title>83</title>\n<polygon fill=\"none\" stroke=\"#000000\" points=\"1756,-1293.5 1657,-1293.5 1657,-1240.5 1756,-1240.5 1756,-1293.5\"/>\n<text text-anchor=\"middle\" x=\"1706.5\" y=\"-1278.3\" font-family=\"Helvetica,sans-Serif\" font-size=\"14.00\" fill=\"#000000\">gini = 0.0</text>\n<text text-anchor=\"middle\" x=\"1706.5\" y=\"-1263.3\" font-family=\"Helvetica,sans-Serif\" font-size=\"14.00\" fill=\"#000000\">samples = 3</text>\n<text text-anchor=\"middle\" x=\"1706.5\" y=\"-1248.3\" font-family=\"Helvetica,sans-Serif\" font-size=\"14.00\" fill=\"#000000\">value = [3, 0]</text>\n</g>\n<!-- 82&#45;&gt;83 -->\n<g id=\"edge83\" class=\"edge\">\n<title>82&#45;&gt;83</title>\n<path fill=\"none\" stroke=\"#000000\" d=\"M1691.0311,-1336.9465C1693.394,-1326.2621 1696.0117,-1314.4254 1698.4115,-1303.5742\"/>\n<polygon fill=\"#000000\" stroke=\"#000000\" points=\"1701.8881,-1304.062 1700.6301,-1293.5422 1695.0532,-1302.5504 1701.8881,-1304.062\"/>\n</g>\n<!-- 84 -->\n<g id=\"node85\" class=\"node\">\n<title>84</title>\n<polygon fill=\"none\" stroke=\"#000000\" points=\"1881,-1301 1774,-1301 1774,-1233 1881,-1233 1881,-1301\"/>\n<text text-anchor=\"middle\" x=\"1827.5\" y=\"-1285.8\" font-family=\"Helvetica,sans-Serif\" font-size=\"14.00\" fill=\"#000000\">X[5] &lt;= 1.5</text>\n<text text-anchor=\"middle\" x=\"1827.5\" y=\"-1270.8\" font-family=\"Helvetica,sans-Serif\" font-size=\"14.00\" fill=\"#000000\">gini = 0.43</text>\n<text text-anchor=\"middle\" x=\"1827.5\" y=\"-1255.8\" font-family=\"Helvetica,sans-Serif\" font-size=\"14.00\" fill=\"#000000\">samples = 16</text>\n<text text-anchor=\"middle\" x=\"1827.5\" y=\"-1240.8\" font-family=\"Helvetica,sans-Serif\" font-size=\"14.00\" fill=\"#000000\">value = [5, 11]</text>\n</g>\n<!-- 82&#45;&gt;84 -->\n<g id=\"edge84\" class=\"edge\">\n<title>82&#45;&gt;84</title>\n<path fill=\"none\" stroke=\"#000000\" d=\"M1730.651,-1336.9465C1743.8287,-1327.4293 1758.2722,-1316.9978 1771.8897,-1307.163\"/>\n<polygon fill=\"#000000\" stroke=\"#000000\" points=\"1774.1855,-1309.8223 1780.2431,-1301.13 1770.087,-1304.1476 1774.1855,-1309.8223\"/>\n</g>\n<!-- 85 -->\n<g id=\"node86\" class=\"node\">\n<title>85</title>\n<polygon fill=\"none\" stroke=\"#000000\" points=\"1875,-1189.5 1776,-1189.5 1776,-1136.5 1875,-1136.5 1875,-1189.5\"/>\n<text text-anchor=\"middle\" x=\"1825.5\" y=\"-1174.3\" font-family=\"Helvetica,sans-Serif\" font-size=\"14.00\" fill=\"#000000\">gini = 0.0</text>\n<text text-anchor=\"middle\" x=\"1825.5\" y=\"-1159.3\" font-family=\"Helvetica,sans-Serif\" font-size=\"14.00\" fill=\"#000000\">samples = 4</text>\n<text text-anchor=\"middle\" x=\"1825.5\" y=\"-1144.3\" font-family=\"Helvetica,sans-Serif\" font-size=\"14.00\" fill=\"#000000\">value = [0, 4]</text>\n</g>\n<!-- 84&#45;&gt;85 -->\n<g id=\"edge85\" class=\"edge\">\n<title>84&#45;&gt;85</title>\n<path fill=\"none\" stroke=\"#000000\" d=\"M1826.8451,-1232.9465C1826.6397,-1222.2621 1826.412,-1210.4254 1826.2034,-1199.5742\"/>\n<polygon fill=\"#000000\" stroke=\"#000000\" points=\"1829.7021,-1199.473 1826.0104,-1189.5422 1822.7034,-1199.6076 1829.7021,-1199.473\"/>\n</g>\n<!-- 86 -->\n<g id=\"node87\" class=\"node\">\n<title>86</title>\n<polygon fill=\"none\" stroke=\"#000000\" points=\"1997.5,-1197 1893.5,-1197 1893.5,-1129 1997.5,-1129 1997.5,-1197\"/>\n<text text-anchor=\"middle\" x=\"1945.5\" y=\"-1181.8\" font-family=\"Helvetica,sans-Serif\" font-size=\"14.00\" fill=\"#000000\">X[1] &lt;= 25.0</text>\n<text text-anchor=\"middle\" x=\"1945.5\" y=\"-1166.8\" font-family=\"Helvetica,sans-Serif\" font-size=\"14.00\" fill=\"#000000\">gini = 0.486</text>\n<text text-anchor=\"middle\" x=\"1945.5\" y=\"-1151.8\" font-family=\"Helvetica,sans-Serif\" font-size=\"14.00\" fill=\"#000000\">samples = 12</text>\n<text text-anchor=\"middle\" x=\"1945.5\" y=\"-1136.8\" font-family=\"Helvetica,sans-Serif\" font-size=\"14.00\" fill=\"#000000\">value = [5, 7]</text>\n</g>\n<!-- 84&#45;&gt;86 -->\n<g id=\"edge86\" class=\"edge\">\n<title>84&#45;&gt;86</title>\n<path fill=\"none\" stroke=\"#000000\" d=\"M1866.1376,-1232.9465C1876.6304,-1223.6986 1888.1026,-1213.5876 1898.9814,-1203.9994\"/>\n<polygon fill=\"#000000\" stroke=\"#000000\" points=\"1901.5877,-1206.3678 1906.7756,-1197.13 1896.9593,-1201.1163 1901.5877,-1206.3678\"/>\n</g>\n<!-- 87 -->\n<g id=\"node88\" class=\"node\">\n<title>87</title>\n<polygon fill=\"none\" stroke=\"#000000\" points=\"1961,-1085.5 1862,-1085.5 1862,-1032.5 1961,-1032.5 1961,-1085.5\"/>\n<text text-anchor=\"middle\" x=\"1911.5\" y=\"-1070.3\" font-family=\"Helvetica,sans-Serif\" font-size=\"14.00\" fill=\"#000000\">gini = 0.0</text>\n<text text-anchor=\"middle\" x=\"1911.5\" y=\"-1055.3\" font-family=\"Helvetica,sans-Serif\" font-size=\"14.00\" fill=\"#000000\">samples = 3</text>\n<text text-anchor=\"middle\" x=\"1911.5\" y=\"-1040.3\" font-family=\"Helvetica,sans-Serif\" font-size=\"14.00\" fill=\"#000000\">value = [0, 3]</text>\n</g>\n<!-- 86&#45;&gt;87 -->\n<g id=\"edge87\" class=\"edge\">\n<title>86&#45;&gt;87</title>\n<path fill=\"none\" stroke=\"#000000\" d=\"M1934.3671,-1128.9465C1930.8381,-1118.1519 1926.9246,-1106.1813 1923.3473,-1095.2389\"/>\n<polygon fill=\"#000000\" stroke=\"#000000\" points=\"1926.6114,-1093.9595 1920.1772,-1085.5422 1919.958,-1096.1347 1926.6114,-1093.9595\"/>\n</g>\n<!-- 88 -->\n<g id=\"node89\" class=\"node\">\n<title>88</title>\n<polygon fill=\"none\" stroke=\"#000000\" points=\"2082,-1093 1979,-1093 1979,-1025 2082,-1025 2082,-1093\"/>\n<text text-anchor=\"middle\" x=\"2030.5\" y=\"-1077.8\" font-family=\"Helvetica,sans-Serif\" font-size=\"14.00\" fill=\"#000000\">X[1] &lt;= 29.35</text>\n<text text-anchor=\"middle\" x=\"2030.5\" y=\"-1062.8\" font-family=\"Helvetica,sans-Serif\" font-size=\"14.00\" fill=\"#000000\">gini = 0.494</text>\n<text text-anchor=\"middle\" x=\"2030.5\" y=\"-1047.8\" font-family=\"Helvetica,sans-Serif\" font-size=\"14.00\" fill=\"#000000\">samples = 9</text>\n<text text-anchor=\"middle\" x=\"2030.5\" y=\"-1032.8\" font-family=\"Helvetica,sans-Serif\" font-size=\"14.00\" fill=\"#000000\">value = [5, 4]</text>\n</g>\n<!-- 86&#45;&gt;88 -->\n<g id=\"edge88\" class=\"edge\">\n<title>86&#45;&gt;88</title>\n<path fill=\"none\" stroke=\"#000000\" d=\"M1973.3322,-1128.9465C1980.597,-1120.0578 1988.5136,-1110.3716 1996.076,-1101.1188\"/>\n<polygon fill=\"#000000\" stroke=\"#000000\" points=\"1998.987,-1103.0878 2002.6053,-1093.13 1993.5669,-1098.658 1998.987,-1103.0878\"/>\n</g>\n<!-- 89 -->\n<g id=\"node90\" class=\"node\">\n<title>89</title>\n<polygon fill=\"none\" stroke=\"#000000\" points=\"2019,-981.5 1920,-981.5 1920,-928.5 2019,-928.5 2019,-981.5\"/>\n<text text-anchor=\"middle\" x=\"1969.5\" y=\"-966.3\" font-family=\"Helvetica,sans-Serif\" font-size=\"14.00\" fill=\"#000000\">gini = 0.0</text>\n<text text-anchor=\"middle\" x=\"1969.5\" y=\"-951.3\" font-family=\"Helvetica,sans-Serif\" font-size=\"14.00\" fill=\"#000000\">samples = 2</text>\n<text text-anchor=\"middle\" x=\"1969.5\" y=\"-936.3\" font-family=\"Helvetica,sans-Serif\" font-size=\"14.00\" fill=\"#000000\">value = [2, 0]</text>\n</g>\n<!-- 88&#45;&gt;89 -->\n<g id=\"edge89\" class=\"edge\">\n<title>88&#45;&gt;89</title>\n<path fill=\"none\" stroke=\"#000000\" d=\"M2010.5263,-1024.9465C2004.001,-1013.8215 1996.7431,-1001.4473 1990.1678,-990.237\"/>\n<polygon fill=\"#000000\" stroke=\"#000000\" points=\"1993.1464,-988.3971 1985.068,-981.5422 1987.1084,-991.9387 1993.1464,-988.3971\"/>\n</g>\n<!-- 90 -->\n<g id=\"node91\" class=\"node\">\n<title>90</title>\n<polygon fill=\"none\" stroke=\"#000000\" points=\"2148,-989 2037,-989 2037,-921 2148,-921 2148,-989\"/>\n<text text-anchor=\"middle\" x=\"2092.5\" y=\"-973.8\" font-family=\"Helvetica,sans-Serif\" font-size=\"14.00\" fill=\"#000000\">X[4] &lt;= 20.231</text>\n<text text-anchor=\"middle\" x=\"2092.5\" y=\"-958.8\" font-family=\"Helvetica,sans-Serif\" font-size=\"14.00\" fill=\"#000000\">gini = 0.49</text>\n<text text-anchor=\"middle\" x=\"2092.5\" y=\"-943.8\" font-family=\"Helvetica,sans-Serif\" font-size=\"14.00\" fill=\"#000000\">samples = 7</text>\n<text text-anchor=\"middle\" x=\"2092.5\" y=\"-928.8\" font-family=\"Helvetica,sans-Serif\" font-size=\"14.00\" fill=\"#000000\">value = [3, 4]</text>\n</g>\n<!-- 88&#45;&gt;90 -->\n<g id=\"edge90\" class=\"edge\">\n<title>88&#45;&gt;90</title>\n<path fill=\"none\" stroke=\"#000000\" d=\"M2050.8011,-1024.9465C2055.9396,-1016.3271 2061.5251,-1006.9579 2066.8886,-997.9611\"/>\n<polygon fill=\"#000000\" stroke=\"#000000\" points=\"2070.0389,-999.5117 2072.1533,-989.13 2064.0263,-995.9272 2070.0389,-999.5117\"/>\n</g>\n<!-- 91 -->\n<g id=\"node92\" class=\"node\">\n<title>91</title>\n<polygon fill=\"none\" stroke=\"#000000\" points=\"2085,-885 1982,-885 1982,-817 2085,-817 2085,-885\"/>\n<text text-anchor=\"middle\" x=\"2033.5\" y=\"-869.8\" font-family=\"Helvetica,sans-Serif\" font-size=\"14.00\" fill=\"#000000\">X[4] &lt;= 17.05</text>\n<text text-anchor=\"middle\" x=\"2033.5\" y=\"-854.8\" font-family=\"Helvetica,sans-Serif\" font-size=\"14.00\" fill=\"#000000\">gini = 0.48</text>\n<text text-anchor=\"middle\" x=\"2033.5\" y=\"-839.8\" font-family=\"Helvetica,sans-Serif\" font-size=\"14.00\" fill=\"#000000\">samples = 5</text>\n<text text-anchor=\"middle\" x=\"2033.5\" y=\"-824.8\" font-family=\"Helvetica,sans-Serif\" font-size=\"14.00\" fill=\"#000000\">value = [3, 2]</text>\n</g>\n<!-- 90&#45;&gt;91 -->\n<g id=\"edge91\" class=\"edge\">\n<title>90&#45;&gt;91</title>\n<path fill=\"none\" stroke=\"#000000\" d=\"M2073.1812,-920.9465C2068.2913,-912.3271 2062.9761,-902.9579 2057.8722,-893.9611\"/>\n<polygon fill=\"#000000\" stroke=\"#000000\" points=\"2060.8408,-892.1008 2052.8622,-885.13 2054.7524,-895.5549 2060.8408,-892.1008\"/>\n</g>\n<!-- 96 -->\n<g id=\"node97\" class=\"node\">\n<title>96</title>\n<polygon fill=\"none\" stroke=\"#000000\" points=\"2202,-877.5 2103,-877.5 2103,-824.5 2202,-824.5 2202,-877.5\"/>\n<text text-anchor=\"middle\" x=\"2152.5\" y=\"-862.3\" font-family=\"Helvetica,sans-Serif\" font-size=\"14.00\" fill=\"#000000\">gini = 0.0</text>\n<text text-anchor=\"middle\" x=\"2152.5\" y=\"-847.3\" font-family=\"Helvetica,sans-Serif\" font-size=\"14.00\" fill=\"#000000\">samples = 2</text>\n<text text-anchor=\"middle\" x=\"2152.5\" y=\"-832.3\" font-family=\"Helvetica,sans-Serif\" font-size=\"14.00\" fill=\"#000000\">value = [0, 2]</text>\n</g>\n<!-- 90&#45;&gt;96 -->\n<g id=\"edge96\" class=\"edge\">\n<title>90&#45;&gt;96</title>\n<path fill=\"none\" stroke=\"#000000\" d=\"M2112.1462,-920.9465C2118.5645,-909.8215 2125.7035,-897.4473 2132.171,-886.237\"/>\n<polygon fill=\"#000000\" stroke=\"#000000\" points=\"2135.2216,-887.9531 2137.1872,-877.5422 2129.1583,-884.455 2135.2216,-887.9531\"/>\n</g>\n<!-- 92 -->\n<g id=\"node93\" class=\"node\">\n<title>92</title>\n<polygon fill=\"none\" stroke=\"#000000\" points=\"2028,-781 1917,-781 1917,-713 2028,-713 2028,-781\"/>\n<text text-anchor=\"middle\" x=\"1972.5\" y=\"-765.8\" font-family=\"Helvetica,sans-Serif\" font-size=\"14.00\" fill=\"#000000\">X[4] &lt;= 15.675</text>\n<text text-anchor=\"middle\" x=\"1972.5\" y=\"-750.8\" font-family=\"Helvetica,sans-Serif\" font-size=\"14.00\" fill=\"#000000\">gini = 0.444</text>\n<text text-anchor=\"middle\" x=\"1972.5\" y=\"-735.8\" font-family=\"Helvetica,sans-Serif\" font-size=\"14.00\" fill=\"#000000\">samples = 3</text>\n<text text-anchor=\"middle\" x=\"1972.5\" y=\"-720.8\" font-family=\"Helvetica,sans-Serif\" font-size=\"14.00\" fill=\"#000000\">value = [1, 2]</text>\n</g>\n<!-- 91&#45;&gt;92 -->\n<g id=\"edge92\" class=\"edge\">\n<title>91&#45;&gt;92</title>\n<path fill=\"none\" stroke=\"#000000\" d=\"M2013.5263,-816.9465C2008.4707,-808.3271 2002.9753,-798.9579 1997.6983,-789.9611\"/>\n<polygon fill=\"#000000\" stroke=\"#000000\" points=\"2000.5969,-787.985 1992.5186,-781.13 1994.5589,-791.5265 2000.5969,-787.985\"/>\n</g>\n<!-- 95 -->\n<g id=\"node96\" class=\"node\">\n<title>95</title>\n<polygon fill=\"none\" stroke=\"#000000\" points=\"2145,-773.5 2046,-773.5 2046,-720.5 2145,-720.5 2145,-773.5\"/>\n<text text-anchor=\"middle\" x=\"2095.5\" y=\"-758.3\" font-family=\"Helvetica,sans-Serif\" font-size=\"14.00\" fill=\"#000000\">gini = 0.0</text>\n<text text-anchor=\"middle\" x=\"2095.5\" y=\"-743.3\" font-family=\"Helvetica,sans-Serif\" font-size=\"14.00\" fill=\"#000000\">samples = 2</text>\n<text text-anchor=\"middle\" x=\"2095.5\" y=\"-728.3\" font-family=\"Helvetica,sans-Serif\" font-size=\"14.00\" fill=\"#000000\">value = [2, 0]</text>\n</g>\n<!-- 91&#45;&gt;95 -->\n<g id=\"edge95\" class=\"edge\">\n<title>91&#45;&gt;95</title>\n<path fill=\"none\" stroke=\"#000000\" d=\"M2053.8011,-816.9465C2060.4334,-805.8215 2067.8103,-793.4473 2074.4933,-782.237\"/>\n<polygon fill=\"#000000\" stroke=\"#000000\" points=\"2077.5624,-783.9239 2079.6768,-773.5422 2071.5498,-780.3394 2077.5624,-783.9239\"/>\n</g>\n<!-- 93 -->\n<g id=\"node94\" class=\"node\">\n<title>93</title>\n<polygon fill=\"none\" stroke=\"#000000\" points=\"1964,-669.5 1865,-669.5 1865,-616.5 1964,-616.5 1964,-669.5\"/>\n<text text-anchor=\"middle\" x=\"1914.5\" y=\"-654.3\" font-family=\"Helvetica,sans-Serif\" font-size=\"14.00\" fill=\"#000000\">gini = 0.0</text>\n<text text-anchor=\"middle\" x=\"1914.5\" y=\"-639.3\" font-family=\"Helvetica,sans-Serif\" font-size=\"14.00\" fill=\"#000000\">samples = 1</text>\n<text text-anchor=\"middle\" x=\"1914.5\" y=\"-624.3\" font-family=\"Helvetica,sans-Serif\" font-size=\"14.00\" fill=\"#000000\">value = [1, 0]</text>\n</g>\n<!-- 92&#45;&gt;93 -->\n<g id=\"edge93\" class=\"edge\">\n<title>92&#45;&gt;93</title>\n<path fill=\"none\" stroke=\"#000000\" d=\"M1953.5086,-712.9465C1947.3657,-701.9316 1940.5399,-689.6922 1934.3373,-678.5703\"/>\n<polygon fill=\"#000000\" stroke=\"#000000\" points=\"1937.2299,-676.5711 1929.3024,-669.5422 1931.1163,-679.9806 1937.2299,-676.5711\"/>\n</g>\n<!-- 94 -->\n<g id=\"node95\" class=\"node\">\n<title>94</title>\n<polygon fill=\"none\" stroke=\"#000000\" points=\"2081,-669.5 1982,-669.5 1982,-616.5 2081,-616.5 2081,-669.5\"/>\n<text text-anchor=\"middle\" x=\"2031.5\" y=\"-654.3\" font-family=\"Helvetica,sans-Serif\" font-size=\"14.00\" fill=\"#000000\">gini = 0.0</text>\n<text text-anchor=\"middle\" x=\"2031.5\" y=\"-639.3\" font-family=\"Helvetica,sans-Serif\" font-size=\"14.00\" fill=\"#000000\">samples = 2</text>\n<text text-anchor=\"middle\" x=\"2031.5\" y=\"-624.3\" font-family=\"Helvetica,sans-Serif\" font-size=\"14.00\" fill=\"#000000\">value = [0, 2]</text>\n</g>\n<!-- 92&#45;&gt;94 -->\n<g id=\"edge94\" class=\"edge\">\n<title>92&#45;&gt;94</title>\n<path fill=\"none\" stroke=\"#000000\" d=\"M1991.8188,-712.9465C1998.0676,-701.9316 2005.0112,-689.6922 2011.3207,-678.5703\"/>\n<polygon fill=\"#000000\" stroke=\"#000000\" points=\"2014.5523,-679.967 2016.4424,-669.5422 2008.4638,-676.513 2014.5523,-679.967\"/>\n</g>\n<!-- 98 -->\n<g id=\"node99\" class=\"node\">\n<title>98</title>\n<polygon fill=\"none\" stroke=\"#000000\" points=\"1761,-1605.5 1662,-1605.5 1662,-1552.5 1761,-1552.5 1761,-1605.5\"/>\n<text text-anchor=\"middle\" x=\"1711.5\" y=\"-1590.3\" font-family=\"Helvetica,sans-Serif\" font-size=\"14.00\" fill=\"#000000\">gini = 0.0</text>\n<text text-anchor=\"middle\" x=\"1711.5\" y=\"-1575.3\" font-family=\"Helvetica,sans-Serif\" font-size=\"14.00\" fill=\"#000000\">samples = 1</text>\n<text text-anchor=\"middle\" x=\"1711.5\" y=\"-1560.3\" font-family=\"Helvetica,sans-Serif\" font-size=\"14.00\" fill=\"#000000\">value = [0, 1]</text>\n</g>\n<!-- 97&#45;&gt;98 -->\n<g id=\"edge98\" class=\"edge\">\n<title>97&#45;&gt;98</title>\n<path fill=\"none\" stroke=\"#000000\" d=\"M1711.5,-1648.9465C1711.5,-1638.2621 1711.5,-1626.4254 1711.5,-1615.5742\"/>\n<polygon fill=\"#000000\" stroke=\"#000000\" points=\"1715.0001,-1615.5421 1711.5,-1605.5422 1708.0001,-1615.5422 1715.0001,-1615.5421\"/>\n</g>\n<!-- 99 -->\n<g id=\"node100\" class=\"node\">\n<title>99</title>\n<polygon fill=\"none\" stroke=\"#000000\" points=\"1917,-1613 1810,-1613 1810,-1545 1917,-1545 1917,-1613\"/>\n<text text-anchor=\"middle\" x=\"1863.5\" y=\"-1597.8\" font-family=\"Helvetica,sans-Serif\" font-size=\"14.00\" fill=\"#000000\">X[1] &lt;= 5.5</text>\n<text text-anchor=\"middle\" x=\"1863.5\" y=\"-1582.8\" font-family=\"Helvetica,sans-Serif\" font-size=\"14.00\" fill=\"#000000\">gini = 0.159</text>\n<text text-anchor=\"middle\" x=\"1863.5\" y=\"-1567.8\" font-family=\"Helvetica,sans-Serif\" font-size=\"14.00\" fill=\"#000000\">samples = 23</text>\n<text text-anchor=\"middle\" x=\"1863.5\" y=\"-1552.8\" font-family=\"Helvetica,sans-Serif\" font-size=\"14.00\" fill=\"#000000\">value = [21, 2]</text>\n</g>\n<!-- 97&#45;&gt;99 -->\n<g id=\"edge99\" class=\"edge\">\n<title>97&#45;&gt;99</title>\n<path fill=\"none\" stroke=\"#000000\" d=\"M1761.2705,-1648.9465C1775.3115,-1639.3395 1790.714,-1628.8009 1805.2068,-1618.8848\"/>\n<polygon fill=\"#000000\" stroke=\"#000000\" points=\"1807.341,-1621.6655 1813.6177,-1613.13 1803.3882,-1615.8883 1807.341,-1621.6655\"/>\n</g>\n<!-- 100 -->\n<g id=\"node101\" class=\"node\">\n<title>100</title>\n<polygon fill=\"none\" stroke=\"#000000\" points=\"1913,-1509 1814,-1509 1814,-1441 1913,-1441 1913,-1509\"/>\n<text text-anchor=\"middle\" x=\"1863.5\" y=\"-1493.8\" font-family=\"Helvetica,sans-Serif\" font-size=\"14.00\" fill=\"#000000\">X[1] &lt;= 3.5</text>\n<text text-anchor=\"middle\" x=\"1863.5\" y=\"-1478.8\" font-family=\"Helvetica,sans-Serif\" font-size=\"14.00\" fill=\"#000000\">gini = 0.5</text>\n<text text-anchor=\"middle\" x=\"1863.5\" y=\"-1463.8\" font-family=\"Helvetica,sans-Serif\" font-size=\"14.00\" fill=\"#000000\">samples = 2</text>\n<text text-anchor=\"middle\" x=\"1863.5\" y=\"-1448.8\" font-family=\"Helvetica,sans-Serif\" font-size=\"14.00\" fill=\"#000000\">value = [1, 1]</text>\n</g>\n<!-- 99&#45;&gt;100 -->\n<g id=\"edge100\" class=\"edge\">\n<title>99&#45;&gt;100</title>\n<path fill=\"none\" stroke=\"#000000\" d=\"M1863.5,-1544.9465C1863.5,-1536.776 1863.5,-1527.9318 1863.5,-1519.3697\"/>\n<polygon fill=\"#000000\" stroke=\"#000000\" points=\"1867.0001,-1519.13 1863.5,-1509.13 1860.0001,-1519.13 1867.0001,-1519.13\"/>\n</g>\n<!-- 103 -->\n<g id=\"node104\" class=\"node\">\n<title>103</title>\n<polygon fill=\"none\" stroke=\"#000000\" points=\"2096,-1509 1989,-1509 1989,-1441 2096,-1441 2096,-1509\"/>\n<text text-anchor=\"middle\" x=\"2042.5\" y=\"-1493.8\" font-family=\"Helvetica,sans-Serif\" font-size=\"14.00\" fill=\"#000000\">X[1] &lt;= 34.0</text>\n<text text-anchor=\"middle\" x=\"2042.5\" y=\"-1478.8\" font-family=\"Helvetica,sans-Serif\" font-size=\"14.00\" fill=\"#000000\">gini = 0.091</text>\n<text text-anchor=\"middle\" x=\"2042.5\" y=\"-1463.8\" font-family=\"Helvetica,sans-Serif\" font-size=\"14.00\" fill=\"#000000\">samples = 21</text>\n<text text-anchor=\"middle\" x=\"2042.5\" y=\"-1448.8\" font-family=\"Helvetica,sans-Serif\" font-size=\"14.00\" fill=\"#000000\">value = [20, 1]</text>\n</g>\n<!-- 99&#45;&gt;103 -->\n<g id=\"edge103\" class=\"edge\">\n<title>99&#45;&gt;103</title>\n<path fill=\"none\" stroke=\"#000000\" d=\"M1917.2059,-1547.7966C1937.0295,-1536.279 1959.658,-1523.1316 1980.1801,-1511.2082\"/>\n<polygon fill=\"#000000\" stroke=\"#000000\" points=\"1981.9438,-1514.2314 1988.832,-1506.1814 1978.4271,-1508.1789 1981.9438,-1514.2314\"/>\n</g>\n<!-- 101 -->\n<g id=\"node102\" class=\"node\">\n<title>101</title>\n<polygon fill=\"none\" stroke=\"#000000\" points=\"1854,-1397.5 1755,-1397.5 1755,-1344.5 1854,-1344.5 1854,-1397.5\"/>\n<text text-anchor=\"middle\" x=\"1804.5\" y=\"-1382.3\" font-family=\"Helvetica,sans-Serif\" font-size=\"14.00\" fill=\"#000000\">gini = 0.0</text>\n<text text-anchor=\"middle\" x=\"1804.5\" y=\"-1367.3\" font-family=\"Helvetica,sans-Serif\" font-size=\"14.00\" fill=\"#000000\">samples = 1</text>\n<text text-anchor=\"middle\" x=\"1804.5\" y=\"-1352.3\" font-family=\"Helvetica,sans-Serif\" font-size=\"14.00\" fill=\"#000000\">value = [1, 0]</text>\n</g>\n<!-- 100&#45;&gt;101 -->\n<g id=\"edge101\" class=\"edge\">\n<title>100&#45;&gt;101</title>\n<path fill=\"none\" stroke=\"#000000\" d=\"M1844.1812,-1440.9465C1837.9324,-1429.9316 1830.9888,-1417.6922 1824.6793,-1406.5703\"/>\n<polygon fill=\"#000000\" stroke=\"#000000\" points=\"1827.5362,-1404.513 1819.5576,-1397.5422 1821.4477,-1407.967 1827.5362,-1404.513\"/>\n</g>\n<!-- 102 -->\n<g id=\"node103\" class=\"node\">\n<title>102</title>\n<polygon fill=\"none\" stroke=\"#000000\" points=\"1971,-1397.5 1872,-1397.5 1872,-1344.5 1971,-1344.5 1971,-1397.5\"/>\n<text text-anchor=\"middle\" x=\"1921.5\" y=\"-1382.3\" font-family=\"Helvetica,sans-Serif\" font-size=\"14.00\" fill=\"#000000\">gini = 0.0</text>\n<text text-anchor=\"middle\" x=\"1921.5\" y=\"-1367.3\" font-family=\"Helvetica,sans-Serif\" font-size=\"14.00\" fill=\"#000000\">samples = 1</text>\n<text text-anchor=\"middle\" x=\"1921.5\" y=\"-1352.3\" font-family=\"Helvetica,sans-Serif\" font-size=\"14.00\" fill=\"#000000\">value = [0, 1]</text>\n</g>\n<!-- 100&#45;&gt;102 -->\n<g id=\"edge102\" class=\"edge\">\n<title>100&#45;&gt;102</title>\n<path fill=\"none\" stroke=\"#000000\" d=\"M1882.4914,-1440.9465C1888.6343,-1429.9316 1895.4601,-1417.6922 1901.6627,-1406.5703\"/>\n<polygon fill=\"#000000\" stroke=\"#000000\" points=\"1904.8837,-1407.9806 1906.6976,-1397.5422 1898.7701,-1404.5711 1904.8837,-1407.9806\"/>\n</g>\n<!-- 104 -->\n<g id=\"node105\" class=\"node\">\n<title>104</title>\n<polygon fill=\"none\" stroke=\"#000000\" points=\"2096,-1397.5 1989,-1397.5 1989,-1344.5 2096,-1344.5 2096,-1397.5\"/>\n<text text-anchor=\"middle\" x=\"2042.5\" y=\"-1382.3\" font-family=\"Helvetica,sans-Serif\" font-size=\"14.00\" fill=\"#000000\">gini = 0.0</text>\n<text text-anchor=\"middle\" x=\"2042.5\" y=\"-1367.3\" font-family=\"Helvetica,sans-Serif\" font-size=\"14.00\" fill=\"#000000\">samples = 14</text>\n<text text-anchor=\"middle\" x=\"2042.5\" y=\"-1352.3\" font-family=\"Helvetica,sans-Serif\" font-size=\"14.00\" fill=\"#000000\">value = [14, 0]</text>\n</g>\n<!-- 103&#45;&gt;104 -->\n<g id=\"edge104\" class=\"edge\">\n<title>103&#45;&gt;104</title>\n<path fill=\"none\" stroke=\"#000000\" d=\"M2042.5,-1440.9465C2042.5,-1430.2621 2042.5,-1418.4254 2042.5,-1407.5742\"/>\n<polygon fill=\"#000000\" stroke=\"#000000\" points=\"2046.0001,-1407.5421 2042.5,-1397.5422 2039.0001,-1407.5422 2046.0001,-1407.5421\"/>\n</g>\n<!-- 105 -->\n<g id=\"node106\" class=\"node\">\n<title>105</title>\n<polygon fill=\"none\" stroke=\"#000000\" points=\"2213,-1405 2114,-1405 2114,-1337 2213,-1337 2213,-1405\"/>\n<text text-anchor=\"middle\" x=\"2163.5\" y=\"-1389.8\" font-family=\"Helvetica,sans-Serif\" font-size=\"14.00\" fill=\"#000000\">X[1] &lt;= 38.5</text>\n<text text-anchor=\"middle\" x=\"2163.5\" y=\"-1374.8\" font-family=\"Helvetica,sans-Serif\" font-size=\"14.00\" fill=\"#000000\">gini = 0.245</text>\n<text text-anchor=\"middle\" x=\"2163.5\" y=\"-1359.8\" font-family=\"Helvetica,sans-Serif\" font-size=\"14.00\" fill=\"#000000\">samples = 7</text>\n<text text-anchor=\"middle\" x=\"2163.5\" y=\"-1344.8\" font-family=\"Helvetica,sans-Serif\" font-size=\"14.00\" fill=\"#000000\">value = [6, 1]</text>\n</g>\n<!-- 103&#45;&gt;105 -->\n<g id=\"edge105\" class=\"edge\">\n<title>103&#45;&gt;105</title>\n<path fill=\"none\" stroke=\"#000000\" d=\"M2082.1199,-1440.9465C2092.984,-1431.6088 2104.8718,-1421.3911 2116.1235,-1411.7203\"/>\n<polygon fill=\"#000000\" stroke=\"#000000\" points=\"2118.4887,-1414.3026 2123.7911,-1405.13 2113.9259,-1408.994 2118.4887,-1414.3026\"/>\n</g>\n<!-- 106 -->\n<g id=\"node107\" class=\"node\">\n<title>106</title>\n<polygon fill=\"none\" stroke=\"#000000\" points=\"2096,-1293.5 1997,-1293.5 1997,-1240.5 2096,-1240.5 2096,-1293.5\"/>\n<text text-anchor=\"middle\" x=\"2046.5\" y=\"-1278.3\" font-family=\"Helvetica,sans-Serif\" font-size=\"14.00\" fill=\"#000000\">gini = 0.0</text>\n<text text-anchor=\"middle\" x=\"2046.5\" y=\"-1263.3\" font-family=\"Helvetica,sans-Serif\" font-size=\"14.00\" fill=\"#000000\">samples = 1</text>\n<text text-anchor=\"middle\" x=\"2046.5\" y=\"-1248.3\" font-family=\"Helvetica,sans-Serif\" font-size=\"14.00\" fill=\"#000000\">value = [0, 1]</text>\n</g>\n<!-- 105&#45;&gt;106 -->\n<g id=\"edge106\" class=\"edge\">\n<title>105&#45;&gt;106</title>\n<path fill=\"none\" stroke=\"#000000\" d=\"M2125.1898,-1336.9465C2111.9306,-1325.1606 2097.0942,-1311.9726 2083.9084,-1300.2519\"/>\n<polygon fill=\"#000000\" stroke=\"#000000\" points=\"2086.1593,-1297.5699 2076.3599,-1293.5422 2081.5088,-1302.8018 2086.1593,-1297.5699\"/>\n</g>\n<!-- 107 -->\n<g id=\"node108\" class=\"node\">\n<title>107</title>\n<polygon fill=\"none\" stroke=\"#000000\" points=\"2213,-1293.5 2114,-1293.5 2114,-1240.5 2213,-1240.5 2213,-1293.5\"/>\n<text text-anchor=\"middle\" x=\"2163.5\" y=\"-1278.3\" font-family=\"Helvetica,sans-Serif\" font-size=\"14.00\" fill=\"#000000\">gini = 0.0</text>\n<text text-anchor=\"middle\" x=\"2163.5\" y=\"-1263.3\" font-family=\"Helvetica,sans-Serif\" font-size=\"14.00\" fill=\"#000000\">samples = 6</text>\n<text text-anchor=\"middle\" x=\"2163.5\" y=\"-1248.3\" font-family=\"Helvetica,sans-Serif\" font-size=\"14.00\" fill=\"#000000\">value = [6, 0]</text>\n</g>\n<!-- 105&#45;&gt;107 -->\n<g id=\"edge107\" class=\"edge\">\n<title>105&#45;&gt;107</title>\n<path fill=\"none\" stroke=\"#000000\" d=\"M2163.5,-1336.9465C2163.5,-1326.2621 2163.5,-1314.4254 2163.5,-1303.5742\"/>\n<polygon fill=\"#000000\" stroke=\"#000000\" points=\"2167.0001,-1303.5421 2163.5,-1293.5422 2160.0001,-1303.5422 2167.0001,-1303.5421\"/>\n</g>\n<!-- 109 -->\n<g id=\"node110\" class=\"node\">\n<title>109</title>\n<polygon fill=\"none\" stroke=\"#000000\" points=\"2636.5,-1821 2520.5,-1821 2520.5,-1753 2636.5,-1753 2636.5,-1821\"/>\n<text text-anchor=\"middle\" x=\"2578.5\" y=\"-1805.8\" font-family=\"Helvetica,sans-Serif\" font-size=\"14.00\" fill=\"#000000\">X[1] &lt;= 28.5</text>\n<text text-anchor=\"middle\" x=\"2578.5\" y=\"-1790.8\" font-family=\"Helvetica,sans-Serif\" font-size=\"14.00\" fill=\"#000000\">gini = 0.461</text>\n<text text-anchor=\"middle\" x=\"2578.5\" y=\"-1775.8\" font-family=\"Helvetica,sans-Serif\" font-size=\"14.00\" fill=\"#000000\">samples = 100</text>\n<text text-anchor=\"middle\" x=\"2578.5\" y=\"-1760.8\" font-family=\"Helvetica,sans-Serif\" font-size=\"14.00\" fill=\"#000000\">value = [64, 36]</text>\n</g>\n<!-- 108&#45;&gt;109 -->\n<g id=\"edge109\" class=\"edge\">\n<title>108&#45;&gt;109</title>\n<path fill=\"none\" stroke=\"#000000\" d=\"M2578.5,-1856.9465C2578.5,-1848.776 2578.5,-1839.9318 2578.5,-1831.3697\"/>\n<polygon fill=\"#000000\" stroke=\"#000000\" points=\"2582.0001,-1831.13 2578.5,-1821.13 2575.0001,-1831.13 2582.0001,-1831.13\"/>\n</g>\n<!-- 182 -->\n<g id=\"node183\" class=\"node\">\n<title>182</title>\n<polygon fill=\"none\" stroke=\"#000000\" points=\"3007.5,-1821 2883.5,-1821 2883.5,-1753 3007.5,-1753 3007.5,-1821\"/>\n<text text-anchor=\"middle\" x=\"2945.5\" y=\"-1805.8\" font-family=\"Helvetica,sans-Serif\" font-size=\"14.00\" fill=\"#000000\">X[1] &lt;= 3.5</text>\n<text text-anchor=\"middle\" x=\"2945.5\" y=\"-1790.8\" font-family=\"Helvetica,sans-Serif\" font-size=\"14.00\" fill=\"#000000\">gini = 0.227</text>\n<text text-anchor=\"middle\" x=\"2945.5\" y=\"-1775.8\" font-family=\"Helvetica,sans-Serif\" font-size=\"14.00\" fill=\"#000000\">samples = 360</text>\n<text text-anchor=\"middle\" x=\"2945.5\" y=\"-1760.8\" font-family=\"Helvetica,sans-Serif\" font-size=\"14.00\" fill=\"#000000\">value = [313, 47]</text>\n</g>\n<!-- 108&#45;&gt;182 -->\n<g id=\"edge182\" class=\"edge\">\n<title>108&#45;&gt;182</title>\n<path fill=\"none\" stroke=\"#000000\" d=\"M2640.7565,-1873.3578C2705.1773,-1855.1023 2805.6836,-1826.621 2873.4868,-1807.407\"/>\n<polygon fill=\"#000000\" stroke=\"#000000\" points=\"2874.5782,-1810.7356 2883.2451,-1804.6417 2872.6696,-1804.0008 2874.5782,-1810.7356\"/>\n</g>\n<!-- 110 -->\n<g id=\"node111\" class=\"node\">\n<title>110</title>\n<polygon fill=\"none\" stroke=\"#000000\" points=\"2570,-1717 2451,-1717 2451,-1649 2570,-1649 2570,-1717\"/>\n<text text-anchor=\"middle\" x=\"2510.5\" y=\"-1701.8\" font-family=\"Helvetica,sans-Serif\" font-size=\"14.00\" fill=\"#000000\">X[4] &lt;= 199.535</text>\n<text text-anchor=\"middle\" x=\"2510.5\" y=\"-1686.8\" font-family=\"Helvetica,sans-Serif\" font-size=\"14.00\" fill=\"#000000\">gini = 0.475</text>\n<text text-anchor=\"middle\" x=\"2510.5\" y=\"-1671.8\" font-family=\"Helvetica,sans-Serif\" font-size=\"14.00\" fill=\"#000000\">samples = 18</text>\n<text text-anchor=\"middle\" x=\"2510.5\" y=\"-1656.8\" font-family=\"Helvetica,sans-Serif\" font-size=\"14.00\" fill=\"#000000\">value = [7, 11]</text>\n</g>\n<!-- 109&#45;&gt;110 -->\n<g id=\"edge110\" class=\"edge\">\n<title>109&#45;&gt;110</title>\n<path fill=\"none\" stroke=\"#000000\" d=\"M2556.2343,-1752.9465C2550.5398,-1744.2373 2544.3448,-1734.7626 2538.4062,-1725.6801\"/>\n<polygon fill=\"#000000\" stroke=\"#000000\" points=\"2541.2177,-1723.5843 2532.8158,-1717.13 2535.3589,-1727.4151 2541.2177,-1723.5843\"/>\n</g>\n<!-- 125 -->\n<g id=\"node126\" class=\"node\">\n<title>125</title>\n<polygon fill=\"none\" stroke=\"#000000\" points=\"2704.5,-1717 2588.5,-1717 2588.5,-1649 2704.5,-1649 2704.5,-1717\"/>\n<text text-anchor=\"middle\" x=\"2646.5\" y=\"-1701.8\" font-family=\"Helvetica,sans-Serif\" font-size=\"14.00\" fill=\"#000000\">X[1] &lt;= 60.5</text>\n<text text-anchor=\"middle\" x=\"2646.5\" y=\"-1686.8\" font-family=\"Helvetica,sans-Serif\" font-size=\"14.00\" fill=\"#000000\">gini = 0.424</text>\n<text text-anchor=\"middle\" x=\"2646.5\" y=\"-1671.8\" font-family=\"Helvetica,sans-Serif\" font-size=\"14.00\" fill=\"#000000\">samples = 82</text>\n<text text-anchor=\"middle\" x=\"2646.5\" y=\"-1656.8\" font-family=\"Helvetica,sans-Serif\" font-size=\"14.00\" fill=\"#000000\">value = [57, 25]</text>\n</g>\n<!-- 109&#45;&gt;125 -->\n<g id=\"edge125\" class=\"edge\">\n<title>109&#45;&gt;125</title>\n<path fill=\"none\" stroke=\"#000000\" d=\"M2600.7657,-1752.9465C2606.4602,-1744.2373 2612.6552,-1734.7626 2618.5938,-1725.6801\"/>\n<polygon fill=\"#000000\" stroke=\"#000000\" points=\"2621.6411,-1727.4151 2624.1842,-1717.13 2615.7823,-1723.5843 2621.6411,-1727.4151\"/>\n</g>\n<!-- 111 -->\n<g id=\"node112\" class=\"node\">\n<title>111</title>\n<polygon fill=\"none\" stroke=\"#000000\" points=\"2445,-1613 2338,-1613 2338,-1545 2445,-1545 2445,-1613\"/>\n<text text-anchor=\"middle\" x=\"2391.5\" y=\"-1597.8\" font-family=\"Helvetica,sans-Serif\" font-size=\"14.00\" fill=\"#000000\">X[1] &lt;= 17.5</text>\n<text text-anchor=\"middle\" x=\"2391.5\" y=\"-1582.8\" font-family=\"Helvetica,sans-Serif\" font-size=\"14.00\" fill=\"#000000\">gini = 0.43</text>\n<text text-anchor=\"middle\" x=\"2391.5\" y=\"-1567.8\" font-family=\"Helvetica,sans-Serif\" font-size=\"14.00\" fill=\"#000000\">samples = 16</text>\n<text text-anchor=\"middle\" x=\"2391.5\" y=\"-1552.8\" font-family=\"Helvetica,sans-Serif\" font-size=\"14.00\" fill=\"#000000\">value = [5, 11]</text>\n</g>\n<!-- 110&#45;&gt;111 -->\n<g id=\"edge111\" class=\"edge\">\n<title>110&#45;&gt;111</title>\n<path fill=\"none\" stroke=\"#000000\" d=\"M2471.5349,-1648.9465C2460.8505,-1639.6088 2449.1591,-1629.3911 2438.0934,-1619.7203\"/>\n<polygon fill=\"#000000\" stroke=\"#000000\" points=\"2440.3855,-1617.0752 2430.5526,-1613.13 2435.7791,-1622.346 2440.3855,-1617.0752\"/>\n</g>\n<!-- 124 -->\n<g id=\"node125\" class=\"node\">\n<title>124</title>\n<polygon fill=\"none\" stroke=\"#000000\" points=\"2562,-1605.5 2463,-1605.5 2463,-1552.5 2562,-1552.5 2562,-1605.5\"/>\n<text text-anchor=\"middle\" x=\"2512.5\" y=\"-1590.3\" font-family=\"Helvetica,sans-Serif\" font-size=\"14.00\" fill=\"#000000\">gini = 0.0</text>\n<text text-anchor=\"middle\" x=\"2512.5\" y=\"-1575.3\" font-family=\"Helvetica,sans-Serif\" font-size=\"14.00\" fill=\"#000000\">samples = 2</text>\n<text text-anchor=\"middle\" x=\"2512.5\" y=\"-1560.3\" font-family=\"Helvetica,sans-Serif\" font-size=\"14.00\" fill=\"#000000\">value = [2, 0]</text>\n</g>\n<!-- 110&#45;&gt;124 -->\n<g id=\"edge124\" class=\"edge\">\n<title>110&#45;&gt;124</title>\n<path fill=\"none\" stroke=\"#000000\" d=\"M2511.1549,-1648.9465C2511.3603,-1638.2621 2511.588,-1626.4254 2511.7966,-1615.5742\"/>\n<polygon fill=\"#000000\" stroke=\"#000000\" points=\"2515.2966,-1615.6076 2511.9896,-1605.5422 2508.2979,-1615.473 2515.2966,-1615.6076\"/>\n</g>\n<!-- 112 -->\n<g id=\"node113\" class=\"node\">\n<title>112</title>\n<polygon fill=\"none\" stroke=\"#000000\" points=\"2328,-1501.5 2229,-1501.5 2229,-1448.5 2328,-1448.5 2328,-1501.5\"/>\n<text text-anchor=\"middle\" x=\"2278.5\" y=\"-1486.3\" font-family=\"Helvetica,sans-Serif\" font-size=\"14.00\" fill=\"#000000\">gini = 0.0</text>\n<text text-anchor=\"middle\" x=\"2278.5\" y=\"-1471.3\" font-family=\"Helvetica,sans-Serif\" font-size=\"14.00\" fill=\"#000000\">samples = 3</text>\n<text text-anchor=\"middle\" x=\"2278.5\" y=\"-1456.3\" font-family=\"Helvetica,sans-Serif\" font-size=\"14.00\" fill=\"#000000\">value = [0, 3]</text>\n</g>\n<!-- 111&#45;&gt;112 -->\n<g id=\"edge112\" class=\"edge\">\n<title>111&#45;&gt;112</title>\n<path fill=\"none\" stroke=\"#000000\" d=\"M2354.4996,-1544.9465C2341.8134,-1533.2707 2327.6322,-1520.219 2314.987,-1508.5809\"/>\n<polygon fill=\"#000000\" stroke=\"#000000\" points=\"2317.0673,-1505.7389 2307.3391,-1501.5422 2312.3269,-1510.8895 2317.0673,-1505.7389\"/>\n</g>\n<!-- 113 -->\n<g id=\"node114\" class=\"node\">\n<title>113</title>\n<polygon fill=\"none\" stroke=\"#000000\" points=\"2450.5,-1509 2346.5,-1509 2346.5,-1441 2450.5,-1441 2450.5,-1509\"/>\n<text text-anchor=\"middle\" x=\"2398.5\" y=\"-1493.8\" font-family=\"Helvetica,sans-Serif\" font-size=\"14.00\" fill=\"#000000\">X[1] &lt;= 21.0</text>\n<text text-anchor=\"middle\" x=\"2398.5\" y=\"-1478.8\" font-family=\"Helvetica,sans-Serif\" font-size=\"14.00\" fill=\"#000000\">gini = 0.473</text>\n<text text-anchor=\"middle\" x=\"2398.5\" y=\"-1463.8\" font-family=\"Helvetica,sans-Serif\" font-size=\"14.00\" fill=\"#000000\">samples = 13</text>\n<text text-anchor=\"middle\" x=\"2398.5\" y=\"-1448.8\" font-family=\"Helvetica,sans-Serif\" font-size=\"14.00\" fill=\"#000000\">value = [5, 8]</text>\n</g>\n<!-- 111&#45;&gt;113 -->\n<g id=\"edge113\" class=\"edge\">\n<title>111&#45;&gt;113</title>\n<path fill=\"none\" stroke=\"#000000\" d=\"M2393.7921,-1544.9465C2394.342,-1536.776 2394.9373,-1527.9318 2395.5136,-1519.3697\"/>\n<polygon fill=\"#000000\" stroke=\"#000000\" points=\"2399.0232,-1519.3425 2396.2028,-1509.13 2392.039,-1518.8723 2399.0232,-1519.3425\"/>\n</g>\n<!-- 114 -->\n<g id=\"node115\" class=\"node\">\n<title>114</title>\n<polygon fill=\"none\" stroke=\"#000000\" points=\"2330,-1397.5 2231,-1397.5 2231,-1344.5 2330,-1344.5 2330,-1397.5\"/>\n<text text-anchor=\"middle\" x=\"2280.5\" y=\"-1382.3\" font-family=\"Helvetica,sans-Serif\" font-size=\"14.00\" fill=\"#000000\">gini = 0.0</text>\n<text text-anchor=\"middle\" x=\"2280.5\" y=\"-1367.3\" font-family=\"Helvetica,sans-Serif\" font-size=\"14.00\" fill=\"#000000\">samples = 2</text>\n<text text-anchor=\"middle\" x=\"2280.5\" y=\"-1352.3\" font-family=\"Helvetica,sans-Serif\" font-size=\"14.00\" fill=\"#000000\">value = [2, 0]</text>\n</g>\n<!-- 113&#45;&gt;114 -->\n<g id=\"edge114\" class=\"edge\">\n<title>113&#45;&gt;114</title>\n<path fill=\"none\" stroke=\"#000000\" d=\"M2359.8624,-1440.9465C2346.4899,-1429.1606 2331.5266,-1415.9726 2318.2281,-1404.2519\"/>\n<polygon fill=\"#000000\" stroke=\"#000000\" points=\"2320.4315,-1401.5285 2310.6151,-1397.5422 2315.803,-1406.7799 2320.4315,-1401.5285\"/>\n</g>\n<!-- 115 -->\n<g id=\"node116\" class=\"node\">\n<title>115</title>\n<polygon fill=\"none\" stroke=\"#000000\" points=\"2459,-1405 2348,-1405 2348,-1337 2459,-1337 2459,-1405\"/>\n<text text-anchor=\"middle\" x=\"2403.5\" y=\"-1389.8\" font-family=\"Helvetica,sans-Serif\" font-size=\"14.00\" fill=\"#000000\">X[4] &lt;= 77.965</text>\n<text text-anchor=\"middle\" x=\"2403.5\" y=\"-1374.8\" font-family=\"Helvetica,sans-Serif\" font-size=\"14.00\" fill=\"#000000\">gini = 0.397</text>\n<text text-anchor=\"middle\" x=\"2403.5\" y=\"-1359.8\" font-family=\"Helvetica,sans-Serif\" font-size=\"14.00\" fill=\"#000000\">samples = 11</text>\n<text text-anchor=\"middle\" x=\"2403.5\" y=\"-1344.8\" font-family=\"Helvetica,sans-Serif\" font-size=\"14.00\" fill=\"#000000\">value = [3, 8]</text>\n</g>\n<!-- 113&#45;&gt;115 -->\n<g id=\"edge115\" class=\"edge\">\n<title>113&#45;&gt;115</title>\n<path fill=\"none\" stroke=\"#000000\" d=\"M2400.1372,-1440.9465C2400.53,-1432.776 2400.9552,-1423.9318 2401.3668,-1415.3697\"/>\n<polygon fill=\"#000000\" stroke=\"#000000\" points=\"2404.8748,-1415.2866 2401.8591,-1405.13 2397.8829,-1414.9504 2404.8748,-1415.2866\"/>\n</g>\n<!-- 116 -->\n<g id=\"node117\" class=\"node\">\n<title>116</title>\n<polygon fill=\"none\" stroke=\"#000000\" points=\"2330,-1301 2231,-1301 2231,-1233 2330,-1233 2330,-1301\"/>\n<text text-anchor=\"middle\" x=\"2280.5\" y=\"-1285.8\" font-family=\"Helvetica,sans-Serif\" font-size=\"14.00\" fill=\"#000000\">X[1] &lt;= 27.5</text>\n<text text-anchor=\"middle\" x=\"2280.5\" y=\"-1270.8\" font-family=\"Helvetica,sans-Serif\" font-size=\"14.00\" fill=\"#000000\">gini = 0.219</text>\n<text text-anchor=\"middle\" x=\"2280.5\" y=\"-1255.8\" font-family=\"Helvetica,sans-Serif\" font-size=\"14.00\" fill=\"#000000\">samples = 8</text>\n<text text-anchor=\"middle\" x=\"2280.5\" y=\"-1240.8\" font-family=\"Helvetica,sans-Serif\" font-size=\"14.00\" fill=\"#000000\">value = [1, 7]</text>\n</g>\n<!-- 115&#45;&gt;116 -->\n<g id=\"edge116\" class=\"edge\">\n<title>115&#45;&gt;116</title>\n<path fill=\"none\" stroke=\"#000000\" d=\"M2363.2252,-1336.9465C2352.1816,-1327.6088 2340.0972,-1317.3911 2328.6596,-1307.7203\"/>\n<polygon fill=\"#000000\" stroke=\"#000000\" points=\"2330.7614,-1304.914 2320.8653,-1301.13 2326.2417,-1310.2594 2330.7614,-1304.914\"/>\n</g>\n<!-- 121 -->\n<g id=\"node122\" class=\"node\">\n<title>121</title>\n<polygon fill=\"none\" stroke=\"#000000\" points=\"2459,-1301 2348,-1301 2348,-1233 2459,-1233 2459,-1301\"/>\n<text text-anchor=\"middle\" x=\"2403.5\" y=\"-1285.8\" font-family=\"Helvetica,sans-Serif\" font-size=\"14.00\" fill=\"#000000\">X[4] &lt;= 86.625</text>\n<text text-anchor=\"middle\" x=\"2403.5\" y=\"-1270.8\" font-family=\"Helvetica,sans-Serif\" font-size=\"14.00\" fill=\"#000000\">gini = 0.444</text>\n<text text-anchor=\"middle\" x=\"2403.5\" y=\"-1255.8\" font-family=\"Helvetica,sans-Serif\" font-size=\"14.00\" fill=\"#000000\">samples = 3</text>\n<text text-anchor=\"middle\" x=\"2403.5\" y=\"-1240.8\" font-family=\"Helvetica,sans-Serif\" font-size=\"14.00\" fill=\"#000000\">value = [2, 1]</text>\n</g>\n<!-- 115&#45;&gt;121 -->\n<g id=\"edge121\" class=\"edge\">\n<title>115&#45;&gt;121</title>\n<path fill=\"none\" stroke=\"#000000\" d=\"M2403.5,-1336.9465C2403.5,-1328.776 2403.5,-1319.9318 2403.5,-1311.3697\"/>\n<polygon fill=\"#000000\" stroke=\"#000000\" points=\"2407.0001,-1311.13 2403.5,-1301.13 2400.0001,-1311.13 2407.0001,-1311.13\"/>\n</g>\n<!-- 117 -->\n<g id=\"node118\" class=\"node\">\n<title>117</title>\n<polygon fill=\"none\" stroke=\"#000000\" points=\"2213,-1189.5 2114,-1189.5 2114,-1136.5 2213,-1136.5 2213,-1189.5\"/>\n<text text-anchor=\"middle\" x=\"2163.5\" y=\"-1174.3\" font-family=\"Helvetica,sans-Serif\" font-size=\"14.00\" fill=\"#000000\">gini = 0.0</text>\n<text text-anchor=\"middle\" x=\"2163.5\" y=\"-1159.3\" font-family=\"Helvetica,sans-Serif\" font-size=\"14.00\" fill=\"#000000\">samples = 5</text>\n<text text-anchor=\"middle\" x=\"2163.5\" y=\"-1144.3\" font-family=\"Helvetica,sans-Serif\" font-size=\"14.00\" fill=\"#000000\">value = [0, 5]</text>\n</g>\n<!-- 116&#45;&gt;117 -->\n<g id=\"edge117\" class=\"edge\">\n<title>116&#45;&gt;117</title>\n<path fill=\"none\" stroke=\"#000000\" d=\"M2242.1898,-1232.9465C2228.9306,-1221.1606 2214.0942,-1207.9726 2200.9084,-1196.2519\"/>\n<polygon fill=\"#000000\" stroke=\"#000000\" points=\"2203.1593,-1193.5699 2193.3599,-1189.5422 2198.5088,-1198.8018 2203.1593,-1193.5699\"/>\n</g>\n<!-- 118 -->\n<g id=\"node119\" class=\"node\">\n<title>118</title>\n<polygon fill=\"none\" stroke=\"#000000\" points=\"2330,-1197 2231,-1197 2231,-1129 2330,-1129 2330,-1197\"/>\n<text text-anchor=\"middle\" x=\"2280.5\" y=\"-1181.8\" font-family=\"Helvetica,sans-Serif\" font-size=\"14.00\" fill=\"#000000\">X[4] &lt;= 41.3</text>\n<text text-anchor=\"middle\" x=\"2280.5\" y=\"-1166.8\" font-family=\"Helvetica,sans-Serif\" font-size=\"14.00\" fill=\"#000000\">gini = 0.444</text>\n<text text-anchor=\"middle\" x=\"2280.5\" y=\"-1151.8\" font-family=\"Helvetica,sans-Serif\" font-size=\"14.00\" fill=\"#000000\">samples = 3</text>\n<text text-anchor=\"middle\" x=\"2280.5\" y=\"-1136.8\" font-family=\"Helvetica,sans-Serif\" font-size=\"14.00\" fill=\"#000000\">value = [1, 2]</text>\n</g>\n<!-- 116&#45;&gt;118 -->\n<g id=\"edge118\" class=\"edge\">\n<title>116&#45;&gt;118</title>\n<path fill=\"none\" stroke=\"#000000\" d=\"M2280.5,-1232.9465C2280.5,-1224.776 2280.5,-1215.9318 2280.5,-1207.3697\"/>\n<polygon fill=\"#000000\" stroke=\"#000000\" points=\"2284.0001,-1207.13 2280.5,-1197.13 2277.0001,-1207.13 2284.0001,-1207.13\"/>\n</g>\n<!-- 119 -->\n<g id=\"node120\" class=\"node\">\n<title>119</title>\n<polygon fill=\"none\" stroke=\"#000000\" points=\"2247,-1085.5 2148,-1085.5 2148,-1032.5 2247,-1032.5 2247,-1085.5\"/>\n<text text-anchor=\"middle\" x=\"2197.5\" y=\"-1070.3\" font-family=\"Helvetica,sans-Serif\" font-size=\"14.00\" fill=\"#000000\">gini = 0.0</text>\n<text text-anchor=\"middle\" x=\"2197.5\" y=\"-1055.3\" font-family=\"Helvetica,sans-Serif\" font-size=\"14.00\" fill=\"#000000\">samples = 2</text>\n<text text-anchor=\"middle\" x=\"2197.5\" y=\"-1040.3\" font-family=\"Helvetica,sans-Serif\" font-size=\"14.00\" fill=\"#000000\">value = [0, 2]</text>\n</g>\n<!-- 118&#45;&gt;119 -->\n<g id=\"edge119\" class=\"edge\">\n<title>118&#45;&gt;119</title>\n<path fill=\"none\" stroke=\"#000000\" d=\"M2253.3227,-1128.9465C2244.2682,-1117.6012 2234.177,-1104.9567 2225.0914,-1093.5724\"/>\n<polygon fill=\"#000000\" stroke=\"#000000\" points=\"2227.6561,-1091.175 2218.6827,-1085.5422 2222.1849,-1095.5414 2227.6561,-1091.175\"/>\n</g>\n<!-- 120 -->\n<g id=\"node121\" class=\"node\">\n<title>120</title>\n<polygon fill=\"none\" stroke=\"#000000\" points=\"2364,-1085.5 2265,-1085.5 2265,-1032.5 2364,-1032.5 2364,-1085.5\"/>\n<text text-anchor=\"middle\" x=\"2314.5\" y=\"-1070.3\" font-family=\"Helvetica,sans-Serif\" font-size=\"14.00\" fill=\"#000000\">gini = 0.0</text>\n<text text-anchor=\"middle\" x=\"2314.5\" y=\"-1055.3\" font-family=\"Helvetica,sans-Serif\" font-size=\"14.00\" fill=\"#000000\">samples = 1</text>\n<text text-anchor=\"middle\" x=\"2314.5\" y=\"-1040.3\" font-family=\"Helvetica,sans-Serif\" font-size=\"14.00\" fill=\"#000000\">value = [1, 0]</text>\n</g>\n<!-- 118&#45;&gt;120 -->\n<g id=\"edge120\" class=\"edge\">\n<title>118&#45;&gt;120</title>\n<path fill=\"none\" stroke=\"#000000\" d=\"M2291.6329,-1128.9465C2295.1619,-1118.1519 2299.0754,-1106.1813 2302.6527,-1095.2389\"/>\n<polygon fill=\"#000000\" stroke=\"#000000\" points=\"2306.042,-1096.1347 2305.8228,-1085.5422 2299.3886,-1093.9595 2306.042,-1096.1347\"/>\n</g>\n<!-- 122 -->\n<g id=\"node123\" class=\"node\">\n<title>122</title>\n<polygon fill=\"none\" stroke=\"#000000\" points=\"2447,-1189.5 2348,-1189.5 2348,-1136.5 2447,-1136.5 2447,-1189.5\"/>\n<text text-anchor=\"middle\" x=\"2397.5\" y=\"-1174.3\" font-family=\"Helvetica,sans-Serif\" font-size=\"14.00\" fill=\"#000000\">gini = 0.0</text>\n<text text-anchor=\"middle\" x=\"2397.5\" y=\"-1159.3\" font-family=\"Helvetica,sans-Serif\" font-size=\"14.00\" fill=\"#000000\">samples = 2</text>\n<text text-anchor=\"middle\" x=\"2397.5\" y=\"-1144.3\" font-family=\"Helvetica,sans-Serif\" font-size=\"14.00\" fill=\"#000000\">value = [2, 0]</text>\n</g>\n<!-- 121&#45;&gt;122 -->\n<g id=\"edge122\" class=\"edge\">\n<title>121&#45;&gt;122</title>\n<path fill=\"none\" stroke=\"#000000\" d=\"M2401.5354,-1232.9465C2400.919,-1222.2621 2400.2361,-1210.4254 2399.6101,-1199.5742\"/>\n<polygon fill=\"#000000\" stroke=\"#000000\" points=\"2403.1015,-1199.3239 2399.0313,-1189.5422 2396.1131,-1199.7272 2403.1015,-1199.3239\"/>\n</g>\n<!-- 123 -->\n<g id=\"node124\" class=\"node\">\n<title>123</title>\n<polygon fill=\"none\" stroke=\"#000000\" points=\"2564,-1189.5 2465,-1189.5 2465,-1136.5 2564,-1136.5 2564,-1189.5\"/>\n<text text-anchor=\"middle\" x=\"2514.5\" y=\"-1174.3\" font-family=\"Helvetica,sans-Serif\" font-size=\"14.00\" fill=\"#000000\">gini = 0.0</text>\n<text text-anchor=\"middle\" x=\"2514.5\" y=\"-1159.3\" font-family=\"Helvetica,sans-Serif\" font-size=\"14.00\" fill=\"#000000\">samples = 1</text>\n<text text-anchor=\"middle\" x=\"2514.5\" y=\"-1144.3\" font-family=\"Helvetica,sans-Serif\" font-size=\"14.00\" fill=\"#000000\">value = [0, 1]</text>\n</g>\n<!-- 121&#45;&gt;123 -->\n<g id=\"edge123\" class=\"edge\">\n<title>121&#45;&gt;123</title>\n<path fill=\"none\" stroke=\"#000000\" d=\"M2439.8456,-1232.9465C2452.3072,-1221.2707 2466.2374,-1208.219 2478.6588,-1196.5809\"/>\n<polygon fill=\"#000000\" stroke=\"#000000\" points=\"2481.2669,-1198.9335 2486.1713,-1189.5422 2476.4809,-1193.8253 2481.2669,-1198.9335\"/>\n</g>\n<!-- 126 -->\n<g id=\"node127\" class=\"node\">\n<title>126</title>\n<polygon fill=\"none\" stroke=\"#000000\" points=\"2701.5,-1613 2585.5,-1613 2585.5,-1545 2701.5,-1545 2701.5,-1613\"/>\n<text text-anchor=\"middle\" x=\"2643.5\" y=\"-1597.8\" font-family=\"Helvetica,sans-Serif\" font-size=\"14.00\" fill=\"#000000\">X[4] &lt;= 26.144</text>\n<text text-anchor=\"middle\" x=\"2643.5\" y=\"-1582.8\" font-family=\"Helvetica,sans-Serif\" font-size=\"14.00\" fill=\"#000000\">gini = 0.447</text>\n<text text-anchor=\"middle\" x=\"2643.5\" y=\"-1567.8\" font-family=\"Helvetica,sans-Serif\" font-size=\"14.00\" fill=\"#000000\">samples = 74</text>\n<text text-anchor=\"middle\" x=\"2643.5\" y=\"-1552.8\" font-family=\"Helvetica,sans-Serif\" font-size=\"14.00\" fill=\"#000000\">value = [49, 25]</text>\n</g>\n<!-- 125&#45;&gt;126 -->\n<g id=\"edge126\" class=\"edge\">\n<title>125&#45;&gt;126</title>\n<path fill=\"none\" stroke=\"#000000\" d=\"M2645.5177,-1648.9465C2645.282,-1640.776 2645.0269,-1631.9318 2644.7799,-1623.3697\"/>\n<polygon fill=\"#000000\" stroke=\"#000000\" points=\"2648.2715,-1623.0249 2644.4845,-1613.13 2641.2744,-1623.2268 2648.2715,-1623.0249\"/>\n</g>\n<!-- 181 -->\n<g id=\"node182\" class=\"node\">\n<title>181</title>\n<polygon fill=\"none\" stroke=\"#000000\" points=\"2819,-1605.5 2720,-1605.5 2720,-1552.5 2819,-1552.5 2819,-1605.5\"/>\n<text text-anchor=\"middle\" x=\"2769.5\" y=\"-1590.3\" font-family=\"Helvetica,sans-Serif\" font-size=\"14.00\" fill=\"#000000\">gini = 0.0</text>\n<text text-anchor=\"middle\" x=\"2769.5\" y=\"-1575.3\" font-family=\"Helvetica,sans-Serif\" font-size=\"14.00\" fill=\"#000000\">samples = 8</text>\n<text text-anchor=\"middle\" x=\"2769.5\" y=\"-1560.3\" font-family=\"Helvetica,sans-Serif\" font-size=\"14.00\" fill=\"#000000\">value = [8, 0]</text>\n</g>\n<!-- 125&#45;&gt;181 -->\n<g id=\"edge181\" class=\"edge\">\n<title>125&#45;&gt;181</title>\n<path fill=\"none\" stroke=\"#000000\" d=\"M2686.7748,-1648.9465C2700.7139,-1637.1606 2716.3112,-1623.9726 2730.1732,-1612.2519\"/>\n<polygon fill=\"#000000\" stroke=\"#000000\" points=\"2732.7324,-1614.6715 2738.1088,-1605.5422 2728.2127,-1609.3262 2732.7324,-1614.6715\"/>\n</g>\n<!-- 127 -->\n<g id=\"node128\" class=\"node\">\n<title>127</title>\n<polygon fill=\"none\" stroke=\"#000000\" points=\"2678,-1501.5 2579,-1501.5 2579,-1448.5 2678,-1448.5 2678,-1501.5\"/>\n<text text-anchor=\"middle\" x=\"2628.5\" y=\"-1486.3\" font-family=\"Helvetica,sans-Serif\" font-size=\"14.00\" fill=\"#000000\">gini = 0.0</text>\n<text text-anchor=\"middle\" x=\"2628.5\" y=\"-1471.3\" font-family=\"Helvetica,sans-Serif\" font-size=\"14.00\" fill=\"#000000\">samples = 8</text>\n<text text-anchor=\"middle\" x=\"2628.5\" y=\"-1456.3\" font-family=\"Helvetica,sans-Serif\" font-size=\"14.00\" fill=\"#000000\">value = [8, 0]</text>\n</g>\n<!-- 126&#45;&gt;127 -->\n<g id=\"edge127\" class=\"edge\">\n<title>126&#45;&gt;127</title>\n<path fill=\"none\" stroke=\"#000000\" d=\"M2638.5884,-1544.9465C2637.0474,-1534.2621 2635.3402,-1522.4254 2633.7751,-1511.5742\"/>\n<polygon fill=\"#000000\" stroke=\"#000000\" points=\"2637.22,-1510.9401 2632.3282,-1501.5422 2630.2917,-1511.9394 2637.22,-1510.9401\"/>\n</g>\n<!-- 128 -->\n<g id=\"node129\" class=\"node\">\n<title>128</title>\n<polygon fill=\"none\" stroke=\"#000000\" points=\"2812.5,-1509 2696.5,-1509 2696.5,-1441 2812.5,-1441 2812.5,-1509\"/>\n<text text-anchor=\"middle\" x=\"2754.5\" y=\"-1493.8\" font-family=\"Helvetica,sans-Serif\" font-size=\"14.00\" fill=\"#000000\">X[4] &lt;= 27.135</text>\n<text text-anchor=\"middle\" x=\"2754.5\" y=\"-1478.8\" font-family=\"Helvetica,sans-Serif\" font-size=\"14.00\" fill=\"#000000\">gini = 0.471</text>\n<text text-anchor=\"middle\" x=\"2754.5\" y=\"-1463.8\" font-family=\"Helvetica,sans-Serif\" font-size=\"14.00\" fill=\"#000000\">samples = 66</text>\n<text text-anchor=\"middle\" x=\"2754.5\" y=\"-1448.8\" font-family=\"Helvetica,sans-Serif\" font-size=\"14.00\" fill=\"#000000\">value = [41, 25]</text>\n</g>\n<!-- 126&#45;&gt;128 -->\n<g id=\"edge128\" class=\"edge\">\n<title>126&#45;&gt;128</title>\n<path fill=\"none\" stroke=\"#000000\" d=\"M2679.8456,-1544.9465C2689.7159,-1535.6986 2700.5075,-1525.5876 2710.741,-1515.9994\"/>\n<polygon fill=\"#000000\" stroke=\"#000000\" points=\"2713.1684,-1518.5214 2718.0728,-1509.13 2708.3823,-1513.4131 2713.1684,-1518.5214\"/>\n</g>\n<!-- 129 -->\n<g id=\"node130\" class=\"node\">\n<title>129</title>\n<polygon fill=\"none\" stroke=\"#000000\" points=\"2800.5,-1405 2696.5,-1405 2696.5,-1337 2800.5,-1337 2800.5,-1405\"/>\n<text text-anchor=\"middle\" x=\"2748.5\" y=\"-1389.8\" font-family=\"Helvetica,sans-Serif\" font-size=\"14.00\" fill=\"#000000\">X[1] &lt;= 53.5</text>\n<text text-anchor=\"middle\" x=\"2748.5\" y=\"-1374.8\" font-family=\"Helvetica,sans-Serif\" font-size=\"14.00\" fill=\"#000000\">gini = 0.444</text>\n<text text-anchor=\"middle\" x=\"2748.5\" y=\"-1359.8\" font-family=\"Helvetica,sans-Serif\" font-size=\"14.00\" fill=\"#000000\">samples = 12</text>\n<text text-anchor=\"middle\" x=\"2748.5\" y=\"-1344.8\" font-family=\"Helvetica,sans-Serif\" font-size=\"14.00\" fill=\"#000000\">value = [4, 8]</text>\n</g>\n<!-- 128&#45;&gt;129 -->\n<g id=\"edge129\" class=\"edge\">\n<title>128&#45;&gt;129</title>\n<path fill=\"none\" stroke=\"#000000\" d=\"M2752.5354,-1440.9465C2752.064,-1432.776 2751.5538,-1423.9318 2751.0598,-1415.3697\"/>\n<polygon fill=\"#000000\" stroke=\"#000000\" points=\"2754.5393,-1414.9118 2750.469,-1405.13 2747.5509,-1415.315 2754.5393,-1414.9118\"/>\n</g>\n<!-- 136 -->\n<g id=\"node137\" class=\"node\">\n<title>136</title>\n<polygon fill=\"none\" stroke=\"#000000\" points=\"2934.5,-1405 2818.5,-1405 2818.5,-1337 2934.5,-1337 2934.5,-1405\"/>\n<text text-anchor=\"middle\" x=\"2876.5\" y=\"-1389.8\" font-family=\"Helvetica,sans-Serif\" font-size=\"14.00\" fill=\"#000000\">X[4] &lt;= 29.1</text>\n<text text-anchor=\"middle\" x=\"2876.5\" y=\"-1374.8\" font-family=\"Helvetica,sans-Serif\" font-size=\"14.00\" fill=\"#000000\">gini = 0.431</text>\n<text text-anchor=\"middle\" x=\"2876.5\" y=\"-1359.8\" font-family=\"Helvetica,sans-Serif\" font-size=\"14.00\" fill=\"#000000\">samples = 54</text>\n<text text-anchor=\"middle\" x=\"2876.5\" y=\"-1344.8\" font-family=\"Helvetica,sans-Serif\" font-size=\"14.00\" fill=\"#000000\">value = [37, 17]</text>\n</g>\n<!-- 128&#45;&gt;136 -->\n<g id=\"edge136\" class=\"edge\">\n<title>128&#45;&gt;136</title>\n<path fill=\"none\" stroke=\"#000000\" d=\"M2794.4474,-1440.9465C2805.4012,-1431.6088 2817.3873,-1421.3911 2828.732,-1411.7203\"/>\n<polygon fill=\"#000000\" stroke=\"#000000\" points=\"2831.1233,-1414.2809 2836.4629,-1405.13 2826.5821,-1408.9538 2831.1233,-1414.2809\"/>\n</g>\n<!-- 130 -->\n<g id=\"node131\" class=\"node\">\n<title>130</title>\n<polygon fill=\"none\" stroke=\"#000000\" points=\"2685.5,-1301 2581.5,-1301 2581.5,-1233 2685.5,-1233 2685.5,-1301\"/>\n<text text-anchor=\"middle\" x=\"2633.5\" y=\"-1285.8\" font-family=\"Helvetica,sans-Serif\" font-size=\"14.00\" fill=\"#000000\">X[5] &lt;= 2.5</text>\n<text text-anchor=\"middle\" x=\"2633.5\" y=\"-1270.8\" font-family=\"Helvetica,sans-Serif\" font-size=\"14.00\" fill=\"#000000\">gini = 0.32</text>\n<text text-anchor=\"middle\" x=\"2633.5\" y=\"-1255.8\" font-family=\"Helvetica,sans-Serif\" font-size=\"14.00\" fill=\"#000000\">samples = 10</text>\n<text text-anchor=\"middle\" x=\"2633.5\" y=\"-1240.8\" font-family=\"Helvetica,sans-Serif\" font-size=\"14.00\" fill=\"#000000\">value = [2, 8]</text>\n</g>\n<!-- 129&#45;&gt;130 -->\n<g id=\"edge130\" class=\"edge\">\n<title>129&#45;&gt;130</title>\n<path fill=\"none\" stroke=\"#000000\" d=\"M2710.8447,-1336.9465C2700.6187,-1327.6986 2689.4382,-1317.5876 2678.8359,-1307.9994\"/>\n<polygon fill=\"#000000\" stroke=\"#000000\" points=\"2681.0044,-1305.2416 2671.2399,-1301.13 2676.3092,-1310.4334 2681.0044,-1305.2416\"/>\n</g>\n<!-- 135 -->\n<g id=\"node136\" class=\"node\">\n<title>135</title>\n<polygon fill=\"none\" stroke=\"#000000\" points=\"2803,-1293.5 2704,-1293.5 2704,-1240.5 2803,-1240.5 2803,-1293.5\"/>\n<text text-anchor=\"middle\" x=\"2753.5\" y=\"-1278.3\" font-family=\"Helvetica,sans-Serif\" font-size=\"14.00\" fill=\"#000000\">gini = 0.0</text>\n<text text-anchor=\"middle\" x=\"2753.5\" y=\"-1263.3\" font-family=\"Helvetica,sans-Serif\" font-size=\"14.00\" fill=\"#000000\">samples = 2</text>\n<text text-anchor=\"middle\" x=\"2753.5\" y=\"-1248.3\" font-family=\"Helvetica,sans-Serif\" font-size=\"14.00\" fill=\"#000000\">value = [2, 0]</text>\n</g>\n<!-- 129&#45;&gt;135 -->\n<g id=\"edge135\" class=\"edge\">\n<title>129&#45;&gt;135</title>\n<path fill=\"none\" stroke=\"#000000\" d=\"M2750.1372,-1336.9465C2750.6509,-1326.2621 2751.2199,-1314.4254 2751.7416,-1303.5742\"/>\n<polygon fill=\"#000000\" stroke=\"#000000\" points=\"2755.2396,-1303.6987 2752.2239,-1293.5422 2748.2477,-1303.3625 2755.2396,-1303.6987\"/>\n</g>\n<!-- 131 -->\n<g id=\"node132\" class=\"node\">\n<title>131</title>\n<polygon fill=\"none\" stroke=\"#000000\" points=\"2685,-1197 2582,-1197 2582,-1129 2685,-1129 2685,-1197\"/>\n<text text-anchor=\"middle\" x=\"2633.5\" y=\"-1181.8\" font-family=\"Helvetica,sans-Serif\" font-size=\"14.00\" fill=\"#000000\">X[1] &lt;= 31.85</text>\n<text text-anchor=\"middle\" x=\"2633.5\" y=\"-1166.8\" font-family=\"Helvetica,sans-Serif\" font-size=\"14.00\" fill=\"#000000\">gini = 0.198</text>\n<text text-anchor=\"middle\" x=\"2633.5\" y=\"-1151.8\" font-family=\"Helvetica,sans-Serif\" font-size=\"14.00\" fill=\"#000000\">samples = 9</text>\n<text text-anchor=\"middle\" x=\"2633.5\" y=\"-1136.8\" font-family=\"Helvetica,sans-Serif\" font-size=\"14.00\" fill=\"#000000\">value = [1, 8]</text>\n</g>\n<!-- 130&#45;&gt;131 -->\n<g id=\"edge131\" class=\"edge\">\n<title>130&#45;&gt;131</title>\n<path fill=\"none\" stroke=\"#000000\" d=\"M2633.5,-1232.9465C2633.5,-1224.776 2633.5,-1215.9318 2633.5,-1207.3697\"/>\n<polygon fill=\"#000000\" stroke=\"#000000\" points=\"2637.0001,-1207.13 2633.5,-1197.13 2630.0001,-1207.13 2637.0001,-1207.13\"/>\n</g>\n<!-- 134 -->\n<g id=\"node135\" class=\"node\">\n<title>134</title>\n<polygon fill=\"none\" stroke=\"#000000\" points=\"2802,-1189.5 2703,-1189.5 2703,-1136.5 2802,-1136.5 2802,-1189.5\"/>\n<text text-anchor=\"middle\" x=\"2752.5\" y=\"-1174.3\" font-family=\"Helvetica,sans-Serif\" font-size=\"14.00\" fill=\"#000000\">gini = 0.0</text>\n<text text-anchor=\"middle\" x=\"2752.5\" y=\"-1159.3\" font-family=\"Helvetica,sans-Serif\" font-size=\"14.00\" fill=\"#000000\">samples = 1</text>\n<text text-anchor=\"middle\" x=\"2752.5\" y=\"-1144.3\" font-family=\"Helvetica,sans-Serif\" font-size=\"14.00\" fill=\"#000000\">value = [1, 0]</text>\n</g>\n<!-- 130&#45;&gt;134 -->\n<g id=\"edge134\" class=\"edge\">\n<title>130&#45;&gt;134</title>\n<path fill=\"none\" stroke=\"#000000\" d=\"M2672.4651,-1232.9465C2685.9509,-1221.1606 2701.0409,-1207.9726 2714.4521,-1196.2519\"/>\n<polygon fill=\"#000000\" stroke=\"#000000\" points=\"2716.9031,-1198.7582 2722.1296,-1189.5422 2712.2967,-1193.4874 2716.9031,-1198.7582\"/>\n</g>\n<!-- 132 -->\n<g id=\"node133\" class=\"node\">\n<title>132</title>\n<polygon fill=\"none\" stroke=\"#000000\" points=\"2566,-1085.5 2467,-1085.5 2467,-1032.5 2566,-1032.5 2566,-1085.5\"/>\n<text text-anchor=\"middle\" x=\"2516.5\" y=\"-1070.3\" font-family=\"Helvetica,sans-Serif\" font-size=\"14.00\" fill=\"#000000\">gini = 0.5</text>\n<text text-anchor=\"middle\" x=\"2516.5\" y=\"-1055.3\" font-family=\"Helvetica,sans-Serif\" font-size=\"14.00\" fill=\"#000000\">samples = 2</text>\n<text text-anchor=\"middle\" x=\"2516.5\" y=\"-1040.3\" font-family=\"Helvetica,sans-Serif\" font-size=\"14.00\" fill=\"#000000\">value = [1, 1]</text>\n</g>\n<!-- 131&#45;&gt;132 -->\n<g id=\"edge132\" class=\"edge\">\n<title>131&#45;&gt;132</title>\n<path fill=\"none\" stroke=\"#000000\" d=\"M2595.1898,-1128.9465C2581.9306,-1117.1606 2567.0942,-1103.9726 2553.9084,-1092.2519\"/>\n<polygon fill=\"#000000\" stroke=\"#000000\" points=\"2556.1593,-1089.5699 2546.3599,-1085.5422 2551.5088,-1094.8018 2556.1593,-1089.5699\"/>\n</g>\n<!-- 133 -->\n<g id=\"node134\" class=\"node\">\n<title>133</title>\n<polygon fill=\"none\" stroke=\"#000000\" points=\"2683,-1085.5 2584,-1085.5 2584,-1032.5 2683,-1032.5 2683,-1085.5\"/>\n<text text-anchor=\"middle\" x=\"2633.5\" y=\"-1070.3\" font-family=\"Helvetica,sans-Serif\" font-size=\"14.00\" fill=\"#000000\">gini = 0.0</text>\n<text text-anchor=\"middle\" x=\"2633.5\" y=\"-1055.3\" font-family=\"Helvetica,sans-Serif\" font-size=\"14.00\" fill=\"#000000\">samples = 7</text>\n<text text-anchor=\"middle\" x=\"2633.5\" y=\"-1040.3\" font-family=\"Helvetica,sans-Serif\" font-size=\"14.00\" fill=\"#000000\">value = [0, 7]</text>\n</g>\n<!-- 131&#45;&gt;133 -->\n<g id=\"edge133\" class=\"edge\">\n<title>131&#45;&gt;133</title>\n<path fill=\"none\" stroke=\"#000000\" d=\"M2633.5,-1128.9465C2633.5,-1118.2621 2633.5,-1106.4254 2633.5,-1095.5742\"/>\n<polygon fill=\"#000000\" stroke=\"#000000\" points=\"2637.0001,-1095.5421 2633.5,-1085.5422 2630.0001,-1095.5422 2637.0001,-1095.5421\"/>\n</g>\n<!-- 137 -->\n<g id=\"node138\" class=\"node\">\n<title>137</title>\n<polygon fill=\"none\" stroke=\"#000000\" points=\"2920,-1293.5 2821,-1293.5 2821,-1240.5 2920,-1240.5 2920,-1293.5\"/>\n<text text-anchor=\"middle\" x=\"2870.5\" y=\"-1278.3\" font-family=\"Helvetica,sans-Serif\" font-size=\"14.00\" fill=\"#000000\">gini = 0.0</text>\n<text text-anchor=\"middle\" x=\"2870.5\" y=\"-1263.3\" font-family=\"Helvetica,sans-Serif\" font-size=\"14.00\" fill=\"#000000\">samples = 5</text>\n<text text-anchor=\"middle\" x=\"2870.5\" y=\"-1248.3\" font-family=\"Helvetica,sans-Serif\" font-size=\"14.00\" fill=\"#000000\">value = [5, 0]</text>\n</g>\n<!-- 136&#45;&gt;137 -->\n<g id=\"edge137\" class=\"edge\">\n<title>136&#45;&gt;137</title>\n<path fill=\"none\" stroke=\"#000000\" d=\"M2874.5354,-1336.9465C2873.919,-1326.2621 2873.2361,-1314.4254 2872.6101,-1303.5742\"/>\n<polygon fill=\"#000000\" stroke=\"#000000\" points=\"2876.1015,-1303.3239 2872.0313,-1293.5422 2869.1131,-1303.7272 2876.1015,-1303.3239\"/>\n</g>\n<!-- 138 -->\n<g id=\"node139\" class=\"node\">\n<title>138</title>\n<polygon fill=\"none\" stroke=\"#000000\" points=\"3054.5,-1301 2938.5,-1301 2938.5,-1233 3054.5,-1233 3054.5,-1301\"/>\n<text text-anchor=\"middle\" x=\"2996.5\" y=\"-1285.8\" font-family=\"Helvetica,sans-Serif\" font-size=\"14.00\" fill=\"#000000\">X[4] &lt;= 37.0</text>\n<text text-anchor=\"middle\" x=\"2996.5\" y=\"-1270.8\" font-family=\"Helvetica,sans-Serif\" font-size=\"14.00\" fill=\"#000000\">gini = 0.453</text>\n<text text-anchor=\"middle\" x=\"2996.5\" y=\"-1255.8\" font-family=\"Helvetica,sans-Serif\" font-size=\"14.00\" fill=\"#000000\">samples = 49</text>\n<text text-anchor=\"middle\" x=\"2996.5\" y=\"-1240.8\" font-family=\"Helvetica,sans-Serif\" font-size=\"14.00\" fill=\"#000000\">value = [32, 17]</text>\n</g>\n<!-- 136&#45;&gt;138 -->\n<g id=\"edge138\" class=\"edge\">\n<title>136&#45;&gt;138</title>\n<path fill=\"none\" stroke=\"#000000\" d=\"M2915.7925,-1336.9465C2926.5667,-1327.6088 2938.3564,-1317.3911 2949.515,-1307.7203\"/>\n<polygon fill=\"#000000\" stroke=\"#000000\" points=\"2951.8546,-1310.3243 2957.1192,-1301.13 2947.2701,-1305.0344 2951.8546,-1310.3243\"/>\n</g>\n<!-- 139 -->\n<g id=\"node140\" class=\"node\">\n<title>139</title>\n<polygon fill=\"none\" stroke=\"#000000\" points=\"2924.5,-1197 2820.5,-1197 2820.5,-1129 2924.5,-1129 2924.5,-1197\"/>\n<text text-anchor=\"middle\" x=\"2872.5\" y=\"-1181.8\" font-family=\"Helvetica,sans-Serif\" font-size=\"14.00\" fill=\"#000000\">X[5] &lt;= 2.5</text>\n<text text-anchor=\"middle\" x=\"2872.5\" y=\"-1166.8\" font-family=\"Helvetica,sans-Serif\" font-size=\"14.00\" fill=\"#000000\">gini = 0.498</text>\n<text text-anchor=\"middle\" x=\"2872.5\" y=\"-1151.8\" font-family=\"Helvetica,sans-Serif\" font-size=\"14.00\" fill=\"#000000\">samples = 15</text>\n<text text-anchor=\"middle\" x=\"2872.5\" y=\"-1136.8\" font-family=\"Helvetica,sans-Serif\" font-size=\"14.00\" fill=\"#000000\">value = [7, 8]</text>\n</g>\n<!-- 138&#45;&gt;139 -->\n<g id=\"edge139\" class=\"edge\">\n<title>138&#45;&gt;139</title>\n<path fill=\"none\" stroke=\"#000000\" d=\"M2955.8978,-1232.9465C2944.7644,-1223.6088 2932.5817,-1213.3911 2921.0511,-1203.7203\"/>\n<polygon fill=\"#000000\" stroke=\"#000000\" points=\"2923.1046,-1200.8745 2913.1935,-1197.13 2918.6062,-1206.2378 2923.1046,-1200.8745\"/>\n</g>\n<!-- 154 -->\n<g id=\"node155\" class=\"node\">\n<title>154</title>\n<polygon fill=\"none\" stroke=\"#000000\" points=\"3050,-1197 2943,-1197 2943,-1129 3050,-1129 3050,-1197\"/>\n<text text-anchor=\"middle\" x=\"2996.5\" y=\"-1181.8\" font-family=\"Helvetica,sans-Serif\" font-size=\"14.00\" fill=\"#000000\">X[3] &lt;= 0.5</text>\n<text text-anchor=\"middle\" x=\"2996.5\" y=\"-1166.8\" font-family=\"Helvetica,sans-Serif\" font-size=\"14.00\" fill=\"#000000\">gini = 0.389</text>\n<text text-anchor=\"middle\" x=\"2996.5\" y=\"-1151.8\" font-family=\"Helvetica,sans-Serif\" font-size=\"14.00\" fill=\"#000000\">samples = 34</text>\n<text text-anchor=\"middle\" x=\"2996.5\" y=\"-1136.8\" font-family=\"Helvetica,sans-Serif\" font-size=\"14.00\" fill=\"#000000\">value = [25, 9]</text>\n</g>\n<!-- 138&#45;&gt;154 -->\n<g id=\"edge154\" class=\"edge\">\n<title>138&#45;&gt;154</title>\n<path fill=\"none\" stroke=\"#000000\" d=\"M2996.5,-1232.9465C2996.5,-1224.776 2996.5,-1215.9318 2996.5,-1207.3697\"/>\n<polygon fill=\"#000000\" stroke=\"#000000\" points=\"3000.0001,-1207.13 2996.5,-1197.13 2993.0001,-1207.13 3000.0001,-1207.13\"/>\n</g>\n<!-- 140 -->\n<g id=\"node141\" class=\"node\">\n<title>140</title>\n<polygon fill=\"none\" stroke=\"#000000\" points=\"2805.5,-1093 2701.5,-1093 2701.5,-1025 2805.5,-1025 2805.5,-1093\"/>\n<text text-anchor=\"middle\" x=\"2753.5\" y=\"-1077.8\" font-family=\"Helvetica,sans-Serif\" font-size=\"14.00\" fill=\"#000000\">X[1] &lt;= 43.5</text>\n<text text-anchor=\"middle\" x=\"2753.5\" y=\"-1062.8\" font-family=\"Helvetica,sans-Serif\" font-size=\"14.00\" fill=\"#000000\">gini = 0.486</text>\n<text text-anchor=\"middle\" x=\"2753.5\" y=\"-1047.8\" font-family=\"Helvetica,sans-Serif\" font-size=\"14.00\" fill=\"#000000\">samples = 12</text>\n<text text-anchor=\"middle\" x=\"2753.5\" y=\"-1032.8\" font-family=\"Helvetica,sans-Serif\" font-size=\"14.00\" fill=\"#000000\">value = [7, 5]</text>\n</g>\n<!-- 139&#45;&gt;140 -->\n<g id=\"edge140\" class=\"edge\">\n<title>139&#45;&gt;140</title>\n<path fill=\"none\" stroke=\"#000000\" d=\"M2833.5349,-1128.9465C2822.8505,-1119.6088 2811.1591,-1109.3911 2800.0934,-1099.7203\"/>\n<polygon fill=\"#000000\" stroke=\"#000000\" points=\"2802.3855,-1097.0752 2792.5526,-1093.13 2797.7791,-1102.346 2802.3855,-1097.0752\"/>\n</g>\n<!-- 153 -->\n<g id=\"node154\" class=\"node\">\n<title>153</title>\n<polygon fill=\"none\" stroke=\"#000000\" points=\"2923,-1085.5 2824,-1085.5 2824,-1032.5 2923,-1032.5 2923,-1085.5\"/>\n<text text-anchor=\"middle\" x=\"2873.5\" y=\"-1070.3\" font-family=\"Helvetica,sans-Serif\" font-size=\"14.00\" fill=\"#000000\">gini = 0.0</text>\n<text text-anchor=\"middle\" x=\"2873.5\" y=\"-1055.3\" font-family=\"Helvetica,sans-Serif\" font-size=\"14.00\" fill=\"#000000\">samples = 3</text>\n<text text-anchor=\"middle\" x=\"2873.5\" y=\"-1040.3\" font-family=\"Helvetica,sans-Serif\" font-size=\"14.00\" fill=\"#000000\">value = [0, 3]</text>\n</g>\n<!-- 139&#45;&gt;153 -->\n<g id=\"edge153\" class=\"edge\">\n<title>139&#45;&gt;153</title>\n<path fill=\"none\" stroke=\"#000000\" d=\"M2872.8274,-1128.9465C2872.9302,-1118.2621 2873.044,-1106.4254 2873.1483,-1095.5742\"/>\n<polygon fill=\"#000000\" stroke=\"#000000\" points=\"2876.6484,-1095.5754 2873.2448,-1085.5422 2869.6487,-1095.508 2876.6484,-1095.5754\"/>\n</g>\n<!-- 141 -->\n<g id=\"node142\" class=\"node\">\n<title>141</title>\n<polygon fill=\"none\" stroke=\"#000000\" points=\"2685.5,-989 2581.5,-989 2581.5,-921 2685.5,-921 2685.5,-989\"/>\n<text text-anchor=\"middle\" x=\"2633.5\" y=\"-973.8\" font-family=\"Helvetica,sans-Serif\" font-size=\"14.00\" fill=\"#000000\">X[1] &lt;= 29.35</text>\n<text text-anchor=\"middle\" x=\"2633.5\" y=\"-958.8\" font-family=\"Helvetica,sans-Serif\" font-size=\"14.00\" fill=\"#000000\">gini = 0.5</text>\n<text text-anchor=\"middle\" x=\"2633.5\" y=\"-943.8\" font-family=\"Helvetica,sans-Serif\" font-size=\"14.00\" fill=\"#000000\">samples = 10</text>\n<text text-anchor=\"middle\" x=\"2633.5\" y=\"-928.8\" font-family=\"Helvetica,sans-Serif\" font-size=\"14.00\" fill=\"#000000\">value = [5, 5]</text>\n</g>\n<!-- 140&#45;&gt;141 -->\n<g id=\"edge141\" class=\"edge\">\n<title>140&#45;&gt;141</title>\n<path fill=\"none\" stroke=\"#000000\" d=\"M2714.2075,-1024.9465C2703.4333,-1015.6088 2691.6436,-1005.3911 2680.485,-995.7203\"/>\n<polygon fill=\"#000000\" stroke=\"#000000\" points=\"2682.7299,-993.0344 2672.8808,-989.13 2678.1454,-998.3243 2682.7299,-993.0344\"/>\n</g>\n<!-- 152 -->\n<g id=\"node153\" class=\"node\">\n<title>152</title>\n<polygon fill=\"none\" stroke=\"#000000\" points=\"2803,-981.5 2704,-981.5 2704,-928.5 2803,-928.5 2803,-981.5\"/>\n<text text-anchor=\"middle\" x=\"2753.5\" y=\"-966.3\" font-family=\"Helvetica,sans-Serif\" font-size=\"14.00\" fill=\"#000000\">gini = 0.0</text>\n<text text-anchor=\"middle\" x=\"2753.5\" y=\"-951.3\" font-family=\"Helvetica,sans-Serif\" font-size=\"14.00\" fill=\"#000000\">samples = 2</text>\n<text text-anchor=\"middle\" x=\"2753.5\" y=\"-936.3\" font-family=\"Helvetica,sans-Serif\" font-size=\"14.00\" fill=\"#000000\">value = [2, 0]</text>\n</g>\n<!-- 140&#45;&gt;152 -->\n<g id=\"edge152\" class=\"edge\">\n<title>140&#45;&gt;152</title>\n<path fill=\"none\" stroke=\"#000000\" d=\"M2753.5,-1024.9465C2753.5,-1014.2621 2753.5,-1002.4254 2753.5,-991.5742\"/>\n<polygon fill=\"#000000\" stroke=\"#000000\" points=\"2757.0001,-991.5421 2753.5,-981.5422 2750.0001,-991.5422 2757.0001,-991.5421\"/>\n</g>\n<!-- 142 -->\n<g id=\"node143\" class=\"node\">\n<title>142</title>\n<polygon fill=\"none\" stroke=\"#000000\" points=\"2566,-877.5 2467,-877.5 2467,-824.5 2566,-824.5 2566,-877.5\"/>\n<text text-anchor=\"middle\" x=\"2516.5\" y=\"-862.3\" font-family=\"Helvetica,sans-Serif\" font-size=\"14.00\" fill=\"#000000\">gini = 0.0</text>\n<text text-anchor=\"middle\" x=\"2516.5\" y=\"-847.3\" font-family=\"Helvetica,sans-Serif\" font-size=\"14.00\" fill=\"#000000\">samples = 1</text>\n<text text-anchor=\"middle\" x=\"2516.5\" y=\"-832.3\" font-family=\"Helvetica,sans-Serif\" font-size=\"14.00\" fill=\"#000000\">value = [1, 0]</text>\n</g>\n<!-- 141&#45;&gt;142 -->\n<g id=\"edge142\" class=\"edge\">\n<title>141&#45;&gt;142</title>\n<path fill=\"none\" stroke=\"#000000\" d=\"M2595.1898,-920.9465C2581.9306,-909.1606 2567.0942,-895.9726 2553.9084,-884.2519\"/>\n<polygon fill=\"#000000\" stroke=\"#000000\" points=\"2556.1593,-881.5699 2546.3599,-877.5422 2551.5088,-886.8018 2556.1593,-881.5699\"/>\n</g>\n<!-- 143 -->\n<g id=\"node144\" class=\"node\">\n<title>143</title>\n<polygon fill=\"none\" stroke=\"#000000\" points=\"2683,-885 2584,-885 2584,-817 2683,-817 2683,-885\"/>\n<text text-anchor=\"middle\" x=\"2633.5\" y=\"-869.8\" font-family=\"Helvetica,sans-Serif\" font-size=\"14.00\" fill=\"#000000\">X[3] &lt;= 0.5</text>\n<text text-anchor=\"middle\" x=\"2633.5\" y=\"-854.8\" font-family=\"Helvetica,sans-Serif\" font-size=\"14.00\" fill=\"#000000\">gini = 0.494</text>\n<text text-anchor=\"middle\" x=\"2633.5\" y=\"-839.8\" font-family=\"Helvetica,sans-Serif\" font-size=\"14.00\" fill=\"#000000\">samples = 9</text>\n<text text-anchor=\"middle\" x=\"2633.5\" y=\"-824.8\" font-family=\"Helvetica,sans-Serif\" font-size=\"14.00\" fill=\"#000000\">value = [4, 5]</text>\n</g>\n<!-- 141&#45;&gt;143 -->\n<g id=\"edge143\" class=\"edge\">\n<title>141&#45;&gt;143</title>\n<path fill=\"none\" stroke=\"#000000\" d=\"M2633.5,-920.9465C2633.5,-912.776 2633.5,-903.9318 2633.5,-895.3697\"/>\n<polygon fill=\"#000000\" stroke=\"#000000\" points=\"2637.0001,-895.13 2633.5,-885.13 2630.0001,-895.13 2637.0001,-895.13\"/>\n</g>\n<!-- 144 -->\n<g id=\"node145\" class=\"node\">\n<title>144</title>\n<polygon fill=\"none\" stroke=\"#000000\" points=\"2566,-781 2455,-781 2455,-713 2566,-713 2566,-781\"/>\n<text text-anchor=\"middle\" x=\"2510.5\" y=\"-765.8\" font-family=\"Helvetica,sans-Serif\" font-size=\"14.00\" fill=\"#000000\">X[4] &lt;= 30.598</text>\n<text text-anchor=\"middle\" x=\"2510.5\" y=\"-750.8\" font-family=\"Helvetica,sans-Serif\" font-size=\"14.00\" fill=\"#000000\">gini = 0.469</text>\n<text text-anchor=\"middle\" x=\"2510.5\" y=\"-735.8\" font-family=\"Helvetica,sans-Serif\" font-size=\"14.00\" fill=\"#000000\">samples = 8</text>\n<text text-anchor=\"middle\" x=\"2510.5\" y=\"-720.8\" font-family=\"Helvetica,sans-Serif\" font-size=\"14.00\" fill=\"#000000\">value = [3, 5]</text>\n</g>\n<!-- 143&#45;&gt;144 -->\n<g id=\"edge144\" class=\"edge\">\n<title>143&#45;&gt;144</title>\n<path fill=\"none\" stroke=\"#000000\" d=\"M2593.2252,-816.9465C2582.1816,-807.6088 2570.0972,-797.3911 2558.6596,-787.7203\"/>\n<polygon fill=\"#000000\" stroke=\"#000000\" points=\"2560.7614,-784.914 2550.8653,-781.13 2556.2417,-790.2594 2560.7614,-784.914\"/>\n</g>\n<!-- 151 -->\n<g id=\"node152\" class=\"node\">\n<title>151</title>\n<polygon fill=\"none\" stroke=\"#000000\" points=\"2683,-773.5 2584,-773.5 2584,-720.5 2683,-720.5 2683,-773.5\"/>\n<text text-anchor=\"middle\" x=\"2633.5\" y=\"-758.3\" font-family=\"Helvetica,sans-Serif\" font-size=\"14.00\" fill=\"#000000\">gini = 0.0</text>\n<text text-anchor=\"middle\" x=\"2633.5\" y=\"-743.3\" font-family=\"Helvetica,sans-Serif\" font-size=\"14.00\" fill=\"#000000\">samples = 1</text>\n<text text-anchor=\"middle\" x=\"2633.5\" y=\"-728.3\" font-family=\"Helvetica,sans-Serif\" font-size=\"14.00\" fill=\"#000000\">value = [1, 0]</text>\n</g>\n<!-- 143&#45;&gt;151 -->\n<g id=\"edge151\" class=\"edge\">\n<title>143&#45;&gt;151</title>\n<path fill=\"none\" stroke=\"#000000\" d=\"M2633.5,-816.9465C2633.5,-806.2621 2633.5,-794.4254 2633.5,-783.5742\"/>\n<polygon fill=\"#000000\" stroke=\"#000000\" points=\"2637.0001,-783.5421 2633.5,-773.5422 2630.0001,-783.5422 2637.0001,-783.5421\"/>\n</g>\n<!-- 145 -->\n<g id=\"node146\" class=\"node\">\n<title>145</title>\n<polygon fill=\"none\" stroke=\"#000000\" points=\"2535,-669.5 2436,-669.5 2436,-616.5 2535,-616.5 2535,-669.5\"/>\n<text text-anchor=\"middle\" x=\"2485.5\" y=\"-654.3\" font-family=\"Helvetica,sans-Serif\" font-size=\"14.00\" fill=\"#000000\">gini = 0.0</text>\n<text text-anchor=\"middle\" x=\"2485.5\" y=\"-639.3\" font-family=\"Helvetica,sans-Serif\" font-size=\"14.00\" fill=\"#000000\">samples = 3</text>\n<text text-anchor=\"middle\" x=\"2485.5\" y=\"-624.3\" font-family=\"Helvetica,sans-Serif\" font-size=\"14.00\" fill=\"#000000\">value = [0, 3]</text>\n</g>\n<!-- 144&#45;&gt;145 -->\n<g id=\"edge145\" class=\"edge\">\n<title>144&#45;&gt;145</title>\n<path fill=\"none\" stroke=\"#000000\" d=\"M2502.3141,-712.9465C2499.7457,-702.2621 2496.9003,-690.4254 2494.2919,-679.5742\"/>\n<polygon fill=\"#000000\" stroke=\"#000000\" points=\"2497.6207,-678.4471 2491.8803,-669.5422 2490.8146,-680.0833 2497.6207,-678.4471\"/>\n</g>\n<!-- 146 -->\n<g id=\"node147\" class=\"node\">\n<title>146</title>\n<polygon fill=\"none\" stroke=\"#000000\" points=\"2656,-677 2553,-677 2553,-609 2656,-609 2656,-677\"/>\n<text text-anchor=\"middle\" x=\"2604.5\" y=\"-661.8\" font-family=\"Helvetica,sans-Serif\" font-size=\"14.00\" fill=\"#000000\">X[1] &lt;= 34.85</text>\n<text text-anchor=\"middle\" x=\"2604.5\" y=\"-646.8\" font-family=\"Helvetica,sans-Serif\" font-size=\"14.00\" fill=\"#000000\">gini = 0.48</text>\n<text text-anchor=\"middle\" x=\"2604.5\" y=\"-631.8\" font-family=\"Helvetica,sans-Serif\" font-size=\"14.00\" fill=\"#000000\">samples = 5</text>\n<text text-anchor=\"middle\" x=\"2604.5\" y=\"-616.8\" font-family=\"Helvetica,sans-Serif\" font-size=\"14.00\" fill=\"#000000\">value = [3, 2]</text>\n</g>\n<!-- 144&#45;&gt;146 -->\n<g id=\"edge146\" class=\"edge\">\n<title>144&#45;&gt;146</title>\n<path fill=\"none\" stroke=\"#000000\" d=\"M2541.2791,-712.9465C2549.4755,-703.8782 2558.422,-693.9799 2566.9375,-684.5585\"/>\n<polygon fill=\"#000000\" stroke=\"#000000\" points=\"2569.5429,-686.8957 2573.6517,-677.13 2564.3497,-682.2019 2569.5429,-686.8957\"/>\n</g>\n<!-- 147 -->\n<g id=\"node148\" class=\"node\">\n<title>147</title>\n<polygon fill=\"none\" stroke=\"#000000\" points=\"2577,-573 2474,-573 2474,-505 2577,-505 2577,-573\"/>\n<text text-anchor=\"middle\" x=\"2525.5\" y=\"-557.8\" font-family=\"Helvetica,sans-Serif\" font-size=\"14.00\" fill=\"#000000\">X[4] &lt;= 35.25</text>\n<text text-anchor=\"middle\" x=\"2525.5\" y=\"-542.8\" font-family=\"Helvetica,sans-Serif\" font-size=\"14.00\" fill=\"#000000\">gini = 0.375</text>\n<text text-anchor=\"middle\" x=\"2525.5\" y=\"-527.8\" font-family=\"Helvetica,sans-Serif\" font-size=\"14.00\" fill=\"#000000\">samples = 4</text>\n<text text-anchor=\"middle\" x=\"2525.5\" y=\"-512.8\" font-family=\"Helvetica,sans-Serif\" font-size=\"14.00\" fill=\"#000000\">value = [3, 1]</text>\n</g>\n<!-- 146&#45;&gt;147 -->\n<g id=\"edge147\" class=\"edge\">\n<title>146&#45;&gt;147</title>\n<path fill=\"none\" stroke=\"#000000\" d=\"M2578.6324,-608.9465C2571.8804,-600.0578 2564.5226,-590.3716 2557.4941,-581.1188\"/>\n<polygon fill=\"#000000\" stroke=\"#000000\" points=\"2560.2617,-578.976 2551.4257,-573.13 2554.6875,-583.2102 2560.2617,-578.976\"/>\n</g>\n<!-- 150 -->\n<g id=\"node151\" class=\"node\">\n<title>150</title>\n<polygon fill=\"none\" stroke=\"#000000\" points=\"2694,-565.5 2595,-565.5 2595,-512.5 2694,-512.5 2694,-565.5\"/>\n<text text-anchor=\"middle\" x=\"2644.5\" y=\"-550.3\" font-family=\"Helvetica,sans-Serif\" font-size=\"14.00\" fill=\"#000000\">gini = 0.0</text>\n<text text-anchor=\"middle\" x=\"2644.5\" y=\"-535.3\" font-family=\"Helvetica,sans-Serif\" font-size=\"14.00\" fill=\"#000000\">samples = 1</text>\n<text text-anchor=\"middle\" x=\"2644.5\" y=\"-520.3\" font-family=\"Helvetica,sans-Serif\" font-size=\"14.00\" fill=\"#000000\">value = [0, 1]</text>\n</g>\n<!-- 146&#45;&gt;150 -->\n<g id=\"edge150\" class=\"edge\">\n<title>146&#45;&gt;150</title>\n<path fill=\"none\" stroke=\"#000000\" d=\"M2617.5975,-608.9465C2621.7916,-598.0418 2626.4474,-585.9368 2630.6907,-574.9043\"/>\n<polygon fill=\"#000000\" stroke=\"#000000\" points=\"2633.9683,-576.1321 2634.2915,-565.5422 2627.4349,-573.6192 2633.9683,-576.1321\"/>\n</g>\n<!-- 148 -->\n<g id=\"node149\" class=\"node\">\n<title>148</title>\n<polygon fill=\"none\" stroke=\"#000000\" points=\"2517,-461.5 2418,-461.5 2418,-408.5 2517,-408.5 2517,-461.5\"/>\n<text text-anchor=\"middle\" x=\"2467.5\" y=\"-446.3\" font-family=\"Helvetica,sans-Serif\" font-size=\"14.00\" fill=\"#000000\">gini = 0.0</text>\n<text text-anchor=\"middle\" x=\"2467.5\" y=\"-431.3\" font-family=\"Helvetica,sans-Serif\" font-size=\"14.00\" fill=\"#000000\">samples = 3</text>\n<text text-anchor=\"middle\" x=\"2467.5\" y=\"-416.3\" font-family=\"Helvetica,sans-Serif\" font-size=\"14.00\" fill=\"#000000\">value = [3, 0]</text>\n</g>\n<!-- 147&#45;&gt;148 -->\n<g id=\"edge148\" class=\"edge\">\n<title>147&#45;&gt;148</title>\n<path fill=\"none\" stroke=\"#000000\" d=\"M2506.5086,-504.9465C2500.3657,-493.9316 2493.5399,-481.6922 2487.3373,-470.5703\"/>\n<polygon fill=\"#000000\" stroke=\"#000000\" points=\"2490.2299,-468.5711 2482.3024,-461.5422 2484.1163,-471.9806 2490.2299,-468.5711\"/>\n</g>\n<!-- 149 -->\n<g id=\"node150\" class=\"node\">\n<title>149</title>\n<polygon fill=\"none\" stroke=\"#000000\" points=\"2634,-461.5 2535,-461.5 2535,-408.5 2634,-408.5 2634,-461.5\"/>\n<text text-anchor=\"middle\" x=\"2584.5\" y=\"-446.3\" font-family=\"Helvetica,sans-Serif\" font-size=\"14.00\" fill=\"#000000\">gini = 0.0</text>\n<text text-anchor=\"middle\" x=\"2584.5\" y=\"-431.3\" font-family=\"Helvetica,sans-Serif\" font-size=\"14.00\" fill=\"#000000\">samples = 1</text>\n<text text-anchor=\"middle\" x=\"2584.5\" y=\"-416.3\" font-family=\"Helvetica,sans-Serif\" font-size=\"14.00\" fill=\"#000000\">value = [0, 1]</text>\n</g>\n<!-- 147&#45;&gt;149 -->\n<g id=\"edge149\" class=\"edge\">\n<title>147&#45;&gt;149</title>\n<path fill=\"none\" stroke=\"#000000\" d=\"M2544.8188,-504.9465C2551.0676,-493.9316 2558.0112,-481.6922 2564.3207,-470.5703\"/>\n<polygon fill=\"#000000\" stroke=\"#000000\" points=\"2567.5523,-471.967 2569.4424,-461.5422 2561.4638,-468.513 2567.5523,-471.967\"/>\n</g>\n<!-- 155 -->\n<g id=\"node156\" class=\"node\">\n<title>155</title>\n<polygon fill=\"none\" stroke=\"#000000\" points=\"3048,-1085.5 2941,-1085.5 2941,-1032.5 3048,-1032.5 3048,-1085.5\"/>\n<text text-anchor=\"middle\" x=\"2994.5\" y=\"-1070.3\" font-family=\"Helvetica,sans-Serif\" font-size=\"14.00\" fill=\"#000000\">gini = 0.0</text>\n<text text-anchor=\"middle\" x=\"2994.5\" y=\"-1055.3\" font-family=\"Helvetica,sans-Serif\" font-size=\"14.00\" fill=\"#000000\">samples = 11</text>\n<text text-anchor=\"middle\" x=\"2994.5\" y=\"-1040.3\" font-family=\"Helvetica,sans-Serif\" font-size=\"14.00\" fill=\"#000000\">value = [11, 0]</text>\n</g>\n<!-- 154&#45;&gt;155 -->\n<g id=\"edge155\" class=\"edge\">\n<title>154&#45;&gt;155</title>\n<path fill=\"none\" stroke=\"#000000\" d=\"M2995.8451,-1128.9465C2995.6397,-1118.2621 2995.412,-1106.4254 2995.2034,-1095.5742\"/>\n<polygon fill=\"#000000\" stroke=\"#000000\" points=\"2998.7021,-1095.473 2995.0104,-1085.5422 2991.7034,-1095.6076 2998.7021,-1095.473\"/>\n</g>\n<!-- 156 -->\n<g id=\"node157\" class=\"node\">\n<title>156</title>\n<polygon fill=\"none\" stroke=\"#000000\" points=\"3173,-1093 3066,-1093 3066,-1025 3173,-1025 3173,-1093\"/>\n<text text-anchor=\"middle\" x=\"3119.5\" y=\"-1077.8\" font-family=\"Helvetica,sans-Serif\" font-size=\"14.00\" fill=\"#000000\">X[1] &lt;= 49.5</text>\n<text text-anchor=\"middle\" x=\"3119.5\" y=\"-1062.8\" font-family=\"Helvetica,sans-Serif\" font-size=\"14.00\" fill=\"#000000\">gini = 0.476</text>\n<text text-anchor=\"middle\" x=\"3119.5\" y=\"-1047.8\" font-family=\"Helvetica,sans-Serif\" font-size=\"14.00\" fill=\"#000000\">samples = 23</text>\n<text text-anchor=\"middle\" x=\"3119.5\" y=\"-1032.8\" font-family=\"Helvetica,sans-Serif\" font-size=\"14.00\" fill=\"#000000\">value = [14, 9]</text>\n</g>\n<!-- 154&#45;&gt;156 -->\n<g id=\"edge156\" class=\"edge\">\n<title>154&#45;&gt;156</title>\n<path fill=\"none\" stroke=\"#000000\" d=\"M3036.7748,-1128.9465C3047.8184,-1119.6088 3059.9028,-1109.3911 3071.3404,-1099.7203\"/>\n<polygon fill=\"#000000\" stroke=\"#000000\" points=\"3073.7583,-1102.2594 3079.1347,-1093.13 3069.2386,-1096.914 3073.7583,-1102.2594\"/>\n</g>\n<!-- 157 -->\n<g id=\"node158\" class=\"node\">\n<title>157</title>\n<polygon fill=\"none\" stroke=\"#000000\" points=\"3048.5,-989 2944.5,-989 2944.5,-921 3048.5,-921 3048.5,-989\"/>\n<text text-anchor=\"middle\" x=\"2996.5\" y=\"-973.8\" font-family=\"Helvetica,sans-Serif\" font-size=\"14.00\" fill=\"#000000\">X[1] &lt;= 47.0</text>\n<text text-anchor=\"middle\" x=\"2996.5\" y=\"-958.8\" font-family=\"Helvetica,sans-Serif\" font-size=\"14.00\" fill=\"#000000\">gini = 0.5</text>\n<text text-anchor=\"middle\" x=\"2996.5\" y=\"-943.8\" font-family=\"Helvetica,sans-Serif\" font-size=\"14.00\" fill=\"#000000\">samples = 16</text>\n<text text-anchor=\"middle\" x=\"2996.5\" y=\"-928.8\" font-family=\"Helvetica,sans-Serif\" font-size=\"14.00\" fill=\"#000000\">value = [8, 8]</text>\n</g>\n<!-- 156&#45;&gt;157 -->\n<g id=\"edge157\" class=\"edge\">\n<title>156&#45;&gt;157</title>\n<path fill=\"none\" stroke=\"#000000\" d=\"M3079.2252,-1024.9465C3068.1816,-1015.6088 3056.0972,-1005.3911 3044.6596,-995.7203\"/>\n<polygon fill=\"#000000\" stroke=\"#000000\" points=\"3046.7614,-992.914 3036.8653,-989.13 3042.2417,-998.2594 3046.7614,-992.914\"/>\n</g>\n<!-- 178 -->\n<g id=\"node179\" class=\"node\">\n<title>178</title>\n<polygon fill=\"none\" stroke=\"#000000\" points=\"3169,-989 3070,-989 3070,-921 3169,-921 3169,-989\"/>\n<text text-anchor=\"middle\" x=\"3119.5\" y=\"-973.8\" font-family=\"Helvetica,sans-Serif\" font-size=\"14.00\" fill=\"#000000\">X[1] &lt;= 59.0</text>\n<text text-anchor=\"middle\" x=\"3119.5\" y=\"-958.8\" font-family=\"Helvetica,sans-Serif\" font-size=\"14.00\" fill=\"#000000\">gini = 0.245</text>\n<text text-anchor=\"middle\" x=\"3119.5\" y=\"-943.8\" font-family=\"Helvetica,sans-Serif\" font-size=\"14.00\" fill=\"#000000\">samples = 7</text>\n<text text-anchor=\"middle\" x=\"3119.5\" y=\"-928.8\" font-family=\"Helvetica,sans-Serif\" font-size=\"14.00\" fill=\"#000000\">value = [6, 1]</text>\n</g>\n<!-- 156&#45;&gt;178 -->\n<g id=\"edge178\" class=\"edge\">\n<title>156&#45;&gt;178</title>\n<path fill=\"none\" stroke=\"#000000\" d=\"M3119.5,-1024.9465C3119.5,-1016.776 3119.5,-1007.9318 3119.5,-999.3697\"/>\n<polygon fill=\"#000000\" stroke=\"#000000\" points=\"3123.0001,-999.13 3119.5,-989.13 3116.0001,-999.13 3123.0001,-999.13\"/>\n</g>\n<!-- 158 -->\n<g id=\"node159\" class=\"node\">\n<title>158</title>\n<polygon fill=\"none\" stroke=\"#000000\" points=\"2922.5,-885 2818.5,-885 2818.5,-817 2922.5,-817 2922.5,-885\"/>\n<text text-anchor=\"middle\" x=\"2870.5\" y=\"-869.8\" font-family=\"Helvetica,sans-Serif\" font-size=\"14.00\" fill=\"#000000\">X[1] &lt;= 43.0</text>\n<text text-anchor=\"middle\" x=\"2870.5\" y=\"-854.8\" font-family=\"Helvetica,sans-Serif\" font-size=\"14.00\" fill=\"#000000\">gini = 0.486</text>\n<text text-anchor=\"middle\" x=\"2870.5\" y=\"-839.8\" font-family=\"Helvetica,sans-Serif\" font-size=\"14.00\" fill=\"#000000\">samples = 12</text>\n<text text-anchor=\"middle\" x=\"2870.5\" y=\"-824.8\" font-family=\"Helvetica,sans-Serif\" font-size=\"14.00\" fill=\"#000000\">value = [7, 5]</text>\n</g>\n<!-- 157&#45;&gt;158 -->\n<g id=\"edge158\" class=\"edge\">\n<title>157&#45;&gt;158</title>\n<path fill=\"none\" stroke=\"#000000\" d=\"M2955.2429,-920.9465C2943.9299,-911.6088 2931.5508,-901.3911 2919.8342,-891.7203\"/>\n<polygon fill=\"#000000\" stroke=\"#000000\" points=\"2921.79,-888.7964 2911.8498,-885.13 2917.3341,-894.195 2921.79,-888.7964\"/>\n</g>\n<!-- 175 -->\n<g id=\"node176\" class=\"node\">\n<title>175</title>\n<polygon fill=\"none\" stroke=\"#000000\" points=\"3052,-885 2941,-885 2941,-817 3052,-817 3052,-885\"/>\n<text text-anchor=\"middle\" x=\"2996.5\" y=\"-869.8\" font-family=\"Helvetica,sans-Serif\" font-size=\"14.00\" fill=\"#000000\">X[4] &lt;= 99.994</text>\n<text text-anchor=\"middle\" x=\"2996.5\" y=\"-854.8\" font-family=\"Helvetica,sans-Serif\" font-size=\"14.00\" fill=\"#000000\">gini = 0.375</text>\n<text text-anchor=\"middle\" x=\"2996.5\" y=\"-839.8\" font-family=\"Helvetica,sans-Serif\" font-size=\"14.00\" fill=\"#000000\">samples = 4</text>\n<text text-anchor=\"middle\" x=\"2996.5\" y=\"-824.8\" font-family=\"Helvetica,sans-Serif\" font-size=\"14.00\" fill=\"#000000\">value = [1, 3]</text>\n</g>\n<!-- 157&#45;&gt;175 -->\n<g id=\"edge175\" class=\"edge\">\n<title>157&#45;&gt;175</title>\n<path fill=\"none\" stroke=\"#000000\" d=\"M2996.5,-920.9465C2996.5,-912.776 2996.5,-903.9318 2996.5,-895.3697\"/>\n<polygon fill=\"#000000\" stroke=\"#000000\" points=\"3000.0001,-895.13 2996.5,-885.13 2993.0001,-895.13 3000.0001,-895.13\"/>\n</g>\n<!-- 159 -->\n<g id=\"node160\" class=\"node\">\n<title>159</title>\n<polygon fill=\"none\" stroke=\"#000000\" points=\"2812,-781 2701,-781 2701,-713 2812,-713 2812,-781\"/>\n<text text-anchor=\"middle\" x=\"2756.5\" y=\"-765.8\" font-family=\"Helvetica,sans-Serif\" font-size=\"14.00\" fill=\"#000000\">X[4] &lt;= 52.277</text>\n<text text-anchor=\"middle\" x=\"2756.5\" y=\"-750.8\" font-family=\"Helvetica,sans-Serif\" font-size=\"14.00\" fill=\"#000000\">gini = 0.494</text>\n<text text-anchor=\"middle\" x=\"2756.5\" y=\"-735.8\" font-family=\"Helvetica,sans-Serif\" font-size=\"14.00\" fill=\"#000000\">samples = 9</text>\n<text text-anchor=\"middle\" x=\"2756.5\" y=\"-720.8\" font-family=\"Helvetica,sans-Serif\" font-size=\"14.00\" fill=\"#000000\">value = [4, 5]</text>\n</g>\n<!-- 158&#45;&gt;159 -->\n<g id=\"edge159\" class=\"edge\">\n<title>158&#45;&gt;159</title>\n<path fill=\"none\" stroke=\"#000000\" d=\"M2833.1721,-816.9465C2823.035,-807.6986 2811.9517,-797.5876 2801.4417,-787.9994\"/>\n<polygon fill=\"#000000\" stroke=\"#000000\" points=\"2803.6583,-785.284 2793.9117,-781.13 2798.9405,-790.4553 2803.6583,-785.284\"/>\n</g>\n<!-- 174 -->\n<g id=\"node175\" class=\"node\">\n<title>174</title>\n<polygon fill=\"none\" stroke=\"#000000\" points=\"2929,-773.5 2830,-773.5 2830,-720.5 2929,-720.5 2929,-773.5\"/>\n<text text-anchor=\"middle\" x=\"2879.5\" y=\"-758.3\" font-family=\"Helvetica,sans-Serif\" font-size=\"14.00\" fill=\"#000000\">gini = 0.0</text>\n<text text-anchor=\"middle\" x=\"2879.5\" y=\"-743.3\" font-family=\"Helvetica,sans-Serif\" font-size=\"14.00\" fill=\"#000000\">samples = 3</text>\n<text text-anchor=\"middle\" x=\"2879.5\" y=\"-728.3\" font-family=\"Helvetica,sans-Serif\" font-size=\"14.00\" fill=\"#000000\">value = [3, 0]</text>\n</g>\n<!-- 158&#45;&gt;174 -->\n<g id=\"edge174\" class=\"edge\">\n<title>158&#45;&gt;174</title>\n<path fill=\"none\" stroke=\"#000000\" d=\"M2873.4469,-816.9465C2874.3716,-806.2621 2875.3959,-794.4254 2876.3349,-783.5742\"/>\n<polygon fill=\"#000000\" stroke=\"#000000\" points=\"2879.8278,-783.8067 2877.2031,-773.5422 2872.8539,-783.2031 2879.8278,-783.8067\"/>\n</g>\n<!-- 160 -->\n<g id=\"node161\" class=\"node\">\n<title>160</title>\n<polygon fill=\"none\" stroke=\"#000000\" points=\"2790,-669.5 2691,-669.5 2691,-616.5 2790,-616.5 2790,-669.5\"/>\n<text text-anchor=\"middle\" x=\"2740.5\" y=\"-654.3\" font-family=\"Helvetica,sans-Serif\" font-size=\"14.00\" fill=\"#000000\">gini = 0.0</text>\n<text text-anchor=\"middle\" x=\"2740.5\" y=\"-639.3\" font-family=\"Helvetica,sans-Serif\" font-size=\"14.00\" fill=\"#000000\">samples = 1</text>\n<text text-anchor=\"middle\" x=\"2740.5\" y=\"-624.3\" font-family=\"Helvetica,sans-Serif\" font-size=\"14.00\" fill=\"#000000\">value = [1, 0]</text>\n</g>\n<!-- 159&#45;&gt;160 -->\n<g id=\"edge160\" class=\"edge\">\n<title>159&#45;&gt;160</title>\n<path fill=\"none\" stroke=\"#000000\" d=\"M2751.261,-712.9465C2749.6172,-702.2621 2747.7962,-690.4254 2746.1268,-679.5742\"/>\n<polygon fill=\"#000000\" stroke=\"#000000\" points=\"2749.5634,-678.8937 2744.5834,-669.5422 2742.6448,-679.9581 2749.5634,-678.8937\"/>\n</g>\n<!-- 161 -->\n<g id=\"node162\" class=\"node\">\n<title>161</title>\n<polygon fill=\"none\" stroke=\"#000000\" points=\"2919,-677 2808,-677 2808,-609 2919,-609 2919,-677\"/>\n<text text-anchor=\"middle\" x=\"2863.5\" y=\"-661.8\" font-family=\"Helvetica,sans-Serif\" font-size=\"14.00\" fill=\"#000000\">X[4] &lt;= 52.827</text>\n<text text-anchor=\"middle\" x=\"2863.5\" y=\"-646.8\" font-family=\"Helvetica,sans-Serif\" font-size=\"14.00\" fill=\"#000000\">gini = 0.469</text>\n<text text-anchor=\"middle\" x=\"2863.5\" y=\"-631.8\" font-family=\"Helvetica,sans-Serif\" font-size=\"14.00\" fill=\"#000000\">samples = 8</text>\n<text text-anchor=\"middle\" x=\"2863.5\" y=\"-616.8\" font-family=\"Helvetica,sans-Serif\" font-size=\"14.00\" fill=\"#000000\">value = [3, 5]</text>\n</g>\n<!-- 159&#45;&gt;161 -->\n<g id=\"edge161\" class=\"edge\">\n<title>159&#45;&gt;161</title>\n<path fill=\"none\" stroke=\"#000000\" d=\"M2791.5358,-712.9465C2800.9581,-703.7884 2811.2513,-693.7838 2821.0304,-684.2788\"/>\n<polygon fill=\"#000000\" stroke=\"#000000\" points=\"2823.654,-686.6097 2828.3855,-677.13 2818.7751,-681.59 2823.654,-686.6097\"/>\n</g>\n<!-- 162 -->\n<g id=\"node163\" class=\"node\">\n<title>162</title>\n<polygon fill=\"none\" stroke=\"#000000\" points=\"2841,-565.5 2742,-565.5 2742,-512.5 2841,-512.5 2841,-565.5\"/>\n<text text-anchor=\"middle\" x=\"2791.5\" y=\"-550.3\" font-family=\"Helvetica,sans-Serif\" font-size=\"14.00\" fill=\"#000000\">gini = 0.0</text>\n<text text-anchor=\"middle\" x=\"2791.5\" y=\"-535.3\" font-family=\"Helvetica,sans-Serif\" font-size=\"14.00\" fill=\"#000000\">samples = 2</text>\n<text text-anchor=\"middle\" x=\"2791.5\" y=\"-520.3\" font-family=\"Helvetica,sans-Serif\" font-size=\"14.00\" fill=\"#000000\">value = [0, 2]</text>\n</g>\n<!-- 161&#45;&gt;162 -->\n<g id=\"edge162\" class=\"edge\">\n<title>161&#45;&gt;162</title>\n<path fill=\"none\" stroke=\"#000000\" d=\"M2839.9245,-608.9465C2832.1463,-597.7113 2823.4861,-585.2021 2815.6645,-573.9043\"/>\n<polygon fill=\"#000000\" stroke=\"#000000\" points=\"2818.4452,-571.7719 2809.8753,-565.5422 2812.6898,-575.7564 2818.4452,-571.7719\"/>\n</g>\n<!-- 163 -->\n<g id=\"node164\" class=\"node\">\n<title>163</title>\n<polygon fill=\"none\" stroke=\"#000000\" points=\"2962,-573 2859,-573 2859,-505 2962,-505 2962,-573\"/>\n<text text-anchor=\"middle\" x=\"2910.5\" y=\"-557.8\" font-family=\"Helvetica,sans-Serif\" font-size=\"14.00\" fill=\"#000000\">X[4] &lt;= 55.05</text>\n<text text-anchor=\"middle\" x=\"2910.5\" y=\"-542.8\" font-family=\"Helvetica,sans-Serif\" font-size=\"14.00\" fill=\"#000000\">gini = 0.5</text>\n<text text-anchor=\"middle\" x=\"2910.5\" y=\"-527.8\" font-family=\"Helvetica,sans-Serif\" font-size=\"14.00\" fill=\"#000000\">samples = 6</text>\n<text text-anchor=\"middle\" x=\"2910.5\" y=\"-512.8\" font-family=\"Helvetica,sans-Serif\" font-size=\"14.00\" fill=\"#000000\">value = [3, 3]</text>\n</g>\n<!-- 161&#45;&gt;163 -->\n<g id=\"edge163\" class=\"edge\">\n<title>161&#45;&gt;163</title>\n<path fill=\"none\" stroke=\"#000000\" d=\"M2878.8896,-608.9465C2882.7037,-600.5067 2886.8428,-591.3479 2890.8306,-582.5239\"/>\n<polygon fill=\"#000000\" stroke=\"#000000\" points=\"2894.147,-583.684 2895.0759,-573.13 2887.7682,-580.8013 2894.147,-583.684\"/>\n</g>\n<!-- 164 -->\n<g id=\"node165\" class=\"node\">\n<title>164</title>\n<polygon fill=\"none\" stroke=\"#000000\" points=\"2890,-461.5 2791,-461.5 2791,-408.5 2890,-408.5 2890,-461.5\"/>\n<text text-anchor=\"middle\" x=\"2840.5\" y=\"-446.3\" font-family=\"Helvetica,sans-Serif\" font-size=\"14.00\" fill=\"#000000\">gini = 0.0</text>\n<text text-anchor=\"middle\" x=\"2840.5\" y=\"-431.3\" font-family=\"Helvetica,sans-Serif\" font-size=\"14.00\" fill=\"#000000\">samples = 1</text>\n<text text-anchor=\"middle\" x=\"2840.5\" y=\"-416.3\" font-family=\"Helvetica,sans-Serif\" font-size=\"14.00\" fill=\"#000000\">value = [1, 0]</text>\n</g>\n<!-- 163&#45;&gt;164 -->\n<g id=\"edge164\" class=\"edge\">\n<title>163&#45;&gt;164</title>\n<path fill=\"none\" stroke=\"#000000\" d=\"M2887.5794,-504.9465C2880.0172,-493.7113 2871.5976,-481.2021 2863.9933,-469.9043\"/>\n<polygon fill=\"#000000\" stroke=\"#000000\" points=\"2866.8523,-467.8837 2858.3649,-461.5422 2861.0452,-471.7924 2866.8523,-467.8837\"/>\n</g>\n<!-- 165 -->\n<g id=\"node166\" class=\"node\">\n<title>165</title>\n<polygon fill=\"none\" stroke=\"#000000\" points=\"3007,-469 2908,-469 2908,-401 3007,-401 3007,-469\"/>\n<text text-anchor=\"middle\" x=\"2957.5\" y=\"-453.8\" font-family=\"Helvetica,sans-Serif\" font-size=\"14.00\" fill=\"#000000\">X[1] &lt;= 33.5</text>\n<text text-anchor=\"middle\" x=\"2957.5\" y=\"-438.8\" font-family=\"Helvetica,sans-Serif\" font-size=\"14.00\" fill=\"#000000\">gini = 0.48</text>\n<text text-anchor=\"middle\" x=\"2957.5\" y=\"-423.8\" font-family=\"Helvetica,sans-Serif\" font-size=\"14.00\" fill=\"#000000\">samples = 5</text>\n<text text-anchor=\"middle\" x=\"2957.5\" y=\"-408.8\" font-family=\"Helvetica,sans-Serif\" font-size=\"14.00\" fill=\"#000000\">value = [2, 3]</text>\n</g>\n<!-- 163&#45;&gt;165 -->\n<g id=\"edge165\" class=\"edge\">\n<title>163&#45;&gt;165</title>\n<path fill=\"none\" stroke=\"#000000\" d=\"M2925.8896,-504.9465C2929.7037,-496.5067 2933.8428,-487.3479 2937.8306,-478.5239\"/>\n<polygon fill=\"#000000\" stroke=\"#000000\" points=\"2941.147,-479.684 2942.0759,-469.13 2934.7682,-476.8013 2941.147,-479.684\"/>\n</g>\n<!-- 166 -->\n<g id=\"node167\" class=\"node\">\n<title>166</title>\n<polygon fill=\"none\" stroke=\"#000000\" points=\"2975,-357.5 2876,-357.5 2876,-304.5 2975,-304.5 2975,-357.5\"/>\n<text text-anchor=\"middle\" x=\"2925.5\" y=\"-342.3\" font-family=\"Helvetica,sans-Serif\" font-size=\"14.00\" fill=\"#000000\">gini = 0.0</text>\n<text text-anchor=\"middle\" x=\"2925.5\" y=\"-327.3\" font-family=\"Helvetica,sans-Serif\" font-size=\"14.00\" fill=\"#000000\">samples = 1</text>\n<text text-anchor=\"middle\" x=\"2925.5\" y=\"-312.3\" font-family=\"Helvetica,sans-Serif\" font-size=\"14.00\" fill=\"#000000\">value = [0, 1]</text>\n</g>\n<!-- 165&#45;&gt;166 -->\n<g id=\"edge166\" class=\"edge\">\n<title>165&#45;&gt;166</title>\n<path fill=\"none\" stroke=\"#000000\" d=\"M2947.022,-400.9465C2943.7006,-390.1519 2940.0173,-378.1813 2936.6504,-367.2389\"/>\n<polygon fill=\"#000000\" stroke=\"#000000\" points=\"2939.953,-366.0706 2933.6668,-357.5422 2933.2625,-368.1293 2939.953,-366.0706\"/>\n</g>\n<!-- 167 -->\n<g id=\"node168\" class=\"node\">\n<title>167</title>\n<polygon fill=\"none\" stroke=\"#000000\" points=\"3104,-365 2993,-365 2993,-297 3104,-297 3104,-365\"/>\n<text text-anchor=\"middle\" x=\"3048.5\" y=\"-349.8\" font-family=\"Helvetica,sans-Serif\" font-size=\"14.00\" fill=\"#000000\">X[4] &lt;= 84.425</text>\n<text text-anchor=\"middle\" x=\"3048.5\" y=\"-334.8\" font-family=\"Helvetica,sans-Serif\" font-size=\"14.00\" fill=\"#000000\">gini = 0.5</text>\n<text text-anchor=\"middle\" x=\"3048.5\" y=\"-319.8\" font-family=\"Helvetica,sans-Serif\" font-size=\"14.00\" fill=\"#000000\">samples = 4</text>\n<text text-anchor=\"middle\" x=\"3048.5\" y=\"-304.8\" font-family=\"Helvetica,sans-Serif\" font-size=\"14.00\" fill=\"#000000\">value = [2, 2]</text>\n</g>\n<!-- 165&#45;&gt;167 -->\n<g id=\"edge167\" class=\"edge\">\n<title>165&#45;&gt;167</title>\n<path fill=\"none\" stroke=\"#000000\" d=\"M2987.2968,-400.9465C2995.153,-391.968 3003.7212,-382.1758 3011.8913,-372.8385\"/>\n<polygon fill=\"#000000\" stroke=\"#000000\" points=\"3014.6852,-374.9606 3018.6363,-365.13 3009.4171,-370.351 3014.6852,-374.9606\"/>\n</g>\n<!-- 168 -->\n<g id=\"node169\" class=\"node\">\n<title>168</title>\n<polygon fill=\"none\" stroke=\"#000000\" points=\"3018,-253.5 2919,-253.5 2919,-200.5 3018,-200.5 3018,-253.5\"/>\n<text text-anchor=\"middle\" x=\"2968.5\" y=\"-238.3\" font-family=\"Helvetica,sans-Serif\" font-size=\"14.00\" fill=\"#000000\">gini = 0.0</text>\n<text text-anchor=\"middle\" x=\"2968.5\" y=\"-223.3\" font-family=\"Helvetica,sans-Serif\" font-size=\"14.00\" fill=\"#000000\">samples = 1</text>\n<text text-anchor=\"middle\" x=\"2968.5\" y=\"-208.3\" font-family=\"Helvetica,sans-Serif\" font-size=\"14.00\" fill=\"#000000\">value = [1, 0]</text>\n</g>\n<!-- 167&#45;&gt;168 -->\n<g id=\"edge168\" class=\"edge\">\n<title>167&#45;&gt;168</title>\n<path fill=\"none\" stroke=\"#000000\" d=\"M3022.305,-296.9465C3013.5778,-285.6012 3003.8513,-272.9567 2995.0941,-261.5724\"/>\n<polygon fill=\"#000000\" stroke=\"#000000\" points=\"2997.7884,-259.3344 2988.917,-253.5422 2992.24,-263.6024 2997.7884,-259.3344\"/>\n</g>\n<!-- 169 -->\n<g id=\"node170\" class=\"node\">\n<title>169</title>\n<polygon fill=\"none\" stroke=\"#000000\" points=\"3155,-261 3036,-261 3036,-193 3155,-193 3155,-261\"/>\n<text text-anchor=\"middle\" x=\"3095.5\" y=\"-245.8\" font-family=\"Helvetica,sans-Serif\" font-size=\"14.00\" fill=\"#000000\">X[4] &lt;= 121.731</text>\n<text text-anchor=\"middle\" x=\"3095.5\" y=\"-230.8\" font-family=\"Helvetica,sans-Serif\" font-size=\"14.00\" fill=\"#000000\">gini = 0.444</text>\n<text text-anchor=\"middle\" x=\"3095.5\" y=\"-215.8\" font-family=\"Helvetica,sans-Serif\" font-size=\"14.00\" fill=\"#000000\">samples = 3</text>\n<text text-anchor=\"middle\" x=\"3095.5\" y=\"-200.8\" font-family=\"Helvetica,sans-Serif\" font-size=\"14.00\" fill=\"#000000\">value = [1, 2]</text>\n</g>\n<!-- 167&#45;&gt;169 -->\n<g id=\"edge169\" class=\"edge\">\n<title>167&#45;&gt;169</title>\n<path fill=\"none\" stroke=\"#000000\" d=\"M3063.8896,-296.9465C3067.7037,-288.5067 3071.8428,-279.3479 3075.8306,-270.5239\"/>\n<polygon fill=\"#000000\" stroke=\"#000000\" points=\"3079.147,-271.684 3080.0759,-261.13 3072.7682,-268.8013 3079.147,-271.684\"/>\n</g>\n<!-- 170 -->\n<g id=\"node171\" class=\"node\">\n<title>170</title>\n<polygon fill=\"none\" stroke=\"#000000\" points=\"3032,-149.5 2933,-149.5 2933,-96.5 3032,-96.5 3032,-149.5\"/>\n<text text-anchor=\"middle\" x=\"2982.5\" y=\"-134.3\" font-family=\"Helvetica,sans-Serif\" font-size=\"14.00\" fill=\"#000000\">gini = 0.0</text>\n<text text-anchor=\"middle\" x=\"2982.5\" y=\"-119.3\" font-family=\"Helvetica,sans-Serif\" font-size=\"14.00\" fill=\"#000000\">samples = 1</text>\n<text text-anchor=\"middle\" x=\"2982.5\" y=\"-104.3\" font-family=\"Helvetica,sans-Serif\" font-size=\"14.00\" fill=\"#000000\">value = [0, 1]</text>\n</g>\n<!-- 169&#45;&gt;170 -->\n<g id=\"edge170\" class=\"edge\">\n<title>169&#45;&gt;170</title>\n<path fill=\"none\" stroke=\"#000000\" d=\"M3058.4996,-192.9465C3045.8134,-181.2707 3031.6322,-168.219 3018.987,-156.5809\"/>\n<polygon fill=\"#000000\" stroke=\"#000000\" points=\"3021.0673,-153.7389 3011.3391,-149.5422 3016.3269,-158.8895 3021.0673,-153.7389\"/>\n</g>\n<!-- 171 -->\n<g id=\"node172\" class=\"node\">\n<title>171</title>\n<polygon fill=\"none\" stroke=\"#000000\" points=\"3149,-157 3050,-157 3050,-89 3149,-89 3149,-157\"/>\n<text text-anchor=\"middle\" x=\"3099.5\" y=\"-141.8\" font-family=\"Helvetica,sans-Serif\" font-size=\"14.00\" fill=\"#000000\">X[1] &lt;= 37.0</text>\n<text text-anchor=\"middle\" x=\"3099.5\" y=\"-126.8\" font-family=\"Helvetica,sans-Serif\" font-size=\"14.00\" fill=\"#000000\">gini = 0.5</text>\n<text text-anchor=\"middle\" x=\"3099.5\" y=\"-111.8\" font-family=\"Helvetica,sans-Serif\" font-size=\"14.00\" fill=\"#000000\">samples = 2</text>\n<text text-anchor=\"middle\" x=\"3099.5\" y=\"-96.8\" font-family=\"Helvetica,sans-Serif\" font-size=\"14.00\" fill=\"#000000\">value = [1, 1]</text>\n</g>\n<!-- 169&#45;&gt;171 -->\n<g id=\"edge171\" class=\"edge\">\n<title>169&#45;&gt;171</title>\n<path fill=\"none\" stroke=\"#000000\" d=\"M3096.8097,-192.9465C3097.124,-184.776 3097.4642,-175.9318 3097.7935,-167.3697\"/>\n<polygon fill=\"#000000\" stroke=\"#000000\" points=\"3101.3003,-167.2572 3098.1873,-157.13 3094.3055,-166.9881 3101.3003,-167.2572\"/>\n</g>\n<!-- 172 -->\n<g id=\"node173\" class=\"node\">\n<title>172</title>\n<polygon fill=\"none\" stroke=\"#000000\" points=\"3091,-53 2992,-53 2992,0 3091,0 3091,-53\"/>\n<text text-anchor=\"middle\" x=\"3041.5\" y=\"-37.8\" font-family=\"Helvetica,sans-Serif\" font-size=\"14.00\" fill=\"#000000\">gini = 0.0</text>\n<text text-anchor=\"middle\" x=\"3041.5\" y=\"-22.8\" font-family=\"Helvetica,sans-Serif\" font-size=\"14.00\" fill=\"#000000\">samples = 1</text>\n<text text-anchor=\"middle\" x=\"3041.5\" y=\"-7.8\" font-family=\"Helvetica,sans-Serif\" font-size=\"14.00\" fill=\"#000000\">value = [0, 1]</text>\n</g>\n<!-- 171&#45;&gt;172 -->\n<g id=\"edge172\" class=\"edge\">\n<title>171&#45;&gt;172</title>\n<path fill=\"none\" stroke=\"#000000\" d=\"M3079.0514,-88.9777C3073.7678,-80.187 3068.0684,-70.7044 3062.7452,-61.8477\"/>\n<polygon fill=\"#000000\" stroke=\"#000000\" points=\"3065.7282,-60.0165 3057.5768,-53.2485 3059.7285,-63.6225 3065.7282,-60.0165\"/>\n</g>\n<!-- 173 -->\n<g id=\"node174\" class=\"node\">\n<title>173</title>\n<polygon fill=\"none\" stroke=\"#000000\" points=\"3208,-53 3109,-53 3109,0 3208,0 3208,-53\"/>\n<text text-anchor=\"middle\" x=\"3158.5\" y=\"-37.8\" font-family=\"Helvetica,sans-Serif\" font-size=\"14.00\" fill=\"#000000\">gini = 0.0</text>\n<text text-anchor=\"middle\" x=\"3158.5\" y=\"-22.8\" font-family=\"Helvetica,sans-Serif\" font-size=\"14.00\" fill=\"#000000\">samples = 1</text>\n<text text-anchor=\"middle\" x=\"3158.5\" y=\"-7.8\" font-family=\"Helvetica,sans-Serif\" font-size=\"14.00\" fill=\"#000000\">value = [1, 0]</text>\n</g>\n<!-- 171&#45;&gt;173 -->\n<g id=\"edge173\" class=\"edge\">\n<title>171&#45;&gt;173</title>\n<path fill=\"none\" stroke=\"#000000\" d=\"M3120.3012,-88.9777C3125.6758,-80.187 3131.4735,-70.7044 3136.8885,-61.8477\"/>\n<polygon fill=\"#000000\" stroke=\"#000000\" points=\"3139.9158,-63.6059 3142.146,-53.2485 3133.9436,-59.9545 3139.9158,-63.6059\"/>\n</g>\n<!-- 176 -->\n<g id=\"node177\" class=\"node\">\n<title>176</title>\n<polygon fill=\"none\" stroke=\"#000000\" points=\"3046,-773.5 2947,-773.5 2947,-720.5 3046,-720.5 3046,-773.5\"/>\n<text text-anchor=\"middle\" x=\"2996.5\" y=\"-758.3\" font-family=\"Helvetica,sans-Serif\" font-size=\"14.00\" fill=\"#000000\">gini = 0.0</text>\n<text text-anchor=\"middle\" x=\"2996.5\" y=\"-743.3\" font-family=\"Helvetica,sans-Serif\" font-size=\"14.00\" fill=\"#000000\">samples = 3</text>\n<text text-anchor=\"middle\" x=\"2996.5\" y=\"-728.3\" font-family=\"Helvetica,sans-Serif\" font-size=\"14.00\" fill=\"#000000\">value = [0, 3]</text>\n</g>\n<!-- 175&#45;&gt;176 -->\n<g id=\"edge176\" class=\"edge\">\n<title>175&#45;&gt;176</title>\n<path fill=\"none\" stroke=\"#000000\" d=\"M2996.5,-816.9465C2996.5,-806.2621 2996.5,-794.4254 2996.5,-783.5742\"/>\n<polygon fill=\"#000000\" stroke=\"#000000\" points=\"3000.0001,-783.5421 2996.5,-773.5422 2993.0001,-783.5422 3000.0001,-783.5421\"/>\n</g>\n<!-- 177 -->\n<g id=\"node178\" class=\"node\">\n<title>177</title>\n<polygon fill=\"none\" stroke=\"#000000\" points=\"3163,-773.5 3064,-773.5 3064,-720.5 3163,-720.5 3163,-773.5\"/>\n<text text-anchor=\"middle\" x=\"3113.5\" y=\"-758.3\" font-family=\"Helvetica,sans-Serif\" font-size=\"14.00\" fill=\"#000000\">gini = 0.0</text>\n<text text-anchor=\"middle\" x=\"3113.5\" y=\"-743.3\" font-family=\"Helvetica,sans-Serif\" font-size=\"14.00\" fill=\"#000000\">samples = 1</text>\n<text text-anchor=\"middle\" x=\"3113.5\" y=\"-728.3\" font-family=\"Helvetica,sans-Serif\" font-size=\"14.00\" fill=\"#000000\">value = [1, 0]</text>\n</g>\n<!-- 175&#45;&gt;177 -->\n<g id=\"edge177\" class=\"edge\">\n<title>175&#45;&gt;177</title>\n<path fill=\"none\" stroke=\"#000000\" d=\"M3034.8102,-816.9465C3048.0694,-805.1606 3062.9058,-791.9726 3076.0916,-780.2519\"/>\n<polygon fill=\"#000000\" stroke=\"#000000\" points=\"3078.4912,-782.8018 3083.6401,-773.5422 3073.8407,-777.5699 3078.4912,-782.8018\"/>\n</g>\n<!-- 179 -->\n<g id=\"node180\" class=\"node\">\n<title>179</title>\n<polygon fill=\"none\" stroke=\"#000000\" points=\"3169,-877.5 3070,-877.5 3070,-824.5 3169,-824.5 3169,-877.5\"/>\n<text text-anchor=\"middle\" x=\"3119.5\" y=\"-862.3\" font-family=\"Helvetica,sans-Serif\" font-size=\"14.00\" fill=\"#000000\">gini = 0.0</text>\n<text text-anchor=\"middle\" x=\"3119.5\" y=\"-847.3\" font-family=\"Helvetica,sans-Serif\" font-size=\"14.00\" fill=\"#000000\">samples = 6</text>\n<text text-anchor=\"middle\" x=\"3119.5\" y=\"-832.3\" font-family=\"Helvetica,sans-Serif\" font-size=\"14.00\" fill=\"#000000\">value = [6, 0]</text>\n</g>\n<!-- 178&#45;&gt;179 -->\n<g id=\"edge179\" class=\"edge\">\n<title>178&#45;&gt;179</title>\n<path fill=\"none\" stroke=\"#000000\" d=\"M3119.5,-920.9465C3119.5,-910.2621 3119.5,-898.4254 3119.5,-887.5742\"/>\n<polygon fill=\"#000000\" stroke=\"#000000\" points=\"3123.0001,-887.5421 3119.5,-877.5422 3116.0001,-887.5422 3123.0001,-887.5421\"/>\n</g>\n<!-- 180 -->\n<g id=\"node181\" class=\"node\">\n<title>180</title>\n<polygon fill=\"none\" stroke=\"#000000\" points=\"3286,-877.5 3187,-877.5 3187,-824.5 3286,-824.5 3286,-877.5\"/>\n<text text-anchor=\"middle\" x=\"3236.5\" y=\"-862.3\" font-family=\"Helvetica,sans-Serif\" font-size=\"14.00\" fill=\"#000000\">gini = 0.0</text>\n<text text-anchor=\"middle\" x=\"3236.5\" y=\"-847.3\" font-family=\"Helvetica,sans-Serif\" font-size=\"14.00\" fill=\"#000000\">samples = 1</text>\n<text text-anchor=\"middle\" x=\"3236.5\" y=\"-832.3\" font-family=\"Helvetica,sans-Serif\" font-size=\"14.00\" fill=\"#000000\">value = [0, 1]</text>\n</g>\n<!-- 178&#45;&gt;180 -->\n<g id=\"edge180\" class=\"edge\">\n<title>178&#45;&gt;180</title>\n<path fill=\"none\" stroke=\"#000000\" d=\"M3157.8102,-920.9465C3171.0694,-909.1606 3185.9058,-895.9726 3199.0916,-884.2519\"/>\n<polygon fill=\"#000000\" stroke=\"#000000\" points=\"3201.4912,-886.8018 3206.6401,-877.5422 3196.8407,-881.5699 3201.4912,-886.8018\"/>\n</g>\n<!-- 183 -->\n<g id=\"node184\" class=\"node\">\n<title>183</title>\n<polygon fill=\"none\" stroke=\"#000000\" points=\"2997.5,-1717 2893.5,-1717 2893.5,-1649 2997.5,-1649 2997.5,-1717\"/>\n<text text-anchor=\"middle\" x=\"2945.5\" y=\"-1701.8\" font-family=\"Helvetica,sans-Serif\" font-size=\"14.00\" fill=\"#000000\">X[3] &lt;= 3.5</text>\n<text text-anchor=\"middle\" x=\"2945.5\" y=\"-1686.8\" font-family=\"Helvetica,sans-Serif\" font-size=\"14.00\" fill=\"#000000\">gini = 0.444</text>\n<text text-anchor=\"middle\" x=\"2945.5\" y=\"-1671.8\" font-family=\"Helvetica,sans-Serif\" font-size=\"14.00\" fill=\"#000000\">samples = 12</text>\n<text text-anchor=\"middle\" x=\"2945.5\" y=\"-1656.8\" font-family=\"Helvetica,sans-Serif\" font-size=\"14.00\" fill=\"#000000\">value = [4, 8]</text>\n</g>\n<!-- 182&#45;&gt;183 -->\n<g id=\"edge183\" class=\"edge\">\n<title>182&#45;&gt;183</title>\n<path fill=\"none\" stroke=\"#000000\" d=\"M2945.5,-1752.9465C2945.5,-1744.776 2945.5,-1735.9318 2945.5,-1727.3697\"/>\n<polygon fill=\"#000000\" stroke=\"#000000\" points=\"2949.0001,-1727.13 2945.5,-1717.13 2942.0001,-1727.13 2949.0001,-1727.13\"/>\n</g>\n<!-- 188 -->\n<g id=\"node189\" class=\"node\">\n<title>188</title>\n<polygon fill=\"none\" stroke=\"#000000\" points=\"3198.5,-1717 3074.5,-1717 3074.5,-1649 3198.5,-1649 3198.5,-1717\"/>\n<text text-anchor=\"middle\" x=\"3136.5\" y=\"-1701.8\" font-family=\"Helvetica,sans-Serif\" font-size=\"14.00\" fill=\"#000000\">X[5] &lt;= 1.0</text>\n<text text-anchor=\"middle\" x=\"3136.5\" y=\"-1686.8\" font-family=\"Helvetica,sans-Serif\" font-size=\"14.00\" fill=\"#000000\">gini = 0.199</text>\n<text text-anchor=\"middle\" x=\"3136.5\" y=\"-1671.8\" font-family=\"Helvetica,sans-Serif\" font-size=\"14.00\" fill=\"#000000\">samples = 348</text>\n<text text-anchor=\"middle\" x=\"3136.5\" y=\"-1656.8\" font-family=\"Helvetica,sans-Serif\" font-size=\"14.00\" fill=\"#000000\">value = [309, 39]</text>\n</g>\n<!-- 182&#45;&gt;188 -->\n<g id=\"edge188\" class=\"edge\">\n<title>182&#45;&gt;188</title>\n<path fill=\"none\" stroke=\"#000000\" d=\"M3007.5122,-1753.2342C3026.0371,-1743.1473 3046.4868,-1732.0124 3065.5388,-1721.6385\"/>\n<polygon fill=\"#000000\" stroke=\"#000000\" points=\"3067.3636,-1724.6302 3074.4723,-1716.7742 3064.0161,-1718.4825 3067.3636,-1724.6302\"/>\n</g>\n<!-- 184 -->\n<g id=\"node185\" class=\"node\">\n<title>184</title>\n<polygon fill=\"none\" stroke=\"#000000\" points=\"2937,-1605.5 2838,-1605.5 2838,-1552.5 2937,-1552.5 2937,-1605.5\"/>\n<text text-anchor=\"middle\" x=\"2887.5\" y=\"-1590.3\" font-family=\"Helvetica,sans-Serif\" font-size=\"14.00\" fill=\"#000000\">gini = 0.0</text>\n<text text-anchor=\"middle\" x=\"2887.5\" y=\"-1575.3\" font-family=\"Helvetica,sans-Serif\" font-size=\"14.00\" fill=\"#000000\">samples = 7</text>\n<text text-anchor=\"middle\" x=\"2887.5\" y=\"-1560.3\" font-family=\"Helvetica,sans-Serif\" font-size=\"14.00\" fill=\"#000000\">value = [0, 7]</text>\n</g>\n<!-- 183&#45;&gt;184 -->\n<g id=\"edge184\" class=\"edge\">\n<title>183&#45;&gt;184</title>\n<path fill=\"none\" stroke=\"#000000\" d=\"M2926.5086,-1648.9465C2920.3657,-1637.9316 2913.5399,-1625.6922 2907.3373,-1614.5703\"/>\n<polygon fill=\"#000000\" stroke=\"#000000\" points=\"2910.2299,-1612.5711 2902.3024,-1605.5422 2904.1163,-1615.9806 2910.2299,-1612.5711\"/>\n</g>\n<!-- 185 -->\n<g id=\"node186\" class=\"node\">\n<title>185</title>\n<polygon fill=\"none\" stroke=\"#000000\" points=\"3054,-1613 2955,-1613 2955,-1545 3054,-1545 3054,-1613\"/>\n<text text-anchor=\"middle\" x=\"3004.5\" y=\"-1597.8\" font-family=\"Helvetica,sans-Serif\" font-size=\"14.00\" fill=\"#000000\">X[1] &lt;= 2.5</text>\n<text text-anchor=\"middle\" x=\"3004.5\" y=\"-1582.8\" font-family=\"Helvetica,sans-Serif\" font-size=\"14.00\" fill=\"#000000\">gini = 0.32</text>\n<text text-anchor=\"middle\" x=\"3004.5\" y=\"-1567.8\" font-family=\"Helvetica,sans-Serif\" font-size=\"14.00\" fill=\"#000000\">samples = 5</text>\n<text text-anchor=\"middle\" x=\"3004.5\" y=\"-1552.8\" font-family=\"Helvetica,sans-Serif\" font-size=\"14.00\" fill=\"#000000\">value = [4, 1]</text>\n</g>\n<!-- 183&#45;&gt;185 -->\n<g id=\"edge185\" class=\"edge\">\n<title>183&#45;&gt;185</title>\n<path fill=\"none\" stroke=\"#000000\" d=\"M2964.8188,-1648.9465C2969.7087,-1640.3271 2975.0239,-1630.9579 2980.1278,-1621.9611\"/>\n<polygon fill=\"#000000\" stroke=\"#000000\" points=\"2983.2476,-1623.5549 2985.1378,-1613.13 2977.1592,-1620.1008 2983.2476,-1623.5549\"/>\n</g>\n<!-- 186 -->\n<g id=\"node187\" class=\"node\">\n<title>186</title>\n<polygon fill=\"none\" stroke=\"#000000\" points=\"2943,-1501.5 2844,-1501.5 2844,-1448.5 2943,-1448.5 2943,-1501.5\"/>\n<text text-anchor=\"middle\" x=\"2893.5\" y=\"-1486.3\" font-family=\"Helvetica,sans-Serif\" font-size=\"14.00\" fill=\"#000000\">gini = 0.0</text>\n<text text-anchor=\"middle\" x=\"2893.5\" y=\"-1471.3\" font-family=\"Helvetica,sans-Serif\" font-size=\"14.00\" fill=\"#000000\">samples = 4</text>\n<text text-anchor=\"middle\" x=\"2893.5\" y=\"-1456.3\" font-family=\"Helvetica,sans-Serif\" font-size=\"14.00\" fill=\"#000000\">value = [4, 0]</text>\n</g>\n<!-- 185&#45;&gt;186 -->\n<g id=\"edge186\" class=\"edge\">\n<title>185&#45;&gt;186</title>\n<path fill=\"none\" stroke=\"#000000\" d=\"M2968.1544,-1544.9465C2955.6928,-1533.2707 2941.7626,-1520.219 2929.3412,-1508.5809\"/>\n<polygon fill=\"#000000\" stroke=\"#000000\" points=\"2931.5191,-1505.8253 2921.8287,-1501.5422 2926.7331,-1510.9335 2931.5191,-1505.8253\"/>\n</g>\n<!-- 187 -->\n<g id=\"node188\" class=\"node\">\n<title>187</title>\n<polygon fill=\"none\" stroke=\"#000000\" points=\"3060,-1501.5 2961,-1501.5 2961,-1448.5 3060,-1448.5 3060,-1501.5\"/>\n<text text-anchor=\"middle\" x=\"3010.5\" y=\"-1486.3\" font-family=\"Helvetica,sans-Serif\" font-size=\"14.00\" fill=\"#000000\">gini = 0.0</text>\n<text text-anchor=\"middle\" x=\"3010.5\" y=\"-1471.3\" font-family=\"Helvetica,sans-Serif\" font-size=\"14.00\" fill=\"#000000\">samples = 1</text>\n<text text-anchor=\"middle\" x=\"3010.5\" y=\"-1456.3\" font-family=\"Helvetica,sans-Serif\" font-size=\"14.00\" fill=\"#000000\">value = [0, 1]</text>\n</g>\n<!-- 185&#45;&gt;187 -->\n<g id=\"edge187\" class=\"edge\">\n<title>185&#45;&gt;187</title>\n<path fill=\"none\" stroke=\"#000000\" d=\"M3006.4646,-1544.9465C3007.081,-1534.2621 3007.7639,-1522.4254 3008.3899,-1511.5742\"/>\n<polygon fill=\"#000000\" stroke=\"#000000\" points=\"3011.8869,-1511.7272 3008.9687,-1501.5422 3004.8985,-1511.3239 3011.8869,-1511.7272\"/>\n</g>\n<!-- 189 -->\n<g id=\"node190\" class=\"node\">\n<title>189</title>\n<polygon fill=\"none\" stroke=\"#000000\" points=\"3192,-1613 3081,-1613 3081,-1545 3192,-1545 3192,-1613\"/>\n<text text-anchor=\"middle\" x=\"3136.5\" y=\"-1597.8\" font-family=\"Helvetica,sans-Serif\" font-size=\"14.00\" fill=\"#000000\">X[4] &lt;= 22.996</text>\n<text text-anchor=\"middle\" x=\"3136.5\" y=\"-1582.8\" font-family=\"Helvetica,sans-Serif\" font-size=\"14.00\" fill=\"#000000\">gini = 0.43</text>\n<text text-anchor=\"middle\" x=\"3136.5\" y=\"-1567.8\" font-family=\"Helvetica,sans-Serif\" font-size=\"14.00\" fill=\"#000000\">samples = 16</text>\n<text text-anchor=\"middle\" x=\"3136.5\" y=\"-1552.8\" font-family=\"Helvetica,sans-Serif\" font-size=\"14.00\" fill=\"#000000\">value = [11, 5]</text>\n</g>\n<!-- 188&#45;&gt;189 -->\n<g id=\"edge189\" class=\"edge\">\n<title>188&#45;&gt;189</title>\n<path fill=\"none\" stroke=\"#000000\" d=\"M3136.5,-1648.9465C3136.5,-1640.776 3136.5,-1631.9318 3136.5,-1623.3697\"/>\n<polygon fill=\"#000000\" stroke=\"#000000\" points=\"3140.0001,-1623.13 3136.5,-1613.13 3133.0001,-1623.13 3140.0001,-1623.13\"/>\n</g>\n<!-- 192 -->\n<g id=\"node193\" class=\"node\">\n<title>192</title>\n<polygon fill=\"none\" stroke=\"#000000\" points=\"4589.5,-1613 4465.5,-1613 4465.5,-1545 4589.5,-1545 4589.5,-1613\"/>\n<text text-anchor=\"middle\" x=\"4527.5\" y=\"-1597.8\" font-family=\"Helvetica,sans-Serif\" font-size=\"14.00\" fill=\"#000000\">X[1] &lt;= 32.25</text>\n<text text-anchor=\"middle\" x=\"4527.5\" y=\"-1582.8\" font-family=\"Helvetica,sans-Serif\" font-size=\"14.00\" fill=\"#000000\">gini = 0.184</text>\n<text text-anchor=\"middle\" x=\"4527.5\" y=\"-1567.8\" font-family=\"Helvetica,sans-Serif\" font-size=\"14.00\" fill=\"#000000\">samples = 332</text>\n<text text-anchor=\"middle\" x=\"4527.5\" y=\"-1552.8\" font-family=\"Helvetica,sans-Serif\" font-size=\"14.00\" fill=\"#000000\">value = [298, 34]</text>\n</g>\n<!-- 188&#45;&gt;192 -->\n<g id=\"edge192\" class=\"edge\">\n<title>188&#45;&gt;192</title>\n<path fill=\"none\" stroke=\"#000000\" d=\"M3198.5168,-1678.3632C3425.6469,-1661.3815 4211.4743,-1602.6281 4454.981,-1584.422\"/>\n<polygon fill=\"#000000\" stroke=\"#000000\" points=\"4455.4238,-1587.8987 4465.135,-1583.6628 4454.9018,-1580.9182 4455.4238,-1587.8987\"/>\n</g>\n<!-- 190 -->\n<g id=\"node191\" class=\"node\">\n<title>190</title>\n<polygon fill=\"none\" stroke=\"#000000\" points=\"3180,-1501.5 3081,-1501.5 3081,-1448.5 3180,-1448.5 3180,-1501.5\"/>\n<text text-anchor=\"middle\" x=\"3130.5\" y=\"-1486.3\" font-family=\"Helvetica,sans-Serif\" font-size=\"14.00\" fill=\"#000000\">gini = 0.0</text>\n<text text-anchor=\"middle\" x=\"3130.5\" y=\"-1471.3\" font-family=\"Helvetica,sans-Serif\" font-size=\"14.00\" fill=\"#000000\">samples = 5</text>\n<text text-anchor=\"middle\" x=\"3130.5\" y=\"-1456.3\" font-family=\"Helvetica,sans-Serif\" font-size=\"14.00\" fill=\"#000000\">value = [0, 5]</text>\n</g>\n<!-- 189&#45;&gt;190 -->\n<g id=\"edge190\" class=\"edge\">\n<title>189&#45;&gt;190</title>\n<path fill=\"none\" stroke=\"#000000\" d=\"M3134.5354,-1544.9465C3133.919,-1534.2621 3133.2361,-1522.4254 3132.6101,-1511.5742\"/>\n<polygon fill=\"#000000\" stroke=\"#000000\" points=\"3136.1015,-1511.3239 3132.0313,-1501.5422 3129.1131,-1511.7272 3136.1015,-1511.3239\"/>\n</g>\n<!-- 191 -->\n<g id=\"node192\" class=\"node\">\n<title>191</title>\n<polygon fill=\"none\" stroke=\"#000000\" points=\"3305,-1501.5 3198,-1501.5 3198,-1448.5 3305,-1448.5 3305,-1501.5\"/>\n<text text-anchor=\"middle\" x=\"3251.5\" y=\"-1486.3\" font-family=\"Helvetica,sans-Serif\" font-size=\"14.00\" fill=\"#000000\">gini = 0.0</text>\n<text text-anchor=\"middle\" x=\"3251.5\" y=\"-1471.3\" font-family=\"Helvetica,sans-Serif\" font-size=\"14.00\" fill=\"#000000\">samples = 11</text>\n<text text-anchor=\"middle\" x=\"3251.5\" y=\"-1456.3\" font-family=\"Helvetica,sans-Serif\" font-size=\"14.00\" fill=\"#000000\">value = [11, 0]</text>\n</g>\n<!-- 189&#45;&gt;191 -->\n<g id=\"edge191\" class=\"edge\">\n<title>189&#45;&gt;191</title>\n<path fill=\"none\" stroke=\"#000000\" d=\"M3174.1553,-1544.9465C3187.1878,-1533.1606 3201.7706,-1519.9726 3214.7311,-1508.2519\"/>\n<polygon fill=\"#000000\" stroke=\"#000000\" points=\"3217.0812,-1510.8456 3222.1505,-1501.5422 3212.386,-1505.6537 3217.0812,-1510.8456\"/>\n</g>\n<!-- 193 -->\n<g id=\"node194\" class=\"node\">\n<title>193</title>\n<polygon fill=\"none\" stroke=\"#000000\" points=\"4589.5,-1509 4465.5,-1509 4465.5,-1441 4589.5,-1441 4589.5,-1509\"/>\n<text text-anchor=\"middle\" x=\"4527.5\" y=\"-1493.8\" font-family=\"Helvetica,sans-Serif\" font-size=\"14.00\" fill=\"#000000\">X[1] &lt;= 31.5</text>\n<text text-anchor=\"middle\" x=\"4527.5\" y=\"-1478.8\" font-family=\"Helvetica,sans-Serif\" font-size=\"14.00\" fill=\"#000000\">gini = 0.216</text>\n<text text-anchor=\"middle\" x=\"4527.5\" y=\"-1463.8\" font-family=\"Helvetica,sans-Serif\" font-size=\"14.00\" fill=\"#000000\">samples = 244</text>\n<text text-anchor=\"middle\" x=\"4527.5\" y=\"-1448.8\" font-family=\"Helvetica,sans-Serif\" font-size=\"14.00\" fill=\"#000000\">value = [214, 30]</text>\n</g>\n<!-- 192&#45;&gt;193 -->\n<g id=\"edge193\" class=\"edge\">\n<title>192&#45;&gt;193</title>\n<path fill=\"none\" stroke=\"#000000\" d=\"M4527.5,-1544.9465C4527.5,-1536.776 4527.5,-1527.9318 4527.5,-1519.3697\"/>\n<polygon fill=\"#000000\" stroke=\"#000000\" points=\"4531.0001,-1519.13 4527.5,-1509.13 4524.0001,-1519.13 4531.0001,-1519.13\"/>\n</g>\n<!-- 310 -->\n<g id=\"node311\" class=\"node\">\n<title>310</title>\n<polygon fill=\"none\" stroke=\"#000000\" points=\"5168,-1509 5061,-1509 5061,-1441 5168,-1441 5168,-1509\"/>\n<text text-anchor=\"middle\" x=\"5114.5\" y=\"-1493.8\" font-family=\"Helvetica,sans-Serif\" font-size=\"14.00\" fill=\"#000000\">X[1] &lt;= 61.5</text>\n<text text-anchor=\"middle\" x=\"5114.5\" y=\"-1478.8\" font-family=\"Helvetica,sans-Serif\" font-size=\"14.00\" fill=\"#000000\">gini = 0.087</text>\n<text text-anchor=\"middle\" x=\"5114.5\" y=\"-1463.8\" font-family=\"Helvetica,sans-Serif\" font-size=\"14.00\" fill=\"#000000\">samples = 88</text>\n<text text-anchor=\"middle\" x=\"5114.5\" y=\"-1448.8\" font-family=\"Helvetica,sans-Serif\" font-size=\"14.00\" fill=\"#000000\">value = [84, 4]</text>\n</g>\n<!-- 192&#45;&gt;310 -->\n<g id=\"edge310\" class=\"edge\">\n<title>192&#45;&gt;310</title>\n<path fill=\"none\" stroke=\"#000000\" d=\"M4589.7636,-1567.9686C4702.0391,-1548.0765 4937.2615,-1506.4017 5050.6698,-1486.3089\"/>\n<polygon fill=\"#000000\" stroke=\"#000000\" points=\"5051.3625,-1489.7408 5060.5985,-1484.5498 5050.1412,-1482.8481 5051.3625,-1489.7408\"/>\n</g>\n<!-- 194 -->\n<g id=\"node195\" class=\"node\">\n<title>194</title>\n<polygon fill=\"none\" stroke=\"#000000\" points=\"4523.5,-1405 4399.5,-1405 4399.5,-1337 4523.5,-1337 4523.5,-1405\"/>\n<text text-anchor=\"middle\" x=\"4461.5\" y=\"-1389.8\" font-family=\"Helvetica,sans-Serif\" font-size=\"14.00\" fill=\"#000000\">X[3] &lt;= 2.5</text>\n<text text-anchor=\"middle\" x=\"4461.5\" y=\"-1374.8\" font-family=\"Helvetica,sans-Serif\" font-size=\"14.00\" fill=\"#000000\">gini = 0.191</text>\n<text text-anchor=\"middle\" x=\"4461.5\" y=\"-1359.8\" font-family=\"Helvetica,sans-Serif\" font-size=\"14.00\" fill=\"#000000\">samples = 234</text>\n<text text-anchor=\"middle\" x=\"4461.5\" y=\"-1344.8\" font-family=\"Helvetica,sans-Serif\" font-size=\"14.00\" fill=\"#000000\">value = [209, 25]</text>\n</g>\n<!-- 193&#45;&gt;194 -->\n<g id=\"edge194\" class=\"edge\">\n<title>193&#45;&gt;194</title>\n<path fill=\"none\" stroke=\"#000000\" d=\"M4505.8891,-1440.9465C4500.3622,-1432.2373 4494.3494,-1422.7626 4488.5854,-1413.6801\"/>\n<polygon fill=\"#000000\" stroke=\"#000000\" points=\"4491.4729,-1411.6979 4483.1594,-1405.13 4485.5626,-1415.4487 4491.4729,-1411.6979\"/>\n</g>\n<!-- 297 -->\n<g id=\"node298\" class=\"node\">\n<title>297</title>\n<polygon fill=\"none\" stroke=\"#000000\" points=\"4654.5,-1405 4550.5,-1405 4550.5,-1337 4654.5,-1337 4654.5,-1405\"/>\n<text text-anchor=\"middle\" x=\"4602.5\" y=\"-1389.8\" font-family=\"Helvetica,sans-Serif\" font-size=\"14.00\" fill=\"#000000\">X[0] &lt;= 2.5</text>\n<text text-anchor=\"middle\" x=\"4602.5\" y=\"-1374.8\" font-family=\"Helvetica,sans-Serif\" font-size=\"14.00\" fill=\"#000000\">gini = 0.5</text>\n<text text-anchor=\"middle\" x=\"4602.5\" y=\"-1359.8\" font-family=\"Helvetica,sans-Serif\" font-size=\"14.00\" fill=\"#000000\">samples = 10</text>\n<text text-anchor=\"middle\" x=\"4602.5\" y=\"-1344.8\" font-family=\"Helvetica,sans-Serif\" font-size=\"14.00\" fill=\"#000000\">value = [5, 5]</text>\n</g>\n<!-- 193&#45;&gt;297 -->\n<g id=\"edge297\" class=\"edge\">\n<title>193&#45;&gt;297</title>\n<path fill=\"none\" stroke=\"#000000\" d=\"M4552.0578,-1440.9465C4558.4032,-1432.1475 4565.3121,-1422.5672 4571.9236,-1413.3993\"/>\n<polygon fill=\"#000000\" stroke=\"#000000\" points=\"4574.8766,-1415.2882 4577.887,-1405.13 4569.1989,-1411.1937 4574.8766,-1415.2882\"/>\n</g>\n<!-- 195 -->\n<g id=\"node196\" class=\"node\">\n<title>195</title>\n<polygon fill=\"none\" stroke=\"#000000\" points=\"4352.5,-1301 4228.5,-1301 4228.5,-1233 4352.5,-1233 4352.5,-1301\"/>\n<text text-anchor=\"middle\" x=\"4290.5\" y=\"-1285.8\" font-family=\"Helvetica,sans-Serif\" font-size=\"14.00\" fill=\"#000000\">X[0] &lt;= 2.5</text>\n<text text-anchor=\"middle\" x=\"4290.5\" y=\"-1270.8\" font-family=\"Helvetica,sans-Serif\" font-size=\"14.00\" fill=\"#000000\">gini = 0.198</text>\n<text text-anchor=\"middle\" x=\"4290.5\" y=\"-1255.8\" font-family=\"Helvetica,sans-Serif\" font-size=\"14.00\" fill=\"#000000\">samples = 224</text>\n<text text-anchor=\"middle\" x=\"4290.5\" y=\"-1240.8\" font-family=\"Helvetica,sans-Serif\" font-size=\"14.00\" fill=\"#000000\">value = [199, 25]</text>\n</g>\n<!-- 194&#45;&gt;195 -->\n<g id=\"edge195\" class=\"edge\">\n<title>194&#45;&gt;195</title>\n<path fill=\"none\" stroke=\"#000000\" d=\"M4405.5082,-1336.9465C4389.4168,-1327.1599 4371.7359,-1316.4066 4355.1666,-1306.3294\"/>\n<polygon fill=\"#000000\" stroke=\"#000000\" points=\"4356.9802,-1303.336 4346.6176,-1301.13 4353.3428,-1309.3167 4356.9802,-1303.336\"/>\n</g>\n<!-- 296 -->\n<g id=\"node297\" class=\"node\">\n<title>296</title>\n<polygon fill=\"none\" stroke=\"#000000\" points=\"4515,-1293.5 4408,-1293.5 4408,-1240.5 4515,-1240.5 4515,-1293.5\"/>\n<text text-anchor=\"middle\" x=\"4461.5\" y=\"-1278.3\" font-family=\"Helvetica,sans-Serif\" font-size=\"14.00\" fill=\"#000000\">gini = 0.0</text>\n<text text-anchor=\"middle\" x=\"4461.5\" y=\"-1263.3\" font-family=\"Helvetica,sans-Serif\" font-size=\"14.00\" fill=\"#000000\">samples = 10</text>\n<text text-anchor=\"middle\" x=\"4461.5\" y=\"-1248.3\" font-family=\"Helvetica,sans-Serif\" font-size=\"14.00\" fill=\"#000000\">value = [10, 0]</text>\n</g>\n<!-- 194&#45;&gt;296 -->\n<g id=\"edge296\" class=\"edge\">\n<title>194&#45;&gt;296</title>\n<path fill=\"none\" stroke=\"#000000\" d=\"M4461.5,-1336.9465C4461.5,-1326.2621 4461.5,-1314.4254 4461.5,-1303.5742\"/>\n<polygon fill=\"#000000\" stroke=\"#000000\" points=\"4465.0001,-1303.5421 4461.5,-1293.5422 4458.0001,-1303.5422 4465.0001,-1303.5421\"/>\n</g>\n<!-- 196 -->\n<g id=\"node197\" class=\"node\">\n<title>196</title>\n<polygon fill=\"none\" stroke=\"#000000\" points=\"3600,-1197 3493,-1197 3493,-1129 3600,-1129 3600,-1197\"/>\n<text text-anchor=\"middle\" x=\"3546.5\" y=\"-1181.8\" font-family=\"Helvetica,sans-Serif\" font-size=\"14.00\" fill=\"#000000\">X[1] &lt;= 29.35</text>\n<text text-anchor=\"middle\" x=\"3546.5\" y=\"-1166.8\" font-family=\"Helvetica,sans-Serif\" font-size=\"14.00\" fill=\"#000000\">gini = 0.122</text>\n<text text-anchor=\"middle\" x=\"3546.5\" y=\"-1151.8\" font-family=\"Helvetica,sans-Serif\" font-size=\"14.00\" fill=\"#000000\">samples = 46</text>\n<text text-anchor=\"middle\" x=\"3546.5\" y=\"-1136.8\" font-family=\"Helvetica,sans-Serif\" font-size=\"14.00\" fill=\"#000000\">value = [43, 3]</text>\n</g>\n<!-- 195&#45;&gt;196 -->\n<g id=\"edge196\" class=\"edge\">\n<title>195&#45;&gt;196</title>\n<path fill=\"none\" stroke=\"#000000\" d=\"M4228.3467,-1258.3119C4088.8229,-1238.8086 3751.9024,-1191.7122 3610.5807,-1171.9575\"/>\n<polygon fill=\"#000000\" stroke=\"#000000\" points=\"3610.7328,-1168.4448 3600.3446,-1170.5267 3609.7637,-1175.3774 3610.7328,-1168.4448\"/>\n</g>\n<!-- 207 -->\n<g id=\"node208\" class=\"node\">\n<title>207</title>\n<polygon fill=\"none\" stroke=\"#000000\" points=\"4352.5,-1197 4228.5,-1197 4228.5,-1129 4352.5,-1129 4352.5,-1197\"/>\n<text text-anchor=\"middle\" x=\"4290.5\" y=\"-1181.8\" font-family=\"Helvetica,sans-Serif\" font-size=\"14.00\" fill=\"#000000\">X[4] &lt;= 15.621</text>\n<text text-anchor=\"middle\" x=\"4290.5\" y=\"-1166.8\" font-family=\"Helvetica,sans-Serif\" font-size=\"14.00\" fill=\"#000000\">gini = 0.217</text>\n<text text-anchor=\"middle\" x=\"4290.5\" y=\"-1151.8\" font-family=\"Helvetica,sans-Serif\" font-size=\"14.00\" fill=\"#000000\">samples = 178</text>\n<text text-anchor=\"middle\" x=\"4290.5\" y=\"-1136.8\" font-family=\"Helvetica,sans-Serif\" font-size=\"14.00\" fill=\"#000000\">value = [156, 22]</text>\n</g>\n<!-- 195&#45;&gt;207 -->\n<g id=\"edge207\" class=\"edge\">\n<title>195&#45;&gt;207</title>\n<path fill=\"none\" stroke=\"#000000\" d=\"M4290.5,-1232.9465C4290.5,-1224.776 4290.5,-1215.9318 4290.5,-1207.3697\"/>\n<polygon fill=\"#000000\" stroke=\"#000000\" points=\"4294.0001,-1207.13 4290.5,-1197.13 4287.0001,-1207.13 4294.0001,-1207.13\"/>\n</g>\n<!-- 197 -->\n<g id=\"node198\" class=\"node\">\n<title>197</title>\n<polygon fill=\"none\" stroke=\"#000000\" points=\"3475,-1085.5 3368,-1085.5 3368,-1032.5 3475,-1032.5 3475,-1085.5\"/>\n<text text-anchor=\"middle\" x=\"3421.5\" y=\"-1070.3\" font-family=\"Helvetica,sans-Serif\" font-size=\"14.00\" fill=\"#000000\">gini = 0.0</text>\n<text text-anchor=\"middle\" x=\"3421.5\" y=\"-1055.3\" font-family=\"Helvetica,sans-Serif\" font-size=\"14.00\" fill=\"#000000\">samples = 30</text>\n<text text-anchor=\"middle\" x=\"3421.5\" y=\"-1040.3\" font-family=\"Helvetica,sans-Serif\" font-size=\"14.00\" fill=\"#000000\">value = [30, 0]</text>\n</g>\n<!-- 196&#45;&gt;197 -->\n<g id=\"edge197\" class=\"edge\">\n<title>196&#45;&gt;197</title>\n<path fill=\"none\" stroke=\"#000000\" d=\"M3505.5703,-1128.9465C3491.4045,-1117.1606 3475.5537,-1103.9726 3461.4662,-1092.2519\"/>\n<polygon fill=\"#000000\" stroke=\"#000000\" points=\"3463.3275,-1089.2474 3453.4016,-1085.5422 3458.8504,-1094.6285 3463.3275,-1089.2474\"/>\n</g>\n<!-- 198 -->\n<g id=\"node199\" class=\"node\">\n<title>198</title>\n<polygon fill=\"none\" stroke=\"#000000\" points=\"3600,-1093 3493,-1093 3493,-1025 3600,-1025 3600,-1093\"/>\n<text text-anchor=\"middle\" x=\"3546.5\" y=\"-1077.8\" font-family=\"Helvetica,sans-Serif\" font-size=\"14.00\" fill=\"#000000\">X[4] &lt;= 11.75</text>\n<text text-anchor=\"middle\" x=\"3546.5\" y=\"-1062.8\" font-family=\"Helvetica,sans-Serif\" font-size=\"14.00\" fill=\"#000000\">gini = 0.305</text>\n<text text-anchor=\"middle\" x=\"3546.5\" y=\"-1047.8\" font-family=\"Helvetica,sans-Serif\" font-size=\"14.00\" fill=\"#000000\">samples = 16</text>\n<text text-anchor=\"middle\" x=\"3546.5\" y=\"-1032.8\" font-family=\"Helvetica,sans-Serif\" font-size=\"14.00\" fill=\"#000000\">value = [13, 3]</text>\n</g>\n<!-- 196&#45;&gt;198 -->\n<g id=\"edge198\" class=\"edge\">\n<title>196&#45;&gt;198</title>\n<path fill=\"none\" stroke=\"#000000\" d=\"M3546.5,-1128.9465C3546.5,-1120.776 3546.5,-1111.9318 3546.5,-1103.3697\"/>\n<polygon fill=\"#000000\" stroke=\"#000000\" points=\"3550.0001,-1103.13 3546.5,-1093.13 3543.0001,-1103.13 3550.0001,-1103.13\"/>\n</g>\n<!-- 199 -->\n<g id=\"node200\" class=\"node\">\n<title>199</title>\n<polygon fill=\"none\" stroke=\"#000000\" points=\"3473,-981.5 3374,-981.5 3374,-928.5 3473,-928.5 3473,-981.5\"/>\n<text text-anchor=\"middle\" x=\"3423.5\" y=\"-966.3\" font-family=\"Helvetica,sans-Serif\" font-size=\"14.00\" fill=\"#000000\">gini = 0.0</text>\n<text text-anchor=\"middle\" x=\"3423.5\" y=\"-951.3\" font-family=\"Helvetica,sans-Serif\" font-size=\"14.00\" fill=\"#000000\">samples = 7</text>\n<text text-anchor=\"middle\" x=\"3423.5\" y=\"-936.3\" font-family=\"Helvetica,sans-Serif\" font-size=\"14.00\" fill=\"#000000\">value = [7, 0]</text>\n</g>\n<!-- 198&#45;&gt;199 -->\n<g id=\"edge199\" class=\"edge\">\n<title>198&#45;&gt;199</title>\n<path fill=\"none\" stroke=\"#000000\" d=\"M3506.2252,-1024.9465C3492.2861,-1013.1606 3476.6888,-999.9726 3462.8268,-988.2519\"/>\n<polygon fill=\"#000000\" stroke=\"#000000\" points=\"3464.7873,-985.3262 3454.8912,-981.5422 3460.2676,-990.6715 3464.7873,-985.3262\"/>\n</g>\n<!-- 200 -->\n<g id=\"node201\" class=\"node\">\n<title>200</title>\n<polygon fill=\"none\" stroke=\"#000000\" points=\"3602,-989 3491,-989 3491,-921 3602,-921 3602,-989\"/>\n<text text-anchor=\"middle\" x=\"3546.5\" y=\"-973.8\" font-family=\"Helvetica,sans-Serif\" font-size=\"14.00\" fill=\"#000000\">X[4] &lt;= 14.456</text>\n<text text-anchor=\"middle\" x=\"3546.5\" y=\"-958.8\" font-family=\"Helvetica,sans-Serif\" font-size=\"14.00\" fill=\"#000000\">gini = 0.444</text>\n<text text-anchor=\"middle\" x=\"3546.5\" y=\"-943.8\" font-family=\"Helvetica,sans-Serif\" font-size=\"14.00\" fill=\"#000000\">samples = 9</text>\n<text text-anchor=\"middle\" x=\"3546.5\" y=\"-928.8\" font-family=\"Helvetica,sans-Serif\" font-size=\"14.00\" fill=\"#000000\">value = [6, 3]</text>\n</g>\n<!-- 198&#45;&gt;200 -->\n<g id=\"edge200\" class=\"edge\">\n<title>198&#45;&gt;200</title>\n<path fill=\"none\" stroke=\"#000000\" d=\"M3546.5,-1024.9465C3546.5,-1016.776 3546.5,-1007.9318 3546.5,-999.3697\"/>\n<polygon fill=\"#000000\" stroke=\"#000000\" points=\"3550.0001,-999.13 3546.5,-989.13 3543.0001,-999.13 3550.0001,-999.13\"/>\n</g>\n<!-- 201 -->\n<g id=\"node202\" class=\"node\">\n<title>201</title>\n<polygon fill=\"none\" stroke=\"#000000\" points=\"3407,-885 3304,-885 3304,-817 3407,-817 3407,-885\"/>\n<text text-anchor=\"middle\" x=\"3355.5\" y=\"-869.8\" font-family=\"Helvetica,sans-Serif\" font-size=\"14.00\" fill=\"#000000\">X[1] &lt;= 29.85</text>\n<text text-anchor=\"middle\" x=\"3355.5\" y=\"-854.8\" font-family=\"Helvetica,sans-Serif\" font-size=\"14.00\" fill=\"#000000\">gini = 0.5</text>\n<text text-anchor=\"middle\" x=\"3355.5\" y=\"-839.8\" font-family=\"Helvetica,sans-Serif\" font-size=\"14.00\" fill=\"#000000\">samples = 6</text>\n<text text-anchor=\"middle\" x=\"3355.5\" y=\"-824.8\" font-family=\"Helvetica,sans-Serif\" font-size=\"14.00\" fill=\"#000000\">value = [3, 3]</text>\n</g>\n<!-- 200&#45;&gt;201 -->\n<g id=\"edge201\" class=\"edge\">\n<title>200&#45;&gt;201</title>\n<path fill=\"none\" stroke=\"#000000\" d=\"M3490.9983,-924.7792C3467.5585,-912.0161 3440.1949,-897.1166 3416.2189,-884.0616\"/>\n<polygon fill=\"#000000\" stroke=\"#000000\" points=\"3417.6672,-880.865 3407.211,-879.1568 3414.3197,-887.0127 3417.6672,-880.865\"/>\n</g>\n<!-- 206 -->\n<g id=\"node207\" class=\"node\">\n<title>206</title>\n<polygon fill=\"none\" stroke=\"#000000\" points=\"3596,-877.5 3497,-877.5 3497,-824.5 3596,-824.5 3596,-877.5\"/>\n<text text-anchor=\"middle\" x=\"3546.5\" y=\"-862.3\" font-family=\"Helvetica,sans-Serif\" font-size=\"14.00\" fill=\"#000000\">gini = 0.0</text>\n<text text-anchor=\"middle\" x=\"3546.5\" y=\"-847.3\" font-family=\"Helvetica,sans-Serif\" font-size=\"14.00\" fill=\"#000000\">samples = 3</text>\n<text text-anchor=\"middle\" x=\"3546.5\" y=\"-832.3\" font-family=\"Helvetica,sans-Serif\" font-size=\"14.00\" fill=\"#000000\">value = [3, 0]</text>\n</g>\n<!-- 200&#45;&gt;206 -->\n<g id=\"edge206\" class=\"edge\">\n<title>200&#45;&gt;206</title>\n<path fill=\"none\" stroke=\"#000000\" d=\"M3546.5,-920.9465C3546.5,-910.2621 3546.5,-898.4254 3546.5,-887.5742\"/>\n<polygon fill=\"#000000\" stroke=\"#000000\" points=\"3550.0001,-887.5421 3546.5,-877.5422 3543.0001,-887.5422 3550.0001,-887.5421\"/>\n</g>\n<!-- 202 -->\n<g id=\"node203\" class=\"node\">\n<title>202</title>\n<polygon fill=\"none\" stroke=\"#000000\" points=\"3284,-773.5 3185,-773.5 3185,-720.5 3284,-720.5 3284,-773.5\"/>\n<text text-anchor=\"middle\" x=\"3234.5\" y=\"-758.3\" font-family=\"Helvetica,sans-Serif\" font-size=\"14.00\" fill=\"#000000\">gini = 0.0</text>\n<text text-anchor=\"middle\" x=\"3234.5\" y=\"-743.3\" font-family=\"Helvetica,sans-Serif\" font-size=\"14.00\" fill=\"#000000\">samples = 2</text>\n<text text-anchor=\"middle\" x=\"3234.5\" y=\"-728.3\" font-family=\"Helvetica,sans-Serif\" font-size=\"14.00\" fill=\"#000000\">value = [0, 2]</text>\n</g>\n<!-- 201&#45;&gt;202 -->\n<g id=\"edge202\" class=\"edge\">\n<title>201&#45;&gt;202</title>\n<path fill=\"none\" stroke=\"#000000\" d=\"M3315.8801,-816.9465C3302.1676,-805.1606 3286.8239,-791.9726 3273.1873,-780.2519\"/>\n<polygon fill=\"#000000\" stroke=\"#000000\" points=\"3275.2459,-777.4061 3265.3808,-773.5422 3270.6831,-782.7147 3275.2459,-777.4061\"/>\n</g>\n<!-- 203 -->\n<g id=\"node204\" class=\"node\">\n<title>203</title>\n<polygon fill=\"none\" stroke=\"#000000\" points=\"3401,-781 3302,-781 3302,-713 3401,-713 3401,-781\"/>\n<text text-anchor=\"middle\" x=\"3351.5\" y=\"-765.8\" font-family=\"Helvetica,sans-Serif\" font-size=\"14.00\" fill=\"#000000\">X[1] &lt;= 30.5</text>\n<text text-anchor=\"middle\" x=\"3351.5\" y=\"-750.8\" font-family=\"Helvetica,sans-Serif\" font-size=\"14.00\" fill=\"#000000\">gini = 0.375</text>\n<text text-anchor=\"middle\" x=\"3351.5\" y=\"-735.8\" font-family=\"Helvetica,sans-Serif\" font-size=\"14.00\" fill=\"#000000\">samples = 4</text>\n<text text-anchor=\"middle\" x=\"3351.5\" y=\"-720.8\" font-family=\"Helvetica,sans-Serif\" font-size=\"14.00\" fill=\"#000000\">value = [3, 1]</text>\n</g>\n<!-- 201&#45;&gt;203 -->\n<g id=\"edge203\" class=\"edge\">\n<title>201&#45;&gt;203</title>\n<path fill=\"none\" stroke=\"#000000\" d=\"M3354.1903,-816.9465C3353.876,-808.776 3353.5358,-799.9318 3353.2065,-791.3697\"/>\n<polygon fill=\"#000000\" stroke=\"#000000\" points=\"3356.6945,-790.9881 3352.8127,-781.13 3349.6997,-791.2572 3356.6945,-790.9881\"/>\n</g>\n<!-- 204 -->\n<g id=\"node205\" class=\"node\">\n<title>204</title>\n<polygon fill=\"none\" stroke=\"#000000\" points=\"3201,-669.5 3102,-669.5 3102,-616.5 3201,-616.5 3201,-669.5\"/>\n<text text-anchor=\"middle\" x=\"3151.5\" y=\"-654.3\" font-family=\"Helvetica,sans-Serif\" font-size=\"14.00\" fill=\"#000000\">gini = 0.0</text>\n<text text-anchor=\"middle\" x=\"3151.5\" y=\"-639.3\" font-family=\"Helvetica,sans-Serif\" font-size=\"14.00\" fill=\"#000000\">samples = 3</text>\n<text text-anchor=\"middle\" x=\"3151.5\" y=\"-624.3\" font-family=\"Helvetica,sans-Serif\" font-size=\"14.00\" fill=\"#000000\">value = [3, 0]</text>\n</g>\n<!-- 203&#45;&gt;204 -->\n<g id=\"edge204\" class=\"edge\">\n<title>203&#45;&gt;204</title>\n<path fill=\"none\" stroke=\"#000000\" d=\"M3301.8245,-717.8438C3298.6889,-716.1683 3295.5628,-714.5405 3292.5,-713 3256.5784,-694.9327 3245.3543,-695.2006 3209.5,-677 3207.9258,-676.2009 3206.3352,-675.3775 3204.7355,-674.5356\"/>\n<polygon fill=\"#000000\" stroke=\"#000000\" points=\"3205.9874,-671.2333 3195.5272,-669.5494 3202.6542,-677.3888 3205.9874,-671.2333\"/>\n</g>\n<!-- 205 -->\n<g id=\"node206\" class=\"node\">\n<title>205</title>\n<polygon fill=\"none\" stroke=\"#000000\" points=\"3318,-669.5 3219,-669.5 3219,-616.5 3318,-616.5 3318,-669.5\"/>\n<text text-anchor=\"middle\" x=\"3268.5\" y=\"-654.3\" font-family=\"Helvetica,sans-Serif\" font-size=\"14.00\" fill=\"#000000\">gini = 0.0</text>\n<text text-anchor=\"middle\" x=\"3268.5\" y=\"-639.3\" font-family=\"Helvetica,sans-Serif\" font-size=\"14.00\" fill=\"#000000\">samples = 1</text>\n<text text-anchor=\"middle\" x=\"3268.5\" y=\"-624.3\" font-family=\"Helvetica,sans-Serif\" font-size=\"14.00\" fill=\"#000000\">value = [0, 1]</text>\n</g>\n<!-- 203&#45;&gt;205 -->\n<g id=\"edge205\" class=\"edge\">\n<title>203&#45;&gt;205</title>\n<path fill=\"none\" stroke=\"#000000\" d=\"M3324.3227,-712.9465C3315.2682,-701.6012 3305.177,-688.9567 3296.0914,-677.5724\"/>\n<polygon fill=\"#000000\" stroke=\"#000000\" points=\"3298.6561,-675.175 3289.6827,-669.5422 3293.1849,-679.5414 3298.6561,-675.175\"/>\n</g>\n<!-- 208 -->\n<g id=\"node209\" class=\"node\">\n<title>208</title>\n<polygon fill=\"none\" stroke=\"#000000\" points=\"4347.5,-1093 4223.5,-1093 4223.5,-1025 4347.5,-1025 4347.5,-1093\"/>\n<text text-anchor=\"middle\" x=\"4285.5\" y=\"-1077.8\" font-family=\"Helvetica,sans-Serif\" font-size=\"14.00\" fill=\"#000000\">X[1] &lt;= 29.35</text>\n<text text-anchor=\"middle\" x=\"4285.5\" y=\"-1062.8\" font-family=\"Helvetica,sans-Serif\" font-size=\"14.00\" fill=\"#000000\">gini = 0.195</text>\n<text text-anchor=\"middle\" x=\"4285.5\" y=\"-1047.8\" font-family=\"Helvetica,sans-Serif\" font-size=\"14.00\" fill=\"#000000\">samples = 164</text>\n<text text-anchor=\"middle\" x=\"4285.5\" y=\"-1032.8\" font-family=\"Helvetica,sans-Serif\" font-size=\"14.00\" fill=\"#000000\">value = [146, 18]</text>\n</g>\n<!-- 207&#45;&gt;208 -->\n<g id=\"edge208\" class=\"edge\">\n<title>207&#45;&gt;208</title>\n<path fill=\"none\" stroke=\"#000000\" d=\"M4288.8628,-1128.9465C4288.47,-1120.776 4288.0448,-1111.9318 4287.6332,-1103.3697\"/>\n<polygon fill=\"#000000\" stroke=\"#000000\" points=\"4291.1171,-1102.9504 4287.1409,-1093.13 4284.1252,-1103.2866 4291.1171,-1102.9504\"/>\n</g>\n<!-- 283 -->\n<g id=\"node284\" class=\"node\">\n<title>283</title>\n<polygon fill=\"none\" stroke=\"#000000\" points=\"4529,-1093 4422,-1093 4422,-1025 4529,-1025 4529,-1093\"/>\n<text text-anchor=\"middle\" x=\"4475.5\" y=\"-1077.8\" font-family=\"Helvetica,sans-Serif\" font-size=\"14.00\" fill=\"#000000\">X[3] &lt;= 1.5</text>\n<text text-anchor=\"middle\" x=\"4475.5\" y=\"-1062.8\" font-family=\"Helvetica,sans-Serif\" font-size=\"14.00\" fill=\"#000000\">gini = 0.408</text>\n<text text-anchor=\"middle\" x=\"4475.5\" y=\"-1047.8\" font-family=\"Helvetica,sans-Serif\" font-size=\"14.00\" fill=\"#000000\">samples = 14</text>\n<text text-anchor=\"middle\" x=\"4475.5\" y=\"-1032.8\" font-family=\"Helvetica,sans-Serif\" font-size=\"14.00\" fill=\"#000000\">value = [10, 4]</text>\n</g>\n<!-- 207&#45;&gt;283 -->\n<g id=\"edge283\" class=\"edge\">\n<title>207&#45;&gt;283</title>\n<path fill=\"none\" stroke=\"#000000\" d=\"M4351.0759,-1128.9465C4370.9953,-1117.7486 4393.166,-1105.285 4413.2106,-1094.0168\"/>\n<polygon fill=\"#000000\" stroke=\"#000000\" points=\"4414.9535,-1097.0521 4421.9554,-1089.1007 4411.5232,-1090.9502 4414.9535,-1097.0521\"/>\n</g>\n<!-- 209 -->\n<g id=\"node210\" class=\"node\">\n<title>209</title>\n<polygon fill=\"none\" stroke=\"#000000\" points=\"3987.5,-989 3871.5,-989 3871.5,-921 3987.5,-921 3987.5,-989\"/>\n<text text-anchor=\"middle\" x=\"3929.5\" y=\"-973.8\" font-family=\"Helvetica,sans-Serif\" font-size=\"14.00\" fill=\"#000000\">X[1] &lt;= 28.75</text>\n<text text-anchor=\"middle\" x=\"3929.5\" y=\"-958.8\" font-family=\"Helvetica,sans-Serif\" font-size=\"14.00\" fill=\"#000000\">gini = 0.254</text>\n<text text-anchor=\"middle\" x=\"3929.5\" y=\"-943.8\" font-family=\"Helvetica,sans-Serif\" font-size=\"14.00\" fill=\"#000000\">samples = 94</text>\n<text text-anchor=\"middle\" x=\"3929.5\" y=\"-928.8\" font-family=\"Helvetica,sans-Serif\" font-size=\"14.00\" fill=\"#000000\">value = [80, 14]</text>\n</g>\n<!-- 208&#45;&gt;209 -->\n<g id=\"edge209\" class=\"edge\">\n<title>208&#45;&gt;209</title>\n<path fill=\"none\" stroke=\"#000000\" d=\"M4223.4895,-1040.8846C4160.2964,-1022.4237 4062.5574,-993.8707 3997.3363,-974.8174\"/>\n<polygon fill=\"#000000\" stroke=\"#000000\" points=\"3998.1384,-971.4054 3987.5581,-971.9608 3996.1755,-978.1246 3998.1384,-971.4054\"/>\n</g>\n<!-- 262 -->\n<g id=\"node263\" class=\"node\">\n<title>262</title>\n<polygon fill=\"none\" stroke=\"#000000\" points=\"4339,-989 4232,-989 4232,-921 4339,-921 4339,-989\"/>\n<text text-anchor=\"middle\" x=\"4285.5\" y=\"-973.8\" font-family=\"Helvetica,sans-Serif\" font-size=\"14.00\" fill=\"#000000\">X[4] &lt;= 7.802</text>\n<text text-anchor=\"middle\" x=\"4285.5\" y=\"-958.8\" font-family=\"Helvetica,sans-Serif\" font-size=\"14.00\" fill=\"#000000\">gini = 0.108</text>\n<text text-anchor=\"middle\" x=\"4285.5\" y=\"-943.8\" font-family=\"Helvetica,sans-Serif\" font-size=\"14.00\" fill=\"#000000\">samples = 70</text>\n<text text-anchor=\"middle\" x=\"4285.5\" y=\"-928.8\" font-family=\"Helvetica,sans-Serif\" font-size=\"14.00\" fill=\"#000000\">value = [66, 4]</text>\n</g>\n<!-- 208&#45;&gt;262 -->\n<g id=\"edge262\" class=\"edge\">\n<title>208&#45;&gt;262</title>\n<path fill=\"none\" stroke=\"#000000\" d=\"M4285.5,-1024.9465C4285.5,-1016.776 4285.5,-1007.9318 4285.5,-999.3697\"/>\n<polygon fill=\"#000000\" stroke=\"#000000\" points=\"4289.0001,-999.13 4285.5,-989.13 4282.0001,-999.13 4289.0001,-999.13\"/>\n</g>\n<!-- 210 -->\n<g id=\"node211\" class=\"node\">\n<title>210</title>\n<polygon fill=\"none\" stroke=\"#000000\" points=\"3803.5,-885 3687.5,-885 3687.5,-817 3803.5,-817 3803.5,-885\"/>\n<text text-anchor=\"middle\" x=\"3745.5\" y=\"-869.8\" font-family=\"Helvetica,sans-Serif\" font-size=\"14.00\" fill=\"#000000\">X[4] &lt;= 7.013</text>\n<text text-anchor=\"middle\" x=\"3745.5\" y=\"-854.8\" font-family=\"Helvetica,sans-Serif\" font-size=\"14.00\" fill=\"#000000\">gini = 0.217</text>\n<text text-anchor=\"middle\" x=\"3745.5\" y=\"-839.8\" font-family=\"Helvetica,sans-Serif\" font-size=\"14.00\" fill=\"#000000\">samples = 89</text>\n<text text-anchor=\"middle\" x=\"3745.5\" y=\"-824.8\" font-family=\"Helvetica,sans-Serif\" font-size=\"14.00\" fill=\"#000000\">value = [78, 11]</text>\n</g>\n<!-- 209&#45;&gt;210 -->\n<g id=\"edge210\" class=\"edge\">\n<title>209&#45;&gt;210</title>\n<path fill=\"none\" stroke=\"#000000\" d=\"M3871.2813,-922.0938C3852.5643,-911.5146 3831.681,-899.711 3812.3923,-888.8087\"/>\n<polygon fill=\"#000000\" stroke=\"#000000\" points=\"3814.0834,-885.7442 3803.6556,-883.8705 3810.639,-891.8381 3814.0834,-885.7442\"/>\n</g>\n<!-- 255 -->\n<g id=\"node256\" class=\"node\">\n<title>255</title>\n<polygon fill=\"none\" stroke=\"#000000\" points=\"3981,-885 3878,-885 3878,-817 3981,-817 3981,-885\"/>\n<text text-anchor=\"middle\" x=\"3929.5\" y=\"-869.8\" font-family=\"Helvetica,sans-Serif\" font-size=\"14.00\" fill=\"#000000\">X[4] &lt;= 7.835</text>\n<text text-anchor=\"middle\" x=\"3929.5\" y=\"-854.8\" font-family=\"Helvetica,sans-Serif\" font-size=\"14.00\" fill=\"#000000\">gini = 0.48</text>\n<text text-anchor=\"middle\" x=\"3929.5\" y=\"-839.8\" font-family=\"Helvetica,sans-Serif\" font-size=\"14.00\" fill=\"#000000\">samples = 5</text>\n<text text-anchor=\"middle\" x=\"3929.5\" y=\"-824.8\" font-family=\"Helvetica,sans-Serif\" font-size=\"14.00\" fill=\"#000000\">value = [2, 3]</text>\n</g>\n<!-- 209&#45;&gt;255 -->\n<g id=\"edge255\" class=\"edge\">\n<title>209&#45;&gt;255</title>\n<path fill=\"none\" stroke=\"#000000\" d=\"M3929.5,-920.9465C3929.5,-912.776 3929.5,-903.9318 3929.5,-895.3697\"/>\n<polygon fill=\"#000000\" stroke=\"#000000\" points=\"3933.0001,-895.13 3929.5,-885.13 3926.0001,-895.13 3933.0001,-895.13\"/>\n</g>\n<!-- 211 -->\n<g id=\"node212\" class=\"node\">\n<title>211</title>\n<polygon fill=\"none\" stroke=\"#000000\" points=\"3552,-781 3453,-781 3453,-713 3552,-713 3552,-781\"/>\n<text text-anchor=\"middle\" x=\"3502.5\" y=\"-765.8\" font-family=\"Helvetica,sans-Serif\" font-size=\"14.00\" fill=\"#000000\">X[1] &lt;= 22.5</text>\n<text text-anchor=\"middle\" x=\"3502.5\" y=\"-750.8\" font-family=\"Helvetica,sans-Serif\" font-size=\"14.00\" fill=\"#000000\">gini = 0.48</text>\n<text text-anchor=\"middle\" x=\"3502.5\" y=\"-735.8\" font-family=\"Helvetica,sans-Serif\" font-size=\"14.00\" fill=\"#000000\">samples = 5</text>\n<text text-anchor=\"middle\" x=\"3502.5\" y=\"-720.8\" font-family=\"Helvetica,sans-Serif\" font-size=\"14.00\" fill=\"#000000\">value = [3, 2]</text>\n</g>\n<!-- 210&#45;&gt;211 -->\n<g id=\"edge211\" class=\"edge\">\n<title>210&#45;&gt;211</title>\n<path fill=\"none\" stroke=\"#000000\" d=\"M3687.2954,-826.0894C3649.2402,-809.8024 3599.6913,-788.5963 3561.4811,-772.2429\"/>\n<polygon fill=\"#000000\" stroke=\"#000000\" points=\"3562.5954,-768.9128 3552.0248,-768.1958 3559.8411,-775.3482 3562.5954,-768.9128\"/>\n</g>\n<!-- 214 -->\n<g id=\"node215\" class=\"node\">\n<title>214</title>\n<polygon fill=\"none\" stroke=\"#000000\" points=\"3799,-781 3692,-781 3692,-713 3799,-713 3799,-781\"/>\n<text text-anchor=\"middle\" x=\"3745.5\" y=\"-765.8\" font-family=\"Helvetica,sans-Serif\" font-size=\"14.00\" fill=\"#000000\">X[1] &lt;= 20.25</text>\n<text text-anchor=\"middle\" x=\"3745.5\" y=\"-750.8\" font-family=\"Helvetica,sans-Serif\" font-size=\"14.00\" fill=\"#000000\">gini = 0.191</text>\n<text text-anchor=\"middle\" x=\"3745.5\" y=\"-735.8\" font-family=\"Helvetica,sans-Serif\" font-size=\"14.00\" fill=\"#000000\">samples = 84</text>\n<text text-anchor=\"middle\" x=\"3745.5\" y=\"-720.8\" font-family=\"Helvetica,sans-Serif\" font-size=\"14.00\" fill=\"#000000\">value = [75, 9]</text>\n</g>\n<!-- 210&#45;&gt;214 -->\n<g id=\"edge214\" class=\"edge\">\n<title>210&#45;&gt;214</title>\n<path fill=\"none\" stroke=\"#000000\" d=\"M3745.5,-816.9465C3745.5,-808.776 3745.5,-799.9318 3745.5,-791.3697\"/>\n<polygon fill=\"#000000\" stroke=\"#000000\" points=\"3749.0001,-791.13 3745.5,-781.13 3742.0001,-791.13 3749.0001,-791.13\"/>\n</g>\n<!-- 212 -->\n<g id=\"node213\" class=\"node\">\n<title>212</title>\n<polygon fill=\"none\" stroke=\"#000000\" points=\"3435,-669.5 3336,-669.5 3336,-616.5 3435,-616.5 3435,-669.5\"/>\n<text text-anchor=\"middle\" x=\"3385.5\" y=\"-654.3\" font-family=\"Helvetica,sans-Serif\" font-size=\"14.00\" fill=\"#000000\">gini = 0.0</text>\n<text text-anchor=\"middle\" x=\"3385.5\" y=\"-639.3\" font-family=\"Helvetica,sans-Serif\" font-size=\"14.00\" fill=\"#000000\">samples = 3</text>\n<text text-anchor=\"middle\" x=\"3385.5\" y=\"-624.3\" font-family=\"Helvetica,sans-Serif\" font-size=\"14.00\" fill=\"#000000\">value = [3, 0]</text>\n</g>\n<!-- 211&#45;&gt;212 -->\n<g id=\"edge212\" class=\"edge\">\n<title>211&#45;&gt;212</title>\n<path fill=\"none\" stroke=\"#000000\" d=\"M3464.1898,-712.9465C3450.9306,-701.1606 3436.0942,-687.9726 3422.9084,-676.2519\"/>\n<polygon fill=\"#000000\" stroke=\"#000000\" points=\"3425.1593,-673.5699 3415.3599,-669.5422 3420.5088,-678.8018 3425.1593,-673.5699\"/>\n</g>\n<!-- 213 -->\n<g id=\"node214\" class=\"node\">\n<title>213</title>\n<polygon fill=\"none\" stroke=\"#000000\" points=\"3552,-669.5 3453,-669.5 3453,-616.5 3552,-616.5 3552,-669.5\"/>\n<text text-anchor=\"middle\" x=\"3502.5\" y=\"-654.3\" font-family=\"Helvetica,sans-Serif\" font-size=\"14.00\" fill=\"#000000\">gini = 0.0</text>\n<text text-anchor=\"middle\" x=\"3502.5\" y=\"-639.3\" font-family=\"Helvetica,sans-Serif\" font-size=\"14.00\" fill=\"#000000\">samples = 2</text>\n<text text-anchor=\"middle\" x=\"3502.5\" y=\"-624.3\" font-family=\"Helvetica,sans-Serif\" font-size=\"14.00\" fill=\"#000000\">value = [0, 2]</text>\n</g>\n<!-- 211&#45;&gt;213 -->\n<g id=\"edge213\" class=\"edge\">\n<title>211&#45;&gt;213</title>\n<path fill=\"none\" stroke=\"#000000\" d=\"M3502.5,-712.9465C3502.5,-702.2621 3502.5,-690.4254 3502.5,-679.5742\"/>\n<polygon fill=\"#000000\" stroke=\"#000000\" points=\"3506.0001,-679.5421 3502.5,-669.5422 3499.0001,-679.5422 3506.0001,-679.5421\"/>\n</g>\n<!-- 215 -->\n<g id=\"node216\" class=\"node\">\n<title>215</title>\n<polygon fill=\"none\" stroke=\"#000000\" points=\"3677,-677 3570,-677 3570,-609 3677,-609 3677,-677\"/>\n<text text-anchor=\"middle\" x=\"3623.5\" y=\"-661.8\" font-family=\"Helvetica,sans-Serif\" font-size=\"14.00\" fill=\"#000000\">X[4] &lt;= 8.175</text>\n<text text-anchor=\"middle\" x=\"3623.5\" y=\"-646.8\" font-family=\"Helvetica,sans-Serif\" font-size=\"14.00\" fill=\"#000000\">gini = 0.264</text>\n<text text-anchor=\"middle\" x=\"3623.5\" y=\"-631.8\" font-family=\"Helvetica,sans-Serif\" font-size=\"14.00\" fill=\"#000000\">samples = 32</text>\n<text text-anchor=\"middle\" x=\"3623.5\" y=\"-616.8\" font-family=\"Helvetica,sans-Serif\" font-size=\"14.00\" fill=\"#000000\">value = [27, 5]</text>\n</g>\n<!-- 214&#45;&gt;215 -->\n<g id=\"edge215\" class=\"edge\">\n<title>214&#45;&gt;215</title>\n<path fill=\"none\" stroke=\"#000000\" d=\"M3705.5526,-712.9465C3694.5988,-703.6088 3682.6127,-693.3911 3671.268,-683.7203\"/>\n<polygon fill=\"#000000\" stroke=\"#000000\" points=\"3673.4179,-680.9538 3663.5371,-677.13 3668.8767,-686.2809 3673.4179,-680.9538\"/>\n</g>\n<!-- 234 -->\n<g id=\"node235\" class=\"node\">\n<title>234</title>\n<polygon fill=\"none\" stroke=\"#000000\" points=\"3802,-677 3695,-677 3695,-609 3802,-609 3802,-677\"/>\n<text text-anchor=\"middle\" x=\"3748.5\" y=\"-661.8\" font-family=\"Helvetica,sans-Serif\" font-size=\"14.00\" fill=\"#000000\">X[4] &lt;= 7.183</text>\n<text text-anchor=\"middle\" x=\"3748.5\" y=\"-646.8\" font-family=\"Helvetica,sans-Serif\" font-size=\"14.00\" fill=\"#000000\">gini = 0.142</text>\n<text text-anchor=\"middle\" x=\"3748.5\" y=\"-631.8\" font-family=\"Helvetica,sans-Serif\" font-size=\"14.00\" fill=\"#000000\">samples = 52</text>\n<text text-anchor=\"middle\" x=\"3748.5\" y=\"-616.8\" font-family=\"Helvetica,sans-Serif\" font-size=\"14.00\" fill=\"#000000\">value = [48, 4]</text>\n</g>\n<!-- 214&#45;&gt;234 -->\n<g id=\"edge234\" class=\"edge\">\n<title>214&#45;&gt;234</title>\n<path fill=\"none\" stroke=\"#000000\" d=\"M3746.4823,-712.9465C3746.718,-704.776 3746.9731,-695.9318 3747.2201,-687.3697\"/>\n<polygon fill=\"#000000\" stroke=\"#000000\" points=\"3750.7256,-687.2268 3747.5155,-677.13 3743.7285,-687.0249 3750.7256,-687.2268\"/>\n</g>\n<!-- 216 -->\n<g id=\"node217\" class=\"node\">\n<title>216</title>\n<polygon fill=\"none\" stroke=\"#000000\" points=\"3517,-573 3410,-573 3410,-505 3517,-505 3517,-573\"/>\n<text text-anchor=\"middle\" x=\"3463.5\" y=\"-557.8\" font-family=\"Helvetica,sans-Serif\" font-size=\"14.00\" fill=\"#000000\">X[4] &lt;= 7.91</text>\n<text text-anchor=\"middle\" x=\"3463.5\" y=\"-542.8\" font-family=\"Helvetica,sans-Serif\" font-size=\"14.00\" fill=\"#000000\">gini = 0.34</text>\n<text text-anchor=\"middle\" x=\"3463.5\" y=\"-527.8\" font-family=\"Helvetica,sans-Serif\" font-size=\"14.00\" fill=\"#000000\">samples = 23</text>\n<text text-anchor=\"middle\" x=\"3463.5\" y=\"-512.8\" font-family=\"Helvetica,sans-Serif\" font-size=\"14.00\" fill=\"#000000\">value = [18, 5]</text>\n</g>\n<!-- 215&#45;&gt;216 -->\n<g id=\"edge216\" class=\"edge\">\n<title>215&#45;&gt;216</title>\n<path fill=\"none\" stroke=\"#000000\" d=\"M3571.11,-608.9465C3556.1918,-599.2497 3539.8136,-588.6039 3524.4338,-578.6069\"/>\n<polygon fill=\"#000000\" stroke=\"#000000\" points=\"3526.2996,-575.6454 3516.0077,-573.13 3522.4847,-581.5145 3526.2996,-575.6454\"/>\n</g>\n<!-- 233 -->\n<g id=\"node234\" class=\"node\">\n<title>233</title>\n<polygon fill=\"none\" stroke=\"#000000\" points=\"3634,-565.5 3535,-565.5 3535,-512.5 3634,-512.5 3634,-565.5\"/>\n<text text-anchor=\"middle\" x=\"3584.5\" y=\"-550.3\" font-family=\"Helvetica,sans-Serif\" font-size=\"14.00\" fill=\"#000000\">gini = 0.0</text>\n<text text-anchor=\"middle\" x=\"3584.5\" y=\"-535.3\" font-family=\"Helvetica,sans-Serif\" font-size=\"14.00\" fill=\"#000000\">samples = 9</text>\n<text text-anchor=\"middle\" x=\"3584.5\" y=\"-520.3\" font-family=\"Helvetica,sans-Serif\" font-size=\"14.00\" fill=\"#000000\">value = [9, 0]</text>\n</g>\n<!-- 215&#45;&gt;233 -->\n<g id=\"edge233\" class=\"edge\">\n<title>215&#45;&gt;233</title>\n<path fill=\"none\" stroke=\"#000000\" d=\"M3610.7299,-608.9465C3606.682,-598.1519 3602.193,-586.1813 3598.0896,-575.2389\"/>\n<polygon fill=\"#000000\" stroke=\"#000000\" points=\"3601.2418,-573.6765 3594.4533,-565.5422 3594.6875,-576.1344 3601.2418,-573.6765\"/>\n</g>\n<!-- 217 -->\n<g id=\"node218\" class=\"node\">\n<title>217</title>\n<polygon fill=\"none\" stroke=\"#000000\" points=\"3396,-469 3289,-469 3289,-401 3396,-401 3396,-469\"/>\n<text text-anchor=\"middle\" x=\"3342.5\" y=\"-453.8\" font-family=\"Helvetica,sans-Serif\" font-size=\"14.00\" fill=\"#000000\">X[1] &lt;= 19.5</text>\n<text text-anchor=\"middle\" x=\"3342.5\" y=\"-438.8\" font-family=\"Helvetica,sans-Serif\" font-size=\"14.00\" fill=\"#000000\">gini = 0.117</text>\n<text text-anchor=\"middle\" x=\"3342.5\" y=\"-423.8\" font-family=\"Helvetica,sans-Serif\" font-size=\"14.00\" fill=\"#000000\">samples = 16</text>\n<text text-anchor=\"middle\" x=\"3342.5\" y=\"-408.8\" font-family=\"Helvetica,sans-Serif\" font-size=\"14.00\" fill=\"#000000\">value = [15, 1]</text>\n</g>\n<!-- 216&#45;&gt;217 -->\n<g id=\"edge217\" class=\"edge\">\n<title>216&#45;&gt;217</title>\n<path fill=\"none\" stroke=\"#000000\" d=\"M3423.8801,-504.9465C3413.016,-495.6088 3401.1282,-485.3911 3389.8765,-475.7203\"/>\n<polygon fill=\"#000000\" stroke=\"#000000\" points=\"3392.0741,-472.994 3382.2089,-469.13 3387.5113,-478.3026 3392.0741,-472.994\"/>\n</g>\n<!-- 224 -->\n<g id=\"node225\" class=\"node\">\n<title>224</title>\n<polygon fill=\"none\" stroke=\"#000000\" points=\"3513,-469 3414,-469 3414,-401 3513,-401 3513,-469\"/>\n<text text-anchor=\"middle\" x=\"3463.5\" y=\"-453.8\" font-family=\"Helvetica,sans-Serif\" font-size=\"14.00\" fill=\"#000000\">X[3] &lt;= 0.5</text>\n<text text-anchor=\"middle\" x=\"3463.5\" y=\"-438.8\" font-family=\"Helvetica,sans-Serif\" font-size=\"14.00\" fill=\"#000000\">gini = 0.49</text>\n<text text-anchor=\"middle\" x=\"3463.5\" y=\"-423.8\" font-family=\"Helvetica,sans-Serif\" font-size=\"14.00\" fill=\"#000000\">samples = 7</text>\n<text text-anchor=\"middle\" x=\"3463.5\" y=\"-408.8\" font-family=\"Helvetica,sans-Serif\" font-size=\"14.00\" fill=\"#000000\">value = [3, 4]</text>\n</g>\n<!-- 216&#45;&gt;224 -->\n<g id=\"edge224\" class=\"edge\">\n<title>216&#45;&gt;224</title>\n<path fill=\"none\" stroke=\"#000000\" d=\"M3463.5,-504.9465C3463.5,-496.776 3463.5,-487.9318 3463.5,-479.3697\"/>\n<polygon fill=\"#000000\" stroke=\"#000000\" points=\"3467.0001,-479.13 3463.5,-469.13 3460.0001,-479.13 3467.0001,-479.13\"/>\n</g>\n<!-- 218 -->\n<g id=\"node219\" class=\"node\">\n<title>218</title>\n<polygon fill=\"none\" stroke=\"#000000\" points=\"3275,-357.5 3168,-357.5 3168,-304.5 3275,-304.5 3275,-357.5\"/>\n<text text-anchor=\"middle\" x=\"3221.5\" y=\"-342.3\" font-family=\"Helvetica,sans-Serif\" font-size=\"14.00\" fill=\"#000000\">gini = 0.0</text>\n<text text-anchor=\"middle\" x=\"3221.5\" y=\"-327.3\" font-family=\"Helvetica,sans-Serif\" font-size=\"14.00\" fill=\"#000000\">samples = 13</text>\n<text text-anchor=\"middle\" x=\"3221.5\" y=\"-312.3\" font-family=\"Helvetica,sans-Serif\" font-size=\"14.00\" fill=\"#000000\">value = [13, 0]</text>\n</g>\n<!-- 217&#45;&gt;218 -->\n<g id=\"edge218\" class=\"edge\">\n<title>217&#45;&gt;218</title>\n<path fill=\"none\" stroke=\"#000000\" d=\"M3302.8801,-400.9465C3289.1676,-389.1606 3273.8239,-375.9726 3260.1873,-364.2519\"/>\n<polygon fill=\"#000000\" stroke=\"#000000\" points=\"3262.2459,-361.4061 3252.3808,-357.5422 3257.6831,-366.7147 3262.2459,-361.4061\"/>\n</g>\n<!-- 219 -->\n<g id=\"node220\" class=\"node\">\n<title>219</title>\n<polygon fill=\"none\" stroke=\"#000000\" points=\"3392,-365 3293,-365 3293,-297 3392,-297 3392,-365\"/>\n<text text-anchor=\"middle\" x=\"3342.5\" y=\"-349.8\" font-family=\"Helvetica,sans-Serif\" font-size=\"14.00\" fill=\"#000000\">X[4] &lt;= 7.14</text>\n<text text-anchor=\"middle\" x=\"3342.5\" y=\"-334.8\" font-family=\"Helvetica,sans-Serif\" font-size=\"14.00\" fill=\"#000000\">gini = 0.444</text>\n<text text-anchor=\"middle\" x=\"3342.5\" y=\"-319.8\" font-family=\"Helvetica,sans-Serif\" font-size=\"14.00\" fill=\"#000000\">samples = 3</text>\n<text text-anchor=\"middle\" x=\"3342.5\" y=\"-304.8\" font-family=\"Helvetica,sans-Serif\" font-size=\"14.00\" fill=\"#000000\">value = [2, 1]</text>\n</g>\n<!-- 217&#45;&gt;219 -->\n<g id=\"edge219\" class=\"edge\">\n<title>217&#45;&gt;219</title>\n<path fill=\"none\" stroke=\"#000000\" d=\"M3342.5,-400.9465C3342.5,-392.776 3342.5,-383.9318 3342.5,-375.3697\"/>\n<polygon fill=\"#000000\" stroke=\"#000000\" points=\"3346.0001,-375.13 3342.5,-365.13 3339.0001,-375.13 3346.0001,-375.13\"/>\n</g>\n<!-- 220 -->\n<g id=\"node221\" class=\"node\">\n<title>220</title>\n<polygon fill=\"none\" stroke=\"#000000\" points=\"3273,-253.5 3174,-253.5 3174,-200.5 3273,-200.5 3273,-253.5\"/>\n<text text-anchor=\"middle\" x=\"3223.5\" y=\"-238.3\" font-family=\"Helvetica,sans-Serif\" font-size=\"14.00\" fill=\"#000000\">gini = 0.0</text>\n<text text-anchor=\"middle\" x=\"3223.5\" y=\"-223.3\" font-family=\"Helvetica,sans-Serif\" font-size=\"14.00\" fill=\"#000000\">samples = 1</text>\n<text text-anchor=\"middle\" x=\"3223.5\" y=\"-208.3\" font-family=\"Helvetica,sans-Serif\" font-size=\"14.00\" fill=\"#000000\">value = [1, 0]</text>\n</g>\n<!-- 219&#45;&gt;220 -->\n<g id=\"edge220\" class=\"edge\">\n<title>219&#45;&gt;220</title>\n<path fill=\"none\" stroke=\"#000000\" d=\"M3303.5349,-296.9465C3290.0491,-285.1606 3274.9591,-271.9726 3261.5479,-260.2519\"/>\n<polygon fill=\"#000000\" stroke=\"#000000\" points=\"3263.7033,-257.4874 3253.8704,-253.5422 3259.0969,-262.7582 3263.7033,-257.4874\"/>\n</g>\n<!-- 221 -->\n<g id=\"node222\" class=\"node\">\n<title>221</title>\n<polygon fill=\"none\" stroke=\"#000000\" points=\"3394,-261 3291,-261 3291,-193 3394,-193 3394,-261\"/>\n<text text-anchor=\"middle\" x=\"3342.5\" y=\"-245.8\" font-family=\"Helvetica,sans-Serif\" font-size=\"14.00\" fill=\"#000000\">X[4] &lt;= 7.542</text>\n<text text-anchor=\"middle\" x=\"3342.5\" y=\"-230.8\" font-family=\"Helvetica,sans-Serif\" font-size=\"14.00\" fill=\"#000000\">gini = 0.5</text>\n<text text-anchor=\"middle\" x=\"3342.5\" y=\"-215.8\" font-family=\"Helvetica,sans-Serif\" font-size=\"14.00\" fill=\"#000000\">samples = 2</text>\n<text text-anchor=\"middle\" x=\"3342.5\" y=\"-200.8\" font-family=\"Helvetica,sans-Serif\" font-size=\"14.00\" fill=\"#000000\">value = [1, 1]</text>\n</g>\n<!-- 219&#45;&gt;221 -->\n<g id=\"edge221\" class=\"edge\">\n<title>219&#45;&gt;221</title>\n<path fill=\"none\" stroke=\"#000000\" d=\"M3342.5,-296.9465C3342.5,-288.776 3342.5,-279.9318 3342.5,-271.3697\"/>\n<polygon fill=\"#000000\" stroke=\"#000000\" points=\"3346.0001,-271.13 3342.5,-261.13 3339.0001,-271.13 3346.0001,-271.13\"/>\n</g>\n<!-- 222 -->\n<g id=\"node223\" class=\"node\">\n<title>222</title>\n<polygon fill=\"none\" stroke=\"#000000\" points=\"3276,-149.5 3177,-149.5 3177,-96.5 3276,-96.5 3276,-149.5\"/>\n<text text-anchor=\"middle\" x=\"3226.5\" y=\"-134.3\" font-family=\"Helvetica,sans-Serif\" font-size=\"14.00\" fill=\"#000000\">gini = 0.0</text>\n<text text-anchor=\"middle\" x=\"3226.5\" y=\"-119.3\" font-family=\"Helvetica,sans-Serif\" font-size=\"14.00\" fill=\"#000000\">samples = 1</text>\n<text text-anchor=\"middle\" x=\"3226.5\" y=\"-104.3\" font-family=\"Helvetica,sans-Serif\" font-size=\"14.00\" fill=\"#000000\">value = [0, 1]</text>\n</g>\n<!-- 221&#45;&gt;222 -->\n<g id=\"edge222\" class=\"edge\">\n<title>221&#45;&gt;222</title>\n<path fill=\"none\" stroke=\"#000000\" d=\"M3304.5173,-192.9465C3291.3714,-181.1606 3276.6618,-167.9726 3263.5887,-156.2519\"/>\n<polygon fill=\"#000000\" stroke=\"#000000\" points=\"3265.8869,-153.6116 3256.1047,-149.5422 3261.214,-158.8236 3265.8869,-153.6116\"/>\n</g>\n<!-- 223 -->\n<g id=\"node224\" class=\"node\">\n<title>223</title>\n<polygon fill=\"none\" stroke=\"#000000\" points=\"3393,-149.5 3294,-149.5 3294,-96.5 3393,-96.5 3393,-149.5\"/>\n<text text-anchor=\"middle\" x=\"3343.5\" y=\"-134.3\" font-family=\"Helvetica,sans-Serif\" font-size=\"14.00\" fill=\"#000000\">gini = 0.0</text>\n<text text-anchor=\"middle\" x=\"3343.5\" y=\"-119.3\" font-family=\"Helvetica,sans-Serif\" font-size=\"14.00\" fill=\"#000000\">samples = 1</text>\n<text text-anchor=\"middle\" x=\"3343.5\" y=\"-104.3\" font-family=\"Helvetica,sans-Serif\" font-size=\"14.00\" fill=\"#000000\">value = [1, 0]</text>\n</g>\n<!-- 221&#45;&gt;223 -->\n<g id=\"edge223\" class=\"edge\">\n<title>221&#45;&gt;223</title>\n<path fill=\"none\" stroke=\"#000000\" d=\"M3342.8274,-192.9465C3342.9302,-182.2621 3343.044,-170.4254 3343.1483,-159.5742\"/>\n<polygon fill=\"#000000\" stroke=\"#000000\" points=\"3346.6484,-159.5754 3343.2448,-149.5422 3339.6487,-159.508 3346.6484,-159.5754\"/>\n</g>\n<!-- 225 -->\n<g id=\"node226\" class=\"node\">\n<title>225</title>\n<polygon fill=\"none\" stroke=\"#000000\" points=\"3513,-365 3410,-365 3410,-297 3513,-297 3513,-365\"/>\n<text text-anchor=\"middle\" x=\"3461.5\" y=\"-349.8\" font-family=\"Helvetica,sans-Serif\" font-size=\"14.00\" fill=\"#000000\">X[4] &lt;= 7.988</text>\n<text text-anchor=\"middle\" x=\"3461.5\" y=\"-334.8\" font-family=\"Helvetica,sans-Serif\" font-size=\"14.00\" fill=\"#000000\">gini = 0.5</text>\n<text text-anchor=\"middle\" x=\"3461.5\" y=\"-319.8\" font-family=\"Helvetica,sans-Serif\" font-size=\"14.00\" fill=\"#000000\">samples = 6</text>\n<text text-anchor=\"middle\" x=\"3461.5\" y=\"-304.8\" font-family=\"Helvetica,sans-Serif\" font-size=\"14.00\" fill=\"#000000\">value = [3, 3]</text>\n</g>\n<!-- 224&#45;&gt;225 -->\n<g id=\"edge225\" class=\"edge\">\n<title>224&#45;&gt;225</title>\n<path fill=\"none\" stroke=\"#000000\" d=\"M3462.8451,-400.9465C3462.688,-392.776 3462.5179,-383.9318 3462.3533,-375.3697\"/>\n<polygon fill=\"#000000\" stroke=\"#000000\" points=\"3465.8481,-375.0608 3462.1563,-365.13 3458.8494,-375.1955 3465.8481,-375.0608\"/>\n</g>\n<!-- 232 -->\n<g id=\"node233\" class=\"node\">\n<title>232</title>\n<polygon fill=\"none\" stroke=\"#000000\" points=\"3630,-357.5 3531,-357.5 3531,-304.5 3630,-304.5 3630,-357.5\"/>\n<text text-anchor=\"middle\" x=\"3580.5\" y=\"-342.3\" font-family=\"Helvetica,sans-Serif\" font-size=\"14.00\" fill=\"#000000\">gini = 0.0</text>\n<text text-anchor=\"middle\" x=\"3580.5\" y=\"-327.3\" font-family=\"Helvetica,sans-Serif\" font-size=\"14.00\" fill=\"#000000\">samples = 1</text>\n<text text-anchor=\"middle\" x=\"3580.5\" y=\"-312.3\" font-family=\"Helvetica,sans-Serif\" font-size=\"14.00\" fill=\"#000000\">value = [0, 1]</text>\n</g>\n<!-- 224&#45;&gt;232 -->\n<g id=\"edge232\" class=\"edge\">\n<title>224&#45;&gt;232</title>\n<path fill=\"none\" stroke=\"#000000\" d=\"M3501.8102,-400.9465C3515.0694,-389.1606 3529.9058,-375.9726 3543.0916,-364.2519\"/>\n<polygon fill=\"#000000\" stroke=\"#000000\" points=\"3545.4912,-366.8018 3550.6401,-357.5422 3540.8407,-361.5699 3545.4912,-366.8018\"/>\n</g>\n<!-- 226 -->\n<g id=\"node227\" class=\"node\">\n<title>226</title>\n<polygon fill=\"none\" stroke=\"#000000\" points=\"3511,-253.5 3412,-253.5 3412,-200.5 3511,-200.5 3511,-253.5\"/>\n<text text-anchor=\"middle\" x=\"3461.5\" y=\"-238.3\" font-family=\"Helvetica,sans-Serif\" font-size=\"14.00\" fill=\"#000000\">gini = 0.0</text>\n<text text-anchor=\"middle\" x=\"3461.5\" y=\"-223.3\" font-family=\"Helvetica,sans-Serif\" font-size=\"14.00\" fill=\"#000000\">samples = 1</text>\n<text text-anchor=\"middle\" x=\"3461.5\" y=\"-208.3\" font-family=\"Helvetica,sans-Serif\" font-size=\"14.00\" fill=\"#000000\">value = [1, 0]</text>\n</g>\n<!-- 225&#45;&gt;226 -->\n<g id=\"edge226\" class=\"edge\">\n<title>225&#45;&gt;226</title>\n<path fill=\"none\" stroke=\"#000000\" d=\"M3461.5,-296.9465C3461.5,-286.2621 3461.5,-274.4254 3461.5,-263.5742\"/>\n<polygon fill=\"#000000\" stroke=\"#000000\" points=\"3465.0001,-263.5421 3461.5,-253.5422 3458.0001,-263.5422 3465.0001,-263.5421\"/>\n</g>\n<!-- 227 -->\n<g id=\"node228\" class=\"node\">\n<title>227</title>\n<polygon fill=\"none\" stroke=\"#000000\" points=\"3628,-261 3529,-261 3529,-193 3628,-193 3628,-261\"/>\n<text text-anchor=\"middle\" x=\"3578.5\" y=\"-245.8\" font-family=\"Helvetica,sans-Serif\" font-size=\"14.00\" fill=\"#000000\">X[1] &lt;= 17.0</text>\n<text text-anchor=\"middle\" x=\"3578.5\" y=\"-230.8\" font-family=\"Helvetica,sans-Serif\" font-size=\"14.00\" fill=\"#000000\">gini = 0.48</text>\n<text text-anchor=\"middle\" x=\"3578.5\" y=\"-215.8\" font-family=\"Helvetica,sans-Serif\" font-size=\"14.00\" fill=\"#000000\">samples = 5</text>\n<text text-anchor=\"middle\" x=\"3578.5\" y=\"-200.8\" font-family=\"Helvetica,sans-Serif\" font-size=\"14.00\" fill=\"#000000\">value = [2, 3]</text>\n</g>\n<!-- 225&#45;&gt;227 -->\n<g id=\"edge227\" class=\"edge\">\n<title>225&#45;&gt;227</title>\n<path fill=\"none\" stroke=\"#000000\" d=\"M3499.8102,-296.9465C3510.2141,-287.6986 3521.589,-277.5876 3532.3757,-267.9994\"/>\n<polygon fill=\"#000000\" stroke=\"#000000\" points=\"3534.9549,-270.3896 3540.1038,-261.13 3530.3044,-265.1577 3534.9549,-270.3896\"/>\n</g>\n<!-- 228 -->\n<g id=\"node229\" class=\"node\">\n<title>228</title>\n<polygon fill=\"none\" stroke=\"#000000\" points=\"3514,-149.5 3415,-149.5 3415,-96.5 3514,-96.5 3514,-149.5\"/>\n<text text-anchor=\"middle\" x=\"3464.5\" y=\"-134.3\" font-family=\"Helvetica,sans-Serif\" font-size=\"14.00\" fill=\"#000000\">gini = 0.5</text>\n<text text-anchor=\"middle\" x=\"3464.5\" y=\"-119.3\" font-family=\"Helvetica,sans-Serif\" font-size=\"14.00\" fill=\"#000000\">samples = 2</text>\n<text text-anchor=\"middle\" x=\"3464.5\" y=\"-104.3\" font-family=\"Helvetica,sans-Serif\" font-size=\"14.00\" fill=\"#000000\">value = [1, 1]</text>\n</g>\n<!-- 227&#45;&gt;228 -->\n<g id=\"edge228\" class=\"edge\">\n<title>227&#45;&gt;228</title>\n<path fill=\"none\" stroke=\"#000000\" d=\"M3541.1721,-192.9465C3528.3737,-181.2707 3514.067,-168.219 3501.3099,-156.5809\"/>\n<polygon fill=\"#000000\" stroke=\"#000000\" points=\"3503.3409,-153.6961 3493.5943,-149.5422 3498.6231,-158.8675 3503.3409,-153.6961\"/>\n</g>\n<!-- 229 -->\n<g id=\"node230\" class=\"node\">\n<title>229</title>\n<polygon fill=\"none\" stroke=\"#000000\" points=\"3631,-157 3532,-157 3532,-89 3631,-89 3631,-157\"/>\n<text text-anchor=\"middle\" x=\"3581.5\" y=\"-141.8\" font-family=\"Helvetica,sans-Serif\" font-size=\"14.00\" fill=\"#000000\">X[1] &lt;= 18.5</text>\n<text text-anchor=\"middle\" x=\"3581.5\" y=\"-126.8\" font-family=\"Helvetica,sans-Serif\" font-size=\"14.00\" fill=\"#000000\">gini = 0.444</text>\n<text text-anchor=\"middle\" x=\"3581.5\" y=\"-111.8\" font-family=\"Helvetica,sans-Serif\" font-size=\"14.00\" fill=\"#000000\">samples = 3</text>\n<text text-anchor=\"middle\" x=\"3581.5\" y=\"-96.8\" font-family=\"Helvetica,sans-Serif\" font-size=\"14.00\" fill=\"#000000\">value = [1, 2]</text>\n</g>\n<!-- 227&#45;&gt;229 -->\n<g id=\"edge229\" class=\"edge\">\n<title>227&#45;&gt;229</title>\n<path fill=\"none\" stroke=\"#000000\" d=\"M3579.4823,-192.9465C3579.718,-184.776 3579.9731,-175.9318 3580.2201,-167.3697\"/>\n<polygon fill=\"#000000\" stroke=\"#000000\" points=\"3583.7256,-167.2268 3580.5155,-157.13 3576.7285,-167.0249 3583.7256,-167.2268\"/>\n</g>\n<!-- 230 -->\n<g id=\"node231\" class=\"node\">\n<title>230</title>\n<polygon fill=\"none\" stroke=\"#000000\" points=\"3573,-53 3474,-53 3474,0 3573,0 3573,-53\"/>\n<text text-anchor=\"middle\" x=\"3523.5\" y=\"-37.8\" font-family=\"Helvetica,sans-Serif\" font-size=\"14.00\" fill=\"#000000\">gini = 0.0</text>\n<text text-anchor=\"middle\" x=\"3523.5\" y=\"-22.8\" font-family=\"Helvetica,sans-Serif\" font-size=\"14.00\" fill=\"#000000\">samples = 1</text>\n<text text-anchor=\"middle\" x=\"3523.5\" y=\"-7.8\" font-family=\"Helvetica,sans-Serif\" font-size=\"14.00\" fill=\"#000000\">value = [0, 1]</text>\n</g>\n<!-- 229&#45;&gt;230 -->\n<g id=\"edge230\" class=\"edge\">\n<title>229&#45;&gt;230</title>\n<path fill=\"none\" stroke=\"#000000\" d=\"M3561.0514,-88.9777C3555.7678,-80.187 3550.0684,-70.7044 3544.7452,-61.8477\"/>\n<polygon fill=\"#000000\" stroke=\"#000000\" points=\"3547.7282,-60.0165 3539.5768,-53.2485 3541.7285,-63.6225 3547.7282,-60.0165\"/>\n</g>\n<!-- 231 -->\n<g id=\"node232\" class=\"node\">\n<title>231</title>\n<polygon fill=\"none\" stroke=\"#000000\" points=\"3690,-53 3591,-53 3591,0 3690,0 3690,-53\"/>\n<text text-anchor=\"middle\" x=\"3640.5\" y=\"-37.8\" font-family=\"Helvetica,sans-Serif\" font-size=\"14.00\" fill=\"#000000\">gini = 0.5</text>\n<text text-anchor=\"middle\" x=\"3640.5\" y=\"-22.8\" font-family=\"Helvetica,sans-Serif\" font-size=\"14.00\" fill=\"#000000\">samples = 2</text>\n<text text-anchor=\"middle\" x=\"3640.5\" y=\"-7.8\" font-family=\"Helvetica,sans-Serif\" font-size=\"14.00\" fill=\"#000000\">value = [1, 1]</text>\n</g>\n<!-- 229&#45;&gt;231 -->\n<g id=\"edge231\" class=\"edge\">\n<title>229&#45;&gt;231</title>\n<path fill=\"none\" stroke=\"#000000\" d=\"M3602.3012,-88.9777C3607.6758,-80.187 3613.4735,-70.7044 3618.8885,-61.8477\"/>\n<polygon fill=\"#000000\" stroke=\"#000000\" points=\"3621.9158,-63.6059 3624.146,-53.2485 3615.9436,-59.9545 3621.9158,-63.6059\"/>\n</g>\n<!-- 235 -->\n<g id=\"node236\" class=\"node\">\n<title>235</title>\n<polygon fill=\"none\" stroke=\"#000000\" points=\"3755,-573 3652,-573 3652,-505 3755,-505 3755,-573\"/>\n<text text-anchor=\"middle\" x=\"3703.5\" y=\"-557.8\" font-family=\"Helvetica,sans-Serif\" font-size=\"14.00\" fill=\"#000000\">X[4] &lt;= 7.133</text>\n<text text-anchor=\"middle\" x=\"3703.5\" y=\"-542.8\" font-family=\"Helvetica,sans-Serif\" font-size=\"14.00\" fill=\"#000000\">gini = 0.444</text>\n<text text-anchor=\"middle\" x=\"3703.5\" y=\"-527.8\" font-family=\"Helvetica,sans-Serif\" font-size=\"14.00\" fill=\"#000000\">samples = 3</text>\n<text text-anchor=\"middle\" x=\"3703.5\" y=\"-512.8\" font-family=\"Helvetica,sans-Serif\" font-size=\"14.00\" fill=\"#000000\">value = [2, 1]</text>\n</g>\n<!-- 234&#45;&gt;235 -->\n<g id=\"edge235\" class=\"edge\">\n<title>234&#45;&gt;235</title>\n<path fill=\"none\" stroke=\"#000000\" d=\"M3733.7653,-608.9465C3730.1135,-600.5067 3726.1506,-591.3479 3722.3324,-582.5239\"/>\n<polygon fill=\"#000000\" stroke=\"#000000\" points=\"3725.4512,-580.9178 3718.2678,-573.13 3719.0268,-583.6976 3725.4512,-580.9178\"/>\n</g>\n<!-- 238 -->\n<g id=\"node239\" class=\"node\">\n<title>238</title>\n<polygon fill=\"none\" stroke=\"#000000\" points=\"3880,-573 3773,-573 3773,-505 3880,-505 3880,-573\"/>\n<text text-anchor=\"middle\" x=\"3826.5\" y=\"-557.8\" font-family=\"Helvetica,sans-Serif\" font-size=\"14.00\" fill=\"#000000\">X[1] &lt;= 26.5</text>\n<text text-anchor=\"middle\" x=\"3826.5\" y=\"-542.8\" font-family=\"Helvetica,sans-Serif\" font-size=\"14.00\" fill=\"#000000\">gini = 0.115</text>\n<text text-anchor=\"middle\" x=\"3826.5\" y=\"-527.8\" font-family=\"Helvetica,sans-Serif\" font-size=\"14.00\" fill=\"#000000\">samples = 49</text>\n<text text-anchor=\"middle\" x=\"3826.5\" y=\"-512.8\" font-family=\"Helvetica,sans-Serif\" font-size=\"14.00\" fill=\"#000000\">value = [46, 3]</text>\n</g>\n<!-- 234&#45;&gt;238 -->\n<g id=\"edge238\" class=\"edge\">\n<title>234&#45;&gt;238</title>\n<path fill=\"none\" stroke=\"#000000\" d=\"M3774.0401,-608.9465C3780.6393,-600.1475 3787.8246,-590.5672 3794.7005,-581.3993\"/>\n<polygon fill=\"#000000\" stroke=\"#000000\" points=\"3797.7025,-583.23 3800.9025,-573.13 3792.1025,-579.03 3797.7025,-583.23\"/>\n</g>\n<!-- 236 -->\n<g id=\"node237\" class=\"node\">\n<title>236</title>\n<polygon fill=\"none\" stroke=\"#000000\" points=\"3637,-461.5 3538,-461.5 3538,-408.5 3637,-408.5 3637,-461.5\"/>\n<text text-anchor=\"middle\" x=\"3587.5\" y=\"-446.3\" font-family=\"Helvetica,sans-Serif\" font-size=\"14.00\" fill=\"#000000\">gini = 0.0</text>\n<text text-anchor=\"middle\" x=\"3587.5\" y=\"-431.3\" font-family=\"Helvetica,sans-Serif\" font-size=\"14.00\" fill=\"#000000\">samples = 2</text>\n<text text-anchor=\"middle\" x=\"3587.5\" y=\"-416.3\" font-family=\"Helvetica,sans-Serif\" font-size=\"14.00\" fill=\"#000000\">value = [2, 0]</text>\n</g>\n<!-- 235&#45;&gt;236 -->\n<g id=\"edge236\" class=\"edge\">\n<title>235&#45;&gt;236</title>\n<path fill=\"none\" stroke=\"#000000\" d=\"M3665.5173,-504.9465C3652.3714,-493.1606 3637.6618,-479.9726 3624.5887,-468.2519\"/>\n<polygon fill=\"#000000\" stroke=\"#000000\" points=\"3626.8869,-465.6116 3617.1047,-461.5422 3622.214,-470.8236 3626.8869,-465.6116\"/>\n</g>\n<!-- 237 -->\n<g id=\"node238\" class=\"node\">\n<title>237</title>\n<polygon fill=\"none\" stroke=\"#000000\" points=\"3754,-461.5 3655,-461.5 3655,-408.5 3754,-408.5 3754,-461.5\"/>\n<text text-anchor=\"middle\" x=\"3704.5\" y=\"-446.3\" font-family=\"Helvetica,sans-Serif\" font-size=\"14.00\" fill=\"#000000\">gini = 0.0</text>\n<text text-anchor=\"middle\" x=\"3704.5\" y=\"-431.3\" font-family=\"Helvetica,sans-Serif\" font-size=\"14.00\" fill=\"#000000\">samples = 1</text>\n<text text-anchor=\"middle\" x=\"3704.5\" y=\"-416.3\" font-family=\"Helvetica,sans-Serif\" font-size=\"14.00\" fill=\"#000000\">value = [0, 1]</text>\n</g>\n<!-- 235&#45;&gt;237 -->\n<g id=\"edge237\" class=\"edge\">\n<title>235&#45;&gt;237</title>\n<path fill=\"none\" stroke=\"#000000\" d=\"M3703.8274,-504.9465C3703.9302,-494.2621 3704.044,-482.4254 3704.1483,-471.5742\"/>\n<polygon fill=\"#000000\" stroke=\"#000000\" points=\"3707.6484,-471.5754 3704.2448,-461.5422 3700.6487,-471.508 3707.6484,-471.5754\"/>\n</g>\n<!-- 239 -->\n<g id=\"node240\" class=\"node\">\n<title>239</title>\n<polygon fill=\"none\" stroke=\"#000000\" points=\"3880,-469 3773,-469 3773,-401 3880,-401 3880,-469\"/>\n<text text-anchor=\"middle\" x=\"3826.5\" y=\"-453.8\" font-family=\"Helvetica,sans-Serif\" font-size=\"14.00\" fill=\"#000000\">X[1] &lt;= 21.5</text>\n<text text-anchor=\"middle\" x=\"3826.5\" y=\"-438.8\" font-family=\"Helvetica,sans-Serif\" font-size=\"14.00\" fill=\"#000000\">gini = 0.05</text>\n<text text-anchor=\"middle\" x=\"3826.5\" y=\"-423.8\" font-family=\"Helvetica,sans-Serif\" font-size=\"14.00\" fill=\"#000000\">samples = 39</text>\n<text text-anchor=\"middle\" x=\"3826.5\" y=\"-408.8\" font-family=\"Helvetica,sans-Serif\" font-size=\"14.00\" fill=\"#000000\">value = [38, 1]</text>\n</g>\n<!-- 238&#45;&gt;239 -->\n<g id=\"edge239\" class=\"edge\">\n<title>238&#45;&gt;239</title>\n<path fill=\"none\" stroke=\"#000000\" d=\"M3826.5,-504.9465C3826.5,-496.776 3826.5,-487.9318 3826.5,-479.3697\"/>\n<polygon fill=\"#000000\" stroke=\"#000000\" points=\"3830.0001,-479.13 3826.5,-469.13 3823.0001,-479.13 3830.0001,-479.13\"/>\n</g>\n<!-- 246 -->\n<g id=\"node247\" class=\"node\">\n<title>246</title>\n<polygon fill=\"none\" stroke=\"#000000\" points=\"4002.5,-469 3898.5,-469 3898.5,-401 4002.5,-401 4002.5,-469\"/>\n<text text-anchor=\"middle\" x=\"3950.5\" y=\"-453.8\" font-family=\"Helvetica,sans-Serif\" font-size=\"14.00\" fill=\"#000000\">X[1] &lt;= 27.5</text>\n<text text-anchor=\"middle\" x=\"3950.5\" y=\"-438.8\" font-family=\"Helvetica,sans-Serif\" font-size=\"14.00\" fill=\"#000000\">gini = 0.32</text>\n<text text-anchor=\"middle\" x=\"3950.5\" y=\"-423.8\" font-family=\"Helvetica,sans-Serif\" font-size=\"14.00\" fill=\"#000000\">samples = 10</text>\n<text text-anchor=\"middle\" x=\"3950.5\" y=\"-408.8\" font-family=\"Helvetica,sans-Serif\" font-size=\"14.00\" fill=\"#000000\">value = [8, 2]</text>\n</g>\n<!-- 238&#45;&gt;246 -->\n<g id=\"edge246\" class=\"edge\">\n<title>238&#45;&gt;246</title>\n<path fill=\"none\" stroke=\"#000000\" d=\"M3867.1022,-504.9465C3878.2356,-495.6088 3890.4183,-485.3911 3901.9489,-475.7203\"/>\n<polygon fill=\"#000000\" stroke=\"#000000\" points=\"3904.3938,-478.2378 3909.8065,-469.13 3899.8954,-472.8745 3904.3938,-478.2378\"/>\n</g>\n<!-- 240 -->\n<g id=\"node241\" class=\"node\">\n<title>240</title>\n<polygon fill=\"none\" stroke=\"#000000\" points=\"3756,-365 3649,-365 3649,-297 3756,-297 3756,-365\"/>\n<text text-anchor=\"middle\" x=\"3702.5\" y=\"-349.8\" font-family=\"Helvetica,sans-Serif\" font-size=\"14.00\" fill=\"#000000\">X[4] &lt;= 7.798</text>\n<text text-anchor=\"middle\" x=\"3702.5\" y=\"-334.8\" font-family=\"Helvetica,sans-Serif\" font-size=\"14.00\" fill=\"#000000\">gini = 0.165</text>\n<text text-anchor=\"middle\" x=\"3702.5\" y=\"-319.8\" font-family=\"Helvetica,sans-Serif\" font-size=\"14.00\" fill=\"#000000\">samples = 11</text>\n<text text-anchor=\"middle\" x=\"3702.5\" y=\"-304.8\" font-family=\"Helvetica,sans-Serif\" font-size=\"14.00\" fill=\"#000000\">value = [10, 1]</text>\n</g>\n<!-- 239&#45;&gt;240 -->\n<g id=\"edge240\" class=\"edge\">\n<title>239&#45;&gt;240</title>\n<path fill=\"none\" stroke=\"#000000\" d=\"M3785.8978,-400.9465C3774.7644,-391.6088 3762.5817,-381.3911 3751.0511,-371.7203\"/>\n<polygon fill=\"#000000\" stroke=\"#000000\" points=\"3753.1046,-368.8745 3743.1935,-365.13 3748.6062,-374.2378 3753.1046,-368.8745\"/>\n</g>\n<!-- 245 -->\n<g id=\"node246\" class=\"node\">\n<title>245</title>\n<polygon fill=\"none\" stroke=\"#000000\" points=\"3881,-357.5 3774,-357.5 3774,-304.5 3881,-304.5 3881,-357.5\"/>\n<text text-anchor=\"middle\" x=\"3827.5\" y=\"-342.3\" font-family=\"Helvetica,sans-Serif\" font-size=\"14.00\" fill=\"#000000\">gini = 0.0</text>\n<text text-anchor=\"middle\" x=\"3827.5\" y=\"-327.3\" font-family=\"Helvetica,sans-Serif\" font-size=\"14.00\" fill=\"#000000\">samples = 28</text>\n<text text-anchor=\"middle\" x=\"3827.5\" y=\"-312.3\" font-family=\"Helvetica,sans-Serif\" font-size=\"14.00\" fill=\"#000000\">value = [28, 0]</text>\n</g>\n<!-- 239&#45;&gt;245 -->\n<g id=\"edge245\" class=\"edge\">\n<title>239&#45;&gt;245</title>\n<path fill=\"none\" stroke=\"#000000\" d=\"M3826.8274,-400.9465C3826.9302,-390.2621 3827.044,-378.4254 3827.1483,-367.5742\"/>\n<polygon fill=\"#000000\" stroke=\"#000000\" points=\"3830.6484,-367.5754 3827.2448,-357.5422 3823.6487,-367.508 3830.6484,-367.5754\"/>\n</g>\n<!-- 241 -->\n<g id=\"node242\" class=\"node\">\n<title>241</title>\n<polygon fill=\"none\" stroke=\"#000000\" points=\"3753,-261 3650,-261 3650,-193 3753,-193 3753,-261\"/>\n<text text-anchor=\"middle\" x=\"3701.5\" y=\"-245.8\" font-family=\"Helvetica,sans-Serif\" font-size=\"14.00\" fill=\"#000000\">X[4] &lt;= 7.785</text>\n<text text-anchor=\"middle\" x=\"3701.5\" y=\"-230.8\" font-family=\"Helvetica,sans-Serif\" font-size=\"14.00\" fill=\"#000000\">gini = 0.375</text>\n<text text-anchor=\"middle\" x=\"3701.5\" y=\"-215.8\" font-family=\"Helvetica,sans-Serif\" font-size=\"14.00\" fill=\"#000000\">samples = 4</text>\n<text text-anchor=\"middle\" x=\"3701.5\" y=\"-200.8\" font-family=\"Helvetica,sans-Serif\" font-size=\"14.00\" fill=\"#000000\">value = [3, 1]</text>\n</g>\n<!-- 240&#45;&gt;241 -->\n<g id=\"edge241\" class=\"edge\">\n<title>240&#45;&gt;241</title>\n<path fill=\"none\" stroke=\"#000000\" d=\"M3702.1726,-296.9465C3702.094,-288.776 3702.009,-279.9318 3701.9266,-271.3697\"/>\n<polygon fill=\"#000000\" stroke=\"#000000\" points=\"3705.4243,-271.0958 3701.8282,-261.13 3698.4246,-271.1632 3705.4243,-271.0958\"/>\n</g>\n<!-- 244 -->\n<g id=\"node245\" class=\"node\">\n<title>244</title>\n<polygon fill=\"none\" stroke=\"#000000\" points=\"3870,-253.5 3771,-253.5 3771,-200.5 3870,-200.5 3870,-253.5\"/>\n<text text-anchor=\"middle\" x=\"3820.5\" y=\"-238.3\" font-family=\"Helvetica,sans-Serif\" font-size=\"14.00\" fill=\"#000000\">gini = 0.0</text>\n<text text-anchor=\"middle\" x=\"3820.5\" y=\"-223.3\" font-family=\"Helvetica,sans-Serif\" font-size=\"14.00\" fill=\"#000000\">samples = 7</text>\n<text text-anchor=\"middle\" x=\"3820.5\" y=\"-208.3\" font-family=\"Helvetica,sans-Serif\" font-size=\"14.00\" fill=\"#000000\">value = [7, 0]</text>\n</g>\n<!-- 240&#45;&gt;244 -->\n<g id=\"edge244\" class=\"edge\">\n<title>240&#45;&gt;244</title>\n<path fill=\"none\" stroke=\"#000000\" d=\"M3741.1376,-296.9465C3754.5101,-285.1606 3769.4734,-271.9726 3782.7719,-260.2519\"/>\n<polygon fill=\"#000000\" stroke=\"#000000\" points=\"3785.197,-262.7799 3790.3849,-253.5422 3780.5685,-257.5285 3785.197,-262.7799\"/>\n</g>\n<!-- 242 -->\n<g id=\"node243\" class=\"node\">\n<title>242</title>\n<polygon fill=\"none\" stroke=\"#000000\" points=\"3750,-149.5 3651,-149.5 3651,-96.5 3750,-96.5 3750,-149.5\"/>\n<text text-anchor=\"middle\" x=\"3700.5\" y=\"-134.3\" font-family=\"Helvetica,sans-Serif\" font-size=\"14.00\" fill=\"#000000\">gini = 0.0</text>\n<text text-anchor=\"middle\" x=\"3700.5\" y=\"-119.3\" font-family=\"Helvetica,sans-Serif\" font-size=\"14.00\" fill=\"#000000\">samples = 3</text>\n<text text-anchor=\"middle\" x=\"3700.5\" y=\"-104.3\" font-family=\"Helvetica,sans-Serif\" font-size=\"14.00\" fill=\"#000000\">value = [3, 0]</text>\n</g>\n<!-- 241&#45;&gt;242 -->\n<g id=\"edge242\" class=\"edge\">\n<title>241&#45;&gt;242</title>\n<path fill=\"none\" stroke=\"#000000\" d=\"M3701.1726,-192.9465C3701.0698,-182.2621 3700.956,-170.4254 3700.8517,-159.5742\"/>\n<polygon fill=\"#000000\" stroke=\"#000000\" points=\"3704.3513,-159.508 3700.7552,-149.5422 3697.3516,-159.5754 3704.3513,-159.508\"/>\n</g>\n<!-- 243 -->\n<g id=\"node244\" class=\"node\">\n<title>243</title>\n<polygon fill=\"none\" stroke=\"#000000\" points=\"3867,-149.5 3768,-149.5 3768,-96.5 3867,-96.5 3867,-149.5\"/>\n<text text-anchor=\"middle\" x=\"3817.5\" y=\"-134.3\" font-family=\"Helvetica,sans-Serif\" font-size=\"14.00\" fill=\"#000000\">gini = 0.0</text>\n<text text-anchor=\"middle\" x=\"3817.5\" y=\"-119.3\" font-family=\"Helvetica,sans-Serif\" font-size=\"14.00\" fill=\"#000000\">samples = 1</text>\n<text text-anchor=\"middle\" x=\"3817.5\" y=\"-104.3\" font-family=\"Helvetica,sans-Serif\" font-size=\"14.00\" fill=\"#000000\">value = [0, 1]</text>\n</g>\n<!-- 241&#45;&gt;243 -->\n<g id=\"edge243\" class=\"edge\">\n<title>241&#45;&gt;243</title>\n<path fill=\"none\" stroke=\"#000000\" d=\"M3739.4827,-192.9465C3752.6286,-181.1606 3767.3382,-167.9726 3780.4113,-156.2519\"/>\n<polygon fill=\"#000000\" stroke=\"#000000\" points=\"3782.786,-158.8236 3787.8953,-149.5422 3778.1131,-153.6116 3782.786,-158.8236\"/>\n</g>\n<!-- 247 -->\n<g id=\"node248\" class=\"node\">\n<title>247</title>\n<polygon fill=\"none\" stroke=\"#000000\" points=\"4002,-365 3899,-365 3899,-297 4002,-297 4002,-365\"/>\n<text text-anchor=\"middle\" x=\"3950.5\" y=\"-349.8\" font-family=\"Helvetica,sans-Serif\" font-size=\"14.00\" fill=\"#000000\">X[4] &lt;= 7.846</text>\n<text text-anchor=\"middle\" x=\"3950.5\" y=\"-334.8\" font-family=\"Helvetica,sans-Serif\" font-size=\"14.00\" fill=\"#000000\">gini = 0.5</text>\n<text text-anchor=\"middle\" x=\"3950.5\" y=\"-319.8\" font-family=\"Helvetica,sans-Serif\" font-size=\"14.00\" fill=\"#000000\">samples = 4</text>\n<text text-anchor=\"middle\" x=\"3950.5\" y=\"-304.8\" font-family=\"Helvetica,sans-Serif\" font-size=\"14.00\" fill=\"#000000\">value = [2, 2]</text>\n</g>\n<!-- 246&#45;&gt;247 -->\n<g id=\"edge247\" class=\"edge\">\n<title>246&#45;&gt;247</title>\n<path fill=\"none\" stroke=\"#000000\" d=\"M3950.5,-400.9465C3950.5,-392.776 3950.5,-383.9318 3950.5,-375.3697\"/>\n<polygon fill=\"#000000\" stroke=\"#000000\" points=\"3954.0001,-375.13 3950.5,-365.13 3947.0001,-375.13 3954.0001,-375.13\"/>\n</g>\n<!-- 254 -->\n<g id=\"node255\" class=\"node\">\n<title>254</title>\n<polygon fill=\"none\" stroke=\"#000000\" points=\"4119,-357.5 4020,-357.5 4020,-304.5 4119,-304.5 4119,-357.5\"/>\n<text text-anchor=\"middle\" x=\"4069.5\" y=\"-342.3\" font-family=\"Helvetica,sans-Serif\" font-size=\"14.00\" fill=\"#000000\">gini = 0.0</text>\n<text text-anchor=\"middle\" x=\"4069.5\" y=\"-327.3\" font-family=\"Helvetica,sans-Serif\" font-size=\"14.00\" fill=\"#000000\">samples = 6</text>\n<text text-anchor=\"middle\" x=\"4069.5\" y=\"-312.3\" font-family=\"Helvetica,sans-Serif\" font-size=\"14.00\" fill=\"#000000\">value = [6, 0]</text>\n</g>\n<!-- 246&#45;&gt;254 -->\n<g id=\"edge254\" class=\"edge\">\n<title>246&#45;&gt;254</title>\n<path fill=\"none\" stroke=\"#000000\" d=\"M3989.4651,-400.9465C4002.9509,-389.1606 4018.0409,-375.9726 4031.4521,-364.2519\"/>\n<polygon fill=\"#000000\" stroke=\"#000000\" points=\"4033.9031,-366.7582 4039.1296,-357.5422 4029.2967,-361.4874 4033.9031,-366.7582\"/>\n</g>\n<!-- 248 -->\n<g id=\"node249\" class=\"node\">\n<title>248</title>\n<polygon fill=\"none\" stroke=\"#000000\" points=\"3990,-253.5 3891,-253.5 3891,-200.5 3990,-200.5 3990,-253.5\"/>\n<text text-anchor=\"middle\" x=\"3940.5\" y=\"-238.3\" font-family=\"Helvetica,sans-Serif\" font-size=\"14.00\" fill=\"#000000\">gini = 0.0</text>\n<text text-anchor=\"middle\" x=\"3940.5\" y=\"-223.3\" font-family=\"Helvetica,sans-Serif\" font-size=\"14.00\" fill=\"#000000\">samples = 1</text>\n<text text-anchor=\"middle\" x=\"3940.5\" y=\"-208.3\" font-family=\"Helvetica,sans-Serif\" font-size=\"14.00\" fill=\"#000000\">value = [0, 1]</text>\n</g>\n<!-- 247&#45;&gt;248 -->\n<g id=\"edge248\" class=\"edge\">\n<title>247&#45;&gt;248</title>\n<path fill=\"none\" stroke=\"#000000\" d=\"M3947.2256,-296.9465C3946.1983,-286.2621 3945.0601,-274.4254 3944.0168,-263.5742\"/>\n<polygon fill=\"#000000\" stroke=\"#000000\" points=\"3947.4933,-263.1612 3943.0521,-253.5422 3940.5254,-263.8313 3947.4933,-263.1612\"/>\n</g>\n<!-- 249 -->\n<g id=\"node250\" class=\"node\">\n<title>249</title>\n<polygon fill=\"none\" stroke=\"#000000\" points=\"4107,-261 4008,-261 4008,-193 4107,-193 4107,-261\"/>\n<text text-anchor=\"middle\" x=\"4057.5\" y=\"-245.8\" font-family=\"Helvetica,sans-Serif\" font-size=\"14.00\" fill=\"#000000\">X[3] &lt;= 0.5</text>\n<text text-anchor=\"middle\" x=\"4057.5\" y=\"-230.8\" font-family=\"Helvetica,sans-Serif\" font-size=\"14.00\" fill=\"#000000\">gini = 0.444</text>\n<text text-anchor=\"middle\" x=\"4057.5\" y=\"-215.8\" font-family=\"Helvetica,sans-Serif\" font-size=\"14.00\" fill=\"#000000\">samples = 3</text>\n<text text-anchor=\"middle\" x=\"4057.5\" y=\"-200.8\" font-family=\"Helvetica,sans-Serif\" font-size=\"14.00\" fill=\"#000000\">value = [2, 1]</text>\n</g>\n<!-- 247&#45;&gt;249 -->\n<g id=\"edge249\" class=\"edge\">\n<title>247&#45;&gt;249</title>\n<path fill=\"none\" stroke=\"#000000\" d=\"M3985.5358,-296.9465C3994.9581,-287.7884 4005.2513,-277.7838 4015.0304,-268.2788\"/>\n<polygon fill=\"#000000\" stroke=\"#000000\" points=\"4017.654,-270.6097 4022.3855,-261.13 4012.7751,-265.59 4017.654,-270.6097\"/>\n</g>\n<!-- 250 -->\n<g id=\"node251\" class=\"node\">\n<title>250</title>\n<polygon fill=\"none\" stroke=\"#000000\" points=\"3993,-157 3890,-157 3890,-89 3993,-89 3993,-157\"/>\n<text text-anchor=\"middle\" x=\"3941.5\" y=\"-141.8\" font-family=\"Helvetica,sans-Serif\" font-size=\"14.00\" fill=\"#000000\">X[4] &lt;= 8.279</text>\n<text text-anchor=\"middle\" x=\"3941.5\" y=\"-126.8\" font-family=\"Helvetica,sans-Serif\" font-size=\"14.00\" fill=\"#000000\">gini = 0.5</text>\n<text text-anchor=\"middle\" x=\"3941.5\" y=\"-111.8\" font-family=\"Helvetica,sans-Serif\" font-size=\"14.00\" fill=\"#000000\">samples = 2</text>\n<text text-anchor=\"middle\" x=\"3941.5\" y=\"-96.8\" font-family=\"Helvetica,sans-Serif\" font-size=\"14.00\" fill=\"#000000\">value = [1, 1]</text>\n</g>\n<!-- 249&#45;&gt;250 -->\n<g id=\"edge250\" class=\"edge\">\n<title>249&#45;&gt;250</title>\n<path fill=\"none\" stroke=\"#000000\" d=\"M4019.5173,-192.9465C4009.2023,-183.6986 3997.9246,-173.5876 3987.2301,-163.9994\"/>\n<polygon fill=\"#000000\" stroke=\"#000000\" points=\"3989.3502,-161.1995 3979.5681,-157.13 3984.6774,-166.4115 3989.3502,-161.1995\"/>\n</g>\n<!-- 253 -->\n<g id=\"node254\" class=\"node\">\n<title>253</title>\n<polygon fill=\"none\" stroke=\"#000000\" points=\"4110,-149.5 4011,-149.5 4011,-96.5 4110,-96.5 4110,-149.5\"/>\n<text text-anchor=\"middle\" x=\"4060.5\" y=\"-134.3\" font-family=\"Helvetica,sans-Serif\" font-size=\"14.00\" fill=\"#000000\">gini = 0.0</text>\n<text text-anchor=\"middle\" x=\"4060.5\" y=\"-119.3\" font-family=\"Helvetica,sans-Serif\" font-size=\"14.00\" fill=\"#000000\">samples = 1</text>\n<text text-anchor=\"middle\" x=\"4060.5\" y=\"-104.3\" font-family=\"Helvetica,sans-Serif\" font-size=\"14.00\" fill=\"#000000\">value = [1, 0]</text>\n</g>\n<!-- 249&#45;&gt;253 -->\n<g id=\"edge253\" class=\"edge\">\n<title>249&#45;&gt;253</title>\n<path fill=\"none\" stroke=\"#000000\" d=\"M4058.4823,-192.9465C4058.7905,-182.2621 4059.132,-170.4254 4059.445,-159.5742\"/>\n<polygon fill=\"#000000\" stroke=\"#000000\" points=\"4062.9445,-159.639 4059.7344,-149.5422 4055.9474,-159.4371 4062.9445,-159.639\"/>\n</g>\n<!-- 251 -->\n<g id=\"node252\" class=\"node\">\n<title>251</title>\n<polygon fill=\"none\" stroke=\"#000000\" points=\"3932,-53 3833,-53 3833,0 3932,0 3932,-53\"/>\n<text text-anchor=\"middle\" x=\"3882.5\" y=\"-37.8\" font-family=\"Helvetica,sans-Serif\" font-size=\"14.00\" fill=\"#000000\">gini = 0.0</text>\n<text text-anchor=\"middle\" x=\"3882.5\" y=\"-22.8\" font-family=\"Helvetica,sans-Serif\" font-size=\"14.00\" fill=\"#000000\">samples = 1</text>\n<text text-anchor=\"middle\" x=\"3882.5\" y=\"-7.8\" font-family=\"Helvetica,sans-Serif\" font-size=\"14.00\" fill=\"#000000\">value = [1, 0]</text>\n</g>\n<!-- 250&#45;&gt;251 -->\n<g id=\"edge251\" class=\"edge\">\n<title>250&#45;&gt;251</title>\n<path fill=\"none\" stroke=\"#000000\" d=\"M3920.6988,-88.9777C3915.3242,-80.187 3909.5265,-70.7044 3904.1115,-61.8477\"/>\n<polygon fill=\"#000000\" stroke=\"#000000\" points=\"3907.0564,-59.9545 3898.854,-53.2485 3901.0842,-63.6059 3907.0564,-59.9545\"/>\n</g>\n<!-- 252 -->\n<g id=\"node253\" class=\"node\">\n<title>252</title>\n<polygon fill=\"none\" stroke=\"#000000\" points=\"4049,-53 3950,-53 3950,0 4049,0 4049,-53\"/>\n<text text-anchor=\"middle\" x=\"3999.5\" y=\"-37.8\" font-family=\"Helvetica,sans-Serif\" font-size=\"14.00\" fill=\"#000000\">gini = 0.0</text>\n<text text-anchor=\"middle\" x=\"3999.5\" y=\"-22.8\" font-family=\"Helvetica,sans-Serif\" font-size=\"14.00\" fill=\"#000000\">samples = 1</text>\n<text text-anchor=\"middle\" x=\"3999.5\" y=\"-7.8\" font-family=\"Helvetica,sans-Serif\" font-size=\"14.00\" fill=\"#000000\">value = [0, 1]</text>\n</g>\n<!-- 250&#45;&gt;252 -->\n<g id=\"edge252\" class=\"edge\">\n<title>250&#45;&gt;252</title>\n<path fill=\"none\" stroke=\"#000000\" d=\"M3961.9486,-88.9777C3967.2322,-80.187 3972.9316,-70.7044 3978.2548,-61.8477\"/>\n<polygon fill=\"#000000\" stroke=\"#000000\" points=\"3981.2715,-63.6225 3983.4232,-53.2485 3975.2718,-60.0165 3981.2715,-63.6225\"/>\n</g>\n<!-- 256 -->\n<g id=\"node257\" class=\"node\">\n<title>256</title>\n<polygon fill=\"none\" stroke=\"#000000\" points=\"3919,-781 3820,-781 3820,-713 3919,-713 3919,-781\"/>\n<text text-anchor=\"middle\" x=\"3869.5\" y=\"-765.8\" font-family=\"Helvetica,sans-Serif\" font-size=\"14.00\" fill=\"#000000\">X[3] &lt;= 0.5</text>\n<text text-anchor=\"middle\" x=\"3869.5\" y=\"-750.8\" font-family=\"Helvetica,sans-Serif\" font-size=\"14.00\" fill=\"#000000\">gini = 0.444</text>\n<text text-anchor=\"middle\" x=\"3869.5\" y=\"-735.8\" font-family=\"Helvetica,sans-Serif\" font-size=\"14.00\" fill=\"#000000\">samples = 3</text>\n<text text-anchor=\"middle\" x=\"3869.5\" y=\"-720.8\" font-family=\"Helvetica,sans-Serif\" font-size=\"14.00\" fill=\"#000000\">value = [2, 1]</text>\n</g>\n<!-- 255&#45;&gt;256 -->\n<g id=\"edge256\" class=\"edge\">\n<title>255&#45;&gt;256</title>\n<path fill=\"none\" stroke=\"#000000\" d=\"M3909.8538,-816.9465C3904.881,-808.3271 3899.4757,-798.9579 3894.2852,-789.9611\"/>\n<polygon fill=\"#000000\" stroke=\"#000000\" points=\"3897.2193,-788.0428 3889.1904,-781.13 3891.156,-791.5409 3897.2193,-788.0428\"/>\n</g>\n<!-- 261 -->\n<g id=\"node262\" class=\"node\">\n<title>261</title>\n<polygon fill=\"none\" stroke=\"#000000\" points=\"4036,-773.5 3937,-773.5 3937,-720.5 4036,-720.5 4036,-773.5\"/>\n<text text-anchor=\"middle\" x=\"3986.5\" y=\"-758.3\" font-family=\"Helvetica,sans-Serif\" font-size=\"14.00\" fill=\"#000000\">gini = 0.0</text>\n<text text-anchor=\"middle\" x=\"3986.5\" y=\"-743.3\" font-family=\"Helvetica,sans-Serif\" font-size=\"14.00\" fill=\"#000000\">samples = 2</text>\n<text text-anchor=\"middle\" x=\"3986.5\" y=\"-728.3\" font-family=\"Helvetica,sans-Serif\" font-size=\"14.00\" fill=\"#000000\">value = [0, 2]</text>\n</g>\n<!-- 255&#45;&gt;261 -->\n<g id=\"edge261\" class=\"edge\">\n<title>255&#45;&gt;261</title>\n<path fill=\"none\" stroke=\"#000000\" d=\"M3948.1639,-816.9465C3954.2009,-805.9316 3960.9091,-793.6922 3967.0047,-782.5703\"/>\n<polygon fill=\"#000000\" stroke=\"#000000\" points=\"3970.2158,-783.9936 3971.9529,-773.5422 3964.0773,-780.6292 3970.2158,-783.9936\"/>\n</g>\n<!-- 257 -->\n<g id=\"node258\" class=\"node\">\n<title>257</title>\n<polygon fill=\"none\" stroke=\"#000000\" points=\"3923,-677 3820,-677 3820,-609 3923,-609 3923,-677\"/>\n<text text-anchor=\"middle\" x=\"3871.5\" y=\"-661.8\" font-family=\"Helvetica,sans-Serif\" font-size=\"14.00\" fill=\"#000000\">X[4] &lt;= 7.763</text>\n<text text-anchor=\"middle\" x=\"3871.5\" y=\"-646.8\" font-family=\"Helvetica,sans-Serif\" font-size=\"14.00\" fill=\"#000000\">gini = 0.5</text>\n<text text-anchor=\"middle\" x=\"3871.5\" y=\"-631.8\" font-family=\"Helvetica,sans-Serif\" font-size=\"14.00\" fill=\"#000000\">samples = 2</text>\n<text text-anchor=\"middle\" x=\"3871.5\" y=\"-616.8\" font-family=\"Helvetica,sans-Serif\" font-size=\"14.00\" fill=\"#000000\">value = [1, 1]</text>\n</g>\n<!-- 256&#45;&gt;257 -->\n<g id=\"edge257\" class=\"edge\">\n<title>256&#45;&gt;257</title>\n<path fill=\"none\" stroke=\"#000000\" d=\"M3870.1549,-712.9465C3870.312,-704.776 3870.4821,-695.9318 3870.6467,-687.3697\"/>\n<polygon fill=\"#000000\" stroke=\"#000000\" points=\"3874.1506,-687.1955 3870.8437,-677.13 3867.1519,-687.0608 3874.1506,-687.1955\"/>\n</g>\n<!-- 260 -->\n<g id=\"node261\" class=\"node\">\n<title>260</title>\n<polygon fill=\"none\" stroke=\"#000000\" points=\"4040,-669.5 3941,-669.5 3941,-616.5 4040,-616.5 4040,-669.5\"/>\n<text text-anchor=\"middle\" x=\"3990.5\" y=\"-654.3\" font-family=\"Helvetica,sans-Serif\" font-size=\"14.00\" fill=\"#000000\">gini = 0.0</text>\n<text text-anchor=\"middle\" x=\"3990.5\" y=\"-639.3\" font-family=\"Helvetica,sans-Serif\" font-size=\"14.00\" fill=\"#000000\">samples = 1</text>\n<text text-anchor=\"middle\" x=\"3990.5\" y=\"-624.3\" font-family=\"Helvetica,sans-Serif\" font-size=\"14.00\" fill=\"#000000\">value = [1, 0]</text>\n</g>\n<!-- 256&#45;&gt;260 -->\n<g id=\"edge260\" class=\"edge\">\n<title>256&#45;&gt;260</title>\n<path fill=\"none\" stroke=\"#000000\" d=\"M3909.1199,-712.9465C3922.8324,-701.1606 3938.1761,-687.9726 3951.8127,-676.2519\"/>\n<polygon fill=\"#000000\" stroke=\"#000000\" points=\"3954.3169,-678.7147 3959.6192,-669.5422 3949.7541,-673.4061 3954.3169,-678.7147\"/>\n</g>\n<!-- 258 -->\n<g id=\"node259\" class=\"node\">\n<title>258</title>\n<polygon fill=\"none\" stroke=\"#000000\" points=\"3997,-565.5 3898,-565.5 3898,-512.5 3997,-512.5 3997,-565.5\"/>\n<text text-anchor=\"middle\" x=\"3947.5\" y=\"-550.3\" font-family=\"Helvetica,sans-Serif\" font-size=\"14.00\" fill=\"#000000\">gini = 0.0</text>\n<text text-anchor=\"middle\" x=\"3947.5\" y=\"-535.3\" font-family=\"Helvetica,sans-Serif\" font-size=\"14.00\" fill=\"#000000\">samples = 1</text>\n<text text-anchor=\"middle\" x=\"3947.5\" y=\"-520.3\" font-family=\"Helvetica,sans-Serif\" font-size=\"14.00\" fill=\"#000000\">value = [0, 1]</text>\n</g>\n<!-- 257&#45;&gt;258 -->\n<g id=\"edge258\" class=\"edge\">\n<title>257&#45;&gt;258</title>\n<path fill=\"none\" stroke=\"#000000\" d=\"M3896.3852,-608.9465C3904.5956,-597.7113 3913.7369,-585.2021 3921.993,-573.9043\"/>\n<polygon fill=\"#000000\" stroke=\"#000000\" points=\"3925.0295,-575.6812 3928.1038,-565.5422 3919.3777,-571.551 3925.0295,-575.6812\"/>\n</g>\n<!-- 259 -->\n<g id=\"node260\" class=\"node\">\n<title>259</title>\n<polygon fill=\"none\" stroke=\"#000000\" points=\"4114,-565.5 4015,-565.5 4015,-512.5 4114,-512.5 4114,-565.5\"/>\n<text text-anchor=\"middle\" x=\"4064.5\" y=\"-550.3\" font-family=\"Helvetica,sans-Serif\" font-size=\"14.00\" fill=\"#000000\">gini = 0.0</text>\n<text text-anchor=\"middle\" x=\"4064.5\" y=\"-535.3\" font-family=\"Helvetica,sans-Serif\" font-size=\"14.00\" fill=\"#000000\">samples = 1</text>\n<text text-anchor=\"middle\" x=\"4064.5\" y=\"-520.3\" font-family=\"Helvetica,sans-Serif\" font-size=\"14.00\" fill=\"#000000\">value = [1, 0]</text>\n</g>\n<!-- 257&#45;&gt;259 -->\n<g id=\"edge259\" class=\"edge\">\n<title>257&#45;&gt;259</title>\n<path fill=\"none\" stroke=\"#000000\" d=\"M3923.0972,-613.4897C3925.9304,-611.9543 3928.7448,-610.449 3931.5,-609 3963.8706,-591.9758 3973.1912,-590.1412 4005.5,-573 4007.0078,-572.2001 4008.5331,-571.3822 4010.0693,-570.551\"/>\n<polygon fill=\"#000000\" stroke=\"#000000\" points=\"4011.8606,-573.5603 4018.9383,-565.6764 4008.4889,-567.4259 4011.8606,-573.5603\"/>\n</g>\n<!-- 263 -->\n<g id=\"node264\" class=\"node\">\n<title>263</title>\n<polygon fill=\"none\" stroke=\"#000000\" points=\"4278,-885 4171,-885 4171,-817 4278,-817 4278,-885\"/>\n<text text-anchor=\"middle\" x=\"4224.5\" y=\"-869.8\" font-family=\"Helvetica,sans-Serif\" font-size=\"14.00\" fill=\"#000000\">X[4] &lt;= 7.763</text>\n<text text-anchor=\"middle\" x=\"4224.5\" y=\"-854.8\" font-family=\"Helvetica,sans-Serif\" font-size=\"14.00\" fill=\"#000000\">gini = 0.17</text>\n<text text-anchor=\"middle\" x=\"4224.5\" y=\"-839.8\" font-family=\"Helvetica,sans-Serif\" font-size=\"14.00\" fill=\"#000000\">samples = 32</text>\n<text text-anchor=\"middle\" x=\"4224.5\" y=\"-824.8\" font-family=\"Helvetica,sans-Serif\" font-size=\"14.00\" fill=\"#000000\">value = [29, 3]</text>\n</g>\n<!-- 262&#45;&gt;263 -->\n<g id=\"edge263\" class=\"edge\">\n<title>262&#45;&gt;263</title>\n<path fill=\"none\" stroke=\"#000000\" d=\"M4265.5263,-920.9465C4260.4707,-912.3271 4254.9753,-902.9579 4249.6983,-893.9611\"/>\n<polygon fill=\"#000000\" stroke=\"#000000\" points=\"4252.5969,-891.985 4244.5186,-885.13 4246.5589,-895.5265 4252.5969,-891.985\"/>\n</g>\n<!-- 278 -->\n<g id=\"node279\" class=\"node\">\n<title>278</title>\n<polygon fill=\"none\" stroke=\"#000000\" points=\"4403,-885 4296,-885 4296,-817 4403,-817 4403,-885\"/>\n<text text-anchor=\"middle\" x=\"4349.5\" y=\"-869.8\" font-family=\"Helvetica,sans-Serif\" font-size=\"14.00\" fill=\"#000000\">X[1] &lt;= 29.85</text>\n<text text-anchor=\"middle\" x=\"4349.5\" y=\"-854.8\" font-family=\"Helvetica,sans-Serif\" font-size=\"14.00\" fill=\"#000000\">gini = 0.051</text>\n<text text-anchor=\"middle\" x=\"4349.5\" y=\"-839.8\" font-family=\"Helvetica,sans-Serif\" font-size=\"14.00\" fill=\"#000000\">samples = 38</text>\n<text text-anchor=\"middle\" x=\"4349.5\" y=\"-824.8\" font-family=\"Helvetica,sans-Serif\" font-size=\"14.00\" fill=\"#000000\">value = [37, 1]</text>\n</g>\n<!-- 262&#45;&gt;278 -->\n<g id=\"edge278\" class=\"edge\">\n<title>262&#45;&gt;278</title>\n<path fill=\"none\" stroke=\"#000000\" d=\"M4306.456,-920.9465C4311.8155,-912.2373 4317.6461,-902.7626 4323.2353,-893.6801\"/>\n<polygon fill=\"#000000\" stroke=\"#000000\" points=\"4326.2367,-895.481 4328.4969,-885.13 4320.2751,-891.8122 4326.2367,-895.481\"/>\n</g>\n<!-- 264 -->\n<g id=\"node265\" class=\"node\">\n<title>264</title>\n<polygon fill=\"none\" stroke=\"#000000\" points=\"4161,-781 4054,-781 4054,-713 4161,-713 4161,-781\"/>\n<text text-anchor=\"middle\" x=\"4107.5\" y=\"-765.8\" font-family=\"Helvetica,sans-Serif\" font-size=\"14.00\" fill=\"#000000\">X[4] &lt;= 7.227</text>\n<text text-anchor=\"middle\" x=\"4107.5\" y=\"-750.8\" font-family=\"Helvetica,sans-Serif\" font-size=\"14.00\" fill=\"#000000\">gini = 0.121</text>\n<text text-anchor=\"middle\" x=\"4107.5\" y=\"-735.8\" font-family=\"Helvetica,sans-Serif\" font-size=\"14.00\" fill=\"#000000\">samples = 31</text>\n<text text-anchor=\"middle\" x=\"4107.5\" y=\"-720.8\" font-family=\"Helvetica,sans-Serif\" font-size=\"14.00\" fill=\"#000000\">value = [29, 2]</text>\n</g>\n<!-- 263&#45;&gt;264 -->\n<g id=\"edge264\" class=\"edge\">\n<title>263&#45;&gt;264</title>\n<path fill=\"none\" stroke=\"#000000\" d=\"M4186.1898,-816.9465C4175.7859,-807.6986 4164.411,-797.5876 4153.6243,-787.9994\"/>\n<polygon fill=\"#000000\" stroke=\"#000000\" points=\"4155.6956,-785.1577 4145.8962,-781.13 4151.0451,-790.3896 4155.6956,-785.1577\"/>\n</g>\n<!-- 277 -->\n<g id=\"node278\" class=\"node\">\n<title>277</title>\n<polygon fill=\"none\" stroke=\"#000000\" points=\"4278,-773.5 4179,-773.5 4179,-720.5 4278,-720.5 4278,-773.5\"/>\n<text text-anchor=\"middle\" x=\"4228.5\" y=\"-758.3\" font-family=\"Helvetica,sans-Serif\" font-size=\"14.00\" fill=\"#000000\">gini = 0.0</text>\n<text text-anchor=\"middle\" x=\"4228.5\" y=\"-743.3\" font-family=\"Helvetica,sans-Serif\" font-size=\"14.00\" fill=\"#000000\">samples = 1</text>\n<text text-anchor=\"middle\" x=\"4228.5\" y=\"-728.3\" font-family=\"Helvetica,sans-Serif\" font-size=\"14.00\" fill=\"#000000\">value = [0, 1]</text>\n</g>\n<!-- 263&#45;&gt;277 -->\n<g id=\"edge277\" class=\"edge\">\n<title>263&#45;&gt;277</title>\n<path fill=\"none\" stroke=\"#000000\" d=\"M4225.8097,-816.9465C4226.2207,-806.2621 4226.6759,-794.4254 4227.0933,-783.5742\"/>\n<polygon fill=\"#000000\" stroke=\"#000000\" points=\"4230.5921,-783.6693 4227.4791,-773.5422 4223.5973,-783.4002 4230.5921,-783.6693\"/>\n</g>\n<!-- 265 -->\n<g id=\"node266\" class=\"node\">\n<title>265</title>\n<polygon fill=\"none\" stroke=\"#000000\" points=\"4157,-669.5 4058,-669.5 4058,-616.5 4157,-616.5 4157,-669.5\"/>\n<text text-anchor=\"middle\" x=\"4107.5\" y=\"-654.3\" font-family=\"Helvetica,sans-Serif\" font-size=\"14.00\" fill=\"#000000\">gini = 0.0</text>\n<text text-anchor=\"middle\" x=\"4107.5\" y=\"-639.3\" font-family=\"Helvetica,sans-Serif\" font-size=\"14.00\" fill=\"#000000\">samples = 5</text>\n<text text-anchor=\"middle\" x=\"4107.5\" y=\"-624.3\" font-family=\"Helvetica,sans-Serif\" font-size=\"14.00\" fill=\"#000000\">value = [5, 0]</text>\n</g>\n<!-- 264&#45;&gt;265 -->\n<g id=\"edge265\" class=\"edge\">\n<title>264&#45;&gt;265</title>\n<path fill=\"none\" stroke=\"#000000\" d=\"M4107.5,-712.9465C4107.5,-702.2621 4107.5,-690.4254 4107.5,-679.5742\"/>\n<polygon fill=\"#000000\" stroke=\"#000000\" points=\"4111.0001,-679.5421 4107.5,-669.5422 4104.0001,-679.5422 4111.0001,-679.5421\"/>\n</g>\n<!-- 266 -->\n<g id=\"node267\" class=\"node\">\n<title>266</title>\n<polygon fill=\"none\" stroke=\"#000000\" points=\"4282,-677 4175,-677 4175,-609 4282,-609 4282,-677\"/>\n<text text-anchor=\"middle\" x=\"4228.5\" y=\"-661.8\" font-family=\"Helvetica,sans-Serif\" font-size=\"14.00\" fill=\"#000000\">X[4] &lt;= 7.24</text>\n<text text-anchor=\"middle\" x=\"4228.5\" y=\"-646.8\" font-family=\"Helvetica,sans-Serif\" font-size=\"14.00\" fill=\"#000000\">gini = 0.142</text>\n<text text-anchor=\"middle\" x=\"4228.5\" y=\"-631.8\" font-family=\"Helvetica,sans-Serif\" font-size=\"14.00\" fill=\"#000000\">samples = 26</text>\n<text text-anchor=\"middle\" x=\"4228.5\" y=\"-616.8\" font-family=\"Helvetica,sans-Serif\" font-size=\"14.00\" fill=\"#000000\">value = [24, 2]</text>\n</g>\n<!-- 264&#45;&gt;266 -->\n<g id=\"edge266\" class=\"edge\">\n<title>264&#45;&gt;266</title>\n<path fill=\"none\" stroke=\"#000000\" d=\"M4147.1199,-712.9465C4157.984,-703.6088 4169.8718,-693.3911 4181.1235,-683.7203\"/>\n<polygon fill=\"#000000\" stroke=\"#000000\" points=\"4183.4887,-686.3026 4188.7911,-677.13 4178.9259,-680.994 4183.4887,-686.3026\"/>\n</g>\n<!-- 267 -->\n<g id=\"node268\" class=\"node\">\n<title>267</title>\n<polygon fill=\"none\" stroke=\"#000000\" points=\"4277,-573 4174,-573 4174,-505 4277,-505 4277,-573\"/>\n<text text-anchor=\"middle\" x=\"4225.5\" y=\"-557.8\" font-family=\"Helvetica,sans-Serif\" font-size=\"14.00\" fill=\"#000000\">X[1] &lt;= 29.85</text>\n<text text-anchor=\"middle\" x=\"4225.5\" y=\"-542.8\" font-family=\"Helvetica,sans-Serif\" font-size=\"14.00\" fill=\"#000000\">gini = 0.278</text>\n<text text-anchor=\"middle\" x=\"4225.5\" y=\"-527.8\" font-family=\"Helvetica,sans-Serif\" font-size=\"14.00\" fill=\"#000000\">samples = 6</text>\n<text text-anchor=\"middle\" x=\"4225.5\" y=\"-512.8\" font-family=\"Helvetica,sans-Serif\" font-size=\"14.00\" fill=\"#000000\">value = [5, 1]</text>\n</g>\n<!-- 266&#45;&gt;267 -->\n<g id=\"edge267\" class=\"edge\">\n<title>266&#45;&gt;267</title>\n<path fill=\"none\" stroke=\"#000000\" d=\"M4227.5177,-608.9465C4227.282,-600.776 4227.0269,-591.9318 4226.7799,-583.3697\"/>\n<polygon fill=\"#000000\" stroke=\"#000000\" points=\"4230.2715,-583.0249 4226.4845,-573.13 4223.2744,-583.2268 4230.2715,-583.0249\"/>\n</g>\n<!-- 270 -->\n<g id=\"node271\" class=\"node\">\n<title>270</title>\n<polygon fill=\"none\" stroke=\"#000000\" points=\"4402,-573 4295,-573 4295,-505 4402,-505 4402,-573\"/>\n<text text-anchor=\"middle\" x=\"4348.5\" y=\"-557.8\" font-family=\"Helvetica,sans-Serif\" font-size=\"14.00\" fill=\"#000000\">X[4] &lt;= 7.744</text>\n<text text-anchor=\"middle\" x=\"4348.5\" y=\"-542.8\" font-family=\"Helvetica,sans-Serif\" font-size=\"14.00\" fill=\"#000000\">gini = 0.095</text>\n<text text-anchor=\"middle\" x=\"4348.5\" y=\"-527.8\" font-family=\"Helvetica,sans-Serif\" font-size=\"14.00\" fill=\"#000000\">samples = 20</text>\n<text text-anchor=\"middle\" x=\"4348.5\" y=\"-512.8\" font-family=\"Helvetica,sans-Serif\" font-size=\"14.00\" fill=\"#000000\">value = [19, 1]</text>\n</g>\n<!-- 266&#45;&gt;270 -->\n<g id=\"edge270\" class=\"edge\">\n<title>266&#45;&gt;270</title>\n<path fill=\"none\" stroke=\"#000000\" d=\"M4267.7925,-608.9465C4278.5667,-599.6088 4290.3564,-589.3911 4301.515,-579.7203\"/>\n<polygon fill=\"#000000\" stroke=\"#000000\" points=\"4303.8546,-582.3243 4309.1192,-573.13 4299.2701,-577.0344 4303.8546,-582.3243\"/>\n</g>\n<!-- 268 -->\n<g id=\"node269\" class=\"node\">\n<title>268</title>\n<polygon fill=\"none\" stroke=\"#000000\" points=\"4160,-461.5 4061,-461.5 4061,-408.5 4160,-408.5 4160,-461.5\"/>\n<text text-anchor=\"middle\" x=\"4110.5\" y=\"-446.3\" font-family=\"Helvetica,sans-Serif\" font-size=\"14.00\" fill=\"#000000\">gini = 0.32</text>\n<text text-anchor=\"middle\" x=\"4110.5\" y=\"-431.3\" font-family=\"Helvetica,sans-Serif\" font-size=\"14.00\" fill=\"#000000\">samples = 5</text>\n<text text-anchor=\"middle\" x=\"4110.5\" y=\"-416.3\" font-family=\"Helvetica,sans-Serif\" font-size=\"14.00\" fill=\"#000000\">value = [4, 1]</text>\n</g>\n<!-- 267&#45;&gt;268 -->\n<g id=\"edge268\" class=\"edge\">\n<title>267&#45;&gt;268</title>\n<path fill=\"none\" stroke=\"#000000\" d=\"M4187.8447,-504.9465C4174.8122,-493.1606 4160.2294,-479.9726 4147.2689,-468.2519\"/>\n<polygon fill=\"#000000\" stroke=\"#000000\" points=\"4149.614,-465.6537 4139.8495,-461.5422 4144.9188,-470.8456 4149.614,-465.6537\"/>\n</g>\n<!-- 269 -->\n<g id=\"node270\" class=\"node\">\n<title>269</title>\n<polygon fill=\"none\" stroke=\"#000000\" points=\"4277,-461.5 4178,-461.5 4178,-408.5 4277,-408.5 4277,-461.5\"/>\n<text text-anchor=\"middle\" x=\"4227.5\" y=\"-446.3\" font-family=\"Helvetica,sans-Serif\" font-size=\"14.00\" fill=\"#000000\">gini = 0.0</text>\n<text text-anchor=\"middle\" x=\"4227.5\" y=\"-431.3\" font-family=\"Helvetica,sans-Serif\" font-size=\"14.00\" fill=\"#000000\">samples = 1</text>\n<text text-anchor=\"middle\" x=\"4227.5\" y=\"-416.3\" font-family=\"Helvetica,sans-Serif\" font-size=\"14.00\" fill=\"#000000\">value = [1, 0]</text>\n</g>\n<!-- 267&#45;&gt;269 -->\n<g id=\"edge269\" class=\"edge\">\n<title>267&#45;&gt;269</title>\n<path fill=\"none\" stroke=\"#000000\" d=\"M4226.1549,-504.9465C4226.3603,-494.2621 4226.588,-482.4254 4226.7966,-471.5742\"/>\n<polygon fill=\"#000000\" stroke=\"#000000\" points=\"4230.2966,-471.6076 4226.9896,-461.5422 4223.2979,-471.473 4230.2966,-471.6076\"/>\n</g>\n<!-- 271 -->\n<g id=\"node272\" class=\"node\">\n<title>271</title>\n<polygon fill=\"none\" stroke=\"#000000\" points=\"4396,-461.5 4297,-461.5 4297,-408.5 4396,-408.5 4396,-461.5\"/>\n<text text-anchor=\"middle\" x=\"4346.5\" y=\"-446.3\" font-family=\"Helvetica,sans-Serif\" font-size=\"14.00\" fill=\"#000000\">gini = 0.0</text>\n<text text-anchor=\"middle\" x=\"4346.5\" y=\"-431.3\" font-family=\"Helvetica,sans-Serif\" font-size=\"14.00\" fill=\"#000000\">samples = 8</text>\n<text text-anchor=\"middle\" x=\"4346.5\" y=\"-416.3\" font-family=\"Helvetica,sans-Serif\" font-size=\"14.00\" fill=\"#000000\">value = [8, 0]</text>\n</g>\n<!-- 270&#45;&gt;271 -->\n<g id=\"edge271\" class=\"edge\">\n<title>270&#45;&gt;271</title>\n<path fill=\"none\" stroke=\"#000000\" d=\"M4347.8451,-504.9465C4347.6397,-494.2621 4347.412,-482.4254 4347.2034,-471.5742\"/>\n<polygon fill=\"#000000\" stroke=\"#000000\" points=\"4350.7021,-471.473 4347.0104,-461.5422 4343.7034,-471.6076 4350.7021,-471.473\"/>\n</g>\n<!-- 272 -->\n<g id=\"node273\" class=\"node\">\n<title>272</title>\n<polygon fill=\"none\" stroke=\"#000000\" points=\"4521,-469 4414,-469 4414,-401 4521,-401 4521,-469\"/>\n<text text-anchor=\"middle\" x=\"4467.5\" y=\"-453.8\" font-family=\"Helvetica,sans-Serif\" font-size=\"14.00\" fill=\"#000000\">X[1] &lt;= 30.35</text>\n<text text-anchor=\"middle\" x=\"4467.5\" y=\"-438.8\" font-family=\"Helvetica,sans-Serif\" font-size=\"14.00\" fill=\"#000000\">gini = 0.153</text>\n<text text-anchor=\"middle\" x=\"4467.5\" y=\"-423.8\" font-family=\"Helvetica,sans-Serif\" font-size=\"14.00\" fill=\"#000000\">samples = 12</text>\n<text text-anchor=\"middle\" x=\"4467.5\" y=\"-408.8\" font-family=\"Helvetica,sans-Serif\" font-size=\"14.00\" fill=\"#000000\">value = [11, 1]</text>\n</g>\n<!-- 270&#45;&gt;272 -->\n<g id=\"edge272\" class=\"edge\">\n<title>270&#45;&gt;272</title>\n<path fill=\"none\" stroke=\"#000000\" d=\"M4387.4651,-504.9465C4398.1495,-495.6088 4409.8409,-485.3911 4420.9066,-475.7203\"/>\n<polygon fill=\"#000000\" stroke=\"#000000\" points=\"4423.2209,-478.346 4428.4474,-469.13 4418.6145,-473.0752 4423.2209,-478.346\"/>\n</g>\n<!-- 273 -->\n<g id=\"node274\" class=\"node\">\n<title>273</title>\n<polygon fill=\"none\" stroke=\"#000000\" points=\"4460,-365 4353,-365 4353,-297 4460,-297 4460,-365\"/>\n<text text-anchor=\"middle\" x=\"4406.5\" y=\"-349.8\" font-family=\"Helvetica,sans-Serif\" font-size=\"14.00\" fill=\"#000000\">X[3] &lt;= 0.5</text>\n<text text-anchor=\"middle\" x=\"4406.5\" y=\"-334.8\" font-family=\"Helvetica,sans-Serif\" font-size=\"14.00\" fill=\"#000000\">gini = 0.165</text>\n<text text-anchor=\"middle\" x=\"4406.5\" y=\"-319.8\" font-family=\"Helvetica,sans-Serif\" font-size=\"14.00\" fill=\"#000000\">samples = 11</text>\n<text text-anchor=\"middle\" x=\"4406.5\" y=\"-304.8\" font-family=\"Helvetica,sans-Serif\" font-size=\"14.00\" fill=\"#000000\">value = [10, 1]</text>\n</g>\n<!-- 272&#45;&gt;273 -->\n<g id=\"edge273\" class=\"edge\">\n<title>272&#45;&gt;273</title>\n<path fill=\"none\" stroke=\"#000000\" d=\"M4447.5263,-400.9465C4442.4707,-392.3271 4436.9753,-382.9579 4431.6983,-373.9611\"/>\n<polygon fill=\"#000000\" stroke=\"#000000\" points=\"4434.5969,-371.985 4426.5186,-365.13 4428.5589,-375.5265 4434.5969,-371.985\"/>\n</g>\n<!-- 276 -->\n<g id=\"node277\" class=\"node\">\n<title>276</title>\n<polygon fill=\"none\" stroke=\"#000000\" points=\"4577,-357.5 4478,-357.5 4478,-304.5 4577,-304.5 4577,-357.5\"/>\n<text text-anchor=\"middle\" x=\"4527.5\" y=\"-342.3\" font-family=\"Helvetica,sans-Serif\" font-size=\"14.00\" fill=\"#000000\">gini = 0.0</text>\n<text text-anchor=\"middle\" x=\"4527.5\" y=\"-327.3\" font-family=\"Helvetica,sans-Serif\" font-size=\"14.00\" fill=\"#000000\">samples = 1</text>\n<text text-anchor=\"middle\" x=\"4527.5\" y=\"-312.3\" font-family=\"Helvetica,sans-Serif\" font-size=\"14.00\" fill=\"#000000\">value = [1, 0]</text>\n</g>\n<!-- 272&#45;&gt;276 -->\n<g id=\"edge276\" class=\"edge\">\n<title>272&#45;&gt;276</title>\n<path fill=\"none\" stroke=\"#000000\" d=\"M4487.1462,-400.9465C4493.5645,-389.8215 4500.7035,-377.4473 4507.171,-366.237\"/>\n<polygon fill=\"#000000\" stroke=\"#000000\" points=\"4510.2216,-367.9531 4512.1872,-357.5422 4504.1583,-364.455 4510.2216,-367.9531\"/>\n</g>\n<!-- 274 -->\n<g id=\"node275\" class=\"node\">\n<title>274</title>\n<polygon fill=\"none\" stroke=\"#000000\" points=\"4398.5,-253.5 4294.5,-253.5 4294.5,-200.5 4398.5,-200.5 4398.5,-253.5\"/>\n<text text-anchor=\"middle\" x=\"4346.5\" y=\"-238.3\" font-family=\"Helvetica,sans-Serif\" font-size=\"14.00\" fill=\"#000000\">gini = 0.18</text>\n<text text-anchor=\"middle\" x=\"4346.5\" y=\"-223.3\" font-family=\"Helvetica,sans-Serif\" font-size=\"14.00\" fill=\"#000000\">samples = 10</text>\n<text text-anchor=\"middle\" x=\"4346.5\" y=\"-208.3\" font-family=\"Helvetica,sans-Serif\" font-size=\"14.00\" fill=\"#000000\">value = [9, 1]</text>\n</g>\n<!-- 273&#45;&gt;274 -->\n<g id=\"edge274\" class=\"edge\">\n<title>273&#45;&gt;274</title>\n<path fill=\"none\" stroke=\"#000000\" d=\"M4386.8538,-296.9465C4380.4355,-285.8215 4373.2965,-273.4473 4366.829,-262.237\"/>\n<polygon fill=\"#000000\" stroke=\"#000000\" points=\"4369.8417,-260.455 4361.8128,-253.5422 4363.7784,-263.9531 4369.8417,-260.455\"/>\n</g>\n<!-- 275 -->\n<g id=\"node276\" class=\"node\">\n<title>275</title>\n<polygon fill=\"none\" stroke=\"#000000\" points=\"4516,-253.5 4417,-253.5 4417,-200.5 4516,-200.5 4516,-253.5\"/>\n<text text-anchor=\"middle\" x=\"4466.5\" y=\"-238.3\" font-family=\"Helvetica,sans-Serif\" font-size=\"14.00\" fill=\"#000000\">gini = 0.0</text>\n<text text-anchor=\"middle\" x=\"4466.5\" y=\"-223.3\" font-family=\"Helvetica,sans-Serif\" font-size=\"14.00\" fill=\"#000000\">samples = 1</text>\n<text text-anchor=\"middle\" x=\"4466.5\" y=\"-208.3\" font-family=\"Helvetica,sans-Serif\" font-size=\"14.00\" fill=\"#000000\">value = [1, 0]</text>\n</g>\n<!-- 273&#45;&gt;275 -->\n<g id=\"edge275\" class=\"edge\">\n<title>273&#45;&gt;275</title>\n<path fill=\"none\" stroke=\"#000000\" d=\"M4426.1462,-296.9465C4432.5645,-285.8215 4439.7035,-273.4473 4446.171,-262.237\"/>\n<polygon fill=\"#000000\" stroke=\"#000000\" points=\"4449.2216,-263.9531 4451.1872,-253.5422 4443.1583,-260.455 4449.2216,-263.9531\"/>\n</g>\n<!-- 279 -->\n<g id=\"node280\" class=\"node\">\n<title>279</title>\n<polygon fill=\"none\" stroke=\"#000000\" points=\"4403,-773.5 4296,-773.5 4296,-720.5 4403,-720.5 4403,-773.5\"/>\n<text text-anchor=\"middle\" x=\"4349.5\" y=\"-758.3\" font-family=\"Helvetica,sans-Serif\" font-size=\"14.00\" fill=\"#000000\">gini = 0.0</text>\n<text text-anchor=\"middle\" x=\"4349.5\" y=\"-743.3\" font-family=\"Helvetica,sans-Serif\" font-size=\"14.00\" fill=\"#000000\">samples = 35</text>\n<text text-anchor=\"middle\" x=\"4349.5\" y=\"-728.3\" font-family=\"Helvetica,sans-Serif\" font-size=\"14.00\" fill=\"#000000\">value = [35, 0]</text>\n</g>\n<!-- 278&#45;&gt;279 -->\n<g id=\"edge279\" class=\"edge\">\n<title>278&#45;&gt;279</title>\n<path fill=\"none\" stroke=\"#000000\" d=\"M4349.5,-816.9465C4349.5,-806.2621 4349.5,-794.4254 4349.5,-783.5742\"/>\n<polygon fill=\"#000000\" stroke=\"#000000\" points=\"4353.0001,-783.5421 4349.5,-773.5422 4346.0001,-783.5422 4353.0001,-783.5421\"/>\n</g>\n<!-- 280 -->\n<g id=\"node281\" class=\"node\">\n<title>280</title>\n<polygon fill=\"none\" stroke=\"#000000\" points=\"4524,-781 4421,-781 4421,-713 4524,-713 4524,-781\"/>\n<text text-anchor=\"middle\" x=\"4472.5\" y=\"-765.8\" font-family=\"Helvetica,sans-Serif\" font-size=\"14.00\" fill=\"#000000\">X[4] &lt;= 8.775</text>\n<text text-anchor=\"middle\" x=\"4472.5\" y=\"-750.8\" font-family=\"Helvetica,sans-Serif\" font-size=\"14.00\" fill=\"#000000\">gini = 0.444</text>\n<text text-anchor=\"middle\" x=\"4472.5\" y=\"-735.8\" font-family=\"Helvetica,sans-Serif\" font-size=\"14.00\" fill=\"#000000\">samples = 3</text>\n<text text-anchor=\"middle\" x=\"4472.5\" y=\"-720.8\" font-family=\"Helvetica,sans-Serif\" font-size=\"14.00\" fill=\"#000000\">value = [2, 1]</text>\n</g>\n<!-- 278&#45;&gt;280 -->\n<g id=\"edge280\" class=\"edge\">\n<title>278&#45;&gt;280</title>\n<path fill=\"none\" stroke=\"#000000\" d=\"M4389.7748,-816.9465C4400.8184,-807.6088 4412.9028,-797.3911 4424.3404,-787.7203\"/>\n<polygon fill=\"#000000\" stroke=\"#000000\" points=\"4426.7583,-790.2594 4432.1347,-781.13 4422.2386,-784.914 4426.7583,-790.2594\"/>\n</g>\n<!-- 281 -->\n<g id=\"node282\" class=\"node\">\n<title>281</title>\n<polygon fill=\"none\" stroke=\"#000000\" points=\"4435,-669.5 4336,-669.5 4336,-616.5 4435,-616.5 4435,-669.5\"/>\n<text text-anchor=\"middle\" x=\"4385.5\" y=\"-654.3\" font-family=\"Helvetica,sans-Serif\" font-size=\"14.00\" fill=\"#000000\">gini = 0.0</text>\n<text text-anchor=\"middle\" x=\"4385.5\" y=\"-639.3\" font-family=\"Helvetica,sans-Serif\" font-size=\"14.00\" fill=\"#000000\">samples = 2</text>\n<text text-anchor=\"middle\" x=\"4385.5\" y=\"-624.3\" font-family=\"Helvetica,sans-Serif\" font-size=\"14.00\" fill=\"#000000\">value = [2, 0]</text>\n</g>\n<!-- 280&#45;&gt;281 -->\n<g id=\"edge281\" class=\"edge\">\n<title>280&#45;&gt;281</title>\n<path fill=\"none\" stroke=\"#000000\" d=\"M4444.0129,-712.9465C4434.43,-701.491 4423.739,-688.711 4414.1441,-677.2412\"/>\n<polygon fill=\"#000000\" stroke=\"#000000\" points=\"4416.8045,-674.9666 4407.7035,-669.5422 4411.4354,-679.458 4416.8045,-674.9666\"/>\n</g>\n<!-- 282 -->\n<g id=\"node283\" class=\"node\">\n<title>282</title>\n<polygon fill=\"none\" stroke=\"#000000\" points=\"4552,-669.5 4453,-669.5 4453,-616.5 4552,-616.5 4552,-669.5\"/>\n<text text-anchor=\"middle\" x=\"4502.5\" y=\"-654.3\" font-family=\"Helvetica,sans-Serif\" font-size=\"14.00\" fill=\"#000000\">gini = 0.0</text>\n<text text-anchor=\"middle\" x=\"4502.5\" y=\"-639.3\" font-family=\"Helvetica,sans-Serif\" font-size=\"14.00\" fill=\"#000000\">samples = 1</text>\n<text text-anchor=\"middle\" x=\"4502.5\" y=\"-624.3\" font-family=\"Helvetica,sans-Serif\" font-size=\"14.00\" fill=\"#000000\">value = [0, 1]</text>\n</g>\n<!-- 280&#45;&gt;282 -->\n<g id=\"edge282\" class=\"edge\">\n<title>280&#45;&gt;282</title>\n<path fill=\"none\" stroke=\"#000000\" d=\"M4482.3231,-712.9465C4485.437,-702.1519 4488.89,-690.1813 4492.0465,-679.2389\"/>\n<polygon fill=\"#000000\" stroke=\"#000000\" points=\"4495.4348,-680.1205 4494.8436,-669.5422 4488.709,-678.1803 4495.4348,-680.1205\"/>\n</g>\n<!-- 284 -->\n<g id=\"node285\" class=\"node\">\n<title>284</title>\n<polygon fill=\"none\" stroke=\"#000000\" points=\"4527.5,-989 4423.5,-989 4423.5,-921 4527.5,-921 4527.5,-989\"/>\n<text text-anchor=\"middle\" x=\"4475.5\" y=\"-973.8\" font-family=\"Helvetica,sans-Serif\" font-size=\"14.00\" fill=\"#000000\">X[3] &lt;= 0.5</text>\n<text text-anchor=\"middle\" x=\"4475.5\" y=\"-958.8\" font-family=\"Helvetica,sans-Serif\" font-size=\"14.00\" fill=\"#000000\">gini = 0.298</text>\n<text text-anchor=\"middle\" x=\"4475.5\" y=\"-943.8\" font-family=\"Helvetica,sans-Serif\" font-size=\"14.00\" fill=\"#000000\">samples = 11</text>\n<text text-anchor=\"middle\" x=\"4475.5\" y=\"-928.8\" font-family=\"Helvetica,sans-Serif\" font-size=\"14.00\" fill=\"#000000\">value = [9, 2]</text>\n</g>\n<!-- 283&#45;&gt;284 -->\n<g id=\"edge284\" class=\"edge\">\n<title>283&#45;&gt;284</title>\n<path fill=\"none\" stroke=\"#000000\" d=\"M4475.5,-1024.9465C4475.5,-1016.776 4475.5,-1007.9318 4475.5,-999.3697\"/>\n<polygon fill=\"#000000\" stroke=\"#000000\" points=\"4479.0001,-999.13 4475.5,-989.13 4472.0001,-999.13 4479.0001,-999.13\"/>\n</g>\n<!-- 293 -->\n<g id=\"node294\" class=\"node\">\n<title>293</title>\n<polygon fill=\"none\" stroke=\"#000000\" points=\"4754,-989 4655,-989 4655,-921 4754,-921 4754,-989\"/>\n<text text-anchor=\"middle\" x=\"4704.5\" y=\"-973.8\" font-family=\"Helvetica,sans-Serif\" font-size=\"14.00\" fill=\"#000000\">X[4] &lt;= 23.7</text>\n<text text-anchor=\"middle\" x=\"4704.5\" y=\"-958.8\" font-family=\"Helvetica,sans-Serif\" font-size=\"14.00\" fill=\"#000000\">gini = 0.444</text>\n<text text-anchor=\"middle\" x=\"4704.5\" y=\"-943.8\" font-family=\"Helvetica,sans-Serif\" font-size=\"14.00\" fill=\"#000000\">samples = 3</text>\n<text text-anchor=\"middle\" x=\"4704.5\" y=\"-928.8\" font-family=\"Helvetica,sans-Serif\" font-size=\"14.00\" fill=\"#000000\">value = [1, 2]</text>\n</g>\n<!-- 283&#45;&gt;293 -->\n<g id=\"edge293\" class=\"edge\">\n<title>283&#45;&gt;293</title>\n<path fill=\"none\" stroke=\"#000000\" d=\"M4529.1903,-1034.6166C4564.0189,-1018.7993 4609.4223,-998.1794 4645.2958,-981.8875\"/>\n<polygon fill=\"#000000\" stroke=\"#000000\" points=\"4647.0126,-984.9519 4654.6704,-977.6301 4644.118,-978.5784 4647.0126,-984.9519\"/>\n</g>\n<!-- 285 -->\n<g id=\"node286\" class=\"node\">\n<title>285</title>\n<polygon fill=\"none\" stroke=\"#000000\" points=\"4520,-885 4421,-885 4421,-817 4520,-817 4520,-885\"/>\n<text text-anchor=\"middle\" x=\"4470.5\" y=\"-869.8\" font-family=\"Helvetica,sans-Serif\" font-size=\"14.00\" fill=\"#000000\">X[1] &lt;= 18.5</text>\n<text text-anchor=\"middle\" x=\"4470.5\" y=\"-854.8\" font-family=\"Helvetica,sans-Serif\" font-size=\"14.00\" fill=\"#000000\">gini = 0.444</text>\n<text text-anchor=\"middle\" x=\"4470.5\" y=\"-839.8\" font-family=\"Helvetica,sans-Serif\" font-size=\"14.00\" fill=\"#000000\">samples = 6</text>\n<text text-anchor=\"middle\" x=\"4470.5\" y=\"-824.8\" font-family=\"Helvetica,sans-Serif\" font-size=\"14.00\" fill=\"#000000\">value = [4, 2]</text>\n</g>\n<!-- 284&#45;&gt;285 -->\n<g id=\"edge285\" class=\"edge\">\n<title>284&#45;&gt;285</title>\n<path fill=\"none\" stroke=\"#000000\" d=\"M4473.8628,-920.9465C4473.47,-912.776 4473.0448,-903.9318 4472.6332,-895.3697\"/>\n<polygon fill=\"#000000\" stroke=\"#000000\" points=\"4476.1171,-894.9504 4472.1409,-885.13 4469.1252,-895.2866 4476.1171,-894.9504\"/>\n</g>\n<!-- 292 -->\n<g id=\"node293\" class=\"node\">\n<title>292</title>\n<polygon fill=\"none\" stroke=\"#000000\" points=\"4637,-877.5 4538,-877.5 4538,-824.5 4637,-824.5 4637,-877.5\"/>\n<text text-anchor=\"middle\" x=\"4587.5\" y=\"-862.3\" font-family=\"Helvetica,sans-Serif\" font-size=\"14.00\" fill=\"#000000\">gini = 0.0</text>\n<text text-anchor=\"middle\" x=\"4587.5\" y=\"-847.3\" font-family=\"Helvetica,sans-Serif\" font-size=\"14.00\" fill=\"#000000\">samples = 5</text>\n<text text-anchor=\"middle\" x=\"4587.5\" y=\"-832.3\" font-family=\"Helvetica,sans-Serif\" font-size=\"14.00\" fill=\"#000000\">value = [5, 0]</text>\n</g>\n<!-- 284&#45;&gt;292 -->\n<g id=\"edge292\" class=\"edge\">\n<title>284&#45;&gt;292</title>\n<path fill=\"none\" stroke=\"#000000\" d=\"M4512.173,-920.9465C4524.7469,-909.2707 4538.8026,-896.219 4551.3359,-884.5809\"/>\n<polygon fill=\"#000000\" stroke=\"#000000\" points=\"4553.9698,-886.9115 4558.9161,-877.5422 4549.2066,-881.7819 4553.9698,-886.9115\"/>\n</g>\n<!-- 286 -->\n<g id=\"node287\" class=\"node\">\n<title>286</title>\n<polygon fill=\"none\" stroke=\"#000000\" points=\"4641,-773.5 4542,-773.5 4542,-720.5 4641,-720.5 4641,-773.5\"/>\n<text text-anchor=\"middle\" x=\"4591.5\" y=\"-758.3\" font-family=\"Helvetica,sans-Serif\" font-size=\"14.00\" fill=\"#000000\">gini = 0.0</text>\n<text text-anchor=\"middle\" x=\"4591.5\" y=\"-743.3\" font-family=\"Helvetica,sans-Serif\" font-size=\"14.00\" fill=\"#000000\">samples = 1</text>\n<text text-anchor=\"middle\" x=\"4591.5\" y=\"-728.3\" font-family=\"Helvetica,sans-Serif\" font-size=\"14.00\" fill=\"#000000\">value = [1, 0]</text>\n</g>\n<!-- 285&#45;&gt;286 -->\n<g id=\"edge286\" class=\"edge\">\n<title>285&#45;&gt;286</title>\n<path fill=\"none\" stroke=\"#000000\" d=\"M4510.1199,-816.9465C4523.8324,-805.1606 4539.1761,-791.9726 4552.8127,-780.2519\"/>\n<polygon fill=\"#000000\" stroke=\"#000000\" points=\"4555.3169,-782.7147 4560.6192,-773.5422 4550.7541,-777.4061 4555.3169,-782.7147\"/>\n</g>\n<!-- 287 -->\n<g id=\"node288\" class=\"node\">\n<title>287</title>\n<polygon fill=\"none\" stroke=\"#000000\" points=\"4758,-781 4659,-781 4659,-713 4758,-713 4758,-781\"/>\n<text text-anchor=\"middle\" x=\"4708.5\" y=\"-765.8\" font-family=\"Helvetica,sans-Serif\" font-size=\"14.00\" fill=\"#000000\">X[1] &lt;= 27.0</text>\n<text text-anchor=\"middle\" x=\"4708.5\" y=\"-750.8\" font-family=\"Helvetica,sans-Serif\" font-size=\"14.00\" fill=\"#000000\">gini = 0.48</text>\n<text text-anchor=\"middle\" x=\"4708.5\" y=\"-735.8\" font-family=\"Helvetica,sans-Serif\" font-size=\"14.00\" fill=\"#000000\">samples = 5</text>\n<text text-anchor=\"middle\" x=\"4708.5\" y=\"-720.8\" font-family=\"Helvetica,sans-Serif\" font-size=\"14.00\" fill=\"#000000\">value = [3, 2]</text>\n</g>\n<!-- 285&#45;&gt;287 -->\n<g id=\"edge287\" class=\"edge\">\n<title>285&#45;&gt;287</title>\n<path fill=\"none\" stroke=\"#000000\" d=\"M4520.0861,-820.9082C4522.9,-819.5228 4525.7164,-818.2088 4528.5,-817 4579.9641,-794.6506 4597.9533,-803.1582 4649.5,-781 4649.595,-780.9591 4649.6901,-780.9182 4649.7852,-780.8771\"/>\n<polygon fill=\"#000000\" stroke=\"#000000\" points=\"4651.0902,-784.1298 4658.6998,-776.7579 4648.1539,-777.7753 4651.0902,-784.1298\"/>\n</g>\n<!-- 288 -->\n<g id=\"node289\" class=\"node\">\n<title>288</title>\n<polygon fill=\"none\" stroke=\"#000000\" points=\"4728,-669.5 4629,-669.5 4629,-616.5 4728,-616.5 4728,-669.5\"/>\n<text text-anchor=\"middle\" x=\"4678.5\" y=\"-654.3\" font-family=\"Helvetica,sans-Serif\" font-size=\"14.00\" fill=\"#000000\">gini = 0.0</text>\n<text text-anchor=\"middle\" x=\"4678.5\" y=\"-639.3\" font-family=\"Helvetica,sans-Serif\" font-size=\"14.00\" fill=\"#000000\">samples = 1</text>\n<text text-anchor=\"middle\" x=\"4678.5\" y=\"-624.3\" font-family=\"Helvetica,sans-Serif\" font-size=\"14.00\" fill=\"#000000\">value = [0, 1]</text>\n</g>\n<!-- 287&#45;&gt;288 -->\n<g id=\"edge288\" class=\"edge\">\n<title>287&#45;&gt;288</title>\n<path fill=\"none\" stroke=\"#000000\" d=\"M4698.6769,-712.9465C4695.563,-702.1519 4692.11,-690.1813 4688.9535,-679.2389\"/>\n<polygon fill=\"#000000\" stroke=\"#000000\" points=\"4692.291,-678.1803 4686.1564,-669.5422 4685.5652,-680.1205 4692.291,-678.1803\"/>\n</g>\n<!-- 289 -->\n<g id=\"node290\" class=\"node\">\n<title>289</title>\n<polygon fill=\"none\" stroke=\"#000000\" points=\"4857,-677 4746,-677 4746,-609 4857,-609 4857,-677\"/>\n<text text-anchor=\"middle\" x=\"4801.5\" y=\"-661.8\" font-family=\"Helvetica,sans-Serif\" font-size=\"14.00\" fill=\"#000000\">X[4] &lt;= 40.323</text>\n<text text-anchor=\"middle\" x=\"4801.5\" y=\"-646.8\" font-family=\"Helvetica,sans-Serif\" font-size=\"14.00\" fill=\"#000000\">gini = 0.375</text>\n<text text-anchor=\"middle\" x=\"4801.5\" y=\"-631.8\" font-family=\"Helvetica,sans-Serif\" font-size=\"14.00\" fill=\"#000000\">samples = 4</text>\n<text text-anchor=\"middle\" x=\"4801.5\" y=\"-616.8\" font-family=\"Helvetica,sans-Serif\" font-size=\"14.00\" fill=\"#000000\">value = [3, 1]</text>\n</g>\n<!-- 287&#45;&gt;289 -->\n<g id=\"edge289\" class=\"edge\">\n<title>287&#45;&gt;289</title>\n<path fill=\"none\" stroke=\"#000000\" d=\"M4738.9517,-712.9465C4746.9806,-703.968 4755.737,-694.1758 4764.0867,-684.8385\"/>\n<polygon fill=\"#000000\" stroke=\"#000000\" points=\"4766.923,-686.9174 4770.9799,-677.13 4761.705,-682.2512 4766.923,-686.9174\"/>\n</g>\n<!-- 290 -->\n<g id=\"node291\" class=\"node\">\n<title>290</title>\n<polygon fill=\"none\" stroke=\"#000000\" points=\"4793,-565.5 4694,-565.5 4694,-512.5 4793,-512.5 4793,-565.5\"/>\n<text text-anchor=\"middle\" x=\"4743.5\" y=\"-550.3\" font-family=\"Helvetica,sans-Serif\" font-size=\"14.00\" fill=\"#000000\">gini = 0.0</text>\n<text text-anchor=\"middle\" x=\"4743.5\" y=\"-535.3\" font-family=\"Helvetica,sans-Serif\" font-size=\"14.00\" fill=\"#000000\">samples = 2</text>\n<text text-anchor=\"middle\" x=\"4743.5\" y=\"-520.3\" font-family=\"Helvetica,sans-Serif\" font-size=\"14.00\" fill=\"#000000\">value = [2, 0]</text>\n</g>\n<!-- 289&#45;&gt;290 -->\n<g id=\"edge290\" class=\"edge\">\n<title>289&#45;&gt;290</title>\n<path fill=\"none\" stroke=\"#000000\" d=\"M4782.5086,-608.9465C4776.3657,-597.9316 4769.5399,-585.6922 4763.3373,-574.5703\"/>\n<polygon fill=\"#000000\" stroke=\"#000000\" points=\"4766.2299,-572.5711 4758.3024,-565.5422 4760.1163,-575.9806 4766.2299,-572.5711\"/>\n</g>\n<!-- 291 -->\n<g id=\"node292\" class=\"node\">\n<title>291</title>\n<polygon fill=\"none\" stroke=\"#000000\" points=\"4910,-565.5 4811,-565.5 4811,-512.5 4910,-512.5 4910,-565.5\"/>\n<text text-anchor=\"middle\" x=\"4860.5\" y=\"-550.3\" font-family=\"Helvetica,sans-Serif\" font-size=\"14.00\" fill=\"#000000\">gini = 0.5</text>\n<text text-anchor=\"middle\" x=\"4860.5\" y=\"-535.3\" font-family=\"Helvetica,sans-Serif\" font-size=\"14.00\" fill=\"#000000\">samples = 2</text>\n<text text-anchor=\"middle\" x=\"4860.5\" y=\"-520.3\" font-family=\"Helvetica,sans-Serif\" font-size=\"14.00\" fill=\"#000000\">value = [1, 1]</text>\n</g>\n<!-- 289&#45;&gt;291 -->\n<g id=\"edge291\" class=\"edge\">\n<title>289&#45;&gt;291</title>\n<path fill=\"none\" stroke=\"#000000\" d=\"M4820.8188,-608.9465C4827.0676,-597.9316 4834.0112,-585.6922 4840.3207,-574.5703\"/>\n<polygon fill=\"#000000\" stroke=\"#000000\" points=\"4843.5523,-575.967 4845.4424,-565.5422 4837.4638,-572.513 4843.5523,-575.967\"/>\n</g>\n<!-- 294 -->\n<g id=\"node295\" class=\"node\">\n<title>294</title>\n<polygon fill=\"none\" stroke=\"#000000\" points=\"4754,-877.5 4655,-877.5 4655,-824.5 4754,-824.5 4754,-877.5\"/>\n<text text-anchor=\"middle\" x=\"4704.5\" y=\"-862.3\" font-family=\"Helvetica,sans-Serif\" font-size=\"14.00\" fill=\"#000000\">gini = 0.0</text>\n<text text-anchor=\"middle\" x=\"4704.5\" y=\"-847.3\" font-family=\"Helvetica,sans-Serif\" font-size=\"14.00\" fill=\"#000000\">samples = 2</text>\n<text text-anchor=\"middle\" x=\"4704.5\" y=\"-832.3\" font-family=\"Helvetica,sans-Serif\" font-size=\"14.00\" fill=\"#000000\">value = [0, 2]</text>\n</g>\n<!-- 293&#45;&gt;294 -->\n<g id=\"edge294\" class=\"edge\">\n<title>293&#45;&gt;294</title>\n<path fill=\"none\" stroke=\"#000000\" d=\"M4704.5,-920.9465C4704.5,-910.2621 4704.5,-898.4254 4704.5,-887.5742\"/>\n<polygon fill=\"#000000\" stroke=\"#000000\" points=\"4708.0001,-887.5421 4704.5,-877.5422 4701.0001,-887.5422 4708.0001,-887.5421\"/>\n</g>\n<!-- 295 -->\n<g id=\"node296\" class=\"node\">\n<title>295</title>\n<polygon fill=\"none\" stroke=\"#000000\" points=\"4871,-877.5 4772,-877.5 4772,-824.5 4871,-824.5 4871,-877.5\"/>\n<text text-anchor=\"middle\" x=\"4821.5\" y=\"-862.3\" font-family=\"Helvetica,sans-Serif\" font-size=\"14.00\" fill=\"#000000\">gini = 0.0</text>\n<text text-anchor=\"middle\" x=\"4821.5\" y=\"-847.3\" font-family=\"Helvetica,sans-Serif\" font-size=\"14.00\" fill=\"#000000\">samples = 1</text>\n<text text-anchor=\"middle\" x=\"4821.5\" y=\"-832.3\" font-family=\"Helvetica,sans-Serif\" font-size=\"14.00\" fill=\"#000000\">value = [1, 0]</text>\n</g>\n<!-- 293&#45;&gt;295 -->\n<g id=\"edge295\" class=\"edge\">\n<title>293&#45;&gt;295</title>\n<path fill=\"none\" stroke=\"#000000\" d=\"M4742.8102,-920.9465C4756.0694,-909.1606 4770.9058,-895.9726 4784.0916,-884.2519\"/>\n<polygon fill=\"#000000\" stroke=\"#000000\" points=\"4786.4912,-886.8018 4791.6401,-877.5422 4781.8407,-881.5699 4786.4912,-886.8018\"/>\n</g>\n<!-- 298 -->\n<g id=\"node299\" class=\"node\">\n<title>298</title>\n<polygon fill=\"none\" stroke=\"#000000\" points=\"4652,-1293.5 4553,-1293.5 4553,-1240.5 4652,-1240.5 4652,-1293.5\"/>\n<text text-anchor=\"middle\" x=\"4602.5\" y=\"-1278.3\" font-family=\"Helvetica,sans-Serif\" font-size=\"14.00\" fill=\"#000000\">gini = 0.0</text>\n<text text-anchor=\"middle\" x=\"4602.5\" y=\"-1263.3\" font-family=\"Helvetica,sans-Serif\" font-size=\"14.00\" fill=\"#000000\">samples = 2</text>\n<text text-anchor=\"middle\" x=\"4602.5\" y=\"-1248.3\" font-family=\"Helvetica,sans-Serif\" font-size=\"14.00\" fill=\"#000000\">value = [2, 0]</text>\n</g>\n<!-- 297&#45;&gt;298 -->\n<g id=\"edge298\" class=\"edge\">\n<title>297&#45;&gt;298</title>\n<path fill=\"none\" stroke=\"#000000\" d=\"M4602.5,-1336.9465C4602.5,-1326.2621 4602.5,-1314.4254 4602.5,-1303.5742\"/>\n<polygon fill=\"#000000\" stroke=\"#000000\" points=\"4606.0001,-1303.5421 4602.5,-1293.5422 4599.0001,-1303.5422 4606.0001,-1303.5421\"/>\n</g>\n<!-- 299 -->\n<g id=\"node300\" class=\"node\">\n<title>299</title>\n<polygon fill=\"none\" stroke=\"#000000\" points=\"4791,-1301 4688,-1301 4688,-1233 4791,-1233 4791,-1301\"/>\n<text text-anchor=\"middle\" x=\"4739.5\" y=\"-1285.8\" font-family=\"Helvetica,sans-Serif\" font-size=\"14.00\" fill=\"#000000\">X[4] &lt;= 7.802</text>\n<text text-anchor=\"middle\" x=\"4739.5\" y=\"-1270.8\" font-family=\"Helvetica,sans-Serif\" font-size=\"14.00\" fill=\"#000000\">gini = 0.469</text>\n<text text-anchor=\"middle\" x=\"4739.5\" y=\"-1255.8\" font-family=\"Helvetica,sans-Serif\" font-size=\"14.00\" fill=\"#000000\">samples = 8</text>\n<text text-anchor=\"middle\" x=\"4739.5\" y=\"-1240.8\" font-family=\"Helvetica,sans-Serif\" font-size=\"14.00\" fill=\"#000000\">value = [3, 5]</text>\n</g>\n<!-- 297&#45;&gt;299 -->\n<g id=\"edge299\" class=\"edge\">\n<title>297&#45;&gt;299</title>\n<path fill=\"none\" stroke=\"#000000\" d=\"M4647.3589,-1336.9465C4659.7778,-1327.519 4673.3783,-1317.1946 4686.2261,-1307.4415\"/>\n<polygon fill=\"#000000\" stroke=\"#000000\" points=\"4688.6915,-1309.9642 4694.5403,-1301.13 4684.459,-1304.3887 4688.6915,-1309.9642\"/>\n</g>\n<!-- 300 -->\n<g id=\"node301\" class=\"node\">\n<title>300</title>\n<polygon fill=\"none\" stroke=\"#000000\" points=\"4789,-1189.5 4690,-1189.5 4690,-1136.5 4789,-1136.5 4789,-1189.5\"/>\n<text text-anchor=\"middle\" x=\"4739.5\" y=\"-1174.3\" font-family=\"Helvetica,sans-Serif\" font-size=\"14.00\" fill=\"#000000\">gini = 0.0</text>\n<text text-anchor=\"middle\" x=\"4739.5\" y=\"-1159.3\" font-family=\"Helvetica,sans-Serif\" font-size=\"14.00\" fill=\"#000000\">samples = 1</text>\n<text text-anchor=\"middle\" x=\"4739.5\" y=\"-1144.3\" font-family=\"Helvetica,sans-Serif\" font-size=\"14.00\" fill=\"#000000\">value = [1, 0]</text>\n</g>\n<!-- 299&#45;&gt;300 -->\n<g id=\"edge300\" class=\"edge\">\n<title>299&#45;&gt;300</title>\n<path fill=\"none\" stroke=\"#000000\" d=\"M4739.5,-1232.9465C4739.5,-1222.2621 4739.5,-1210.4254 4739.5,-1199.5742\"/>\n<polygon fill=\"#000000\" stroke=\"#000000\" points=\"4743.0001,-1199.5421 4739.5,-1189.5422 4736.0001,-1199.5422 4743.0001,-1199.5421\"/>\n</g>\n<!-- 301 -->\n<g id=\"node302\" class=\"node\">\n<title>301</title>\n<polygon fill=\"none\" stroke=\"#000000\" points=\"4992,-1197 4881,-1197 4881,-1129 4992,-1129 4992,-1197\"/>\n<text text-anchor=\"middle\" x=\"4936.5\" y=\"-1181.8\" font-family=\"Helvetica,sans-Serif\" font-size=\"14.00\" fill=\"#000000\">X[4] &lt;= 32.429</text>\n<text text-anchor=\"middle\" x=\"4936.5\" y=\"-1166.8\" font-family=\"Helvetica,sans-Serif\" font-size=\"14.00\" fill=\"#000000\">gini = 0.408</text>\n<text text-anchor=\"middle\" x=\"4936.5\" y=\"-1151.8\" font-family=\"Helvetica,sans-Serif\" font-size=\"14.00\" fill=\"#000000\">samples = 7</text>\n<text text-anchor=\"middle\" x=\"4936.5\" y=\"-1136.8\" font-family=\"Helvetica,sans-Serif\" font-size=\"14.00\" fill=\"#000000\">value = [2, 5]</text>\n</g>\n<!-- 299&#45;&gt;301 -->\n<g id=\"edge301\" class=\"edge\">\n<title>299&#45;&gt;301</title>\n<path fill=\"none\" stroke=\"#000000\" d=\"M4791.0021,-1239.8111C4815.681,-1226.7826 4845.501,-1211.0401 4871.7031,-1197.2075\"/>\n<polygon fill=\"#000000\" stroke=\"#000000\" points=\"4873.5965,-1200.1658 4880.8058,-1192.402 4870.3284,-1193.9755 4873.5965,-1200.1658\"/>\n</g>\n<!-- 302 -->\n<g id=\"node303\" class=\"node\">\n<title>302</title>\n<polygon fill=\"none\" stroke=\"#000000\" points=\"4988,-1093 4885,-1093 4885,-1025 4988,-1025 4988,-1093\"/>\n<text text-anchor=\"middle\" x=\"4936.5\" y=\"-1077.8\" font-family=\"Helvetica,sans-Serif\" font-size=\"14.00\" fill=\"#000000\">X[4] &lt;= 8.206</text>\n<text text-anchor=\"middle\" x=\"4936.5\" y=\"-1062.8\" font-family=\"Helvetica,sans-Serif\" font-size=\"14.00\" fill=\"#000000\">gini = 0.48</text>\n<text text-anchor=\"middle\" x=\"4936.5\" y=\"-1047.8\" font-family=\"Helvetica,sans-Serif\" font-size=\"14.00\" fill=\"#000000\">samples = 5</text>\n<text text-anchor=\"middle\" x=\"4936.5\" y=\"-1032.8\" font-family=\"Helvetica,sans-Serif\" font-size=\"14.00\" fill=\"#000000\">value = [2, 3]</text>\n</g>\n<!-- 301&#45;&gt;302 -->\n<g id=\"edge302\" class=\"edge\">\n<title>301&#45;&gt;302</title>\n<path fill=\"none\" stroke=\"#000000\" d=\"M4936.5,-1128.9465C4936.5,-1120.776 4936.5,-1111.9318 4936.5,-1103.3697\"/>\n<polygon fill=\"#000000\" stroke=\"#000000\" points=\"4940.0001,-1103.13 4936.5,-1093.13 4933.0001,-1103.13 4940.0001,-1103.13\"/>\n</g>\n<!-- 309 -->\n<g id=\"node310\" class=\"node\">\n<title>309</title>\n<polygon fill=\"none\" stroke=\"#000000\" points=\"5105,-1085.5 5006,-1085.5 5006,-1032.5 5105,-1032.5 5105,-1085.5\"/>\n<text text-anchor=\"middle\" x=\"5055.5\" y=\"-1070.3\" font-family=\"Helvetica,sans-Serif\" font-size=\"14.00\" fill=\"#000000\">gini = 0.0</text>\n<text text-anchor=\"middle\" x=\"5055.5\" y=\"-1055.3\" font-family=\"Helvetica,sans-Serif\" font-size=\"14.00\" fill=\"#000000\">samples = 2</text>\n<text text-anchor=\"middle\" x=\"5055.5\" y=\"-1040.3\" font-family=\"Helvetica,sans-Serif\" font-size=\"14.00\" fill=\"#000000\">value = [0, 2]</text>\n</g>\n<!-- 301&#45;&gt;309 -->\n<g id=\"edge309\" class=\"edge\">\n<title>301&#45;&gt;309</title>\n<path fill=\"none\" stroke=\"#000000\" d=\"M4975.4651,-1128.9465C4988.9509,-1117.1606 5004.0409,-1103.9726 5017.4521,-1092.2519\"/>\n<polygon fill=\"#000000\" stroke=\"#000000\" points=\"5019.9031,-1094.7582 5025.1296,-1085.5422 5015.2967,-1089.4874 5019.9031,-1094.7582\"/>\n</g>\n<!-- 303 -->\n<g id=\"node304\" class=\"node\">\n<title>303</title>\n<polygon fill=\"none\" stroke=\"#000000\" points=\"4987,-989 4888,-989 4888,-921 4987,-921 4987,-989\"/>\n<text text-anchor=\"middle\" x=\"4937.5\" y=\"-973.8\" font-family=\"Helvetica,sans-Serif\" font-size=\"14.00\" fill=\"#000000\">X[4] &lt;= 7.89</text>\n<text text-anchor=\"middle\" x=\"4937.5\" y=\"-958.8\" font-family=\"Helvetica,sans-Serif\" font-size=\"14.00\" fill=\"#000000\">gini = 0.375</text>\n<text text-anchor=\"middle\" x=\"4937.5\" y=\"-943.8\" font-family=\"Helvetica,sans-Serif\" font-size=\"14.00\" fill=\"#000000\">samples = 4</text>\n<text text-anchor=\"middle\" x=\"4937.5\" y=\"-928.8\" font-family=\"Helvetica,sans-Serif\" font-size=\"14.00\" fill=\"#000000\">value = [1, 3]</text>\n</g>\n<!-- 302&#45;&gt;303 -->\n<g id=\"edge303\" class=\"edge\">\n<title>302&#45;&gt;303</title>\n<path fill=\"none\" stroke=\"#000000\" d=\"M4936.8274,-1024.9465C4936.906,-1016.776 4936.991,-1007.9318 4937.0734,-999.3697\"/>\n<polygon fill=\"#000000\" stroke=\"#000000\" points=\"4940.5754,-999.1632 4937.1718,-989.13 4933.5757,-999.0958 4940.5754,-999.1632\"/>\n</g>\n<!-- 308 -->\n<g id=\"node309\" class=\"node\">\n<title>308</title>\n<polygon fill=\"none\" stroke=\"#000000\" points=\"5104,-981.5 5005,-981.5 5005,-928.5 5104,-928.5 5104,-981.5\"/>\n<text text-anchor=\"middle\" x=\"5054.5\" y=\"-966.3\" font-family=\"Helvetica,sans-Serif\" font-size=\"14.00\" fill=\"#000000\">gini = 0.0</text>\n<text text-anchor=\"middle\" x=\"5054.5\" y=\"-951.3\" font-family=\"Helvetica,sans-Serif\" font-size=\"14.00\" fill=\"#000000\">samples = 1</text>\n<text text-anchor=\"middle\" x=\"5054.5\" y=\"-936.3\" font-family=\"Helvetica,sans-Serif\" font-size=\"14.00\" fill=\"#000000\">value = [1, 0]</text>\n</g>\n<!-- 302&#45;&gt;308 -->\n<g id=\"edge308\" class=\"edge\">\n<title>302&#45;&gt;308</title>\n<path fill=\"none\" stroke=\"#000000\" d=\"M4975.1376,-1024.9465C4988.5101,-1013.1606 5003.4734,-999.9726 5016.7719,-988.2519\"/>\n<polygon fill=\"#000000\" stroke=\"#000000\" points=\"5019.197,-990.7799 5024.3849,-981.5422 5014.5685,-985.5285 5019.197,-990.7799\"/>\n</g>\n<!-- 304 -->\n<g id=\"node305\" class=\"node\">\n<title>304</title>\n<polygon fill=\"none\" stroke=\"#000000\" points=\"4988,-877.5 4889,-877.5 4889,-824.5 4988,-824.5 4988,-877.5\"/>\n<text text-anchor=\"middle\" x=\"4938.5\" y=\"-862.3\" font-family=\"Helvetica,sans-Serif\" font-size=\"14.00\" fill=\"#000000\">gini = 0.0</text>\n<text text-anchor=\"middle\" x=\"4938.5\" y=\"-847.3\" font-family=\"Helvetica,sans-Serif\" font-size=\"14.00\" fill=\"#000000\">samples = 1</text>\n<text text-anchor=\"middle\" x=\"4938.5\" y=\"-832.3\" font-family=\"Helvetica,sans-Serif\" font-size=\"14.00\" fill=\"#000000\">value = [0, 1]</text>\n</g>\n<!-- 303&#45;&gt;304 -->\n<g id=\"edge304\" class=\"edge\">\n<title>303&#45;&gt;304</title>\n<path fill=\"none\" stroke=\"#000000\" d=\"M4937.8274,-920.9465C4937.9302,-910.2621 4938.044,-898.4254 4938.1483,-887.5742\"/>\n<polygon fill=\"#000000\" stroke=\"#000000\" points=\"4941.6484,-887.5754 4938.2448,-877.5422 4934.6487,-887.508 4941.6484,-887.5754\"/>\n</g>\n<!-- 305 -->\n<g id=\"node306\" class=\"node\">\n<title>305</title>\n<polygon fill=\"none\" stroke=\"#000000\" points=\"5109,-885 5006,-885 5006,-817 5109,-817 5109,-885\"/>\n<text text-anchor=\"middle\" x=\"5057.5\" y=\"-869.8\" font-family=\"Helvetica,sans-Serif\" font-size=\"14.00\" fill=\"#000000\">X[4] &lt;= 7.988</text>\n<text text-anchor=\"middle\" x=\"5057.5\" y=\"-854.8\" font-family=\"Helvetica,sans-Serif\" font-size=\"14.00\" fill=\"#000000\">gini = 0.444</text>\n<text text-anchor=\"middle\" x=\"5057.5\" y=\"-839.8\" font-family=\"Helvetica,sans-Serif\" font-size=\"14.00\" fill=\"#000000\">samples = 3</text>\n<text text-anchor=\"middle\" x=\"5057.5\" y=\"-824.8\" font-family=\"Helvetica,sans-Serif\" font-size=\"14.00\" fill=\"#000000\">value = [1, 2]</text>\n</g>\n<!-- 303&#45;&gt;305 -->\n<g id=\"edge305\" class=\"edge\">\n<title>303&#45;&gt;305</title>\n<path fill=\"none\" stroke=\"#000000\" d=\"M4976.7925,-920.9465C4987.5667,-911.6088 4999.3564,-901.3911 5010.515,-891.7203\"/>\n<polygon fill=\"#000000\" stroke=\"#000000\" points=\"5012.8546,-894.3243 5018.1192,-885.13 5008.2701,-889.0344 5012.8546,-894.3243\"/>\n</g>\n<!-- 306 -->\n<g id=\"node307\" class=\"node\">\n<title>306</title>\n<polygon fill=\"none\" stroke=\"#000000\" points=\"4990,-773.5 4891,-773.5 4891,-720.5 4990,-720.5 4990,-773.5\"/>\n<text text-anchor=\"middle\" x=\"4940.5\" y=\"-758.3\" font-family=\"Helvetica,sans-Serif\" font-size=\"14.00\" fill=\"#000000\">gini = 0.5</text>\n<text text-anchor=\"middle\" x=\"4940.5\" y=\"-743.3\" font-family=\"Helvetica,sans-Serif\" font-size=\"14.00\" fill=\"#000000\">samples = 2</text>\n<text text-anchor=\"middle\" x=\"4940.5\" y=\"-728.3\" font-family=\"Helvetica,sans-Serif\" font-size=\"14.00\" fill=\"#000000\">value = [1, 1]</text>\n</g>\n<!-- 305&#45;&gt;306 -->\n<g id=\"edge306\" class=\"edge\">\n<title>305&#45;&gt;306</title>\n<path fill=\"none\" stroke=\"#000000\" d=\"M5019.1898,-816.9465C5005.9306,-805.1606 4991.0942,-791.9726 4977.9084,-780.2519\"/>\n<polygon fill=\"#000000\" stroke=\"#000000\" points=\"4980.1593,-777.5699 4970.3599,-773.5422 4975.5088,-782.8018 4980.1593,-777.5699\"/>\n</g>\n<!-- 307 -->\n<g id=\"node308\" class=\"node\">\n<title>307</title>\n<polygon fill=\"none\" stroke=\"#000000\" points=\"5107,-773.5 5008,-773.5 5008,-720.5 5107,-720.5 5107,-773.5\"/>\n<text text-anchor=\"middle\" x=\"5057.5\" y=\"-758.3\" font-family=\"Helvetica,sans-Serif\" font-size=\"14.00\" fill=\"#000000\">gini = 0.0</text>\n<text text-anchor=\"middle\" x=\"5057.5\" y=\"-743.3\" font-family=\"Helvetica,sans-Serif\" font-size=\"14.00\" fill=\"#000000\">samples = 1</text>\n<text text-anchor=\"middle\" x=\"5057.5\" y=\"-728.3\" font-family=\"Helvetica,sans-Serif\" font-size=\"14.00\" fill=\"#000000\">value = [0, 1]</text>\n</g>\n<!-- 305&#45;&gt;307 -->\n<g id=\"edge307\" class=\"edge\">\n<title>305&#45;&gt;307</title>\n<path fill=\"none\" stroke=\"#000000\" d=\"M5057.5,-816.9465C5057.5,-806.2621 5057.5,-794.4254 5057.5,-783.5742\"/>\n<polygon fill=\"#000000\" stroke=\"#000000\" points=\"5061.0001,-783.5421 5057.5,-773.5422 5054.0001,-783.5422 5061.0001,-783.5421\"/>\n</g>\n<!-- 311 -->\n<g id=\"node312\" class=\"node\">\n<title>311</title>\n<polygon fill=\"none\" stroke=\"#000000\" points=\"5168,-1405 5061,-1405 5061,-1337 5168,-1337 5168,-1405\"/>\n<text text-anchor=\"middle\" x=\"5114.5\" y=\"-1389.8\" font-family=\"Helvetica,sans-Serif\" font-size=\"14.00\" fill=\"#000000\">X[1] &lt;= 38.5</text>\n<text text-anchor=\"middle\" x=\"5114.5\" y=\"-1374.8\" font-family=\"Helvetica,sans-Serif\" font-size=\"14.00\" fill=\"#000000\">gini = 0.07</text>\n<text text-anchor=\"middle\" x=\"5114.5\" y=\"-1359.8\" font-family=\"Helvetica,sans-Serif\" font-size=\"14.00\" fill=\"#000000\">samples = 83</text>\n<text text-anchor=\"middle\" x=\"5114.5\" y=\"-1344.8\" font-family=\"Helvetica,sans-Serif\" font-size=\"14.00\" fill=\"#000000\">value = [80, 3]</text>\n</g>\n<!-- 310&#45;&gt;311 -->\n<g id=\"edge311\" class=\"edge\">\n<title>310&#45;&gt;311</title>\n<path fill=\"none\" stroke=\"#000000\" d=\"M5114.5,-1440.9465C5114.5,-1432.776 5114.5,-1423.9318 5114.5,-1415.3697\"/>\n<polygon fill=\"#000000\" stroke=\"#000000\" points=\"5118.0001,-1415.13 5114.5,-1405.13 5111.0001,-1415.13 5118.0001,-1415.13\"/>\n</g>\n<!-- 330 -->\n<g id=\"node331\" class=\"node\">\n<title>330</title>\n<polygon fill=\"none\" stroke=\"#000000\" points=\"5347,-1405 5248,-1405 5248,-1337 5347,-1337 5347,-1405\"/>\n<text text-anchor=\"middle\" x=\"5297.5\" y=\"-1389.8\" font-family=\"Helvetica,sans-Serif\" font-size=\"14.00\" fill=\"#000000\">X[1] &lt;= 63.5</text>\n<text text-anchor=\"middle\" x=\"5297.5\" y=\"-1374.8\" font-family=\"Helvetica,sans-Serif\" font-size=\"14.00\" fill=\"#000000\">gini = 0.32</text>\n<text text-anchor=\"middle\" x=\"5297.5\" y=\"-1359.8\" font-family=\"Helvetica,sans-Serif\" font-size=\"14.00\" fill=\"#000000\">samples = 5</text>\n<text text-anchor=\"middle\" x=\"5297.5\" y=\"-1344.8\" font-family=\"Helvetica,sans-Serif\" font-size=\"14.00\" fill=\"#000000\">value = [4, 1]</text>\n</g>\n<!-- 310&#45;&gt;330 -->\n<g id=\"edge330\" class=\"edge\">\n<title>310&#45;&gt;330</title>\n<path fill=\"none\" stroke=\"#000000\" d=\"M5168.4163,-1444.3591C5190.5682,-1431.77 5216.2773,-1417.1593 5238.8936,-1404.3064\"/>\n<polygon fill=\"#000000\" stroke=\"#000000\" points=\"5240.7563,-1407.2736 5247.7211,-1399.2897 5237.2976,-1401.1877 5240.7563,-1407.2736\"/>\n</g>\n<!-- 312 -->\n<g id=\"node313\" class=\"node\">\n<title>312</title>\n<polygon fill=\"none\" stroke=\"#000000\" points=\"5105,-1293.5 4998,-1293.5 4998,-1240.5 5105,-1240.5 5105,-1293.5\"/>\n<text text-anchor=\"middle\" x=\"5051.5\" y=\"-1278.3\" font-family=\"Helvetica,sans-Serif\" font-size=\"14.00\" fill=\"#000000\">gini = 0.0</text>\n<text text-anchor=\"middle\" x=\"5051.5\" y=\"-1263.3\" font-family=\"Helvetica,sans-Serif\" font-size=\"14.00\" fill=\"#000000\">samples = 33</text>\n<text text-anchor=\"middle\" x=\"5051.5\" y=\"-1248.3\" font-family=\"Helvetica,sans-Serif\" font-size=\"14.00\" fill=\"#000000\">value = [33, 0]</text>\n</g>\n<!-- 311&#45;&gt;312 -->\n<g id=\"edge312\" class=\"edge\">\n<title>311&#45;&gt;312</title>\n<path fill=\"none\" stroke=\"#000000\" d=\"M5093.8714,-1336.9465C5087.1322,-1325.8215 5079.6363,-1313.4473 5072.8455,-1302.237\"/>\n<polygon fill=\"#000000\" stroke=\"#000000\" points=\"5075.7533,-1300.2818 5067.5784,-1293.5422 5069.7661,-1303.9087 5075.7533,-1300.2818\"/>\n</g>\n<!-- 313 -->\n<g id=\"node314\" class=\"node\">\n<title>313</title>\n<polygon fill=\"none\" stroke=\"#000000\" points=\"5230,-1301 5123,-1301 5123,-1233 5230,-1233 5230,-1301\"/>\n<text text-anchor=\"middle\" x=\"5176.5\" y=\"-1285.8\" font-family=\"Helvetica,sans-Serif\" font-size=\"14.00\" fill=\"#000000\">X[1] &lt;= 44.5</text>\n<text text-anchor=\"middle\" x=\"5176.5\" y=\"-1270.8\" font-family=\"Helvetica,sans-Serif\" font-size=\"14.00\" fill=\"#000000\">gini = 0.113</text>\n<text text-anchor=\"middle\" x=\"5176.5\" y=\"-1255.8\" font-family=\"Helvetica,sans-Serif\" font-size=\"14.00\" fill=\"#000000\">samples = 50</text>\n<text text-anchor=\"middle\" x=\"5176.5\" y=\"-1240.8\" font-family=\"Helvetica,sans-Serif\" font-size=\"14.00\" fill=\"#000000\">value = [47, 3]</text>\n</g>\n<!-- 311&#45;&gt;313 -->\n<g id=\"edge313\" class=\"edge\">\n<title>311&#45;&gt;313</title>\n<path fill=\"none\" stroke=\"#000000\" d=\"M5134.8011,-1336.9465C5139.9396,-1328.3271 5145.5251,-1318.9579 5150.8886,-1309.9611\"/>\n<polygon fill=\"#000000\" stroke=\"#000000\" points=\"5154.0389,-1311.5117 5156.1533,-1301.13 5148.0263,-1307.9272 5154.0389,-1311.5117\"/>\n</g>\n<!-- 314 -->\n<g id=\"node315\" class=\"node\">\n<title>314</title>\n<polygon fill=\"none\" stroke=\"#000000\" points=\"5232,-1197 5121,-1197 5121,-1129 5232,-1129 5232,-1197\"/>\n<text text-anchor=\"middle\" x=\"5176.5\" y=\"-1181.8\" font-family=\"Helvetica,sans-Serif\" font-size=\"14.00\" fill=\"#000000\">X[4] &lt;= 13.554</text>\n<text text-anchor=\"middle\" x=\"5176.5\" y=\"-1166.8\" font-family=\"Helvetica,sans-Serif\" font-size=\"14.00\" fill=\"#000000\">gini = 0.198</text>\n<text text-anchor=\"middle\" x=\"5176.5\" y=\"-1151.8\" font-family=\"Helvetica,sans-Serif\" font-size=\"14.00\" fill=\"#000000\">samples = 27</text>\n<text text-anchor=\"middle\" x=\"5176.5\" y=\"-1136.8\" font-family=\"Helvetica,sans-Serif\" font-size=\"14.00\" fill=\"#000000\">value = [24, 3]</text>\n</g>\n<!-- 313&#45;&gt;314 -->\n<g id=\"edge314\" class=\"edge\">\n<title>313&#45;&gt;314</title>\n<path fill=\"none\" stroke=\"#000000\" d=\"M5176.5,-1232.9465C5176.5,-1224.776 5176.5,-1215.9318 5176.5,-1207.3697\"/>\n<polygon fill=\"#000000\" stroke=\"#000000\" points=\"5180.0001,-1207.13 5176.5,-1197.13 5173.0001,-1207.13 5180.0001,-1207.13\"/>\n</g>\n<!-- 329 -->\n<g id=\"node330\" class=\"node\">\n<title>329</title>\n<polygon fill=\"none\" stroke=\"#000000\" points=\"5357,-1189.5 5250,-1189.5 5250,-1136.5 5357,-1136.5 5357,-1189.5\"/>\n<text text-anchor=\"middle\" x=\"5303.5\" y=\"-1174.3\" font-family=\"Helvetica,sans-Serif\" font-size=\"14.00\" fill=\"#000000\">gini = 0.0</text>\n<text text-anchor=\"middle\" x=\"5303.5\" y=\"-1159.3\" font-family=\"Helvetica,sans-Serif\" font-size=\"14.00\" fill=\"#000000\">samples = 23</text>\n<text text-anchor=\"middle\" x=\"5303.5\" y=\"-1144.3\" font-family=\"Helvetica,sans-Serif\" font-size=\"14.00\" fill=\"#000000\">value = [23, 0]</text>\n</g>\n<!-- 313&#45;&gt;329 -->\n<g id=\"edge329\" class=\"edge\">\n<title>313&#45;&gt;329</title>\n<path fill=\"none\" stroke=\"#000000\" d=\"M5218.0845,-1232.9465C5232.6115,-1221.0504 5248.8827,-1207.726 5263.2951,-1195.9237\"/>\n<polygon fill=\"#000000\" stroke=\"#000000\" points=\"5265.5686,-1198.5858 5271.0879,-1189.5422 5261.1335,-1193.17 5265.5686,-1198.5858\"/>\n</g>\n<!-- 315 -->\n<g id=\"node316\" class=\"node\">\n<title>315</title>\n<polygon fill=\"none\" stroke=\"#000000\" points=\"5230,-1093 5123,-1093 5123,-1025 5230,-1025 5230,-1093\"/>\n<text text-anchor=\"middle\" x=\"5176.5\" y=\"-1077.8\" font-family=\"Helvetica,sans-Serif\" font-size=\"14.00\" fill=\"#000000\">X[4] &lt;= 7.91</text>\n<text text-anchor=\"middle\" x=\"5176.5\" y=\"-1062.8\" font-family=\"Helvetica,sans-Serif\" font-size=\"14.00\" fill=\"#000000\">gini = 0.291</text>\n<text text-anchor=\"middle\" x=\"5176.5\" y=\"-1047.8\" font-family=\"Helvetica,sans-Serif\" font-size=\"14.00\" fill=\"#000000\">samples = 17</text>\n<text text-anchor=\"middle\" x=\"5176.5\" y=\"-1032.8\" font-family=\"Helvetica,sans-Serif\" font-size=\"14.00\" fill=\"#000000\">value = [14, 3]</text>\n</g>\n<!-- 314&#45;&gt;315 -->\n<g id=\"edge315\" class=\"edge\">\n<title>314&#45;&gt;315</title>\n<path fill=\"none\" stroke=\"#000000\" d=\"M5176.5,-1128.9465C5176.5,-1120.776 5176.5,-1111.9318 5176.5,-1103.3697\"/>\n<polygon fill=\"#000000\" stroke=\"#000000\" points=\"5180.0001,-1103.13 5176.5,-1093.13 5173.0001,-1103.13 5180.0001,-1103.13\"/>\n</g>\n<!-- 328 -->\n<g id=\"node329\" class=\"node\">\n<title>328</title>\n<polygon fill=\"none\" stroke=\"#000000\" points=\"5355,-1085.5 5248,-1085.5 5248,-1032.5 5355,-1032.5 5355,-1085.5\"/>\n<text text-anchor=\"middle\" x=\"5301.5\" y=\"-1070.3\" font-family=\"Helvetica,sans-Serif\" font-size=\"14.00\" fill=\"#000000\">gini = 0.0</text>\n<text text-anchor=\"middle\" x=\"5301.5\" y=\"-1055.3\" font-family=\"Helvetica,sans-Serif\" font-size=\"14.00\" fill=\"#000000\">samples = 10</text>\n<text text-anchor=\"middle\" x=\"5301.5\" y=\"-1040.3\" font-family=\"Helvetica,sans-Serif\" font-size=\"14.00\" fill=\"#000000\">value = [10, 0]</text>\n</g>\n<!-- 314&#45;&gt;328 -->\n<g id=\"edge328\" class=\"edge\">\n<title>314&#45;&gt;328</title>\n<path fill=\"none\" stroke=\"#000000\" d=\"M5217.4297,-1128.9465C5231.5955,-1117.1606 5247.4463,-1103.9726 5261.5338,-1092.2519\"/>\n<polygon fill=\"#000000\" stroke=\"#000000\" points=\"5264.1496,-1094.6285 5269.5984,-1085.5422 5259.6725,-1089.2474 5264.1496,-1094.6285\"/>\n</g>\n<!-- 316 -->\n<g id=\"node317\" class=\"node\">\n<title>316</title>\n<polygon fill=\"none\" stroke=\"#000000\" points=\"5224,-981.5 5125,-981.5 5125,-928.5 5224,-928.5 5224,-981.5\"/>\n<text text-anchor=\"middle\" x=\"5174.5\" y=\"-966.3\" font-family=\"Helvetica,sans-Serif\" font-size=\"14.00\" fill=\"#000000\">gini = 0.0</text>\n<text text-anchor=\"middle\" x=\"5174.5\" y=\"-951.3\" font-family=\"Helvetica,sans-Serif\" font-size=\"14.00\" fill=\"#000000\">samples = 6</text>\n<text text-anchor=\"middle\" x=\"5174.5\" y=\"-936.3\" font-family=\"Helvetica,sans-Serif\" font-size=\"14.00\" fill=\"#000000\">value = [6, 0]</text>\n</g>\n<!-- 315&#45;&gt;316 -->\n<g id=\"edge316\" class=\"edge\">\n<title>315&#45;&gt;316</title>\n<path fill=\"none\" stroke=\"#000000\" d=\"M5175.8451,-1024.9465C5175.6397,-1014.2621 5175.412,-1002.4254 5175.2034,-991.5742\"/>\n<polygon fill=\"#000000\" stroke=\"#000000\" points=\"5178.7021,-991.473 5175.0104,-981.5422 5171.7034,-991.6076 5178.7021,-991.473\"/>\n</g>\n<!-- 317 -->\n<g id=\"node318\" class=\"node\">\n<title>317</title>\n<polygon fill=\"none\" stroke=\"#000000\" points=\"5346.5,-989 5242.5,-989 5242.5,-921 5346.5,-921 5346.5,-989\"/>\n<text text-anchor=\"middle\" x=\"5294.5\" y=\"-973.8\" font-family=\"Helvetica,sans-Serif\" font-size=\"14.00\" fill=\"#000000\">X[4] &lt;= 7.988</text>\n<text text-anchor=\"middle\" x=\"5294.5\" y=\"-958.8\" font-family=\"Helvetica,sans-Serif\" font-size=\"14.00\" fill=\"#000000\">gini = 0.397</text>\n<text text-anchor=\"middle\" x=\"5294.5\" y=\"-943.8\" font-family=\"Helvetica,sans-Serif\" font-size=\"14.00\" fill=\"#000000\">samples = 11</text>\n<text text-anchor=\"middle\" x=\"5294.5\" y=\"-928.8\" font-family=\"Helvetica,sans-Serif\" font-size=\"14.00\" fill=\"#000000\">value = [8, 3]</text>\n</g>\n<!-- 315&#45;&gt;317 -->\n<g id=\"edge317\" class=\"edge\">\n<title>315&#45;&gt;317</title>\n<path fill=\"none\" stroke=\"#000000\" d=\"M5215.1376,-1024.9465C5225.6304,-1015.6986 5237.1026,-1005.5876 5247.9814,-995.9994\"/>\n<polygon fill=\"#000000\" stroke=\"#000000\" points=\"5250.5877,-998.3678 5255.7756,-989.13 5245.9593,-993.1163 5250.5877,-998.3678\"/>\n</g>\n<!-- 318 -->\n<g id=\"node319\" class=\"node\">\n<title>318</title>\n<polygon fill=\"none\" stroke=\"#000000\" points=\"5344,-885 5245,-885 5245,-817 5344,-817 5344,-885\"/>\n<text text-anchor=\"middle\" x=\"5294.5\" y=\"-869.8\" font-family=\"Helvetica,sans-Serif\" font-size=\"14.00\" fill=\"#000000\">X[1] &lt;= 41.5</text>\n<text text-anchor=\"middle\" x=\"5294.5\" y=\"-854.8\" font-family=\"Helvetica,sans-Serif\" font-size=\"14.00\" fill=\"#000000\">gini = 0.444</text>\n<text text-anchor=\"middle\" x=\"5294.5\" y=\"-839.8\" font-family=\"Helvetica,sans-Serif\" font-size=\"14.00\" fill=\"#000000\">samples = 3</text>\n<text text-anchor=\"middle\" x=\"5294.5\" y=\"-824.8\" font-family=\"Helvetica,sans-Serif\" font-size=\"14.00\" fill=\"#000000\">value = [1, 2]</text>\n</g>\n<!-- 317&#45;&gt;318 -->\n<g id=\"edge318\" class=\"edge\">\n<title>317&#45;&gt;318</title>\n<path fill=\"none\" stroke=\"#000000\" d=\"M5294.5,-920.9465C5294.5,-912.776 5294.5,-903.9318 5294.5,-895.3697\"/>\n<polygon fill=\"#000000\" stroke=\"#000000\" points=\"5298.0001,-895.13 5294.5,-885.13 5291.0001,-895.13 5298.0001,-895.13\"/>\n</g>\n<!-- 321 -->\n<g id=\"node322\" class=\"node\">\n<title>321</title>\n<polygon fill=\"none\" stroke=\"#000000\" points=\"5461,-885 5362,-885 5362,-817 5461,-817 5461,-885\"/>\n<text text-anchor=\"middle\" x=\"5411.5\" y=\"-869.8\" font-family=\"Helvetica,sans-Serif\" font-size=\"14.00\" fill=\"#000000\">X[0] &lt;= 2.5</text>\n<text text-anchor=\"middle\" x=\"5411.5\" y=\"-854.8\" font-family=\"Helvetica,sans-Serif\" font-size=\"14.00\" fill=\"#000000\">gini = 0.219</text>\n<text text-anchor=\"middle\" x=\"5411.5\" y=\"-839.8\" font-family=\"Helvetica,sans-Serif\" font-size=\"14.00\" fill=\"#000000\">samples = 8</text>\n<text text-anchor=\"middle\" x=\"5411.5\" y=\"-824.8\" font-family=\"Helvetica,sans-Serif\" font-size=\"14.00\" fill=\"#000000\">value = [7, 1]</text>\n</g>\n<!-- 317&#45;&gt;321 -->\n<g id=\"edge321\" class=\"edge\">\n<title>317&#45;&gt;321</title>\n<path fill=\"none\" stroke=\"#000000\" d=\"M5332.8102,-920.9465C5343.2141,-911.6986 5354.589,-901.5876 5365.3757,-891.9994\"/>\n<polygon fill=\"#000000\" stroke=\"#000000\" points=\"5367.9549,-894.3896 5373.1038,-885.13 5363.3044,-889.1577 5367.9549,-894.3896\"/>\n</g>\n<!-- 319 -->\n<g id=\"node320\" class=\"node\">\n<title>319</title>\n<polygon fill=\"none\" stroke=\"#000000\" points=\"5227,-773.5 5128,-773.5 5128,-720.5 5227,-720.5 5227,-773.5\"/>\n<text text-anchor=\"middle\" x=\"5177.5\" y=\"-758.3\" font-family=\"Helvetica,sans-Serif\" font-size=\"14.00\" fill=\"#000000\">gini = 0.5</text>\n<text text-anchor=\"middle\" x=\"5177.5\" y=\"-743.3\" font-family=\"Helvetica,sans-Serif\" font-size=\"14.00\" fill=\"#000000\">samples = 2</text>\n<text text-anchor=\"middle\" x=\"5177.5\" y=\"-728.3\" font-family=\"Helvetica,sans-Serif\" font-size=\"14.00\" fill=\"#000000\">value = [1, 1]</text>\n</g>\n<!-- 318&#45;&gt;319 -->\n<g id=\"edge319\" class=\"edge\">\n<title>318&#45;&gt;319</title>\n<path fill=\"none\" stroke=\"#000000\" d=\"M5256.1898,-816.9465C5242.9306,-805.1606 5228.0942,-791.9726 5214.9084,-780.2519\"/>\n<polygon fill=\"#000000\" stroke=\"#000000\" points=\"5217.1593,-777.5699 5207.3599,-773.5422 5212.5088,-782.8018 5217.1593,-777.5699\"/>\n</g>\n<!-- 320 -->\n<g id=\"node321\" class=\"node\">\n<title>320</title>\n<polygon fill=\"none\" stroke=\"#000000\" points=\"5344,-773.5 5245,-773.5 5245,-720.5 5344,-720.5 5344,-773.5\"/>\n<text text-anchor=\"middle\" x=\"5294.5\" y=\"-758.3\" font-family=\"Helvetica,sans-Serif\" font-size=\"14.00\" fill=\"#000000\">gini = 0.0</text>\n<text text-anchor=\"middle\" x=\"5294.5\" y=\"-743.3\" font-family=\"Helvetica,sans-Serif\" font-size=\"14.00\" fill=\"#000000\">samples = 1</text>\n<text text-anchor=\"middle\" x=\"5294.5\" y=\"-728.3\" font-family=\"Helvetica,sans-Serif\" font-size=\"14.00\" fill=\"#000000\">value = [0, 1]</text>\n</g>\n<!-- 318&#45;&gt;320 -->\n<g id=\"edge320\" class=\"edge\">\n<title>318&#45;&gt;320</title>\n<path fill=\"none\" stroke=\"#000000\" d=\"M5294.5,-816.9465C5294.5,-806.2621 5294.5,-794.4254 5294.5,-783.5742\"/>\n<polygon fill=\"#000000\" stroke=\"#000000\" points=\"5298.0001,-783.5421 5294.5,-773.5422 5291.0001,-783.5422 5298.0001,-783.5421\"/>\n</g>\n<!-- 322 -->\n<g id=\"node323\" class=\"node\">\n<title>322</title>\n<polygon fill=\"none\" stroke=\"#000000\" points=\"5461,-781 5362,-781 5362,-713 5461,-713 5461,-781\"/>\n<text text-anchor=\"middle\" x=\"5411.5\" y=\"-765.8\" font-family=\"Helvetica,sans-Serif\" font-size=\"14.00\" fill=\"#000000\">X[1] &lt;= 40.5</text>\n<text text-anchor=\"middle\" x=\"5411.5\" y=\"-750.8\" font-family=\"Helvetica,sans-Serif\" font-size=\"14.00\" fill=\"#000000\">gini = 0.444</text>\n<text text-anchor=\"middle\" x=\"5411.5\" y=\"-735.8\" font-family=\"Helvetica,sans-Serif\" font-size=\"14.00\" fill=\"#000000\">samples = 3</text>\n<text text-anchor=\"middle\" x=\"5411.5\" y=\"-720.8\" font-family=\"Helvetica,sans-Serif\" font-size=\"14.00\" fill=\"#000000\">value = [2, 1]</text>\n</g>\n<!-- 321&#45;&gt;322 -->\n<g id=\"edge322\" class=\"edge\">\n<title>321&#45;&gt;322</title>\n<path fill=\"none\" stroke=\"#000000\" d=\"M5411.5,-816.9465C5411.5,-808.776 5411.5,-799.9318 5411.5,-791.3697\"/>\n<polygon fill=\"#000000\" stroke=\"#000000\" points=\"5415.0001,-791.13 5411.5,-781.13 5408.0001,-791.13 5415.0001,-791.13\"/>\n</g>\n<!-- 327 -->\n<g id=\"node328\" class=\"node\">\n<title>327</title>\n<polygon fill=\"none\" stroke=\"#000000\" points=\"5578,-773.5 5479,-773.5 5479,-720.5 5578,-720.5 5578,-773.5\"/>\n<text text-anchor=\"middle\" x=\"5528.5\" y=\"-758.3\" font-family=\"Helvetica,sans-Serif\" font-size=\"14.00\" fill=\"#000000\">gini = 0.0</text>\n<text text-anchor=\"middle\" x=\"5528.5\" y=\"-743.3\" font-family=\"Helvetica,sans-Serif\" font-size=\"14.00\" fill=\"#000000\">samples = 5</text>\n<text text-anchor=\"middle\" x=\"5528.5\" y=\"-728.3\" font-family=\"Helvetica,sans-Serif\" font-size=\"14.00\" fill=\"#000000\">value = [5, 0]</text>\n</g>\n<!-- 321&#45;&gt;327 -->\n<g id=\"edge327\" class=\"edge\">\n<title>321&#45;&gt;327</title>\n<path fill=\"none\" stroke=\"#000000\" d=\"M5449.8102,-816.9465C5463.0694,-805.1606 5477.9058,-791.9726 5491.0916,-780.2519\"/>\n<polygon fill=\"#000000\" stroke=\"#000000\" points=\"5493.4912,-782.8018 5498.6401,-773.5422 5488.8407,-777.5699 5493.4912,-782.8018\"/>\n</g>\n<!-- 323 -->\n<g id=\"node324\" class=\"node\">\n<title>323</title>\n<polygon fill=\"none\" stroke=\"#000000\" points=\"5402,-669.5 5303,-669.5 5303,-616.5 5402,-616.5 5402,-669.5\"/>\n<text text-anchor=\"middle\" x=\"5352.5\" y=\"-654.3\" font-family=\"Helvetica,sans-Serif\" font-size=\"14.00\" fill=\"#000000\">gini = 0.0</text>\n<text text-anchor=\"middle\" x=\"5352.5\" y=\"-639.3\" font-family=\"Helvetica,sans-Serif\" font-size=\"14.00\" fill=\"#000000\">samples = 1</text>\n<text text-anchor=\"middle\" x=\"5352.5\" y=\"-624.3\" font-family=\"Helvetica,sans-Serif\" font-size=\"14.00\" fill=\"#000000\">value = [1, 0]</text>\n</g>\n<!-- 322&#45;&gt;323 -->\n<g id=\"edge323\" class=\"edge\">\n<title>322&#45;&gt;323</title>\n<path fill=\"none\" stroke=\"#000000\" d=\"M5392.1812,-712.9465C5385.9324,-701.9316 5378.9888,-689.6922 5372.6793,-678.5703\"/>\n<polygon fill=\"#000000\" stroke=\"#000000\" points=\"5375.5362,-676.513 5367.5576,-669.5422 5369.4477,-679.967 5375.5362,-676.513\"/>\n</g>\n<!-- 324 -->\n<g id=\"node325\" class=\"node\">\n<title>324</title>\n<polygon fill=\"none\" stroke=\"#000000\" points=\"5519,-677 5420,-677 5420,-609 5519,-609 5519,-677\"/>\n<text text-anchor=\"middle\" x=\"5469.5\" y=\"-661.8\" font-family=\"Helvetica,sans-Serif\" font-size=\"14.00\" fill=\"#000000\">X[5] &lt;= 2.5</text>\n<text text-anchor=\"middle\" x=\"5469.5\" y=\"-646.8\" font-family=\"Helvetica,sans-Serif\" font-size=\"14.00\" fill=\"#000000\">gini = 0.5</text>\n<text text-anchor=\"middle\" x=\"5469.5\" y=\"-631.8\" font-family=\"Helvetica,sans-Serif\" font-size=\"14.00\" fill=\"#000000\">samples = 2</text>\n<text text-anchor=\"middle\" x=\"5469.5\" y=\"-616.8\" font-family=\"Helvetica,sans-Serif\" font-size=\"14.00\" fill=\"#000000\">value = [1, 1]</text>\n</g>\n<!-- 322&#45;&gt;324 -->\n<g id=\"edge324\" class=\"edge\">\n<title>322&#45;&gt;324</title>\n<path fill=\"none\" stroke=\"#000000\" d=\"M5430.4914,-712.9465C5435.2983,-704.3271 5440.5235,-694.9579 5445.5409,-685.9611\"/>\n<polygon fill=\"#000000\" stroke=\"#000000\" points=\"5448.652,-687.5684 5450.466,-677.13 5442.5385,-684.1589 5448.652,-687.5684\"/>\n</g>\n<!-- 325 -->\n<g id=\"node326\" class=\"node\">\n<title>325</title>\n<polygon fill=\"none\" stroke=\"#000000\" points=\"5460,-565.5 5361,-565.5 5361,-512.5 5460,-512.5 5460,-565.5\"/>\n<text text-anchor=\"middle\" x=\"5410.5\" y=\"-550.3\" font-family=\"Helvetica,sans-Serif\" font-size=\"14.00\" fill=\"#000000\">gini = 0.0</text>\n<text text-anchor=\"middle\" x=\"5410.5\" y=\"-535.3\" font-family=\"Helvetica,sans-Serif\" font-size=\"14.00\" fill=\"#000000\">samples = 1</text>\n<text text-anchor=\"middle\" x=\"5410.5\" y=\"-520.3\" font-family=\"Helvetica,sans-Serif\" font-size=\"14.00\" fill=\"#000000\">value = [0, 1]</text>\n</g>\n<!-- 324&#45;&gt;325 -->\n<g id=\"edge325\" class=\"edge\">\n<title>324&#45;&gt;325</title>\n<path fill=\"none\" stroke=\"#000000\" d=\"M5450.1812,-608.9465C5443.9324,-597.9316 5436.9888,-585.6922 5430.6793,-574.5703\"/>\n<polygon fill=\"#000000\" stroke=\"#000000\" points=\"5433.5362,-572.513 5425.5576,-565.5422 5427.4477,-575.967 5433.5362,-572.513\"/>\n</g>\n<!-- 326 -->\n<g id=\"node327\" class=\"node\">\n<title>326</title>\n<polygon fill=\"none\" stroke=\"#000000\" points=\"5577,-565.5 5478,-565.5 5478,-512.5 5577,-512.5 5577,-565.5\"/>\n<text text-anchor=\"middle\" x=\"5527.5\" y=\"-550.3\" font-family=\"Helvetica,sans-Serif\" font-size=\"14.00\" fill=\"#000000\">gini = 0.0</text>\n<text text-anchor=\"middle\" x=\"5527.5\" y=\"-535.3\" font-family=\"Helvetica,sans-Serif\" font-size=\"14.00\" fill=\"#000000\">samples = 1</text>\n<text text-anchor=\"middle\" x=\"5527.5\" y=\"-520.3\" font-family=\"Helvetica,sans-Serif\" font-size=\"14.00\" fill=\"#000000\">value = [1, 0]</text>\n</g>\n<!-- 324&#45;&gt;326 -->\n<g id=\"edge326\" class=\"edge\">\n<title>324&#45;&gt;326</title>\n<path fill=\"none\" stroke=\"#000000\" d=\"M5488.4914,-608.9465C5494.6343,-597.9316 5501.4601,-585.6922 5507.6627,-574.5703\"/>\n<polygon fill=\"#000000\" stroke=\"#000000\" points=\"5510.8837,-575.9806 5512.6976,-565.5422 5504.7701,-572.5711 5510.8837,-575.9806\"/>\n</g>\n<!-- 331 -->\n<g id=\"node332\" class=\"node\">\n<title>331</title>\n<polygon fill=\"none\" stroke=\"#000000\" points=\"5347,-1293.5 5248,-1293.5 5248,-1240.5 5347,-1240.5 5347,-1293.5\"/>\n<text text-anchor=\"middle\" x=\"5297.5\" y=\"-1278.3\" font-family=\"Helvetica,sans-Serif\" font-size=\"14.00\" fill=\"#000000\">gini = 0.0</text>\n<text text-anchor=\"middle\" x=\"5297.5\" y=\"-1263.3\" font-family=\"Helvetica,sans-Serif\" font-size=\"14.00\" fill=\"#000000\">samples = 1</text>\n<text text-anchor=\"middle\" x=\"5297.5\" y=\"-1248.3\" font-family=\"Helvetica,sans-Serif\" font-size=\"14.00\" fill=\"#000000\">value = [0, 1]</text>\n</g>\n<!-- 330&#45;&gt;331 -->\n<g id=\"edge331\" class=\"edge\">\n<title>330&#45;&gt;331</title>\n<path fill=\"none\" stroke=\"#000000\" d=\"M5297.5,-1336.9465C5297.5,-1326.2621 5297.5,-1314.4254 5297.5,-1303.5742\"/>\n<polygon fill=\"#000000\" stroke=\"#000000\" points=\"5301.0001,-1303.5421 5297.5,-1293.5422 5294.0001,-1303.5422 5301.0001,-1303.5421\"/>\n</g>\n<!-- 332 -->\n<g id=\"node333\" class=\"node\">\n<title>332</title>\n<polygon fill=\"none\" stroke=\"#000000\" points=\"5464,-1293.5 5365,-1293.5 5365,-1240.5 5464,-1240.5 5464,-1293.5\"/>\n<text text-anchor=\"middle\" x=\"5414.5\" y=\"-1278.3\" font-family=\"Helvetica,sans-Serif\" font-size=\"14.00\" fill=\"#000000\">gini = 0.0</text>\n<text text-anchor=\"middle\" x=\"5414.5\" y=\"-1263.3\" font-family=\"Helvetica,sans-Serif\" font-size=\"14.00\" fill=\"#000000\">samples = 4</text>\n<text text-anchor=\"middle\" x=\"5414.5\" y=\"-1248.3\" font-family=\"Helvetica,sans-Serif\" font-size=\"14.00\" fill=\"#000000\">value = [4, 0]</text>\n</g>\n<!-- 330&#45;&gt;332 -->\n<g id=\"edge332\" class=\"edge\">\n<title>330&#45;&gt;332</title>\n<path fill=\"none\" stroke=\"#000000\" d=\"M5335.8102,-1336.9465C5349.0694,-1325.1606 5363.9058,-1311.9726 5377.0916,-1300.2519\"/>\n<polygon fill=\"#000000\" stroke=\"#000000\" points=\"5379.4912,-1302.8018 5384.6401,-1293.5422 5374.8407,-1297.5699 5379.4912,-1302.8018\"/>\n</g>\n</g>\n</svg>\n"
          },
          "metadata": {},
          "execution_count": 253
        }
      ]
    },
    {
      "cell_type": "markdown",
      "source": [
        "The first line of each node excluding the final row shows the splitting condition in the form \"feature <=value\". Afterwards, we find the Gini impurity of the node: This helps to determine how well the  decision tree was split, and the purity of our nodes. Scores greater than zero means that samples contained within the node belong to different classes. The split that costs least is then chosen to maximize our accuracy. In our case, the best split has been shown to be the \"sex\" of the passenger because, the tree first splits by \"sex\", and thereafter, by \"class\", since it already learned during the training phase, that these two features were the most significant to determining the passengers' survival. It is quite ironic that after splitting by class, the primary deciding factor of the \"survival\" of women is the \"ticket fare\", while that for men is their age. \n",
        "\n",
        "\n",
        "\n",
        "\n",
        "\n",
        "\n",
        "\n",
        "\n",
        "\n",
        "\n",
        "\n",
        "\n",
        "\n",
        "\n",
        "\n"
      ],
      "metadata": {
        "id": "4172fvG2aM1m"
      }
    },
    {
      "cell_type": "markdown",
      "source": [
        "**Changing The Decision Tree Parameters.**"
      ],
      "metadata": {
        "id": "Mxnzela6nzmy"
      }
    },
    {
      "cell_type": "code",
      "source": [
        "dtree= tree.DecisionTreeClassifier(criterion= \"gini\", splitter= \"random\",  max_leaf_nodes= 10, min_samples_leaf= 5, max_depth=10)\n"
      ],
      "metadata": {
        "id": "1UqsUsSeoC_O"
      },
      "execution_count": 254,
      "outputs": []
    },
    {
      "cell_type": "code",
      "source": [
        "model1= dtree.fit(X_train, y_train)\n"
      ],
      "metadata": {
        "id": "owEEk-oioIXB"
      },
      "execution_count": 255,
      "outputs": []
    },
    {
      "cell_type": "code",
      "source": [
        "y_pred= model1.predict(X_test)\n"
      ],
      "metadata": {
        "id": "vUJ5JxLSoOFi"
      },
      "execution_count": 256,
      "outputs": []
    },
    {
      "cell_type": "code",
      "source": [
        "print(\"score:{}\".format(accuracy_score(y_test, y_pred)))\n"
      ],
      "metadata": {
        "colab": {
          "base_uri": "https://localhost:8080/"
        },
        "id": "z15ytN7RoWr1",
        "outputId": "d1623255-9449-4e58-f29f-2d4bd792099c"
      },
      "execution_count": 257,
      "outputs": [
        {
          "output_type": "stream",
          "name": "stdout",
          "text": [
            "score:0.7988826815642458\n"
          ]
        }
      ]
    },
    {
      "cell_type": "markdown",
      "source": [
        "By changing some parameters in our decision tree, accuracy increased from 78.2% to 79.8%."
      ],
      "metadata": {
        "id": "kzy9hqsWohCJ"
      }
    },
    {
      "cell_type": "code",
      "source": [
        "dot_data= tree.export_graphviz(model1 , out_file=None)\n",
        "graph= graphviz.Source(dot_data)\n",
        "graph.render(\"new_data\")\n",
        "graph\n"
      ],
      "metadata": {
        "colab": {
          "base_uri": "https://localhost:8080/",
          "height": 935
        },
        "id": "EsL_hKzto603",
        "outputId": "b03d5a31-f9dd-4e3e-fbc7-6ffec7e60267"
      },
      "execution_count": 258,
      "outputs": [
        {
          "output_type": "execute_result",
          "data": {
            "text/plain": [
              "<graphviz.files.Source at 0x7fb381224750>"
            ],
            "image/svg+xml": "<?xml version=\"1.0\" encoding=\"UTF-8\" standalone=\"no\"?>\n<!DOCTYPE svg PUBLIC \"-//W3C//DTD SVG 1.1//EN\"\n \"http://www.w3.org/Graphics/SVG/1.1/DTD/svg11.dtd\">\n<!-- Generated by graphviz version 2.40.1 (20161225.0304)\n -->\n<!-- Title: Tree Pages: 1 -->\n<svg width=\"744pt\" height=\"685pt\"\n viewBox=\"0.00 0.00 744.00 685.00\" xmlns=\"http://www.w3.org/2000/svg\" xmlns:xlink=\"http://www.w3.org/1999/xlink\">\n<g id=\"graph0\" class=\"graph\" transform=\"scale(1 1) rotate(0) translate(4 681)\">\n<title>Tree</title>\n<polygon fill=\"#ffffff\" stroke=\"transparent\" points=\"-4,4 -4,-681 740,-681 740,4 -4,4\"/>\n<!-- 0 -->\n<g id=\"node1\" class=\"node\">\n<title>0</title>\n<polygon fill=\"none\" stroke=\"#000000\" points=\"476,-677 344,-677 344,-609 476,-609 476,-677\"/>\n<text text-anchor=\"middle\" x=\"410\" y=\"-661.8\" font-family=\"Helvetica,sans-Serif\" font-size=\"14.00\" fill=\"#000000\">X[2] &lt;= 0.924</text>\n<text text-anchor=\"middle\" x=\"410\" y=\"-646.8\" font-family=\"Helvetica,sans-Serif\" font-size=\"14.00\" fill=\"#000000\">gini = 0.469</text>\n<text text-anchor=\"middle\" x=\"410\" y=\"-631.8\" font-family=\"Helvetica,sans-Serif\" font-size=\"14.00\" fill=\"#000000\">samples = 712</text>\n<text text-anchor=\"middle\" x=\"410\" y=\"-616.8\" font-family=\"Helvetica,sans-Serif\" font-size=\"14.00\" fill=\"#000000\">value = [444, 268]</text>\n</g>\n<!-- 1 -->\n<g id=\"node2\" class=\"node\">\n<title>1</title>\n<polygon fill=\"none\" stroke=\"#000000\" points=\"401,-573 277,-573 277,-505 401,-505 401,-573\"/>\n<text text-anchor=\"middle\" x=\"339\" y=\"-557.8\" font-family=\"Helvetica,sans-Serif\" font-size=\"14.00\" fill=\"#000000\">X[0] &lt;= 2.462</text>\n<text text-anchor=\"middle\" x=\"339\" y=\"-542.8\" font-family=\"Helvetica,sans-Serif\" font-size=\"14.00\" fill=\"#000000\">gini = 0.39</text>\n<text text-anchor=\"middle\" x=\"339\" y=\"-527.8\" font-family=\"Helvetica,sans-Serif\" font-size=\"14.00\" fill=\"#000000\">samples = 252</text>\n<text text-anchor=\"middle\" x=\"339\" y=\"-512.8\" font-family=\"Helvetica,sans-Serif\" font-size=\"14.00\" fill=\"#000000\">value = [67, 185]</text>\n</g>\n<!-- 0&#45;&gt;1 -->\n<g id=\"edge1\" class=\"edge\">\n<title>0&#45;&gt;1</title>\n<path fill=\"none\" stroke=\"#000000\" d=\"M386.7519,-608.9465C380.745,-600.1475 374.2045,-590.5672 367.9457,-581.3993\"/>\n<polygon fill=\"#000000\" stroke=\"#000000\" points=\"370.8293,-579.4155 362.3003,-573.13 365.048,-583.3623 370.8293,-579.4155\"/>\n<text text-anchor=\"middle\" x=\"357.6676\" y=\"-593.997\" font-family=\"Helvetica,sans-Serif\" font-size=\"14.00\" fill=\"#000000\">True</text>\n</g>\n<!-- 2 -->\n<g id=\"node13\" class=\"node\">\n<title>2</title>\n<polygon fill=\"none\" stroke=\"#000000\" points=\"543,-573 419,-573 419,-505 543,-505 543,-573\"/>\n<text text-anchor=\"middle\" x=\"481\" y=\"-557.8\" font-family=\"Helvetica,sans-Serif\" font-size=\"14.00\" fill=\"#000000\">X[0] &lt;= 1.633</text>\n<text text-anchor=\"middle\" x=\"481\" y=\"-542.8\" font-family=\"Helvetica,sans-Serif\" font-size=\"14.00\" fill=\"#000000\">gini = 0.296</text>\n<text text-anchor=\"middle\" x=\"481\" y=\"-527.8\" font-family=\"Helvetica,sans-Serif\" font-size=\"14.00\" fill=\"#000000\">samples = 460</text>\n<text text-anchor=\"middle\" x=\"481\" y=\"-512.8\" font-family=\"Helvetica,sans-Serif\" font-size=\"14.00\" fill=\"#000000\">value = [377, 83]</text>\n</g>\n<!-- 0&#45;&gt;2 -->\n<g id=\"edge12\" class=\"edge\">\n<title>0&#45;&gt;2</title>\n<path fill=\"none\" stroke=\"#000000\" d=\"M433.2481,-608.9465C439.255,-600.1475 445.7955,-590.5672 452.0543,-581.3993\"/>\n<polygon fill=\"#000000\" stroke=\"#000000\" points=\"454.952,-583.3623 457.6997,-573.13 449.1707,-579.4155 454.952,-583.3623\"/>\n<text text-anchor=\"middle\" x=\"462.3324\" y=\"-593.997\" font-family=\"Helvetica,sans-Serif\" font-size=\"14.00\" fill=\"#000000\">False</text>\n</g>\n<!-- 3 -->\n<g id=\"node3\" class=\"node\">\n<title>3</title>\n<polygon fill=\"none\" stroke=\"#000000\" points=\"265,-461.5 149,-461.5 149,-408.5 265,-408.5 265,-461.5\"/>\n<text text-anchor=\"middle\" x=\"207\" y=\"-446.3\" font-family=\"Helvetica,sans-Serif\" font-size=\"14.00\" fill=\"#000000\">gini = 0.1</text>\n<text text-anchor=\"middle\" x=\"207\" y=\"-431.3\" font-family=\"Helvetica,sans-Serif\" font-size=\"14.00\" fill=\"#000000\">samples = 133</text>\n<text text-anchor=\"middle\" x=\"207\" y=\"-416.3\" font-family=\"Helvetica,sans-Serif\" font-size=\"14.00\" fill=\"#000000\">value = [7, 126]</text>\n</g>\n<!-- 1&#45;&gt;3 -->\n<g id=\"edge2\" class=\"edge\">\n<title>1&#45;&gt;3</title>\n<path fill=\"none\" stroke=\"#000000\" d=\"M295.7783,-504.9465C280.6794,-493.0504 263.7676,-479.726 248.7878,-467.9237\"/>\n<polygon fill=\"#000000\" stroke=\"#000000\" points=\"250.7091,-464.9817 240.6881,-461.5422 246.377,-470.4802 250.7091,-464.9817\"/>\n</g>\n<!-- 4 -->\n<g id=\"node4\" class=\"node\">\n<title>4</title>\n<polygon fill=\"none\" stroke=\"#000000\" points=\"399,-469 283,-469 283,-401 399,-401 399,-469\"/>\n<text text-anchor=\"middle\" x=\"341\" y=\"-453.8\" font-family=\"Helvetica,sans-Serif\" font-size=\"14.00\" fill=\"#000000\">X[1] &lt;= 38.305</text>\n<text text-anchor=\"middle\" x=\"341\" y=\"-438.8\" font-family=\"Helvetica,sans-Serif\" font-size=\"14.00\" fill=\"#000000\">gini = 0.5</text>\n<text text-anchor=\"middle\" x=\"341\" y=\"-423.8\" font-family=\"Helvetica,sans-Serif\" font-size=\"14.00\" fill=\"#000000\">samples = 119</text>\n<text text-anchor=\"middle\" x=\"341\" y=\"-408.8\" font-family=\"Helvetica,sans-Serif\" font-size=\"14.00\" fill=\"#000000\">value = [60, 59]</text>\n</g>\n<!-- 1&#45;&gt;4 -->\n<g id=\"edge3\" class=\"edge\">\n<title>1&#45;&gt;4</title>\n<path fill=\"none\" stroke=\"#000000\" d=\"M339.6549,-504.9465C339.812,-496.776 339.9821,-487.9318 340.1467,-479.3697\"/>\n<polygon fill=\"#000000\" stroke=\"#000000\" points=\"343.6506,-479.1955 340.3437,-469.13 336.6519,-479.0608 343.6506,-479.1955\"/>\n</g>\n<!-- 11 -->\n<g id=\"node5\" class=\"node\">\n<title>11</title>\n<polygon fill=\"none\" stroke=\"#000000\" points=\"343,-365 227,-365 227,-297 343,-297 343,-365\"/>\n<text text-anchor=\"middle\" x=\"285\" y=\"-349.8\" font-family=\"Helvetica,sans-Serif\" font-size=\"14.00\" fill=\"#000000\">X[4] &lt;= 11.148</text>\n<text text-anchor=\"middle\" x=\"285\" y=\"-334.8\" font-family=\"Helvetica,sans-Serif\" font-size=\"14.00\" fill=\"#000000\">gini = 0.497</text>\n<text text-anchor=\"middle\" x=\"285\" y=\"-319.8\" font-family=\"Helvetica,sans-Serif\" font-size=\"14.00\" fill=\"#000000\">samples = 108</text>\n<text text-anchor=\"middle\" x=\"285\" y=\"-304.8\" font-family=\"Helvetica,sans-Serif\" font-size=\"14.00\" fill=\"#000000\">value = [50, 58]</text>\n</g>\n<!-- 4&#45;&gt;11 -->\n<g id=\"edge4\" class=\"edge\">\n<title>4&#45;&gt;11</title>\n<path fill=\"none\" stroke=\"#000000\" d=\"M322.6635,-400.9465C318.0223,-392.3271 312.9773,-382.9579 308.1329,-373.9611\"/>\n<polygon fill=\"#000000\" stroke=\"#000000\" points=\"311.2004,-372.2754 303.3777,-365.13 305.0371,-375.5941 311.2004,-372.2754\"/>\n</g>\n<!-- 12 -->\n<g id=\"node12\" class=\"node\">\n<title>12</title>\n<polygon fill=\"none\" stroke=\"#000000\" points=\"468.5,-357.5 361.5,-357.5 361.5,-304.5 468.5,-304.5 468.5,-357.5\"/>\n<text text-anchor=\"middle\" x=\"415\" y=\"-342.3\" font-family=\"Helvetica,sans-Serif\" font-size=\"14.00\" fill=\"#000000\">gini = 0.165</text>\n<text text-anchor=\"middle\" x=\"415\" y=\"-327.3\" font-family=\"Helvetica,sans-Serif\" font-size=\"14.00\" fill=\"#000000\">samples = 11</text>\n<text text-anchor=\"middle\" x=\"415\" y=\"-312.3\" font-family=\"Helvetica,sans-Serif\" font-size=\"14.00\" fill=\"#000000\">value = [10, 1]</text>\n</g>\n<!-- 4&#45;&gt;12 -->\n<g id=\"edge11\" class=\"edge\">\n<title>4&#45;&gt;12</title>\n<path fill=\"none\" stroke=\"#000000\" d=\"M365.2304,-400.9465C373.2246,-389.7113 382.1254,-377.2021 390.1642,-365.9043\"/>\n<polygon fill=\"#000000\" stroke=\"#000000\" points=\"393.1684,-367.7192 396.1142,-357.5422 387.4649,-363.6609 393.1684,-367.7192\"/>\n</g>\n<!-- 13 -->\n<g id=\"node6\" class=\"node\">\n<title>13</title>\n<polygon fill=\"none\" stroke=\"#000000\" points=\"242,-261 126,-261 126,-193 242,-193 242,-261\"/>\n<text text-anchor=\"middle\" x=\"184\" y=\"-245.8\" font-family=\"Helvetica,sans-Serif\" font-size=\"14.00\" fill=\"#000000\">X[4] &lt;= 9.452</text>\n<text text-anchor=\"middle\" x=\"184\" y=\"-230.8\" font-family=\"Helvetica,sans-Serif\" font-size=\"14.00\" fill=\"#000000\">gini = 0.472</text>\n<text text-anchor=\"middle\" x=\"184\" y=\"-215.8\" font-family=\"Helvetica,sans-Serif\" font-size=\"14.00\" fill=\"#000000\">samples = 55</text>\n<text text-anchor=\"middle\" x=\"184\" y=\"-200.8\" font-family=\"Helvetica,sans-Serif\" font-size=\"14.00\" fill=\"#000000\">value = [21, 34]</text>\n</g>\n<!-- 11&#45;&gt;13 -->\n<g id=\"edge5\" class=\"edge\">\n<title>11&#45;&gt;13</title>\n<path fill=\"none\" stroke=\"#000000\" d=\"M251.9288,-296.9465C243.1221,-287.8782 233.5093,-277.9799 224.3597,-268.5585\"/>\n<polygon fill=\"#000000\" stroke=\"#000000\" points=\"226.6232,-265.8654 217.1455,-261.13 221.6015,-270.7422 226.6232,-265.8654\"/>\n</g>\n<!-- 14 -->\n<g id=\"node11\" class=\"node\">\n<title>14</title>\n<polygon fill=\"none\" stroke=\"#000000\" points=\"376,-253.5 260,-253.5 260,-200.5 376,-200.5 376,-253.5\"/>\n<text text-anchor=\"middle\" x=\"318\" y=\"-238.3\" font-family=\"Helvetica,sans-Serif\" font-size=\"14.00\" fill=\"#000000\">gini = 0.496</text>\n<text text-anchor=\"middle\" x=\"318\" y=\"-223.3\" font-family=\"Helvetica,sans-Serif\" font-size=\"14.00\" fill=\"#000000\">samples = 53</text>\n<text text-anchor=\"middle\" x=\"318\" y=\"-208.3\" font-family=\"Helvetica,sans-Serif\" font-size=\"14.00\" fill=\"#000000\">value = [29, 24]</text>\n</g>\n<!-- 11&#45;&gt;14 -->\n<g id=\"edge10\" class=\"edge\">\n<title>11&#45;&gt;14</title>\n<path fill=\"none\" stroke=\"#000000\" d=\"M295.8054,-296.9465C299.2306,-286.1519 303.029,-274.1813 306.5011,-263.2389\"/>\n<polygon fill=\"#000000\" stroke=\"#000000\" points=\"309.8895,-264.1324 309.578,-253.5422 303.2173,-262.0152 309.8895,-264.1324\"/>\n</g>\n<!-- 15 -->\n<g id=\"node7\" class=\"node\">\n<title>15</title>\n<polygon fill=\"none\" stroke=\"#000000\" points=\"179,-157 63,-157 63,-89 179,-89 179,-157\"/>\n<text text-anchor=\"middle\" x=\"121\" y=\"-141.8\" font-family=\"Helvetica,sans-Serif\" font-size=\"14.00\" fill=\"#000000\">X[4] &lt;= 7.964</text>\n<text text-anchor=\"middle\" x=\"121\" y=\"-126.8\" font-family=\"Helvetica,sans-Serif\" font-size=\"14.00\" fill=\"#000000\">gini = 0.444</text>\n<text text-anchor=\"middle\" x=\"121\" y=\"-111.8\" font-family=\"Helvetica,sans-Serif\" font-size=\"14.00\" fill=\"#000000\">samples = 48</text>\n<text text-anchor=\"middle\" x=\"121\" y=\"-96.8\" font-family=\"Helvetica,sans-Serif\" font-size=\"14.00\" fill=\"#000000\">value = [16, 32]</text>\n</g>\n<!-- 13&#45;&gt;15 -->\n<g id=\"edge6\" class=\"edge\">\n<title>13&#45;&gt;15</title>\n<path fill=\"none\" stroke=\"#000000\" d=\"M163.3714,-192.9465C158.1501,-184.3271 152.4745,-174.9579 147.0245,-165.9611\"/>\n<polygon fill=\"#000000\" stroke=\"#000000\" points=\"149.8497,-163.8697 141.6749,-157.13 143.8626,-167.4965 149.8497,-163.8697\"/>\n</g>\n<!-- 16 -->\n<g id=\"node10\" class=\"node\">\n<title>16</title>\n<polygon fill=\"none\" stroke=\"#000000\" points=\"296.5,-149.5 197.5,-149.5 197.5,-96.5 296.5,-96.5 296.5,-149.5\"/>\n<text text-anchor=\"middle\" x=\"247\" y=\"-134.3\" font-family=\"Helvetica,sans-Serif\" font-size=\"14.00\" fill=\"#000000\">gini = 0.408</text>\n<text text-anchor=\"middle\" x=\"247\" y=\"-119.3\" font-family=\"Helvetica,sans-Serif\" font-size=\"14.00\" fill=\"#000000\">samples = 7</text>\n<text text-anchor=\"middle\" x=\"247\" y=\"-104.3\" font-family=\"Helvetica,sans-Serif\" font-size=\"14.00\" fill=\"#000000\">value = [5, 2]</text>\n</g>\n<!-- 13&#45;&gt;16 -->\n<g id=\"edge9\" class=\"edge\">\n<title>13&#45;&gt;16</title>\n<path fill=\"none\" stroke=\"#000000\" d=\"M204.6286,-192.9465C211.3678,-181.8215 218.8637,-169.4473 225.6545,-158.237\"/>\n<polygon fill=\"#000000\" stroke=\"#000000\" points=\"228.7339,-159.9087 230.9216,-149.5422 222.7467,-156.2818 228.7339,-159.9087\"/>\n</g>\n<!-- 17 -->\n<g id=\"node8\" class=\"node\">\n<title>17</title>\n<polygon fill=\"none\" stroke=\"#000000\" points=\"116,-53 0,-53 0,0 116,0 116,-53\"/>\n<text text-anchor=\"middle\" x=\"58\" y=\"-37.8\" font-family=\"Helvetica,sans-Serif\" font-size=\"14.00\" fill=\"#000000\">gini = 0.399</text>\n<text text-anchor=\"middle\" x=\"58\" y=\"-22.8\" font-family=\"Helvetica,sans-Serif\" font-size=\"14.00\" fill=\"#000000\">samples = 40</text>\n<text text-anchor=\"middle\" x=\"58\" y=\"-7.8\" font-family=\"Helvetica,sans-Serif\" font-size=\"14.00\" fill=\"#000000\">value = [11, 29]</text>\n</g>\n<!-- 15&#45;&gt;17 -->\n<g id=\"edge7\" class=\"edge\">\n<title>15&#45;&gt;17</title>\n<path fill=\"none\" stroke=\"#000000\" d=\"M98.7886,-88.9777C93.0496,-80.187 86.8588,-70.7044 81.0767,-61.8477\"/>\n<polygon fill=\"#000000\" stroke=\"#000000\" points=\"83.8602,-59.7087 75.4627,-53.2485 77.9987,-63.5354 83.8602,-59.7087\"/>\n</g>\n<!-- 18 -->\n<g id=\"node9\" class=\"node\">\n<title>18</title>\n<polygon fill=\"none\" stroke=\"#000000\" points=\"233.5,-53 134.5,-53 134.5,0 233.5,0 233.5,-53\"/>\n<text text-anchor=\"middle\" x=\"184\" y=\"-37.8\" font-family=\"Helvetica,sans-Serif\" font-size=\"14.00\" fill=\"#000000\">gini = 0.469</text>\n<text text-anchor=\"middle\" x=\"184\" y=\"-22.8\" font-family=\"Helvetica,sans-Serif\" font-size=\"14.00\" fill=\"#000000\">samples = 8</text>\n<text text-anchor=\"middle\" x=\"184\" y=\"-7.8\" font-family=\"Helvetica,sans-Serif\" font-size=\"14.00\" fill=\"#000000\">value = [5, 3]</text>\n</g>\n<!-- 15&#45;&gt;18 -->\n<g id=\"edge8\" class=\"edge\">\n<title>15&#45;&gt;18</title>\n<path fill=\"none\" stroke=\"#000000\" d=\"M143.2114,-88.9777C148.9504,-80.187 155.1412,-70.7044 160.9233,-61.8477\"/>\n<polygon fill=\"#000000\" stroke=\"#000000\" points=\"164.0013,-63.5354 166.5373,-53.2485 158.1398,-59.7087 164.0013,-63.5354\"/>\n</g>\n<!-- 5 -->\n<g id=\"node14\" class=\"node\">\n<title>5</title>\n<polygon fill=\"none\" stroke=\"#000000\" points=\"537,-461.5 421,-461.5 421,-408.5 537,-408.5 537,-461.5\"/>\n<text text-anchor=\"middle\" x=\"479\" y=\"-446.3\" font-family=\"Helvetica,sans-Serif\" font-size=\"14.00\" fill=\"#000000\">gini = 0.461</text>\n<text text-anchor=\"middle\" x=\"479\" y=\"-431.3\" font-family=\"Helvetica,sans-Serif\" font-size=\"14.00\" fill=\"#000000\">samples = 100</text>\n<text text-anchor=\"middle\" x=\"479\" y=\"-416.3\" font-family=\"Helvetica,sans-Serif\" font-size=\"14.00\" fill=\"#000000\">value = [64, 36]</text>\n</g>\n<!-- 2&#45;&gt;5 -->\n<g id=\"edge13\" class=\"edge\">\n<title>2&#45;&gt;5</title>\n<path fill=\"none\" stroke=\"#000000\" d=\"M480.3451,-504.9465C480.1397,-494.2621 479.912,-482.4254 479.7034,-471.5742\"/>\n<polygon fill=\"#000000\" stroke=\"#000000\" points=\"483.2021,-471.473 479.5104,-461.5422 476.2034,-471.6076 483.2021,-471.473\"/>\n</g>\n<!-- 6 -->\n<g id=\"node15\" class=\"node\">\n<title>6</title>\n<polygon fill=\"none\" stroke=\"#000000\" points=\"679,-469 555,-469 555,-401 679,-401 679,-469\"/>\n<text text-anchor=\"middle\" x=\"617\" y=\"-453.8\" font-family=\"Helvetica,sans-Serif\" font-size=\"14.00\" fill=\"#000000\">X[1] &lt;= 4.583</text>\n<text text-anchor=\"middle\" x=\"617\" y=\"-438.8\" font-family=\"Helvetica,sans-Serif\" font-size=\"14.00\" fill=\"#000000\">gini = 0.227</text>\n<text text-anchor=\"middle\" x=\"617\" y=\"-423.8\" font-family=\"Helvetica,sans-Serif\" font-size=\"14.00\" fill=\"#000000\">samples = 360</text>\n<text text-anchor=\"middle\" x=\"617\" y=\"-408.8\" font-family=\"Helvetica,sans-Serif\" font-size=\"14.00\" fill=\"#000000\">value = [313, 47]</text>\n</g>\n<!-- 2&#45;&gt;6 -->\n<g id=\"edge14\" class=\"edge\">\n<title>2&#45;&gt;6</title>\n<path fill=\"none\" stroke=\"#000000\" d=\"M525.5315,-504.9465C537.8597,-495.519 551.3609,-485.1946 564.115,-475.4415\"/>\n<polygon fill=\"#000000\" stroke=\"#000000\" points=\"566.551,-477.9848 572.3685,-469.13 562.2988,-472.4243 566.551,-477.9848\"/>\n</g>\n<!-- 7 -->\n<g id=\"node16\" class=\"node\">\n<title>7</title>\n<polygon fill=\"none\" stroke=\"#000000\" points=\"594,-365 490,-365 490,-297 594,-297 594,-365\"/>\n<text text-anchor=\"middle\" x=\"542\" y=\"-349.8\" font-family=\"Helvetica,sans-Serif\" font-size=\"14.00\" fill=\"#000000\">X[3] &lt;= 3.197</text>\n<text text-anchor=\"middle\" x=\"542\" y=\"-334.8\" font-family=\"Helvetica,sans-Serif\" font-size=\"14.00\" fill=\"#000000\">gini = 0.492</text>\n<text text-anchor=\"middle\" x=\"542\" y=\"-319.8\" font-family=\"Helvetica,sans-Serif\" font-size=\"14.00\" fill=\"#000000\">samples = 16</text>\n<text text-anchor=\"middle\" x=\"542\" y=\"-304.8\" font-family=\"Helvetica,sans-Serif\" font-size=\"14.00\" fill=\"#000000\">value = [7, 9]</text>\n</g>\n<!-- 6&#45;&gt;7 -->\n<g id=\"edge15\" class=\"edge\">\n<title>6&#45;&gt;7</title>\n<path fill=\"none\" stroke=\"#000000\" d=\"M592.4422,-400.9465C586.0968,-392.1475 579.1879,-382.5672 572.5764,-373.3993\"/>\n<polygon fill=\"#000000\" stroke=\"#000000\" points=\"575.3011,-371.1937 566.613,-365.13 569.6234,-375.2882 575.3011,-371.1937\"/>\n</g>\n<!-- 8 -->\n<g id=\"node19\" class=\"node\">\n<title>8</title>\n<polygon fill=\"none\" stroke=\"#000000\" points=\"736,-357.5 612,-357.5 612,-304.5 736,-304.5 736,-357.5\"/>\n<text text-anchor=\"middle\" x=\"674\" y=\"-342.3\" font-family=\"Helvetica,sans-Serif\" font-size=\"14.00\" fill=\"#000000\">gini = 0.197</text>\n<text text-anchor=\"middle\" x=\"674\" y=\"-327.3\" font-family=\"Helvetica,sans-Serif\" font-size=\"14.00\" fill=\"#000000\">samples = 344</text>\n<text text-anchor=\"middle\" x=\"674\" y=\"-312.3\" font-family=\"Helvetica,sans-Serif\" font-size=\"14.00\" fill=\"#000000\">value = [306, 38]</text>\n</g>\n<!-- 6&#45;&gt;8 -->\n<g id=\"edge18\" class=\"edge\">\n<title>6&#45;&gt;8</title>\n<path fill=\"none\" stroke=\"#000000\" d=\"M635.6639,-400.9465C641.7009,-389.9316 648.4091,-377.6922 654.5047,-366.5703\"/>\n<polygon fill=\"#000000\" stroke=\"#000000\" points=\"657.7158,-367.9936 659.4529,-357.5422 651.5773,-364.6292 657.7158,-367.9936\"/>\n</g>\n<!-- 9 -->\n<g id=\"node17\" class=\"node\">\n<title>9</title>\n<polygon fill=\"none\" stroke=\"#000000\" points=\"558.5,-253.5 459.5,-253.5 459.5,-200.5 558.5,-200.5 558.5,-253.5\"/>\n<text text-anchor=\"middle\" x=\"509\" y=\"-238.3\" font-family=\"Helvetica,sans-Serif\" font-size=\"14.00\" fill=\"#000000\">gini = 0.0</text>\n<text text-anchor=\"middle\" x=\"509\" y=\"-223.3\" font-family=\"Helvetica,sans-Serif\" font-size=\"14.00\" fill=\"#000000\">samples = 8</text>\n<text text-anchor=\"middle\" x=\"509\" y=\"-208.3\" font-family=\"Helvetica,sans-Serif\" font-size=\"14.00\" fill=\"#000000\">value = [0, 8]</text>\n</g>\n<!-- 7&#45;&gt;9 -->\n<g id=\"edge16\" class=\"edge\">\n<title>7&#45;&gt;9</title>\n<path fill=\"none\" stroke=\"#000000\" d=\"M531.1946,-296.9465C527.7694,-286.1519 523.971,-274.1813 520.4989,-263.2389\"/>\n<polygon fill=\"#000000\" stroke=\"#000000\" points=\"523.7827,-262.0152 517.422,-253.5422 517.1105,-264.1324 523.7827,-262.0152\"/>\n</g>\n<!-- 10 -->\n<g id=\"node18\" class=\"node\">\n<title>10</title>\n<polygon fill=\"none\" stroke=\"#000000\" points=\"675.5,-253.5 576.5,-253.5 576.5,-200.5 675.5,-200.5 675.5,-253.5\"/>\n<text text-anchor=\"middle\" x=\"626\" y=\"-238.3\" font-family=\"Helvetica,sans-Serif\" font-size=\"14.00\" fill=\"#000000\">gini = 0.219</text>\n<text text-anchor=\"middle\" x=\"626\" y=\"-223.3\" font-family=\"Helvetica,sans-Serif\" font-size=\"14.00\" fill=\"#000000\">samples = 8</text>\n<text text-anchor=\"middle\" x=\"626\" y=\"-208.3\" font-family=\"Helvetica,sans-Serif\" font-size=\"14.00\" fill=\"#000000\">value = [7, 1]</text>\n</g>\n<!-- 7&#45;&gt;10 -->\n<g id=\"edge17\" class=\"edge\">\n<title>7&#45;&gt;10</title>\n<path fill=\"none\" stroke=\"#000000\" d=\"M569.5047,-296.9465C578.6683,-285.6012 588.8811,-272.9567 598.0761,-261.5724\"/>\n<polygon fill=\"#000000\" stroke=\"#000000\" points=\"601.0015,-263.5208 604.5621,-253.5422 595.5559,-259.1224 601.0015,-263.5208\"/>\n</g>\n</g>\n</svg>\n"
          },
          "metadata": {},
          "execution_count": 258
        }
      ]
    },
    {
      "cell_type": "markdown",
      "source": [
        "**RANDOM FREE FOREST.**"
      ],
      "metadata": {
        "id": "PulhkNhFpABY"
      }
    },
    {
      "cell_type": "markdown",
      "source": [
        "Create a Random Forest."
      ],
      "metadata": {
        "id": "RWuaqbn1pW8m"
      }
    },
    {
      "cell_type": "code",
      "source": [
        "from sklearn.ensemble import RandomForestClassifier"
      ],
      "metadata": {
        "id": "RGITXQ2zqmA5"
      },
      "execution_count": 259,
      "outputs": []
    },
    {
      "cell_type": "code",
      "source": [
        "clf= RandomForestClassifier()"
      ],
      "metadata": {
        "id": "o4dUT4l1qpT3"
      },
      "execution_count": 260,
      "outputs": []
    },
    {
      "cell_type": "markdown",
      "source": [
        "Train our Model."
      ],
      "metadata": {
        "id": "rmwYP7SAquBs"
      }
    },
    {
      "cell_type": "code",
      "source": [
        "clf.fit(X_train, y_train) "
      ],
      "metadata": {
        "colab": {
          "base_uri": "https://localhost:8080/"
        },
        "id": "-9x0prZgqzkJ",
        "outputId": "45a47a2c-033f-4f68-aae7-54337ca78ed8"
      },
      "execution_count": 261,
      "outputs": [
        {
          "output_type": "execute_result",
          "data": {
            "text/plain": [
              "RandomForestClassifier()"
            ]
          },
          "metadata": {},
          "execution_count": 261
        }
      ]
    },
    {
      "cell_type": "markdown",
      "source": [
        "Test our Model."
      ],
      "metadata": {
        "id": "uPLTU5feq4hm"
      }
    },
    {
      "cell_type": "code",
      "source": [
        "y_pred=clf.predict(X_test)"
      ],
      "metadata": {
        "id": "a5dGGrEZq9ul"
      },
      "execution_count": 262,
      "outputs": []
    },
    {
      "cell_type": "markdown",
      "source": [
        "Test our Model's accuracy."
      ],
      "metadata": {
        "id": "Vic4sEOurE9f"
      }
    },
    {
      "cell_type": "code",
      "source": [
        "from sklearn import metrics "
      ],
      "metadata": {
        "id": "jBCxjtZdrL-J"
      },
      "execution_count": 263,
      "outputs": []
    },
    {
      "cell_type": "code",
      "source": [
        "print(\"Accuracy:\", metrics.accuracy_score(y_test, y_pred))"
      ],
      "metadata": {
        "colab": {
          "base_uri": "https://localhost:8080/"
        },
        "id": "oWt10mpdrPmw",
        "outputId": "218de708-0d18-479e-93a0-e365ba505a3e"
      },
      "execution_count": 264,
      "outputs": [
        {
          "output_type": "stream",
          "name": "stdout",
          "text": [
            "Accuracy: 0.8324022346368715\n"
          ]
        }
      ]
    },
    {
      "cell_type": "code",
      "source": [
        "clf1= RandomForestClassifier(n_estimators=50)"
      ],
      "metadata": {
        "id": "_NDfUZ9crUcy"
      },
      "execution_count": 265,
      "outputs": []
    },
    {
      "cell_type": "code",
      "source": [
        "clf1.fit(X_train, y_train) "
      ],
      "metadata": {
        "colab": {
          "base_uri": "https://localhost:8080/"
        },
        "id": "pyGEw7rarYDm",
        "outputId": "6ce4badb-84db-4b56-ce68-cc7b08aacf5e"
      },
      "execution_count": 266,
      "outputs": [
        {
          "output_type": "execute_result",
          "data": {
            "text/plain": [
              "RandomForestClassifier(n_estimators=50)"
            ]
          },
          "metadata": {},
          "execution_count": 266
        }
      ]
    },
    {
      "cell_type": "code",
      "source": [
        "y_pred=clf1.predict(X_test)"
      ],
      "metadata": {
        "id": "I1vNsGYWrbiV"
      },
      "execution_count": 267,
      "outputs": []
    },
    {
      "cell_type": "code",
      "source": [
        "print(\"Accuracy:\", metrics.accuracy_score(y_test, y_pred))"
      ],
      "metadata": {
        "colab": {
          "base_uri": "https://localhost:8080/"
        },
        "id": "RNOt0aKrre1f",
        "outputId": "4989a0c9-bd5a-4543-86f7-0a72e9d69b99"
      },
      "execution_count": 268,
      "outputs": [
        {
          "output_type": "stream",
          "name": "stdout",
          "text": [
            "Accuracy: 0.8435754189944135\n"
          ]
        }
      ]
    },
    {
      "cell_type": "markdown",
      "source": [
        "By changing the number estimators, the result shows that our random forest classifier's overall accuracy increased from 83.2% to 84.3%."
      ],
      "metadata": {
        "id": "pLFCUlPOrnPx"
      }
    }
  ]
}